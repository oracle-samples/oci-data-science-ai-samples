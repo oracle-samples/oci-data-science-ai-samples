{
 "cells": [
  {
   "cell_type": "markdown",
   "metadata": {},
   "source": [
    "# AutoGen Application Function Calling\n",
    "\n",
    "This notebook shows an example of building AutoGen application for currency exchange, using the LLM model from OCI Generative AI service.\n",
    "\n",
    "This notebook is for AutoGen v0.2\n",
    "```\n",
    "pip install autogen-agentchat~=0.2\n",
    "```\n",
    "\n",
    "This notebook is based on the example:\n",
    "https://microsoft.github.io/autogen/0.2/docs/notebooks/agentchat_function_call_currency_calculator\n",
    "\n",
    "This notebook requires **Python 3.9** or newer. Please also install the latest version of Oracle ADS:\n",
    "```\n",
    "pip install oracle-ads\n",
    "```\n",
    "\n",
    "The following dependencies are also required:\n",
    "```\n",
    "pip install \"langchain-community>0.3\" langchain-openai report_creator\n",
    "```"
   ]
  },
  {
   "cell_type": "markdown",
   "metadata": {},
   "source": [
    "## Custom LLM Client for AutoGen\n",
    "\n",
    "ADS provides the custom LLM client for AutoGen to enable the use of LangChain chat models, including the [ChatOCIGenAI](https://python.langchain.com/docs/integrations/chat/oci_generative_ai/) and the [ChatOCIModelDeployment](https://python.langchain.com/docs/integrations/chat/oci_data_science/).\n",
    "\n",
    "When using custom client with AutoGen, you need to register the custom client with each agent. To simplify the process, ADS provides a `register_custom_client` function to register the custom client globally. With this function, you only need to register the client once. This will allow you to easily switch between OpenAI model and custom model in the LLM config without any code change or if/else logic."
   ]
  },
  {
   "cell_type": "code",
   "execution_count": null,
   "metadata": {},
   "outputs": [],
   "source": [
    "# Register the custom LLM globally so that we don't need to do it for each agent\n",
    "from ads.llm.autogen.v02 import LangChainModelClient, register_custom_client\n",
    " \n",
    "register_custom_client(LangChainModelClient)"
   ]
  },
  {
   "cell_type": "markdown",
   "metadata": {},
   "source": [
    "## LLM Config\n",
    "\n",
    "Following is an example of the LLM config for the OCI Generative AI service.\n",
    "The `langchain_cls` is the full path for importing the LangChain chat model, while the `client_params` contains the arguments for initializing the LangChain chat model.\n",
    "```\n",
    "gen_ai_config = [\n",
    "    {\n",
    "        \"model_client_cls\": \"LangChainModelClient\",\n",
    "        \"langchain_cls\": \"langchain_community.chat_models.oci_generative_ai.ChatOCIGenAI\",\n",
    "        \"model\": \"cohere.command-r-plus\",\n",
    "        # client_params will be used to initialize the LangChain ChatOCIGenAI class.\n",
    "        \"client_params\": {\n",
    "            \"model_id\": \"cohere.command-r-plus\",\n",
    "            \"compartment_id\": COMPARTMENT_OCID,\n",
    "            \"model_kwargs\": {\"temperature\": 0, \"max_tokens\": 2048},\n",
    "            \"auth_type\": \"SECURITY_TOKEN\",\n",
    "            \"auth_profile\": \"<PROFILE_NAME>\",\n",
    "        },\n",
    "    }\n",
    "]\n",
    "```"
   ]
  },
  {
   "cell_type": "code",
   "execution_count": null,
   "metadata": {},
   "outputs": [],
   "source": [
    "\n",
    "gen_ai_config = [\n",
    "    {\n",
    "        \"model_client_cls\": \"LangChainModelClient\",\n",
    "        \"langchain_cls\": \"langchain_community.chat_models.oci_generative_ai.ChatOCIGenAI\",\n",
    "        \"model\": \"cohere.command-r-plus\",\n",
    "        # client_params will be used to initialize the LangChain ChatOCIGenAI class.\n",
    "        \"client_params\": {\n",
    "            \"model_id\": \"cohere.command-r-plus-08-2024\",\n",
    "            \"compartment_id\": \"<COMPARTMENT_OCID>\",\n",
    "            \"service_endpoint\": \"https://inference.generativeai.us-chicago-1.oci.oraclecloud.com\",\n",
    "            \"model_kwargs\": {\"temperature\": 0, \"max_tokens\": 4000},\n",
    "            # Set auth_type to INSTANCE_PRINCIPAL or RESOURCE_PRINCIPAL\n",
    "            \"auth_type\": \"SECURITY_TOKEN\",\n",
    "            # auth_profile is needed only if you are using API_KEY or SECURITY_TOKEN\n",
    "            \"auth_profile\": \"<PROFILE_NAME>\",\n",
    "        },\n",
    "    }\n",
    "]\n",
    "\n",
    "# AutoGen LLM config\n",
    "llm_config = {\n",
    "    # To try other model, simply use a different config\n",
    "    \"config_list\": gen_ai_config,\n",
    "    # Disable cache\n",
    "    # https://microsoft.github.io/autogen/0.2/docs/topics/llm-caching/\n",
    "    \"cache_seed\": None,\n",
    "}"
   ]
  },
  {
   "cell_type": "markdown",
   "metadata": {},
   "source": [
    "## Create the Agents with LLM Config\n",
    "\n",
    "The following code creates two agents. Note that there is no need to register the custom LLM."
   ]
  },
  {
   "cell_type": "code",
   "execution_count": 5,
   "metadata": {},
   "outputs": [],
   "source": [
    "import autogen\n",
    "\n",
    "chatbot = autogen.AssistantAgent(\n",
    "    name=\"chatbot\",\n",
    "    system_message=(\n",
    "        \"For currency exchange rates, only use the functions you have been provided with. \"\n",
    "        \"Calculate the currency exchange based on the rates returned by the function. \"\n",
    "        \"Reply TERMINATE when the task is done.\"\n",
    "    ),\n",
    "    llm_config=llm_config,\n",
    ")\n",
    "\n",
    "# create a UserProxyAgent instance named \"user_proxy\"\n",
    "user_proxy = autogen.UserProxyAgent(\n",
    "    name=\"user_proxy\",\n",
    "    is_termination_msg=lambda x: x.get(\"content\", \"\") and x.get(\"content\", \"\").rstrip().endswith(\"TERMINATE\"),\n",
    "    code_execution_config=False,\n",
    "    human_input_mode=\"NEVER\",\n",
    "    max_consecutive_auto_reply=10,\n",
    ")"
   ]
  },
  {
   "cell_type": "markdown",
   "metadata": {},
   "source": [
    "## Define the Tools (Functions)\n",
    "\n",
    "The following code defines two tool. One for getting the currency exchange rate and the other for calculating the currency based on the exchange rate."
   ]
  },
  {
   "cell_type": "code",
   "execution_count": 6,
   "metadata": {},
   "outputs": [],
   "source": [
    "import time\n",
    "from typing import Annotated\n",
    "import requests\n",
    "\n",
    "\n",
    "@user_proxy.register_for_execution()\n",
    "@chatbot.register_for_llm(description=\"Obtain exchange rate from one currency to other currencies.\")\n",
    "def get_exchange_rate(\n",
    "        currency: Annotated[str, \"currency in ISO 4217 3-letter currency code\"]\n",
    "    ) -> Annotated[dict, \"A dictionary containing the exchange rate to other currencies\"]:\n",
    "    \"\"\"Obtain the current exchange rates of a currency in ISO 4217 3-letter currency code\"\"\"\n",
    "    response = requests.get(f\"https://open.er-api.com/v6/latest/{currency}\")\n",
    "    # Adding two seconds delay here to simulate a tool call that is running a bit longer.\n",
    "    time.sleep(2)\n",
    "    return response.json()\n",
    "\n",
    "@user_proxy.register_for_execution()\n",
    "@chatbot.register_for_llm(description=\"Currency exchange calculator.\")\n",
    "def currency_calculator(\n",
    "        base_amount: Annotated[float, \"Amount of currency to be exchanged.\"],\n",
    "        exchange_rate: Annotated[float, \"Exchange rate.\"],\n",
    "    ) -> Annotated[float, \"Amount of currency exchanged into.\"]:\n",
    "    \"\"\"Calculates the currency exchange\"\"\"\n",
    "    return base_amount * exchange_rate"
   ]
  },
  {
   "cell_type": "markdown",
   "metadata": {},
   "source": [
    "## Start the AutoGen Application\n",
    "\n",
    "Now everything is defined, we can start running the AutoGen application."
   ]
  },
  {
   "cell_type": "code",
   "execution_count": 7,
   "metadata": {},
   "outputs": [
    {
     "name": "stdout",
     "output_type": "stream",
     "text": [
      "\u001b[33muser_proxy\u001b[0m (to chatbot):\n",
      "\n",
      "How much is 123.45 USD in EUR?\n",
      "\n",
      "--------------------------------------------------------------------------------\n",
      "\u001b[33mchatbot\u001b[0m (to user_proxy):\n",
      "\n",
      "I will first find the exchange rate from USD to EUR. Then, I will use the currency calculator to find out how much 123.45 USD is in EUR.\n",
      "\u001b[32m***** Suggested tool call (b5657fd24d9d42f9899e3b441575f4e6): get_exchange_rate *****\u001b[0m\n",
      "Arguments: \n",
      "{\"currency\": \"USD\"}\n",
      "\u001b[32m*************************************************************************************\u001b[0m\n",
      "\n",
      "--------------------------------------------------------------------------------\n",
      "\u001b[35m\n",
      ">>>>>>>> EXECUTING FUNCTION get_exchange_rate...\u001b[0m\n",
      "\u001b[33muser_proxy\u001b[0m (to chatbot):\n",
      "\n",
      "\u001b[33muser_proxy\u001b[0m (to chatbot):\n",
      "\n",
      "\u001b[32m***** Response from calling tool (b5657fd24d9d42f9899e3b441575f4e6) *****\u001b[0m\n",
      "{\"result\": \"success\", \"provider\": \"https://www.exchangerate-api.com\", \"documentation\": \"https://www.exchangerate-api.com/docs/free\", \"terms_of_use\": \"https://www.exchangerate-api.com/terms\", \"time_last_update_unix\": 1744502552, \"time_last_update_utc\": \"Sun, 13 Apr 2025 00:02:32 +0000\", \"time_next_update_unix\": 1744590142, \"time_next_update_utc\": \"Mon, 14 Apr 2025 00:22:22 +0000\", \"time_eol_unix\": 0, \"base_code\": \"USD\", \"rates\": {\"USD\": 1, \"AED\": 3.6725, \"AFN\": 72.315442, \"ALL\": 89.82041, \"AMD\": 391.760802, \"ANG\": 1.79, \"AOA\": 919.902468, \"ARS\": 1078.38, \"AUD\": 1.598629, \"AWG\": 1.79, \"AZN\": 1.700444, \"BAM\": 1.724732, \"BBD\": 2, \"BDT\": 121.498618, \"BGN\": 1.724703, \"BHD\": 0.376, \"BIF\": 2981.819399, \"BMD\": 1, \"BND\": 1.31919, \"BOB\": 6.92917, \"BRL\": 5.884413, \"BSD\": 1, \"BTN\": 86.153674, \"BWP\": 14.01705, \"BYN\": 3.147656, \"BZD\": 2, \"CAD\": 1.38897, \"CDF\": 2892.630814, \"CHF\": 0.816402, \"CLP\": 986.757269, \"CNY\": 7.297059, \"COP\": 4359.055227, \"CRC\": 513.633717, \"CUP\": 24, \"CVE\": 97.236245, \"CZK\": 22.156761, \"DJF\": 177.721, \"DKK\": 6.579512, \"DOP\": 62.116155, \"DZD\": 133.461341, \"EGP\": 51.332767, \"ERN\": 15, \"ETB\": 130.618473, \"EUR\": 0.881858, \"FJD\": 2.291517, \"FKP\": 0.765378, \"FOK\": 6.579512, \"GBP\": 0.765384, \"GEL\": 2.755857, \"GGP\": 0.765378, \"GHS\": 15.595987, \"GIP\": 0.765378, \"GMD\": 72.681311, \"GNF\": 8689.910659, \"GTQ\": 7.714261, \"GYD\": 209.329928, \"HKD\": 7.756249, \"HNL\": 25.887868, \"HRK\": 6.644234, \"HTG\": 130.651593, \"HUF\": 361.266209, \"IDR\": 16801.184108, \"ILS\": 3.719332, \"IMP\": 0.765378, \"INR\": 86.153703, \"IQD\": 1309.978289, \"IRR\": 41981.906267, \"ISK\": 127.859821, \"JEP\": 0.765378, \"JMD\": 158.001693, \"JOD\": 0.709, \"JPY\": 143.339541, \"KES\": 129.466589, \"KGS\": 87.033165, \"KHR\": 3999.918965, \"KID\": 1.599492, \"KMF\": 433.837545, \"KRW\": 1428.952719, \"KWD\": 0.306711, \"KYD\": 0.833333, \"KZT\": 517.040547, \"LAK\": 21834.465928, \"LBP\": 89500, \"LKR\": 297.826046, \"LRD\": 200.130856, \"LSL\": 19.200078, \"LYD\": 5.552801, \"MAD\": 9.341925, \"MDL\": 17.675106, \"MGA\": 4626.235008, \"MKD\": 54.39328, \"MMK\": 2103.159926, \"MNT\": 3543.812227, \"MOP\": 7.988822, \"MRU\": 39.823934, \"MUR\": 44.390667, \"MVR\": 15.45553, \"MWK\": 1745.753339, \"MXN\": 20.353201, \"MYR\": 4.431012, \"MZN\": 63.925346, \"NAD\": 19.200078, \"NGN\": 1582.990538, \"NIO\": 36.804263, \"NOK\": 10.682889, \"NPR\": 137.845879, \"NZD\": 1.722785, \"OMR\": 0.384497, \"PAB\": 1, \"PEN\": 3.732809, \"PGK\": 4.092224, \"PHP\": 56.987615, \"PKR\": 280.351661, \"PLN\": 3.782799, \"PYG\": 8048.273633, \"QAR\": 3.64, \"RON\": 4.388126, \"RSD\": 103.786118, \"RUB\": 83.882837, \"RWF\": 1442.968815, \"SAR\": 3.75, \"SBD\": 8.208562, \"SCR\": 14.389741, \"SDG\": 509.063152, \"SEK\": 9.793539, \"SGD\": 1.319206, \"SHP\": 0.765378, \"SLE\": 22.790633, \"SLL\": 22790.632758, \"SOS\": 571.881808, \"SRD\": 36.612353, \"SSP\": 4532.387841, \"STN\": 21.605115, \"SYP\": 12910.641464, \"SZL\": 19.200078, \"THB\": 33.510629, \"TJS\": 10.913142, \"TMT\": 3.500243, \"TND\": 3.014602, \"TOP\": 2.404616, \"TRY\": 38.116588, \"TTD\": 6.763877, \"TVD\": 1.599492, \"TWD\": 32.269536, \"TZS\": 2654.720956, \"UAH\": 41.402619, \"UGX\": 3686.782764, \"UYU\": 42.93508, \"UZS\": 12971.767558, \"VES\": 78.3635, \"VND\": 25733.477084, \"VUV\": 125.036586, \"WST\": 2.845617, \"XAF\": 578.45006, \"XCD\": 2.7, \"XCG\": 1.79, \"XDR\": 0.731724, \"XOF\": 578.45006, \"XPF\": 105.231902, \"YER\": 245.323593, \"ZAR\": 19.185982, \"ZMW\": 28.198848, \"ZWL\": 26.8103}}\n",
      "\u001b[32m*************************************************************************\u001b[0m\n",
      "\n",
      "--------------------------------------------------------------------------------\n",
      "\u001b[33mchatbot\u001b[0m (to user_proxy):\n",
      "\n",
      "The exchange rate from USD to EUR is 0.881858. I will now use the currency calculator to find out how much 123.45 USD is in EUR.\n",
      "\u001b[32m***** Suggested tool call (dc13ab478c7a420996d4a8cf8dbdea7d): currency_calculator *****\u001b[0m\n",
      "Arguments: \n",
      "{\"base_amount\": 123.45, \"exchange_rate\": 0.881858}\n",
      "\u001b[32m***************************************************************************************\u001b[0m\n",
      "\n",
      "--------------------------------------------------------------------------------\n",
      "\u001b[35m\n",
      ">>>>>>>> EXECUTING FUNCTION currency_calculator...\u001b[0m\n",
      "\u001b[33muser_proxy\u001b[0m (to chatbot):\n",
      "\n",
      "\u001b[33muser_proxy\u001b[0m (to chatbot):\n",
      "\n",
      "\u001b[32m***** Response from calling tool (dc13ab478c7a420996d4a8cf8dbdea7d) *****\u001b[0m\n",
      "108.8653701\n",
      "\u001b[32m*************************************************************************\u001b[0m\n",
      "\n",
      "--------------------------------------------------------------------------------\n",
      "\u001b[33mchatbot\u001b[0m (to user_proxy):\n",
      "\n",
      "123.45 USD is **108.87 EUR**.\n",
      "\n",
      "--------------------------------------------------------------------------------\n",
      "\u001b[33muser_proxy\u001b[0m (to chatbot):\n",
      "\n",
      "\n",
      "\n",
      "--------------------------------------------------------------------------------\n",
      "\u001b[33mchatbot\u001b[0m (to user_proxy):\n",
      "\n",
      "TERMINATE\n",
      "\n",
      "--------------------------------------------------------------------------------\n"
     ]
    }
   ],
   "source": [
    "res = user_proxy.initiate_chat(\n",
    "    chatbot, message=\"How much is 123.45 USD in EUR?\", summary_method=\"reflection_with_llm\"\n",
    ")"
   ]
  }
 ],
 "metadata": {
  "kernelspec": {
   "display_name": "autogen",
   "language": "python",
   "name": "python3"
  },
  "language_info": {
   "codemirror_mode": {
    "name": "ipython",
    "version": 3
   },
   "file_extension": ".py",
   "mimetype": "text/x-python",
   "name": "python",
   "nbconvert_exporter": "python",
   "pygments_lexer": "ipython3",
   "version": "3.11.10"
  }
 },
 "nbformat": 4,
 "nbformat_minor": 2
}
