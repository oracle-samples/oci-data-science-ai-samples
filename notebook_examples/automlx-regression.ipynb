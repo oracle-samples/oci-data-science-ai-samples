{
 "cells": [
  {
   "cell_type": "raw",
   "id": "3d4a5b90",
   "metadata": {},
   "source": [
    "@notebook{automlx-regression.ipynb,\n",
    "    title: Building and Explaining a Regressor using AutoMLx,\n",
    "    summary: Build a regressor using Oracle AutoMLx and a pricing data set. Training options will be explored and the resulting AutoMLx models will be evaluated.,\n",
    "    developed on: automlx_p38_cpu_v2,\n",
    "    keywords: automlx, regression,\n",
    "    license: Universal Permissive License v 1.0,\n",
    "    original source: https://github.com/oracle-samples/automlx/blob/main/demos/OracleAutoMLx_Regression.ipynb\n",
    "}"
   ]
  },
  {
   "cell_type": "markdown",
   "id": "37d22e8e",
   "metadata": {},
   "source": [
    "***\n",
    "# <font color=red>Building and Explaining a Regressor using AutoMLx</font>\n",
    "<p style=\"margin-left:10%; margin-right:10%;\">by the <font color=teal> Oracle AutoMLx Team </font></p>\n",
    "\n",
    "***"
   ]
  },
  {
   "cell_type": "markdown",
   "id": "31016a77",
   "metadata": {},
   "source": [
    "AutoMLx Regression Demo version 23.1.1.\n",
    "\n",
    "Copyright (c) 2023 Oracle, Inc.  \n",
    "\n",
    "Licensed under the Universal Permissive License v 1.0 as shown at https://oss.oracle.com/licenses/upl/"
   ]
  },
  {
   "cell_type": "markdown",
   "id": "06f1c55f",
   "metadata": {},
   "source": [
    "## Overview of this Notebook\n",
    "\n",
    "In this notebook we will build a regressor using the Oracle AutoMLx tool for the public California Housing dataset to predict the value of house prices.\n",
    "We explore the various options provided by the Oracle AutoMLx tool, allowing the user to control the AutoML training process. We finally evaluate the different models trained by AutoML. Depending on the dataset size and the machine running it, it can take about tens of minutes. The dataset is sampled down for a snappier demo, with the option to run it with the full dataset. We finally provide an overview of the possibilites that Oracle AutoMLx provides for explaining the predictions of the tuned model.\n",
    "\n",
    "---\n",
    "## Prerequisites:\n",
    "\n",
    "  - Experience level: Novice (Python and Machine Learning)\n",
    "  - Professional experience: Some industry experience\n",
    "\n",
    "Compatible conda pack: [Oracle AutoML and Model Explanation for Python 3.8 (version 2.0)](oci://service-conda-packs@id19sfcrra6z/service_pack/cpu/Oracle_AutoML_and_Model_Explanation_for_Python_3.8/2.0/automlx_p38_cpu_v2)\n",
    "\n",
    "---\n",
    "\n",
    "## Business Use:\n",
    "\n",
    "Data analytics and modeling problems using Machine Learning (ML) are becoming popular and often rely on data science expertise to build accurate ML models. Such modeling tasks primarily involve the following steps:\n",
    "- Preprocess dataset (clean, impute, engineer features, normalize).\n",
    "- Pick an appropriate model for the given dataset and prediction task at hand.\n",
    "- Tune the chosen model’s hyperparameters for the given dataset.\n",
    "\n",
    "All of these steps are significantly time consuming and heavily rely on data scientist expertise. Unfortunately, to make this problem harder, the best feature subset, model, and hyperparameter choice widely varies with the dataset and the prediction task. Hence, there is no one-size-fits-all solution to achieve reasonably good model performance. Using a simple Python API, AutoML can quickly (faster) jump-start the datascience process with an accurately-tuned model and appropriate features for a given prediction task.\n",
    "\n",
    "## Table of Contents\n",
    "\n",
    "- <a href='#setup'>0. Setup</a>\n",
    "- <a href='#load-data'>1. Load California housing dataset</a>\n",
    "- <a href='#AutoML'>2. AutoML</a>\n",
    "  - <a href='#Engine'>2.0. Set the Engine</a>\n",
    "  - <a href='#provider'>2.1. Create an Instance of AutoML</a>\n",
    "  - <a href='#default'>2.2 Train a Model using AutoML</a>\n",
    "  - <a href='#analyze'>2.3. Analyze the AutoML optimization process </a>\n",
    "      - <a href='#algorithm-selection'>2.3.1. Algorithm Selection</a>\n",
    "      - <a href='#adaptive-sampling'>2.3.2. Adaptive Sampling</a>\n",
    "      - <a href='#feature-selection'>2.3.3. Feature Selection</a>\n",
    "      - <a href='#hyperparameter-tuning'>2.3.4. Hyperparameter Tuning</a>\n",
    "  - <a href='#modellist'>2.4. Provide a Specific Model List </a>\n",
    "  - <a href='#custom-validation'>2.5. Use a Custom Validation Set </a>\n",
    "  - <a href='#disablefs'>2.6. Control Feature Selection </a>\n",
    "  - <a href='#scoringstr'>2.7. Specify a Different Scoring Metric</a>\n",
    "- <a href='#MLX'>3. Machine Learning Explainability (MLX)</a>\n",
    "  - <a href='#MLX-initializing'>3.1. Initialize an MLExplainer</a>\n",
    "  - <a href='#MLX-global'>3.2. Model Explanations (Global Feature Importance)</a>\n",
    "  - <a href='#MLX-dependency'>3.3. Feature Dependence Explanations (PDP + ICE)</a>\n",
    "  - <a href='#MLX-local'>3.4. Prediction Explanations (Local Feature Importance)</a>\n",
    "       - <a href='#MLX-alfi'>3.4.1. Aggregate Local Feature Importance</a>\n",
    "  - <a href='#MLX-whatif'>3.5. Interactive What-IF Explanations</a>\n",
    "  - <a href='#MLX-advanced'>3.6. Advanced Feature Importance Options</a>\n",
    "       - <a href='#MLX-changing'>3.6.1. Change the number of iterations</a>\n",
    "       - <a href='#MLX-including'>3.6.2. Include the effects of feature interactions (with Shapley feature importance)</a>\n",
    "       - <a href='#MLX-explain'>3.6.3. Explain the model or explain the world</a>\n",
    "       - <a href='#MLX-surrogates'>3.6.4. Local explanations with surrogate models (LIME+)</a>\n",
    "  - <a href='#MLX-advanced-ale'>3.7. Advanced Feature Dependence Options (ALE)</a>       \n",
    "- <a href='#ref'>References</a>"
   ]
  },
  {
   "cell_type": "markdown",
   "id": "5691a379",
   "metadata": {},
   "source": [
    "<a id='setup'></a>\n",
    "## Setup\n",
    "\n",
    "Basic setup for the Notebook."
   ]
  },
  {
   "cell_type": "code",
   "execution_count": null,
   "id": "0609fae9",
   "metadata": {},
   "outputs": [],
   "source": [
    "%matplotlib inline\n",
    "%load_ext autoreload\n",
    "%autoreload 2"
   ]
  },
  {
   "cell_type": "markdown",
   "id": "48794b27",
   "metadata": {},
   "source": [
    "Load the required modules."
   ]
  },
  {
   "cell_type": "code",
   "execution_count": null,
   "id": "82388d96",
   "metadata": {},
   "outputs": [],
   "source": [
    "import gzip\n",
    "import pandas as pd\n",
    "import matplotlib.pyplot as plt\n",
    "import seaborn as sns\n",
    "from sklearn.datasets import fetch_california_housing\n",
    "from sklearn.metrics import mean_squared_error\n",
    "from sklearn.linear_model import LinearRegression\n",
    "from sklearn.model_selection import train_test_split\n",
    "\n",
    "# Settings for plots\n",
    "plt.rcParams['figure.figsize'] = [10, 7]\n",
    "plt.rcParams['font.size'] = 15\n",
    "sns.set(color_codes=True)\n",
    "sns.set(font_scale=1.5)\n",
    "sns.set_palette(\"bright\")\n",
    "sns.set_style(\"whitegrid\")\n",
    "\n",
    "import automl\n",
    "from automl import init"
   ]
  },
  {
   "cell_type": "markdown",
   "id": "0f67f8e0",
   "metadata": {},
   "source": [
    "<a id='load-data'></a>\n",
    "## Load the California housing dataset using sklearn.datasets\n",
    "\n",
    "Dataset details are available here: https://scikit-learn.org/stable/datasets/real_world.html#california-housing-dataset. The goal is to predict the median price of a house given some features."
   ]
  },
  {
   "cell_type": "code",
   "execution_count": null,
   "id": "00629bd0",
   "metadata": {},
   "outputs": [],
   "source": [
    "X, y = fetch_california_housing(return_X_y=True)\n",
    "ds = fetch_california_housing(return_X_y=False)\n",
    "df = pd.concat([pd.DataFrame(X, columns=ds.feature_names),\n",
    "                pd.DataFrame(y.ravel(), columns=['Median Price'])], axis=1)\n",
    "\n",
    "target_col='Median Price'\n",
    "df.shape"
   ]
  },
  {
   "cell_type": "code",
   "execution_count": null,
   "id": "72d51171",
   "metadata": {},
   "outputs": [],
   "source": [
    "df.head()"
   ]
  },
  {
   "cell_type": "markdown",
   "id": "eb209d4a",
   "metadata": {},
   "source": [
    "We first display the density of the target median price."
   ]
  },
  {
   "cell_type": "code",
   "execution_count": null,
   "id": "5da9e24e",
   "metadata": {},
   "outputs": [],
   "source": [
    "# drop unlabled data in train/test dataset\n",
    "df = df[df[target_col].notna()]\n",
    "\n",
    "sns.displot(x=target_col, data=df, kind='kde') # kernel density estimate"
   ]
  },
  {
   "cell_type": "markdown",
   "id": "aed85046",
   "metadata": {},
   "source": [
    "We now separate the targets (`y`) from the training features (`X`) and split the dataset into training (70%) and test (30%) datasets. The training set will be used to create a Machine Learning model using Oracle AutoMLx, and the test set will be used to evaluate the model's performance on unseen data."
   ]
  },
  {
   "cell_type": "code",
   "execution_count": null,
   "id": "b181feaf",
   "metadata": {},
   "outputs": [],
   "source": [
    "X_full = df.drop(target_col, axis=1)\n",
    "y_full = df[target_col]\n",
    "\n",
    "X_train, X_test, y_train, y_test = train_test_split(X_full, y_full, test_size=0.3, random_state=7)\n",
    "\n",
    "X_train.shape, X_test.shape"
   ]
  },
  {
   "cell_type": "markdown",
   "id": "fa3bf004",
   "metadata": {},
   "source": [
    "<a id='AutoML'></a>\n",
    "## AutoML"
   ]
  },
  {
   "cell_type": "markdown",
   "id": "8aaa089d",
   "metadata": {},
   "source": [
    "<a id='Engine'></a>\n",
    "### Set the engine\n",
    "The AutoML pipeline offers the function `init`, which allows to initialize the parallel engine. By default, the AutoML pipeline uses the `dask` parallel engine. One can also set the engine to `local`, which uses python's multiprocessing library for parallelism instead."
   ]
  },
  {
   "cell_type": "code",
   "execution_count": null,
   "id": "e7e41664",
   "metadata": {},
   "outputs": [],
   "source": [
    "init(engine='local')"
   ]
  },
  {
   "cell_type": "markdown",
   "id": "04c9edc5",
   "metadata": {},
   "source": [
    "<a id='provider'></a>\n",
    "### Create an instance of Oracle AutoMLx\n",
    "\n",
    "The Oracle AutoMLx solution provides a pipeline that automatically finds a tuned model given a prediction task and a training dataset. In particular it allows to find a tuned model for any supervised prediction task, e.g. classification or regression, where the target can be binary, categorical or real-valued.\n",
    "\n",
    "AutoML consists of five main modules: \n",
    "- **Preprocessing** : Clean, impute, engineer, and normalize features.\n",
    "- **Algorithm Selection** : Identify the right regression algorithm -in this notebook- for a given dataset, choosing from amongst:\n",
    "    - AdaBoostRegressor\n",
    "    - DecisionTreeRegressor\n",
    "    - ExtraTreesRegressor\n",
    "    - LGBMRegressor\n",
    "    - LinearSVR\n",
    "    - LinearRegression\n",
    "    - RandomForestRegressor\n",
    "    - SVR\n",
    "    - XGBRegressor\n",
    "    - TorchMLPRegressor\n",
    "- **Adaptive Sampling** : Select a subset of the data samples for the model to be trained on.\n",
    "- **Feature Selection** : Select a subset of the data features, based on the previously selected model.\n",
    "- **Hyperparameter Tuning** : Find the right model parameters that maximize score for the given dataset. \n",
    "\n",
    "\n",
    "All these pieces are readily combined into a simple AutoML pipeline which automates the entire Machine Learning process with minimal user input/interaction."
   ]
  },
  {
   "cell_type": "markdown",
   "id": "a4179bbc",
   "metadata": {},
   "source": [
    "<a id='default'></a>\n",
    "### Train a model using Oracle AutoMLx\n",
    "\n",
    "The AutoML API is quite simple to work with. We create an instance of AutoML pipeline. Next, the training data is passed to the `fit()` function which successively executes the previously mentioned modules."
   ]
  },
  {
   "cell_type": "code",
   "execution_count": null,
   "id": "0d17ea12",
   "metadata": {},
   "outputs": [],
   "source": [
    "est1 = automl.Pipeline(task='regression')\n",
    "est1.fit(X_train, y_train)"
   ]
  },
  {
   "cell_type": "markdown",
   "id": "3e927303",
   "metadata": {},
   "source": [
    "A model is then generated (`est1`) and can be used for prediction tasks. We use the `mean_squared_error` scoring metric to evaluate the performance of this model on unseen data (`X_test`)."
   ]
  },
  {
   "cell_type": "code",
   "execution_count": null,
   "id": "99c4d933",
   "metadata": {},
   "outputs": [],
   "source": [
    "y_pred = est1.predict(X_test)\n",
    "score_default = mean_squared_error(y_test, y_pred)\n",
    "\n",
    "print(f'Mean squared error on test data : {score_default}')"
   ]
  },
  {
   "cell_type": "markdown",
   "id": "c43572b8",
   "metadata": {},
   "source": [
    "<a id='analyze'></a>\n",
    "### Analyze the AutoML optimization process\n",
    "\n",
    "During the Oracle AutoMLx process, a summary of the optimization process is logged, containing:\n",
    "- Information about the training data.\n",
    "- Information about the AutoML Pipeline, such as:\n",
    "    - Selected features that the pipeline found to be most predictive in the training data;\n",
    "    - Selected algorithm that was the best choice for this data;\n",
    "    - Selected hyperparameters for the selected algorithm."
   ]
  },
  {
   "cell_type": "markdown",
   "id": "72a30933",
   "metadata": {},
   "source": [
    "AutoML provides a `print_summary` API to output all the different trials performed."
   ]
  },
  {
   "cell_type": "code",
   "execution_count": null,
   "id": "7ad3c605",
   "metadata": {},
   "outputs": [],
   "source": [
    "est1.print_summary()"
   ]
  },
  {
   "cell_type": "markdown",
   "id": "3ca9fda1",
   "metadata": {},
   "source": [
    "We also provide the capability to visualize the results of each stage of the AutoML pipeline. "
   ]
  },
  {
   "cell_type": "markdown",
   "id": "4cc779d3",
   "metadata": {},
   "source": [
    "<a id='algorithm-selection'></a>\n",
    "#### Algorithm Selection\n",
    "\n",
    "The plot below shows the scores predicted by Algorithm Selection for each algorithm. The horizontal line shows the average score across all algorithms. Algorithms below the line are colored turquoise, whereas those with a score higher than the mean are colored teal. Here we can see that the `LGBMRegressor` achieved the highest predicted score (orange bar), and is chosen for subsequent stages of the Pipeline."
   ]
  },
  {
   "cell_type": "code",
   "execution_count": null,
   "id": "ff82d9e2",
   "metadata": {},
   "outputs": [],
   "source": [
    "# Each trial is a tuple of\n",
    "# (algorithm, no. samples, no. features, mean CV score, hyperparameters, \n",
    "# all CV scores, total CV time (s), memory usage (Gb))\n",
    "trials = est1.model_selection_trials_ \n",
    "scores = [x[3] for x in trials]\n",
    "models = [x[0] for x in trials]\n",
    "y_margin = 0.10 * (max(scores) - min(scores))\n",
    "s = pd.Series(scores, index=models).sort_values(ascending=False)\n",
    "\n",
    "colors = []\n",
    "for f in s.keys():\n",
    "    if f == '{}_AS'.format(est1.selected_model_):\n",
    "        colors.append('orange')\n",
    "    elif s[f] >= s.mean():\n",
    "        colors.append('teal')\n",
    "    else:\n",
    "        colors.append('turquoise')\n",
    "        \n",
    "\n",
    "fig, ax = plt.subplots(1)\n",
    "ax.set_title(\"Algorithm Selection Trials\")\n",
    "ax.set_ylim(min(scores) - y_margin, max(scores) + y_margin)\n",
    "ax.set_ylabel(est1.inferred_score_metric[0])\n",
    "s.plot.bar(ax=ax, color=colors, edgecolor='black')\n",
    "ax.axhline(y=s.mean(), color='black', linewidth=0.5)\n",
    "plt.show()"
   ]
  },
  {
   "cell_type": "markdown",
   "id": "9c9d49e8",
   "metadata": {},
   "source": [
    "<a id='adaptive-sampling'></a>\n",
    "#### Adaptive Sampling\n",
    "\n",
    "Following Algorithm Selection, Adaptive Sampling aims to find the smallest dataset sample that can be created without compromising validation set score for the chosen model (`LGBMRegressor`). In this case, no subset is found to keep sufficient validation score, so we continue with the entire dataset."
   ]
  },
  {
   "cell_type": "code",
   "execution_count": null,
   "id": "15b23e63",
   "metadata": {},
   "outputs": [],
   "source": [
    "# Each trial is a tuple of\n",
    "# (algorithm, no. samples, no. features, mean CV score, hyperparameters, \n",
    "# all CV scores, total CV time (s), memory usage (Gb))\n",
    "trials = est1.adaptive_sampling_trials_\n",
    "scores = [x[3] for x in trials]\n",
    "n_samples = [x[1] for x in trials]\n",
    "y_margin = 0.10 * (max(scores) - min(scores))\n",
    "\n",
    "fig, ax = plt.subplots(1)\n",
    "ax.set_title(\"Adaptive Sampling ({})\".format(trials[0][0]))\n",
    "ax.set_xlabel('Dataset sample size')\n",
    "ax.set_ylabel(est1.inferred_score_metric[0])\n",
    "ax.grid(color='g', linestyle='-', linewidth=0.1)\n",
    "ax.set_ylim(min(scores) - y_margin, max(scores) + y_margin)\n",
    "ax.plot(n_samples, scores, 'k:', marker=\"s\", color='teal', markersize=3)\n",
    "plt.show()"
   ]
  },
  {
   "cell_type": "markdown",
   "id": "6b9dc091",
   "metadata": {},
   "source": [
    "<a id='feature-selection'></a>\n",
    "#### Feature Selection\n",
    "\n",
    "The next step of the pipeline is to find a relevant feature subset to maximize score for the chosen algorithm. AutoMLx Feature Selection follows an intelligent search strategy, looking at various possible feature rankings and subsets, and identifying that smallest feature subset that does not compromise on score for the chosen algorithm (`LGBMRegressor`). The orange line shows the optimal number of features chosen by Feature Selection (in this case 6 features, droppping `AveBedrms` and `Population`)."
   ]
  },
  {
   "cell_type": "code",
   "execution_count": null,
   "id": "0ce38050",
   "metadata": {},
   "outputs": [],
   "source": [
    "print(f\"Features selected: {est1.selected_features_names_.to_list()}\")\n",
    "dropped_features = est1.pipeline.preprocessor.transformed_col_names.drop(est1.selected_features_names_)\n",
    "print(f\"Features dropped: {dropped_features.to_list()}\")\n",
    "\n",
    "# Each trial is a tuple of\n",
    "# (algorithm, no. samples, no. features, mean CV score, hyperparameters, \n",
    "# all CV scores, total CV time (s), memory usage (Gb))\n",
    "trials = est1.feature_selection_trials_\n",
    "scores = [x[3] for x in trials]\n",
    "n_features = [x[2] for x in trials]\n",
    "y_margin = 0.10 * (max(scores) - min(scores))\n",
    "\n",
    "\n",
    "fig, ax = plt.subplots(1)\n",
    "ax.set_title(\"Feature Selection Trials\")\n",
    "ax.set_xlabel(\"Number of Features\")\n",
    "ax.set_ylabel(est1.inferred_score_metric[0])\n",
    "ax.grid(color='g', linestyle='-', linewidth=0.1)\n",
    "ax.set_ylim(min(scores) - y_margin, max(scores) + y_margin)\n",
    "ax.plot(n_features, scores, 'k:', marker=\"s\", color='teal', markersize=3)\n",
    "ax.axvline(x=len(est1.selected_features_names_), color='orange', linewidth=2.0)\n",
    "plt.show()"
   ]
  },
  {
   "cell_type": "markdown",
   "id": "f99c6a63",
   "metadata": {},
   "source": [
    "<a id='hyperparameter-tuning'></a>\n",
    "#### Hyperparameter Tuning\n",
    "\n",
    "Hyperparameter Tuning is the last stage of the AutoML pipeline, and focuses on improving the chosen algorithm's score on the reduced dataset (after Adaptive Sampling and Feature Selection). We use a novel iterative algorithm to search across many hyperparameter dimensions, and converge automatically when optimal hyperparameters are identified. Each trial in the graph below represents a particular hyperparameter configuration for the selected model."
   ]
  },
  {
   "cell_type": "code",
   "execution_count": null,
   "id": "137f08a3",
   "metadata": {},
   "outputs": [],
   "source": [
    "# Each trial is a tuple of\n",
    "# (algorithm, no. samples, no. features, mean CV score, hyperparameters, \n",
    "# all CV scores, total CV time (s), memory usage (Gb))\n",
    "trials = est1.tuning_trials_\n",
    "scores = [x[3] for x in reversed(trials)]\n",
    "y_margin = 0.10 * (max(scores) - min(scores))\n",
    "\n",
    "\n",
    "fig, ax = plt.subplots(1)\n",
    "ax.set_title(\"Hyperparameter Tuning Trials\")\n",
    "ax.set_xlabel(\"Iteration $n$\")\n",
    "ax.set_ylabel(est1.inferred_score_metric[0])\n",
    "ax.grid(color='g', linestyle='-', linewidth=0.1)\n",
    "ax.set_ylim(min(scores) - y_margin, max(scores) + y_margin)\n",
    "ax.plot(range(1, len(trials) + 1), scores, 'k:', marker=\"s\", color='teal', markersize=3)\n",
    "plt.show()"
   ]
  },
  {
   "cell_type": "markdown",
   "id": "2557b6ba",
   "metadata": {},
   "source": [
    "<a id='modellist'></a>\n",
    "### Provide a specific model list to AutoML\n",
    "The Oracle AutoMLx solution also supports a `model_list` argument, allowing you to control what algorithms AutoML considers during its optimization process. `model_list` is specified as a list of strings, which can be any combination of \n",
    "\n",
    "- AdaBoostRegressor\n",
    "- DecisionTreeRegressor\n",
    "- ExtraTreesRegressor\n",
    "- LGBMRegressor\n",
    "- LinearSVR\n",
    "- LinearRegression\n",
    "- RandomForestRegressor\n",
    "- SVR\n",
    "- XGBRegressor\n",
    "- TorchMLPRegressor\n",
    "\n",
    "Here, we ask AutoML to only consider `LinearRegression`. Note that it does not perform well compared to the full capabilites of the AutoML pipeline."
   ]
  },
  {
   "cell_type": "code",
   "execution_count": null,
   "id": "2bd7ccd9",
   "metadata": {},
   "outputs": [],
   "source": [
    "est2 = automl.Pipeline(task='regression', model_list=['LinearRegression'])\n",
    "est2.fit(X_train, y_train)\n",
    "y_pred = est2.predict(X_test)\n",
    "score_modellist = mean_squared_error(y_test, y_pred)\n",
    "\n",
    "print(f'Prediction error (mse) on test data : {score_modellist}')"
   ]
  },
  {
   "cell_type": "markdown",
   "id": "21942546",
   "metadata": {},
   "source": [
    "<a id='custom-validation'></a>\n",
    "### Use a custom validation set\n",
    "You can specify a custom validation set that you want AutoML to use to evaluate the quality of models and configurations. \n"
   ]
  },
  {
   "cell_type": "code",
   "execution_count": null,
   "id": "551a137c",
   "metadata": {},
   "outputs": [],
   "source": [
    "X_train, X_val, y_train, y_val = train_test_split(X_train, y_train, train_size=0.7, random_state=0)"
   ]
  },
  {
   "cell_type": "code",
   "execution_count": null,
   "id": "1a9b9d77",
   "metadata": {},
   "outputs": [],
   "source": [
    "est3 = automl.Pipeline(task='regression')\n",
    "est3.fit(X_train, y_train, X_val, y_val)\n",
    "\n",
    "y_pred = est3.predict(X_test)\n",
    "score = mean_squared_error(y_test, y_pred)\n",
    "\n",
    "print(f'Prediction error (MSE) on test data : {score}')"
   ]
  },
  {
   "cell_type": "markdown",
   "id": "9d66ebe4",
   "metadata": {},
   "source": [
    "<a id='disablefs'></a>\n",
    "### Control the Feature Selection Stage in AutoML\n",
    "Similarly the user can control the Feature Selection stage of the AutoML Pipeline. This can be achieved by using the `min_features` argument when initializing the Pipeline. Setting it to 1.0 will disable Feature selection."
   ]
  },
  {
   "cell_type": "code",
   "execution_count": null,
   "id": "05a3905b",
   "metadata": {},
   "outputs": [],
   "source": [
    "est4 = automl.Pipeline(task='regression', min_features=1.0)\n",
    "est4.fit(X_train, y_train, X_val, y_val)\n",
    "y_pred = est4.predict(X_test)\n",
    "\n",
    "score = mean_squared_error(y_test, y_pred)\n",
    "\n",
    "print(f'Prediction error (MSE) on test data : {score}')"
   ]
  },
  {
   "cell_type": "markdown",
   "id": "8a3c372f",
   "metadata": {},
   "source": [
    "<a id='scoringstr'></a>\n",
    "### Specify a different scoring metric to AutoML\n",
    "The Oracle AutoMLx tool tries to maximize a given scoring metric, by looking at different algorithms, features and hyperparameter choices. By default, the score metric is set to `neg_mean_squared_error` for regression. \n",
    "The user can also choose a metric using `score_metric`. The scoring metric can be specified as a string. For regression, supported metrics are\n",
    "\n",
    "- 'neg_mean_absolute_error'\n",
    "- 'neg_mean_squared_error' \n",
    "- 'neg_mean_squared_log_error'\n",
    "- 'neg_median_absolute_error'\n",
    "- 'r2'\n",
    "\n",
    "Detailed documentation about scoring metrics: https://scikit-learn.org/stable/modules/classes.html#regression-metrics.\n",
    "Here we ask AutoML to optimize for the `r2` scoring metric."
   ]
  },
  {
   "cell_type": "code",
   "execution_count": null,
   "id": "945f5a60",
   "metadata": {},
   "outputs": [],
   "source": [
    "est5 = automl.Pipeline(task='regression', score_metric='r2')\n",
    "est5.fit(X_train, y_train, X_val, y_val)\n",
    "y_pred = est5.predict(X_test)\n",
    "\n",
    "score_scoringstr = mean_squared_error(y_test, y_pred)\n",
    "\n",
    "print(f'Prediction error (MSE) on test data : {score_scoringstr}')"
   ]
  },
  {
   "cell_type": "markdown",
   "id": "cf4d9d37",
   "metadata": {},
   "source": [
    "<a id='MLX'></a>\n",
    "## Machine Learning Explainability"
   ]
  },
  {
   "cell_type": "markdown",
   "id": "c97d3d8d",
   "metadata": {},
   "source": [
    "For a variety of decision-making tasks, getting only a prediction as model output is not sufficient. A user may wish to know why the model outputs that prediction, or which data features are relevant for that prediction. For that purpose the Oracle AutoMLx solution defines the `MLExplainer` object, which allows to compute multiple types of model explanations.\n",
    "\n",
    "<a id='MLX-initializing'></a>\n",
    "### Initialize an MLExplainer\n",
    "\n",
    "The `MLExplainer` object takes as argument the trained model, the training data and labels, as well as the task."
   ]
  },
  {
   "cell_type": "code",
   "execution_count": null,
   "id": "3fe86e1c",
   "metadata": {},
   "outputs": [],
   "source": [
    "explainer = automl.MLExplainer(est1,\n",
    "                               X_train,\n",
    "                               y_train,\n",
    "                               target_names=['Median Price'],\n",
    "                               task=\"regression\")"
   ]
  },
  {
   "cell_type": "markdown",
   "id": "1912a573",
   "metadata": {},
   "source": [
    "<a id='global'></a>\n",
    "### Model Explanations (Global Feature importance)"
   ]
  },
  {
   "cell_type": "markdown",
   "id": "2f58724d",
   "metadata": {},
   "source": [
    "The notion of Global Feature Importance intuitively measures how much the model's performance (relative to the provided train labels) would change if a given feature were dropped from the dataset, <b><i>without</i></b> allowing the model to be retrained. This notion of feature importance considers each feature independently from all other features. "
   ]
  },
  {
   "cell_type": "markdown",
   "id": "251297ee",
   "metadata": {},
   "source": [
    "#### Compute the importance"
   ]
  },
  {
   "cell_type": "markdown",
   "id": "87989eb8",
   "metadata": {},
   "source": [
    "By default we use a permutation method to successively measure the importance of each feature. Such a method therefore runs in linear time with respect to the\n",
    "number of features in the dataset. \n",
    "\n",
    "The method `explain_model()` allows to compute such feature importances. It also provides 95% confidence intervals for each feature importance."
   ]
  },
  {
   "cell_type": "code",
   "execution_count": null,
   "id": "f5e2a896",
   "metadata": {},
   "outputs": [],
   "source": [
    "result_explain_model_default = explainer.explain_model()"
   ]
  },
  {
   "cell_type": "markdown",
   "id": "16774dc9",
   "metadata": {},
   "source": [
    "#### Visualization"
   ]
  },
  {
   "cell_type": "markdown",
   "id": "d5d2a170",
   "metadata": {},
   "source": [
    "There are two options to show the explanation's results:\n",
    "- `to_dataframe()` will return a dataframe of the results.\n",
    "- `show_in_notebook()` will show the results as a bar plot.\n",
    "\n",
    "The features are returned in decreasing order of importance. We see that `Latitude` and `Longitude` are considered to be the most important features."
   ]
  },
  {
   "cell_type": "code",
   "execution_count": null,
   "id": "c8011d36",
   "metadata": {},
   "outputs": [],
   "source": [
    "result_explain_model_default.to_dataframe()"
   ]
  },
  {
   "cell_type": "code",
   "execution_count": null,
   "id": "9e8ffd44",
   "metadata": {},
   "outputs": [],
   "source": [
    "result_explain_model_default.show_in_notebook()"
   ]
  },
  {
   "cell_type": "markdown",
   "id": "6291a280",
   "metadata": {},
   "source": [
    "<a id='MLX-dependency'></a>\n",
    "### Feature Dependence Explanations (PDP + ICE)\n",
    "\n",
    "Another way to measure dependency on a feature is through a partial dependence plot (PDP) or an individual conditional expectation (ICE) plot. For accumulated local effects (ALE) explanations, see <a href='#MLX-advanced-ale'>Advanced Feature Dependence Options (ALE)</a>\n",
    "\n",
    "Given a dataset, a PDP displays the average output of the model as a function of the value of the selected set of features. \n",
    "\n",
    "It can be computed for a single feature, as in the cell below. The X-axis is the value of the `Latitude` feature and the y-axis is the corresponding outputted price. Since we are considering the whole dataset, the average over outputs is given by the red line, while the shaded interval corresponds to a 95% confidence interval for the average.\n",
    "\n",
    "The histogram on top shows the distribution of the value of the `Latitude` feature in the dataset."
   ]
  },
  {
   "cell_type": "code",
   "execution_count": null,
   "id": "86b9b4bb",
   "metadata": {},
   "outputs": [],
   "source": [
    "result_explain_feature_dependence_default = explainer.explain_feature_dependence('Latitude')\n",
    "result_explain_feature_dependence_default.show_in_notebook()"
   ]
  },
  {
   "cell_type": "markdown",
   "id": "86bae0c4",
   "metadata": {},
   "source": [
    "The ICE plot is automatically computed at the same time as any one-feature PDP. It can be accessed by passing `ice=True` to `show_in_notebook`. \n",
    "\n",
    "Similar to PDPs, ICE plots show the median prediction as a model red line. However, the variance in the model's predictions are shown by plotting the predictions of a sample of individual data instances as light grey lines. (For categorical features, the distribution in the predictions is instead shown as a violin plot.)"
   ]
  },
  {
   "cell_type": "code",
   "execution_count": null,
   "id": "aa7c9e86",
   "metadata": {},
   "outputs": [],
   "source": [
    "result_explain_feature_dependence_default.show_in_notebook(ice=True)"
   ]
  },
  {
   "cell_type": "markdown",
   "id": "4c9f0e2b",
   "metadata": {},
   "source": [
    "We can also plot the PDP for multiple features. The plot below is the PDP for the `Latitude` and `Longitude` features. The X-axis still shows the values of `Latitude`, while there is a different curve and confidence interval for each value of the feature `Longitude`.\n",
    "\n",
    "The histogram displays the joint distribution of the two features."
   ]
  },
  {
   "cell_type": "code",
   "execution_count": null,
   "id": "e5177f6d",
   "metadata": {},
   "outputs": [],
   "source": [
    "result_explain_feature_dependence_default = explainer.explain_feature_dependence(['Latitude', 'Longitude'])\n",
    "result_explain_feature_dependence_default.show_in_notebook()"
   ]
  },
  {
   "cell_type": "markdown",
   "id": "da5183cf",
   "metadata": {},
   "source": [
    "PDPs can be computed for an arbitrary number of variables; however, they can only be visualized with up to 4. Here, we show an example with 3 features."
   ]
  },
  {
   "cell_type": "code",
   "execution_count": null,
   "id": "28fd01c2",
   "metadata": {},
   "outputs": [],
   "source": [
    "result_explain_feature_dependence_default = explainer.explain_feature_dependence(['MedInc', 'HouseAge', 'AveOccup'])\n",
    "result_explain_feature_dependence_default.show_in_notebook()"
   ]
  },
  {
   "cell_type": "markdown",
   "id": "d80f4c1a",
   "metadata": {},
   "source": [
    "<a id='MLX-local'></a>\n",
    "###  Prediction Explanations (Local Feature Importance)"
   ]
  },
  {
   "cell_type": "markdown",
   "id": "ea9148e7",
   "metadata": {},
   "source": [
    "Given a data sample, one can also obtain the local importance, which is the importance of the features for the model's prediction on that sample.\n",
    "In the following cell, we consider sample $0$. The function `explain_prediction()` computes the local importance for a given sample.\n",
    "\n",
    "`Latitude=34.02` means that the value of feature `Latitude` for that sample is `34.02`. Removing that feature would change the model's prediction by the magnitude of the bar. That is, in this case, the model's prediction for the median house price is approximately 1.15 (i.e., $115 000) less because the model knows the value of `Latitude` is `34.02`.  "
   ]
  },
  {
   "cell_type": "code",
   "execution_count": null,
   "id": "1c0c7cf2",
   "metadata": {},
   "outputs": [],
   "source": [
    "index = 0\n",
    "result_explain_prediction_default = explainer.explain_prediction(X_train.iloc[index:index + 1, :])\n",
    "result_explain_prediction_default[0].show_in_notebook()"
   ]
  },
  {
   "cell_type": "markdown",
   "id": "24f9c9e6",
   "metadata": {},
   "source": [
    "<a id='MLX-alfi'></a>\n",
    "### Aggregate Local Feature Importance\n",
    "We now summarize all of the individual local feature importance explanations into one single aggregate explanation."
   ]
  },
  {
   "cell_type": "code",
   "execution_count": null,
   "id": "08ac43cf",
   "metadata": {},
   "outputs": [],
   "source": [
    "# We select 10 random instances here as an example and show the aggregate explanation of those instances.\n",
    "local_explanations = explainer.explain_prediction(X_train.sample(n=10))\n",
    "alfi = explainer.aggregate(explanations=local_explanations)\n",
    "alfi.show_in_notebook()"
   ]
  },
  {
   "cell_type": "markdown",
   "id": "4eea5dc7",
   "metadata": {},
   "source": [
    "<a id='MLX-whatif'></a>\n",
    "## Interactive What-If Explanations"
   ]
  },
  {
   "cell_type": "markdown",
   "id": "a2bf7354",
   "metadata": {},
   "source": [
    "The Oracle AutoMLx solution offers also What-IF tool to explain a trained ML model's predictions through a simple interactive interface.\n",
    "\n",
    "You can use What-IF explainer to explore and visualize immediately how changing a sample value will affect the model's prediction. Furthermore, What-IF can be used to visualize how model's predictions are related to any feature of the dataset."
   ]
  },
  {
   "cell_type": "code",
   "execution_count": null,
   "id": "2201176c",
   "metadata": {},
   "outputs": [],
   "source": [
    "explainer.explore_whatif(X_test, y_test)"
   ]
  },
  {
   "cell_type": "markdown",
   "id": "c13e61bd",
   "metadata": {},
   "source": [
    "<a id='MLX-advanced'></a>\n",
    "### Advanced Feature Importance Options\n",
    "\n",
    "We now display more advanced configuration for computing feature importance. Here, we will explain a custom `LinearRegression` estimator from `scikit-learn`. Note that the `MLExplainer` object is capable of explaining any regression model, as long as the model follows a scikit-learn-style interface with the `predict` function."
   ]
  },
  {
   "cell_type": "code",
   "execution_count": null,
   "id": "1f62ce81",
   "metadata": {},
   "outputs": [],
   "source": [
    "scikit_model = LinearRegression()\n",
    "scikit_model.fit(X_train, y_train)\n",
    "\n",
    "explainer_sklearn = automl.MLExplainer(scikit_model,\n",
    "                                       X_train,\n",
    "                                       y_train,\n",
    "                                       target_names=['Median Price'],\n",
    "                                       task=\"regression\")"
   ]
  },
  {
   "cell_type": "markdown",
   "id": "dfb25538",
   "metadata": {},
   "source": [
    "<a id='MLX-changing'></a>\n",
    "#### Change the number of iterations\n",
    "\n",
    "One can modify the number of iterations `n_iter` used to evaluate the global importance of the model, or the local importance of a prediction.\n",
    "\n",
    "Increasing `n_iter` requires a linear increase in computation time. It however provides more\n",
    "accurate importance estimates, thereby decreasing the variance in repeated calls to\n",
    "`explain_model`/`explain_prediction`.\n",
    "\n",
    "The default value is `auto`, which selects a suitable default value based on the choice of\n",
    "the method of explanation."
   ]
  },
  {
   "cell_type": "code",
   "execution_count": null,
   "id": "bb447557",
   "metadata": {},
   "outputs": [],
   "source": [
    "result_explain_model_increase_n_iter = explainer_sklearn.explain_model(n_iter=20)\n",
    "result_explain_model_increase_n_iter.show_in_notebook()"
   ]
  },
  {
   "cell_type": "markdown",
   "id": "016a36dd",
   "metadata": {},
   "source": [
    "<a id='MLX-including'></a>\n",
    "#### Include the effects of feature interactions (with Shapley feature importance)\n",
    "\n",
    "The Oracle AutoMLx solution allows one to change the effect of feature interactions. This can be done through the `tabulator_type` argument of both global and local importance methods. \n",
    "\n",
    "`tabulator_type` can be set to one of the following options:\n",
    "          \n",
    "- `permutation`: This value is the default method in the MLExplainer object, with the behaviour described above\n",
    "\n",
    "- `shapley`: Feature importance is computed using the popular game-theoretic Shapley value method. Technically, this measures the importance of each feature while including the effect of all feature interactions. As a result, it runs in exponential time with respect to the number of features in the dataset. This method also includes the interaction effects of the other features, which means that if two features contain duplicate information, they will be less important. Note that the interpretation of this method's result is a bit different from the permutation method's result. An interested reader may find <a href='https://christophm.github.io/interpretable-ml-book/shapley.html'>this</a> a good source for learning more about it.\n",
    "\n",
    "- `kernel_shap`: Feature importance attributions will be calculated using an approximation of the Shapley value method. It typically provides relatively high-quality approximations; however, it currently does not provide confidence intervals.\n",
    "            \n",
    "- `shap_pi`: Feature importance attributions will be computed using an approximation of the Shapley value method. It runs in linear time, but may miss the effect of interactions between some features, which may therefore produce lower-quality results. Most likely, you will notice that this method yields larger confidence intervals than the other two.\n",
    "\n",
    "**Summary: `permutation` can miss important features for AD. Exact SHAP (`shapley`) doesn't, but it is exponential. `kernel_shap` is an approximation of exact SHAP method that does not provide confidence intervals. `shap_pi` is linear, thus faster than exact SHAP and kernel_shap but unstable and very random leads to lower quality approximations.**"
   ]
  },
  {
   "cell_type": "markdown",
   "id": "15fdbc23",
   "metadata": {},
   "source": [
    "<a id='MLX-advance-tabulator-prediction'></a>\n",
    "##### Local feature importance with kernel_shap"
   ]
  },
  {
   "cell_type": "code",
   "execution_count": null,
   "id": "a4407f0f",
   "metadata": {},
   "outputs": [],
   "source": [
    "explainer_sklearn.configure_explain_prediction(tabulator_type=\"kernel_shap\")"
   ]
  },
  {
   "cell_type": "code",
   "execution_count": null,
   "id": "7e6ae05c",
   "metadata": {},
   "outputs": [],
   "source": [
    "index = 0\n",
    "result_explain_prediction_kernel_shap = explainer_sklearn.explain_prediction(X_train.iloc[index:index+1, :])\n",
    "result_explain_prediction_kernel_shap[0].show_in_notebook()"
   ]
  },
  {
   "cell_type": "markdown",
   "id": "6056ed62",
   "metadata": {},
   "source": [
    "<a id='MLX-explain'></a>\n",
    "#### Explain the model or Explain the world\n",
    "\n",
    "Oracle AutoMLx solution also provides the `evaluator_type` attribute, which allows one to choose whether to get feature importance attributions that explain exactly which features the model has learned to use (`interventional`), or which features the model or a retrained model could have learned to use (`observational`).\n",
    "          \n",
    "- `interventional` : The computed feature importances are as faithful to the\n",
    "    model as possible. That is, features that are ignored by\n",
    "    the model will not be considered important. This setting\n",
    "    should be preferred if the primary goal is to learn about\n",
    "    the machine learning model itself. Technically, this\n",
    "    setting is called 'interventional', because the method will\n",
    "    intervene on the data distribution when assessing the\n",
    "    importance of features. The intuition of feature importance attributions computed with this method is that the features are dropped from the dataset and the model is not allowed to retrain.\n",
    "\n",
    "- `observational` : The computed feature importances are more faithful to\n",
    "    the relationships that exist in the real world (i.e., relationships\n",
    "    observed in the dataset), even if your specific model did not learn\n",
    "    to use them. For example, when using a permutation tabulator, a feature\n",
    "    that is used by the model will not show a large impact on the model's\n",
    "    performance if there is a second feature that contains near-duplicate\n",
    "    information, because a re-trained model could have learned to use the\n",
    "    other feature instead. (Similarly, for Shapley-based tabulators, a \n",
    "    feature that is ignored by the model may have a non-zero feature\n",
    "    importance if it could have been used by the model to\n",
    "    predict the target.) This setting should be preferred if the\n",
    "    model is merely a means to learn more about the\n",
    "    relationships that exist within the data. Technically, this\n",
    "    setting is called 'observational', because it observes the\n",
    "    relationships in the data without breaking the existing\n",
    "    data distribution."
   ]
  },
  {
   "cell_type": "markdown",
   "id": "23256945",
   "metadata": {},
   "source": [
    "<a id='MLX-advance-evaluator-model'></a>\n",
    "##### Explain the model with observational evaluator_type"
   ]
  },
  {
   "cell_type": "code",
   "execution_count": null,
   "id": "513266cf",
   "metadata": {},
   "outputs": [],
   "source": [
    "explainer_sklearn.configure_explain_model(evaluator_type=\"observational\")"
   ]
  },
  {
   "cell_type": "code",
   "execution_count": null,
   "id": "4609160a",
   "metadata": {},
   "outputs": [],
   "source": [
    "result_explain_model_kernel_shap = explainer_sklearn.explain_model()\n",
    "result_explain_model_kernel_shap.show_in_notebook()"
   ]
  },
  {
   "cell_type": "markdown",
   "id": "a09e2dd9",
   "metadata": {},
   "source": [
    "<a id='MLX-advance-evaluator-prediction'></a>\n",
    "##### Explain predictions with observational evaluator_type"
   ]
  },
  {
   "cell_type": "code",
   "execution_count": null,
   "id": "50a18e09",
   "metadata": {},
   "outputs": [],
   "source": [
    "explainer_sklearn.configure_explain_prediction(evaluator_type=\"observational\",\n",
    "                                               tabulator_type=\"permutation\")"
   ]
  },
  {
   "cell_type": "code",
   "execution_count": null,
   "id": "3d6792ac",
   "metadata": {},
   "outputs": [],
   "source": [
    "index = 0\n",
    "result_explain_prediction_kernel_shap = explainer_sklearn.explain_prediction(X_train.iloc[index:index+1, :])\n",
    "result_explain_prediction_kernel_shap[0].show_in_notebook()"
   ]
  },
  {
   "cell_type": "markdown",
   "id": "874f7bfa",
   "metadata": {},
   "source": [
    "<a id='MLX-surrogates'></a>\n",
    "#### Local feature importance using surrogate models (LIME+)\n",
    "\n",
    "The Oracle AutoMLx solution allows one to change the type of local explainer effect of feature interactions. This can be done through the `explainer_type` argument of local importance methods. \n",
    "\n",
    "`explainer_type` can be set to one of the following options:\n",
    "          \n",
    "- `perturbation`: This value is the default explainer type in local feature importance. As we showed above, the explanation(s) will be computed by perturbing the features of the indicated data instance(s) and measuring the impact on the model predictions.\n",
    "\n",
    "- `surrogate`: The LIME-style explanation(s) will be computed by fitting a surrogate model to the predictions of the original model in a small region around the indicated data instance(s) and measuring the importance of the features to the interpretable surrogate model. The method of surrogate explainer can be set to one of the following options:\n",
    "  - `systematic`: An Oracle-labs-improved version of LIME that uses a systematic sampling and custom sample weighting. (Default)\n",
    "  - `lime`: Local interpretable model-agnostic explanations (LIME) algorithm (https://arxiv.org/pdf/1602.04938)."
   ]
  },
  {
   "cell_type": "code",
   "execution_count": null,
   "id": "7066b00f",
   "metadata": {},
   "outputs": [],
   "source": [
    "explainer_sklearn.configure_explain_prediction(explainer_type='surrogate')"
   ]
  },
  {
   "cell_type": "code",
   "execution_count": null,
   "id": "a9f71d49",
   "metadata": {},
   "outputs": [],
   "source": [
    "index = 0\n",
    "result_explain_prediction_surrogate_lime = explainer_sklearn.explain_prediction(X_train.iloc[index:index+1, :])\n",
    "result_explain_prediction_surrogate_lime[0].show_in_notebook()"
   ]
  },
  {
   "cell_type": "markdown",
   "id": "a1363183",
   "metadata": {},
   "source": [
    "<a id='MLX-advance-evaluator-prediction'></a>\n",
    "##### Explain predictions with surrogate explainer_type (systematic)"
   ]
  },
  {
   "cell_type": "code",
   "execution_count": null,
   "id": "ce96d14f",
   "metadata": {},
   "outputs": [],
   "source": [
    "explainer_sklearn.configure_explain_prediction(explainer_type='surrogate',\n",
    "                                               method='systematic')"
   ]
  },
  {
   "cell_type": "code",
   "execution_count": null,
   "id": "d3dd74e0",
   "metadata": {},
   "outputs": [],
   "source": [
    "index = 0\n",
    "result_explain_prediction_surrogate_systematic = explainer_sklearn.explain_prediction(X_train.iloc[index:index + 1, :])\n",
    "result_explain_prediction_surrogate_systematic[0].show_in_notebook()"
   ]
  },
  {
   "cell_type": "markdown",
   "id": "fa9d63d4",
   "metadata": {},
   "source": [
    "<a id='MLX-advanced-ale'></a>\n",
    "### Advanced Feature Dependence Options (ALE)\n",
    "\n",
    "We now show how to use an alternative method for computing feature dependence: accumulated local effects (ALE). ALE explanations are sometimes considered a better alternative to PDPs when features are correlated, because it does not evaluate the model outside of its training distribution in these cases. For more information, see https://christophm.github.io/interpretable-ml-book/ale.html.\n",
    "\n",
    "Given a dataset, an ALE displays the average change in the output of the model, accumulated over multiple small changes in one or two features, when all other features are held fixed. By default, the ALE explanations are centered around 0, and thus, unlike PDPs, ALEs show the change in the prediction measured by changing a given feature, rather than the average model's prediction for a particular feature value."
   ]
  },
  {
   "cell_type": "markdown",
   "id": "01bd009f",
   "metadata": {},
   "source": [
    "#### One-feature ALEs"
   ]
  },
  {
   "cell_type": "markdown",
   "id": "aecbdcf5",
   "metadata": {},
   "source": [
    "It can be computed for a single feature, as in the cell below. The X-axis is the value of the `Latitude` feature and the y-axis is the corresponding computed ALE (price unit).\n",
    "\n",
    "The histogram on top shows the distribution of the value of the `Latitude` feature in the dataset."
   ]
  },
  {
   "cell_type": "code",
   "execution_count": null,
   "id": "254b11ac",
   "metadata": {},
   "outputs": [],
   "source": [
    "explainer_sklearn.configure_explain_feature_dependence(explanation_type='ale')\n",
    "result_explain_feature_dependence_default = explainer_sklearn.explain_feature_dependence('Latitude')\n",
    "result_explain_feature_dependence_default.show_in_notebook()"
   ]
  },
  {
   "cell_type": "markdown",
   "id": "7794adf3",
   "metadata": {},
   "source": [
    "#### Two-feature ALEs"
   ]
  },
  {
   "cell_type": "markdown",
   "id": "f29d5a90",
   "metadata": {},
   "source": [
    "We can also compute ALEs for two features (At least one is numerical). The plot below is the ALE plot for the `Latitude` and `Longitude` features. The X-axis still shows the values of `Latitude`, while there is multiple lines, one for each value of the feature `Longitude`.\n",
    "\n",
    "The histogram displays the joint distribution of the two features."
   ]
  },
  {
   "cell_type": "code",
   "execution_count": null,
   "id": "f3dfd236",
   "metadata": {},
   "outputs": [],
   "source": [
    "result_explain_feature_dependence_default = explainer_sklearn.explain_feature_dependence(['Latitude', 'Longitude'])\n",
    "result_explain_feature_dependence_default.show_in_notebook()"
   ]
  },
  {
   "cell_type": "markdown",
   "id": "56a20856",
   "metadata": {},
   "source": [
    "<a id='ref'></a>\n",
    "## References\n",
    "* More examples and details: http://automl.oraclecorp.com/\n",
    "* Oracle AutoML http://www.vldb.org/pvldb/vol13/p3166-yakovlev.pdf\n",
    "* scikit-learn https://scikit-learn.org/stable/\n",
    "* Interpretable Machine Learning https://christophm.github.io/interpretable-ml-book/\n",
    "* LIME https://arxiv.org/pdf/1602.04938"
   ]
  }
 ],
 "metadata": {
  "jupytext": {
   "formats": "ipynb,py:percent"
  },
  "kernelspec": {
   "display_name": "Python [conda env:automlx_p38_cpu_v2]",
   "language": "python",
   "name": "conda-env-automlx_p38_cpu_v2-py"
  },
  "language_info": {
   "codemirror_mode": {
    "name": "ipython",
    "version": 3
   },
   "file_extension": ".py",
   "mimetype": "text/x-python",
   "name": "python",
   "nbconvert_exporter": "python",
   "pygments_lexer": "ipython3",
   "version": "3.8.16"
  },
  "widgets": {
   "application/vnd.jupyter.widget-state+json": {
    "state": {
     "019685e98ee0493baf72c4af5172f9ef": {
      "model_module": "@jupyter-widgets/base",
      "model_module_version": "2.0.0",
      "model_name": "LayoutModel",
      "state": {
       "_model_module": "@jupyter-widgets/base",
       "_model_module_version": "2.0.0",
       "_model_name": "LayoutModel",
       "_view_count": null,
       "_view_module": "@jupyter-widgets/base",
       "_view_module_version": "2.0.0",
       "_view_name": "LayoutView",
       "align_content": null,
       "align_items": null,
       "align_self": null,
       "border_bottom": null,
       "border_left": null,
       "border_right": null,
       "border_top": null,
       "bottom": null,
       "display": null,
       "flex": null,
       "flex_flow": null,
       "grid_area": null,
       "grid_auto_columns": null,
       "grid_auto_flow": null,
       "grid_auto_rows": null,
       "grid_column": null,
       "grid_gap": null,
       "grid_row": null,
       "grid_template_areas": null,
       "grid_template_columns": null,
       "grid_template_rows": null,
       "height": null,
       "justify_content": null,
       "justify_items": null,
       "left": null,
       "margin": null,
       "max_height": null,
       "max_width": null,
       "min_height": null,
       "min_width": null,
       "object_fit": null,
       "object_position": null,
       "order": null,
       "overflow": null,
       "padding": null,
       "right": null,
       "top": null,
       "visibility": null,
       "width": null
      }
     },
     "01cc46e72e584ffdbbdf1a6f04568289": {
      "model_module": "@jupyter-widgets/base",
      "model_module_version": "2.0.0",
      "model_name": "LayoutModel",
      "state": {
       "_model_module": "@jupyter-widgets/base",
       "_model_module_version": "2.0.0",
       "_model_name": "LayoutModel",
       "_view_count": null,
       "_view_module": "@jupyter-widgets/base",
       "_view_module_version": "2.0.0",
       "_view_name": "LayoutView",
       "align_content": null,
       "align_items": null,
       "align_self": null,
       "border_bottom": null,
       "border_left": null,
       "border_right": null,
       "border_top": null,
       "bottom": null,
       "display": null,
       "flex": null,
       "flex_flow": null,
       "grid_area": null,
       "grid_auto_columns": null,
       "grid_auto_flow": null,
       "grid_auto_rows": null,
       "grid_column": null,
       "grid_gap": null,
       "grid_row": null,
       "grid_template_areas": null,
       "grid_template_columns": null,
       "grid_template_rows": null,
       "height": null,
       "justify_content": null,
       "justify_items": null,
       "left": null,
       "margin": null,
       "max_height": null,
       "max_width": null,
       "min_height": null,
       "min_width": null,
       "object_fit": null,
       "object_position": null,
       "order": null,
       "overflow": null,
       "padding": null,
       "right": null,
       "top": null,
       "visibility": null,
       "width": "initial"
      }
     },
     "02bb9fa1a4104cbfb7e864c17ab8baea": {
      "model_module": "@jupyter-widgets/controls",
      "model_module_version": "2.0.0",
      "model_name": "HTMLModel",
      "state": {
       "_dom_classes": [],
       "_model_module": "@jupyter-widgets/controls",
       "_model_module_version": "2.0.0",
       "_model_name": "HTMLModel",
       "_view_count": null,
       "_view_module": "@jupyter-widgets/controls",
       "_view_module_version": "2.0.0",
       "_view_name": "HTMLView",
       "description": "",
       "description_allow_html": false,
       "layout": "IPY_MODEL_098ed6f099b942ed9c54ab0ee6eeaa56",
       "placeholder": "​",
       "style": "IPY_MODEL_ab6520076cb94fc081fab0e228ed9512",
       "tabbable": null,
       "tooltip": null,
       "value": "<h2 style=\"text-align: center\">Aggregated Feature Attributions</h2>"
      }
     },
     "0447a9191e6a4621b3e40dc19c1fc79a": {
      "model_module": "@jupyter-widgets/controls",
      "model_module_version": "2.0.0",
      "model_name": "DropdownModel",
      "state": {
       "_dom_classes": [],
       "_model_module": "@jupyter-widgets/controls",
       "_model_module_version": "2.0.0",
       "_model_name": "DropdownModel",
       "_options_labels": [
        "predictions",
        "MedInc",
        "HouseAge",
        "AveRooms",
        "AveBedrms",
        "Population",
        "AveOccup",
        "Latitude",
        "Longitude"
       ],
       "_view_count": null,
       "_view_module": "@jupyter-widgets/controls",
       "_view_module_version": "2.0.0",
       "_view_name": "DropdownView",
       "description": "Y-axis",
       "description_allow_html": false,
       "disabled": false,
       "index": 0,
       "layout": "IPY_MODEL_536571a6acad40fd9fe9b35054222ddf",
       "style": "IPY_MODEL_ed0e7d66527e4af0bebe5531bad97acd",
       "tabbable": null,
       "tooltip": null
      }
     },
     "057e89db8aa642f9b535149f850895d7": {
      "model_module": "@jupyter-widgets/base",
      "model_module_version": "2.0.0",
      "model_name": "LayoutModel",
      "state": {
       "_model_module": "@jupyter-widgets/base",
       "_model_module_version": "2.0.0",
       "_model_name": "LayoutModel",
       "_view_count": null,
       "_view_module": "@jupyter-widgets/base",
       "_view_module_version": "2.0.0",
       "_view_name": "LayoutView",
       "align_content": null,
       "align_items": null,
       "align_self": null,
       "border_bottom": null,
       "border_left": null,
       "border_right": null,
       "border_top": null,
       "bottom": null,
       "display": null,
       "flex": null,
       "flex_flow": null,
       "grid_area": null,
       "grid_auto_columns": null,
       "grid_auto_flow": null,
       "grid_auto_rows": null,
       "grid_column": null,
       "grid_gap": null,
       "grid_row": null,
       "grid_template_areas": null,
       "grid_template_columns": null,
       "grid_template_rows": null,
       "height": null,
       "justify_content": null,
       "justify_items": null,
       "left": null,
       "margin": null,
       "max_height": null,
       "max_width": null,
       "min_height": null,
       "min_width": null,
       "object_fit": null,
       "object_position": null,
       "order": null,
       "overflow": null,
       "padding": null,
       "right": null,
       "top": null,
       "visibility": null,
       "width": null
      }
     },
     "065ee17059f649919bcf1341413c3be8": {
      "model_module": "@jupyter-widgets/controls",
      "model_module_version": "2.0.0",
      "model_name": "HTMLStyleModel",
      "state": {
       "_model_module": "@jupyter-widgets/controls",
       "_model_module_version": "2.0.0",
       "_model_name": "HTMLStyleModel",
       "_view_count": null,
       "_view_module": "@jupyter-widgets/base",
       "_view_module_version": "2.0.0",
       "_view_name": "StyleView",
       "background": null,
       "description_width": "",
       "font_size": null,
       "text_color": null
      }
     },
     "072775e3bde748cdbbf32f458acad9dd": {
      "model_module": "@jupyter-widgets/base",
      "model_module_version": "2.0.0",
      "model_name": "LayoutModel",
      "state": {
       "_model_module": "@jupyter-widgets/base",
       "_model_module_version": "2.0.0",
       "_model_name": "LayoutModel",
       "_view_count": null,
       "_view_module": "@jupyter-widgets/base",
       "_view_module_version": "2.0.0",
       "_view_name": "LayoutView",
       "align_content": null,
       "align_items": null,
       "align_self": null,
       "border_bottom": null,
       "border_left": null,
       "border_right": null,
       "border_top": null,
       "bottom": null,
       "display": null,
       "flex": null,
       "flex_flow": null,
       "grid_area": null,
       "grid_auto_columns": null,
       "grid_auto_flow": null,
       "grid_auto_rows": null,
       "grid_column": null,
       "grid_gap": null,
       "grid_row": null,
       "grid_template_areas": null,
       "grid_template_columns": null,
       "grid_template_rows": null,
       "height": null,
       "justify_content": null,
       "justify_items": null,
       "left": null,
       "margin": null,
       "max_height": null,
       "max_width": null,
       "min_height": null,
       "min_width": null,
       "object_fit": null,
       "object_position": null,
       "order": null,
       "overflow": null,
       "padding": null,
       "right": null,
       "top": null,
       "visibility": null,
       "width": null
      }
     },
     "098ed6f099b942ed9c54ab0ee6eeaa56": {
      "model_module": "@jupyter-widgets/base",
      "model_module_version": "2.0.0",
      "model_name": "LayoutModel",
      "state": {
       "_model_module": "@jupyter-widgets/base",
       "_model_module_version": "2.0.0",
       "_model_name": "LayoutModel",
       "_view_count": null,
       "_view_module": "@jupyter-widgets/base",
       "_view_module_version": "2.0.0",
       "_view_name": "LayoutView",
       "align_content": null,
       "align_items": null,
       "align_self": null,
       "border_bottom": null,
       "border_left": null,
       "border_right": null,
       "border_top": null,
       "bottom": null,
       "display": null,
       "flex": null,
       "flex_flow": null,
       "grid_area": null,
       "grid_auto_columns": null,
       "grid_auto_flow": null,
       "grid_auto_rows": null,
       "grid_column": null,
       "grid_gap": null,
       "grid_row": null,
       "grid_template_areas": null,
       "grid_template_columns": null,
       "grid_template_rows": null,
       "height": null,
       "justify_content": null,
       "justify_items": null,
       "left": null,
       "margin": null,
       "max_height": null,
       "max_width": null,
       "min_height": null,
       "min_width": null,
       "object_fit": null,
       "object_position": null,
       "order": null,
       "overflow": null,
       "padding": null,
       "right": null,
       "top": null,
       "visibility": null,
       "width": null
      }
     },
     "0ad1cccfdae84fa09909936a13992797": {
      "model_module": "@jupyter-widgets/controls",
      "model_module_version": "2.0.0",
      "model_name": "ButtonStyleModel",
      "state": {
       "_model_module": "@jupyter-widgets/controls",
       "_model_module_version": "2.0.0",
       "_model_name": "ButtonStyleModel",
       "_view_count": null,
       "_view_module": "@jupyter-widgets/base",
       "_view_module_version": "2.0.0",
       "_view_name": "StyleView",
       "button_color": null,
       "font_family": null,
       "font_size": null,
       "font_style": null,
       "font_variant": null,
       "font_weight": null,
       "text_color": null,
       "text_decoration": null
      }
     },
     "11a0d107d4d44ff4a0a741fe263f5184": {
      "model_module": "@jupyter-widgets/controls",
      "model_module_version": "2.0.0",
      "model_name": "HTMLModel",
      "state": {
       "_dom_classes": [],
       "_model_module": "@jupyter-widgets/controls",
       "_model_module_version": "2.0.0",
       "_model_name": "HTMLModel",
       "_view_count": null,
       "_view_module": "@jupyter-widgets/controls",
       "_view_module_version": "2.0.0",
       "_view_name": "HTMLView",
       "description": "",
       "description_allow_html": false,
       "layout": "IPY_MODEL_f151c10c6d7e4f68859063a68341235b",
       "placeholder": "​",
       "style": "IPY_MODEL_ede8fd125f97444686da2eeb8ee9202f",
       "tabbable": null,
       "tooltip": null,
       "value": "<h3 style=\"text-align: center\">Model Predictions</h3>"
      }
     },
     "15bab46de6484d3697862323e5e86e78": {
      "model_module": "@jupyter-widgets/controls",
      "model_module_version": "2.0.0",
      "model_name": "DescriptionStyleModel",
      "state": {
       "_model_module": "@jupyter-widgets/controls",
       "_model_module_version": "2.0.0",
       "_model_name": "DescriptionStyleModel",
       "_view_count": null,
       "_view_module": "@jupyter-widgets/base",
       "_view_module_version": "2.0.0",
       "_view_name": "StyleView",
       "description_width": "initial"
      }
     },
     "1ff99e46522641f0bff2477108094d01": {
      "model_module": "@jupyter-widgets/controls",
      "model_module_version": "2.0.0",
      "model_name": "DescriptionStyleModel",
      "state": {
       "_model_module": "@jupyter-widgets/controls",
       "_model_module_version": "2.0.0",
       "_model_name": "DescriptionStyleModel",
       "_view_count": null,
       "_view_module": "@jupyter-widgets/base",
       "_view_module_version": "2.0.0",
       "_view_name": "StyleView",
       "description_width": ""
      }
     },
     "21b7c5ae2acc4257b9c4068a54ccc7f9": {
      "model_module": "@jupyter-widgets/controls",
      "model_module_version": "2.0.0",
      "model_name": "HTMLModel",
      "state": {
       "_dom_classes": [],
       "_model_module": "@jupyter-widgets/controls",
       "_model_module_version": "2.0.0",
       "_model_name": "HTMLModel",
       "_view_count": null,
       "_view_module": "@jupyter-widgets/controls",
       "_view_module_version": "2.0.0",
       "_view_name": "HTMLView",
       "description": "",
       "description_allow_html": false,
       "layout": "IPY_MODEL_057e89db8aa642f9b535149f850895d7",
       "placeholder": "​",
       "style": "IPY_MODEL_944d0d2cde744f0ba4c921e6581a9005",
       "tabbable": null,
       "tooltip": null,
       "value": "\n                <h2>Row Selection</h2>\n                Select a sample between 0 and 6191\n            "
      }
     },
     "24e8eac7d3054556953b78e713415463": {
      "model_module": "@jupyter-widgets/base",
      "model_module_version": "2.0.0",
      "model_name": "LayoutModel",
      "state": {
       "_model_module": "@jupyter-widgets/base",
       "_model_module_version": "2.0.0",
       "_model_name": "LayoutModel",
       "_view_count": null,
       "_view_module": "@jupyter-widgets/base",
       "_view_module_version": "2.0.0",
       "_view_name": "LayoutView",
       "align_content": null,
       "align_items": null,
       "align_self": null,
       "border_bottom": null,
       "border_left": null,
       "border_right": null,
       "border_top": null,
       "bottom": null,
       "display": null,
       "flex": null,
       "flex_flow": null,
       "grid_area": null,
       "grid_auto_columns": null,
       "grid_auto_flow": null,
       "grid_auto_rows": null,
       "grid_column": null,
       "grid_gap": null,
       "grid_row": null,
       "grid_template_areas": null,
       "grid_template_columns": null,
       "grid_template_rows": null,
       "height": null,
       "justify_content": null,
       "justify_items": null,
       "left": null,
       "margin": "10px 18px 10px 10px",
       "max_height": null,
       "max_width": null,
       "min_height": null,
       "min_width": null,
       "object_fit": null,
       "object_position": null,
       "order": null,
       "overflow": null,
       "padding": "10px",
       "right": null,
       "top": null,
       "visibility": null,
       "width": null
      }
     },
     "260c18aeb84042ec9487e5cecb3de629": {
      "model_module": "@jupyter-widgets/controls",
      "model_module_version": "2.0.0",
      "model_name": "HTMLStyleModel",
      "state": {
       "_model_module": "@jupyter-widgets/controls",
       "_model_module_version": "2.0.0",
       "_model_name": "HTMLStyleModel",
       "_view_count": null,
       "_view_module": "@jupyter-widgets/base",
       "_view_module_version": "2.0.0",
       "_view_name": "StyleView",
       "background": null,
       "description_width": "",
       "font_size": null,
       "text_color": null
      }
     },
     "262bc183227e41a9bdc441b35285a7c6": {
      "model_module": "@jupyter-widgets/controls",
      "model_module_version": "2.0.0",
      "model_name": "DescriptionStyleModel",
      "state": {
       "_model_module": "@jupyter-widgets/controls",
       "_model_module_version": "2.0.0",
       "_model_name": "DescriptionStyleModel",
       "_view_count": null,
       "_view_module": "@jupyter-widgets/base",
       "_view_module_version": "2.0.0",
       "_view_name": "StyleView",
       "description_width": "initial"
      }
     },
     "273107f12bbb4f0289e3322d172af395": {
      "model_module": "@jupyter-widgets/controls",
      "model_module_version": "2.0.0",
      "model_name": "DescriptionStyleModel",
      "state": {
       "_model_module": "@jupyter-widgets/controls",
       "_model_module_version": "2.0.0",
       "_model_name": "DescriptionStyleModel",
       "_view_count": null,
       "_view_module": "@jupyter-widgets/base",
       "_view_module_version": "2.0.0",
       "_view_name": "StyleView",
       "description_width": ""
      }
     },
     "2762b8902e8d4b77a9054ba31ec3b0c3": {
      "model_module": "@jupyter-widgets/base",
      "model_module_version": "2.0.0",
      "model_name": "LayoutModel",
      "state": {
       "_model_module": "@jupyter-widgets/base",
       "_model_module_version": "2.0.0",
       "_model_name": "LayoutModel",
       "_view_count": null,
       "_view_module": "@jupyter-widgets/base",
       "_view_module_version": "2.0.0",
       "_view_name": "LayoutView",
       "align_content": null,
       "align_items": null,
       "align_self": null,
       "border_bottom": null,
       "border_left": null,
       "border_right": null,
       "border_top": null,
       "bottom": null,
       "display": null,
       "flex": null,
       "flex_flow": null,
       "grid_area": null,
       "grid_auto_columns": null,
       "grid_auto_flow": null,
       "grid_auto_rows": null,
       "grid_column": null,
       "grid_gap": null,
       "grid_row": null,
       "grid_template_areas": null,
       "grid_template_columns": null,
       "grid_template_rows": null,
       "height": null,
       "justify_content": null,
       "justify_items": null,
       "left": null,
       "margin": null,
       "max_height": null,
       "max_width": null,
       "min_height": null,
       "min_width": null,
       "object_fit": null,
       "object_position": null,
       "order": null,
       "overflow": null,
       "padding": null,
       "right": null,
       "top": null,
       "visibility": null,
       "width": null
      }
     },
     "27b7f9cfd7074b428a9076f3bc263262": {
      "model_module": "@jupyter-widgets/controls",
      "model_module_version": "2.0.0",
      "model_name": "DescriptionStyleModel",
      "state": {
       "_model_module": "@jupyter-widgets/controls",
       "_model_module_version": "2.0.0",
       "_model_name": "DescriptionStyleModel",
       "_view_count": null,
       "_view_module": "@jupyter-widgets/base",
       "_view_module_version": "2.0.0",
       "_view_name": "StyleView",
       "description_width": ""
      }
     },
     "27bb32e391b64c1b9b8d135c51d082c1": {
      "model_module": "@jupyter-widgets/controls",
      "model_module_version": "2.0.0",
      "model_name": "HTMLStyleModel",
      "state": {
       "_model_module": "@jupyter-widgets/controls",
       "_model_module_version": "2.0.0",
       "_model_name": "HTMLStyleModel",
       "_view_count": null,
       "_view_module": "@jupyter-widgets/base",
       "_view_module_version": "2.0.0",
       "_view_name": "StyleView",
       "background": null,
       "description_width": "",
       "font_size": null,
       "text_color": null
      }
     },
     "28295fad3a81432bbb31a9782b8aa2e2": {
      "model_module": "@jupyter-widgets/base",
      "model_module_version": "2.0.0",
      "model_name": "LayoutModel",
      "state": {
       "_model_module": "@jupyter-widgets/base",
       "_model_module_version": "2.0.0",
       "_model_name": "LayoutModel",
       "_view_count": null,
       "_view_module": "@jupyter-widgets/base",
       "_view_module_version": "2.0.0",
       "_view_name": "LayoutView",
       "align_content": null,
       "align_items": null,
       "align_self": null,
       "border_bottom": null,
       "border_left": null,
       "border_right": null,
       "border_top": null,
       "bottom": null,
       "display": null,
       "flex": null,
       "flex_flow": null,
       "grid_area": null,
       "grid_auto_columns": null,
       "grid_auto_flow": null,
       "grid_auto_rows": null,
       "grid_column": null,
       "grid_gap": null,
       "grid_row": null,
       "grid_template_areas": null,
       "grid_template_columns": null,
       "grid_template_rows": null,
       "height": null,
       "justify_content": null,
       "justify_items": null,
       "left": null,
       "margin": null,
       "max_height": null,
       "max_width": null,
       "min_height": null,
       "min_width": null,
       "object_fit": null,
       "object_position": null,
       "order": null,
       "overflow": null,
       "padding": null,
       "right": null,
       "top": null,
       "visibility": null,
       "width": null
      }
     },
     "28891be6a82f4fee83efaa9801304fc4": {
      "model_module": "@jupyter-widgets/controls",
      "model_module_version": "2.0.0",
      "model_name": "HTMLStyleModel",
      "state": {
       "_model_module": "@jupyter-widgets/controls",
       "_model_module_version": "2.0.0",
       "_model_name": "HTMLStyleModel",
       "_view_count": null,
       "_view_module": "@jupyter-widgets/base",
       "_view_module_version": "2.0.0",
       "_view_name": "StyleView",
       "background": null,
       "description_width": "",
       "font_size": null,
       "text_color": null
      }
     },
     "28f758312a214aea940158d5fffd8c97": {
      "model_module": "@jupyter-widgets/base",
      "model_module_version": "2.0.0",
      "model_name": "LayoutModel",
      "state": {
       "_model_module": "@jupyter-widgets/base",
       "_model_module_version": "2.0.0",
       "_model_name": "LayoutModel",
       "_view_count": null,
       "_view_module": "@jupyter-widgets/base",
       "_view_module_version": "2.0.0",
       "_view_name": "LayoutView",
       "align_content": null,
       "align_items": null,
       "align_self": null,
       "border_bottom": null,
       "border_left": null,
       "border_right": null,
       "border_top": null,
       "bottom": null,
       "display": null,
       "flex": null,
       "flex_flow": null,
       "grid_area": null,
       "grid_auto_columns": null,
       "grid_auto_flow": null,
       "grid_auto_rows": null,
       "grid_column": null,
       "grid_gap": null,
       "grid_row": null,
       "grid_template_areas": null,
       "grid_template_columns": null,
       "grid_template_rows": null,
       "height": null,
       "justify_content": null,
       "justify_items": null,
       "left": null,
       "margin": null,
       "max_height": null,
       "max_width": null,
       "min_height": null,
       "min_width": null,
       "object_fit": null,
       "object_position": null,
       "order": null,
       "overflow": null,
       "padding": null,
       "right": null,
       "top": null,
       "visibility": null,
       "width": "1025px"
      }
     },
     "293c9d32a0304a1182b74b4b08521eda": {
      "model_module": "@jupyter-widgets/controls",
      "model_module_version": "2.0.0",
      "model_name": "HTMLModel",
      "state": {
       "_dom_classes": [],
       "_model_module": "@jupyter-widgets/controls",
       "_model_module_version": "2.0.0",
       "_model_name": "HTMLModel",
       "_view_count": null,
       "_view_module": "@jupyter-widgets/controls",
       "_view_module_version": "2.0.0",
       "_view_name": "HTMLView",
       "description": "",
       "description_allow_html": false,
       "layout": "IPY_MODEL_89ce5a562e414c7a991d6492f398fcf1",
       "placeholder": "​",
       "style": "IPY_MODEL_260c18aeb84042ec9487e5cecb3de629",
       "tabbable": null,
       "tooltip": null,
       "value": "<h2>Sample (Row: 0)</h2>"
      }
     },
     "2e75d9669a0e423d84c904b363138e86": {
      "model_module": "@jupyter-widgets/controls",
      "model_module_version": "2.0.0",
      "model_name": "DescriptionStyleModel",
      "state": {
       "_model_module": "@jupyter-widgets/controls",
       "_model_module_version": "2.0.0",
       "_model_name": "DescriptionStyleModel",
       "_view_count": null,
       "_view_module": "@jupyter-widgets/base",
       "_view_module_version": "2.0.0",
       "_view_name": "StyleView",
       "description_width": "initial"
      }
     },
     "36b564b27c974f02a9151890fde9a403": {
      "model_module": "@jupyter-widgets/controls",
      "model_module_version": "2.0.0",
      "model_name": "DropdownModel",
      "state": {
       "_dom_classes": [],
       "_model_module": "@jupyter-widgets/controls",
       "_model_module_version": "2.0.0",
       "_model_name": "DropdownModel",
       "_options_labels": [
        "Median Price"
       ],
       "_view_count": null,
       "_view_module": "@jupyter-widgets/controls",
       "_view_module_version": "2.0.0",
       "_view_name": "DropdownView",
       "description": "Labels",
       "description_allow_html": false,
       "disabled": true,
       "index": 0,
       "layout": "IPY_MODEL_9f6f031fcf924641b8ba3c374b20e03c",
       "style": "IPY_MODEL_c19bb9f2df18422c9002f0114ac49806",
       "tabbable": null,
       "tooltip": null
      }
     },
     "36e0eef1d71a493ca85c6795c2ad47b1": {
      "model_module": "@jupyter-widgets/controls",
      "model_module_version": "2.0.0",
      "model_name": "VBoxModel",
      "state": {
       "_dom_classes": [],
       "_model_module": "@jupyter-widgets/controls",
       "_model_module_version": "2.0.0",
       "_model_name": "VBoxModel",
       "_view_count": null,
       "_view_module": "@jupyter-widgets/controls",
       "_view_module_version": "2.0.0",
       "_view_name": "VBoxView",
       "box_style": "",
       "children": [
        "IPY_MODEL_81df99381a9c4003bf2c8c98c9f7486f",
        "IPY_MODEL_21b7c5ae2acc4257b9c4068a54ccc7f9",
        "IPY_MODEL_7bc9d624a9c24615a628846c9dda7779",
        "IPY_MODEL_293c9d32a0304a1182b74b4b08521eda",
        "IPY_MODEL_c919f811782b44aaae927c6617429ceb",
        "IPY_MODEL_59c4bcfb36f44110aa6be90b71072367"
       ],
       "layout": "IPY_MODEL_52111fe1ccdd451eb72bffe03a02d270",
       "tabbable": null,
       "tooltip": null
      }
     },
     "37aa1b95308a403bbe50fa5155c77836": {
      "model_module": "@jupyter-widgets/controls",
      "model_module_version": "2.0.0",
      "model_name": "FloatTextModel",
      "state": {
       "_dom_classes": [],
       "_model_module": "@jupyter-widgets/controls",
       "_model_module_version": "2.0.0",
       "_model_name": "FloatTextModel",
       "_view_count": null,
       "_view_module": "@jupyter-widgets/controls",
       "_view_module_version": "2.0.0",
       "_view_name": "FloatTextView",
       "continuous_update": false,
       "description": "HouseAge",
       "description_allow_html": false,
       "disabled": false,
       "layout": "IPY_MODEL_3af2067e75f740e7bfc516a54f6d3e7a",
       "step": null,
       "style": "IPY_MODEL_8ae07bc89a394028a56ce0b429644b16",
       "tabbable": null,
       "tooltip": null,
       "value": 31
      }
     },
     "3af2067e75f740e7bfc516a54f6d3e7a": {
      "model_module": "@jupyter-widgets/base",
      "model_module_version": "2.0.0",
      "model_name": "LayoutModel",
      "state": {
       "_model_module": "@jupyter-widgets/base",
       "_model_module_version": "2.0.0",
       "_model_name": "LayoutModel",
       "_view_count": null,
       "_view_module": "@jupyter-widgets/base",
       "_view_module_version": "2.0.0",
       "_view_name": "LayoutView",
       "align_content": null,
       "align_items": null,
       "align_self": null,
       "border_bottom": null,
       "border_left": null,
       "border_right": null,
       "border_top": null,
       "bottom": null,
       "display": null,
       "flex": null,
       "flex_flow": null,
       "grid_area": null,
       "grid_auto_columns": null,
       "grid_auto_flow": null,
       "grid_auto_rows": null,
       "grid_column": null,
       "grid_gap": null,
       "grid_row": null,
       "grid_template_areas": null,
       "grid_template_columns": null,
       "grid_template_rows": null,
       "height": null,
       "justify_content": null,
       "justify_items": null,
       "left": null,
       "margin": null,
       "max_height": null,
       "max_width": null,
       "min_height": null,
       "min_width": null,
       "object_fit": null,
       "object_position": null,
       "order": null,
       "overflow": null,
       "padding": null,
       "right": null,
       "top": null,
       "visibility": null,
       "width": null
      }
     },
     "3e3e1e68cf434015949febda42e68520": {
      "model_module": "@jupyter-widgets/controls",
      "model_module_version": "2.0.0",
      "model_name": "FloatTextModel",
      "state": {
       "_dom_classes": [],
       "_model_module": "@jupyter-widgets/controls",
       "_model_module_version": "2.0.0",
       "_model_name": "FloatTextModel",
       "_view_count": null,
       "_view_module": "@jupyter-widgets/controls",
       "_view_module_version": "2.0.0",
       "_view_name": "FloatTextView",
       "continuous_update": false,
       "description": "AveRooms",
       "description_allow_html": false,
       "disabled": false,
       "layout": "IPY_MODEL_019685e98ee0493baf72c4af5172f9ef",
       "step": null,
       "style": "IPY_MODEL_cb6cf7454d29442288388393476acf6d",
       "tabbable": null,
       "tooltip": null,
       "value": 2.8469284994964754
      }
     },
     "3f1279d8a15147f29b0d1028cc06556d": {
      "model_module": "@jupyter-widgets/base",
      "model_module_version": "2.0.0",
      "model_name": "LayoutModel",
      "state": {
       "_model_module": "@jupyter-widgets/base",
       "_model_module_version": "2.0.0",
       "_model_name": "LayoutModel",
       "_view_count": null,
       "_view_module": "@jupyter-widgets/base",
       "_view_module_version": "2.0.0",
       "_view_name": "LayoutView",
       "align_content": null,
       "align_items": null,
       "align_self": null,
       "border_bottom": null,
       "border_left": null,
       "border_right": null,
       "border_top": null,
       "bottom": null,
       "display": null,
       "flex": null,
       "flex_flow": null,
       "grid_area": null,
       "grid_auto_columns": null,
       "grid_auto_flow": null,
       "grid_auto_rows": null,
       "grid_column": null,
       "grid_gap": null,
       "grid_row": null,
       "grid_template_areas": null,
       "grid_template_columns": null,
       "grid_template_rows": null,
       "height": null,
       "justify_content": null,
       "justify_items": null,
       "left": null,
       "margin": null,
       "max_height": null,
       "max_width": null,
       "min_height": null,
       "min_width": null,
       "object_fit": null,
       "object_position": null,
       "order": null,
       "overflow": null,
       "padding": null,
       "right": null,
       "top": null,
       "visibility": null,
       "width": null
      }
     },
     "3f3d6aa82e74440cadf4d7625ee89746": {
      "model_module": "@jupyter-widgets/controls",
      "model_module_version": "2.0.0",
      "model_name": "HTMLModel",
      "state": {
       "_dom_classes": [],
       "_model_module": "@jupyter-widgets/controls",
       "_model_module_version": "2.0.0",
       "_model_name": "HTMLModel",
       "_view_count": null,
       "_view_module": "@jupyter-widgets/controls",
       "_view_module_version": "2.0.0",
       "_view_name": "HTMLView",
       "description": "",
       "description_allow_html": false,
       "layout": "IPY_MODEL_7e8597478dd24175b0756e34b145b126",
       "placeholder": "​",
       "style": "IPY_MODEL_4a33dbce152d4e7aa65f9bf24bd5b39b",
       "tabbable": null,
       "tooltip": null,
       "value": ""
      }
     },
     "4104443c55144f49b174f9e166b7420a": {
      "model_module": "@jupyter-widgets/base",
      "model_module_version": "2.0.0",
      "model_name": "LayoutModel",
      "state": {
       "_model_module": "@jupyter-widgets/base",
       "_model_module_version": "2.0.0",
       "_model_name": "LayoutModel",
       "_view_count": null,
       "_view_module": "@jupyter-widgets/base",
       "_view_module_version": "2.0.0",
       "_view_name": "LayoutView",
       "align_content": null,
       "align_items": null,
       "align_self": null,
       "border_bottom": null,
       "border_left": null,
       "border_right": null,
       "border_top": null,
       "bottom": null,
       "display": null,
       "flex": null,
       "flex_flow": null,
       "grid_area": null,
       "grid_auto_columns": null,
       "grid_auto_flow": null,
       "grid_auto_rows": null,
       "grid_column": null,
       "grid_gap": null,
       "grid_row": null,
       "grid_template_areas": null,
       "grid_template_columns": null,
       "grid_template_rows": null,
       "height": null,
       "justify_content": null,
       "justify_items": null,
       "left": null,
       "margin": "10px 18px 18px 10px",
       "max_height": null,
       "max_width": null,
       "min_height": null,
       "min_width": null,
       "object_fit": null,
       "object_position": null,
       "order": null,
       "overflow": null,
       "padding": "10px",
       "right": null,
       "top": null,
       "visibility": null,
       "width": null
      }
     },
     "43c53051733f4a18a3943b35f1276aa1": {
      "model_module": "@jupyter-widgets/controls",
      "model_module_version": "2.0.0",
      "model_name": "HTMLStyleModel",
      "state": {
       "_model_module": "@jupyter-widgets/controls",
       "_model_module_version": "2.0.0",
       "_model_name": "HTMLStyleModel",
       "_view_count": null,
       "_view_module": "@jupyter-widgets/base",
       "_view_module_version": "2.0.0",
       "_view_name": "StyleView",
       "background": null,
       "description_width": "",
       "font_size": null,
       "text_color": null
      }
     },
     "454db7b647914167a6d09043e53e1b64": {
      "model_module": "@jupyter-widgets/controls",
      "model_module_version": "2.0.0",
      "model_name": "VBoxModel",
      "state": {
       "_dom_classes": [],
       "_model_module": "@jupyter-widgets/controls",
       "_model_module_version": "2.0.0",
       "_model_name": "VBoxModel",
       "_view_count": null,
       "_view_module": "@jupyter-widgets/controls",
       "_view_module_version": "2.0.0",
       "_view_name": "VBoxView",
       "box_style": "",
       "children": [
        "IPY_MODEL_ca5dbfb4223b4826bec9cda7be30bb93",
        "IPY_MODEL_65e3096197104875ad1680b54a09af89",
        "IPY_MODEL_ed0ccd692f094c909e117ebf41e6108f",
        "IPY_MODEL_49489836d3ed4af2bebc68b6f9612b63"
       ],
       "layout": "IPY_MODEL_24e8eac7d3054556953b78e713415463",
       "tabbable": null,
       "tooltip": null
      }
     },
     "46ada92c40f34c678090da35b446f32b": {
      "model_module": "@jupyter-widgets/controls",
      "model_module_version": "2.0.0",
      "model_name": "DropdownModel",
      "state": {
       "_dom_classes": [],
       "_model_module": "@jupyter-widgets/controls",
       "_model_module_version": "2.0.0",
       "_model_name": "DropdownModel",
       "_options_labels": [
        "MedInc",
        "HouseAge",
        "AveRooms",
        "AveBedrms",
        "Population",
        "AveOccup",
        "Latitude",
        "Longitude"
       ],
       "_view_count": null,
       "_view_module": "@jupyter-widgets/controls",
       "_view_module_version": "2.0.0",
       "_view_name": "DropdownView",
       "description": "X-axis",
       "description_allow_html": false,
       "disabled": false,
       "index": 0,
       "layout": "IPY_MODEL_01cc46e72e584ffdbbdf1a6f04568289",
       "style": "IPY_MODEL_2e75d9669a0e423d84c904b363138e86",
       "tabbable": null,
       "tooltip": null
      }
     },
     "47fb2bcf04334693893450046e118ab9": {
      "model_module": "@jupyter-widgets/controls",
      "model_module_version": "2.0.0",
      "model_name": "FloatTextModel",
      "state": {
       "_dom_classes": [],
       "_model_module": "@jupyter-widgets/controls",
       "_model_module_version": "2.0.0",
       "_model_name": "FloatTextModel",
       "_view_count": null,
       "_view_module": "@jupyter-widgets/controls",
       "_view_module_version": "2.0.0",
       "_view_name": "FloatTextView",
       "continuous_update": false,
       "description": "Longitude",
       "description_allow_html": false,
       "disabled": false,
       "layout": "IPY_MODEL_5b632462f7d34ac18bc4b189558fc1e0",
       "step": null,
       "style": "IPY_MODEL_d652e62be559445a9f12ed4764c0388c",
       "tabbable": null,
       "tooltip": null,
       "value": -118.31
      }
     },
     "48cfa388058e4a75ae7d0eb2fca21c61": {
      "model_module": "@jupyter-widgets/controls",
      "model_module_version": "2.0.0",
      "model_name": "DropdownModel",
      "state": {
       "_dom_classes": [],
       "_model_module": "@jupyter-widgets/controls",
       "_model_module_version": "2.0.0",
       "_model_name": "DropdownModel",
       "_options_labels": [
        "None",
        "quartile",
        "decile",
        "percentile"
       ],
       "_view_count": null,
       "_view_module": "@jupyter-widgets/controls",
       "_view_module_version": "2.0.0",
       "_view_name": "DropdownView",
       "description": "Binning method",
       "description_allow_html": false,
       "disabled": true,
       "index": 0,
       "layout": "IPY_MODEL_db50a84673b845d6987e00ef35ef620c",
       "style": "IPY_MODEL_262bc183227e41a9bdc441b35285a7c6",
       "tabbable": null,
       "tooltip": null
      }
     },
     "49489836d3ed4af2bebc68b6f9612b63": {
      "buffers": [
       {
        "data": "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",
        "encoding": "base64",
        "path": [
         "_data",
         0,
         "x",
         "buffer"
        ]
       },
       {
        "data": "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",
        "encoding": "base64",
        "path": [
         "_data",
         0,
         "y",
         "buffer"
        ]
       }
      ],
      "model_module": "jupyterlab-plotly",
      "model_module_version": "^5.4.0",
      "model_name": "FigureModel",
      "state": {
       "_config": {
        "plotlyServerURL": "https://plot.ly"
       },
       "_data": [
        {
         "hovertemplate": "MedInc: %{x}<br>predictions: %{y}",
         "marker": {
          "colorscale": [
           [
            0,
            "rgb(142,1,82)"
           ],
           [
            0.1,
            "rgb(197,27,125)"
           ],
           [
            0.2,
            "rgb(222,119,174)"
           ],
           [
            0.3,
            "rgb(241,182,218)"
           ],
           [
            0.4,
            "rgb(253,224,239)"
           ],
           [
            0.5,
            "rgb(247,247,247)"
           ],
           [
            0.6,
            "rgb(230,245,208)"
           ],
           [
            0.7,
            "rgb(184,225,134)"
           ],
           [
            0.8,
            "rgb(127,188,65)"
           ],
           [
            0.9,
            "rgb(77,146,33)"
           ],
           [
            1,
            "rgb(39,100,25)"
           ]
          ],
          "line": {
           "color": "white"
          },
          "showscale": false,
          "symbol": 0
         },
         "mode": "markers",
         "name": "",
         "showlegend": false,
         "type": "scatter",
         "uid": "6025a729-e9f9-41e2-a425-f10367601f3d",
         "x": {
          "buffer": {},
          "dtype": "float64",
          "shape": [
           6192
          ]
         },
         "y": {
          "buffer": {},
          "dtype": "float64",
          "shape": [
           6192
          ]
         }
        }
       ],
       "_dom_classes": [],
       "_js2py_layoutDelta": {},
       "_js2py_pointsCallback": {},
       "_js2py_relayout": {},
       "_js2py_restyle": {},
       "_js2py_traceDeltas": {},
       "_js2py_update": {},
       "_last_layout_edit_id": 0,
       "_last_trace_edit_id": 0,
       "_layout": {
        "height": 600,
        "legend": {
         "itemsizing": "constant"
        },
        "margin": {
         "b": 50,
         "t": 50
        },
        "plot_bgcolor": "rgba(0,0,0,0)",
        "template": {
         "data": {
          "bar": [
           {
            "error_x": {
             "color": "#2a3f5f"
            },
            "error_y": {
             "color": "#2a3f5f"
            },
            "marker": {
             "line": {
              "color": "#E5ECF6",
              "width": 0.5
             },
             "pattern": {
              "fillmode": "overlay",
              "size": 10,
              "solidity": 0.2
             }
            },
            "type": "bar"
           }
          ],
          "barpolar": [
           {
            "marker": {
             "line": {
              "color": "#E5ECF6",
              "width": 0.5
             },
             "pattern": {
              "fillmode": "overlay",
              "size": 10,
              "solidity": 0.2
             }
            },
            "type": "barpolar"
           }
          ],
          "carpet": [
           {
            "aaxis": {
             "endlinecolor": "#2a3f5f",
             "gridcolor": "white",
             "linecolor": "white",
             "minorgridcolor": "white",
             "startlinecolor": "#2a3f5f"
            },
            "baxis": {
             "endlinecolor": "#2a3f5f",
             "gridcolor": "white",
             "linecolor": "white",
             "minorgridcolor": "white",
             "startlinecolor": "#2a3f5f"
            },
            "type": "carpet"
           }
          ],
          "choropleth": [
           {
            "colorbar": {
             "outlinewidth": 0,
             "ticks": ""
            },
            "type": "choropleth"
           }
          ],
          "contour": [
           {
            "colorbar": {
             "outlinewidth": 0,
             "ticks": ""
            },
            "colorscale": [
             [
              0,
              "#0d0887"
             ],
             [
              0.1111111111111111,
              "#46039f"
             ],
             [
              0.2222222222222222,
              "#7201a8"
             ],
             [
              0.3333333333333333,
              "#9c179e"
             ],
             [
              0.4444444444444444,
              "#bd3786"
             ],
             [
              0.5555555555555556,
              "#d8576b"
             ],
             [
              0.6666666666666666,
              "#ed7953"
             ],
             [
              0.7777777777777778,
              "#fb9f3a"
             ],
             [
              0.8888888888888888,
              "#fdca26"
             ],
             [
              1,
              "#f0f921"
             ]
            ],
            "type": "contour"
           }
          ],
          "contourcarpet": [
           {
            "colorbar": {
             "outlinewidth": 0,
             "ticks": ""
            },
            "type": "contourcarpet"
           }
          ],
          "heatmap": [
           {
            "colorbar": {
             "outlinewidth": 0,
             "ticks": ""
            },
            "colorscale": [
             [
              0,
              "#0d0887"
             ],
             [
              0.1111111111111111,
              "#46039f"
             ],
             [
              0.2222222222222222,
              "#7201a8"
             ],
             [
              0.3333333333333333,
              "#9c179e"
             ],
             [
              0.4444444444444444,
              "#bd3786"
             ],
             [
              0.5555555555555556,
              "#d8576b"
             ],
             [
              0.6666666666666666,
              "#ed7953"
             ],
             [
              0.7777777777777778,
              "#fb9f3a"
             ],
             [
              0.8888888888888888,
              "#fdca26"
             ],
             [
              1,
              "#f0f921"
             ]
            ],
            "type": "heatmap"
           }
          ],
          "heatmapgl": [
           {
            "colorbar": {
             "outlinewidth": 0,
             "ticks": ""
            },
            "colorscale": [
             [
              0,
              "#0d0887"
             ],
             [
              0.1111111111111111,
              "#46039f"
             ],
             [
              0.2222222222222222,
              "#7201a8"
             ],
             [
              0.3333333333333333,
              "#9c179e"
             ],
             [
              0.4444444444444444,
              "#bd3786"
             ],
             [
              0.5555555555555556,
              "#d8576b"
             ],
             [
              0.6666666666666666,
              "#ed7953"
             ],
             [
              0.7777777777777778,
              "#fb9f3a"
             ],
             [
              0.8888888888888888,
              "#fdca26"
             ],
             [
              1,
              "#f0f921"
             ]
            ],
            "type": "heatmapgl"
           }
          ],
          "histogram": [
           {
            "marker": {
             "pattern": {
              "fillmode": "overlay",
              "size": 10,
              "solidity": 0.2
             }
            },
            "type": "histogram"
           }
          ],
          "histogram2d": [
           {
            "colorbar": {
             "outlinewidth": 0,
             "ticks": ""
            },
            "colorscale": [
             [
              0,
              "#0d0887"
             ],
             [
              0.1111111111111111,
              "#46039f"
             ],
             [
              0.2222222222222222,
              "#7201a8"
             ],
             [
              0.3333333333333333,
              "#9c179e"
             ],
             [
              0.4444444444444444,
              "#bd3786"
             ],
             [
              0.5555555555555556,
              "#d8576b"
             ],
             [
              0.6666666666666666,
              "#ed7953"
             ],
             [
              0.7777777777777778,
              "#fb9f3a"
             ],
             [
              0.8888888888888888,
              "#fdca26"
             ],
             [
              1,
              "#f0f921"
             ]
            ],
            "type": "histogram2d"
           }
          ],
          "histogram2dcontour": [
           {
            "colorbar": {
             "outlinewidth": 0,
             "ticks": ""
            },
            "colorscale": [
             [
              0,
              "#0d0887"
             ],
             [
              0.1111111111111111,
              "#46039f"
             ],
             [
              0.2222222222222222,
              "#7201a8"
             ],
             [
              0.3333333333333333,
              "#9c179e"
             ],
             [
              0.4444444444444444,
              "#bd3786"
             ],
             [
              0.5555555555555556,
              "#d8576b"
             ],
             [
              0.6666666666666666,
              "#ed7953"
             ],
             [
              0.7777777777777778,
              "#fb9f3a"
             ],
             [
              0.8888888888888888,
              "#fdca26"
             ],
             [
              1,
              "#f0f921"
             ]
            ],
            "type": "histogram2dcontour"
           }
          ],
          "mesh3d": [
           {
            "colorbar": {
             "outlinewidth": 0,
             "ticks": ""
            },
            "type": "mesh3d"
           }
          ],
          "parcoords": [
           {
            "line": {
             "colorbar": {
              "outlinewidth": 0,
              "ticks": ""
             }
            },
            "type": "parcoords"
           }
          ],
          "pie": [
           {
            "automargin": true,
            "type": "pie"
           }
          ],
          "scatter": [
           {
            "marker": {
             "colorbar": {
              "outlinewidth": 0,
              "ticks": ""
             }
            },
            "type": "scatter"
           }
          ],
          "scatter3d": [
           {
            "line": {
             "colorbar": {
              "outlinewidth": 0,
              "ticks": ""
             }
            },
            "marker": {
             "colorbar": {
              "outlinewidth": 0,
              "ticks": ""
             }
            },
            "type": "scatter3d"
           }
          ],
          "scattercarpet": [
           {
            "marker": {
             "colorbar": {
              "outlinewidth": 0,
              "ticks": ""
             }
            },
            "type": "scattercarpet"
           }
          ],
          "scattergeo": [
           {
            "marker": {
             "colorbar": {
              "outlinewidth": 0,
              "ticks": ""
             }
            },
            "type": "scattergeo"
           }
          ],
          "scattergl": [
           {
            "marker": {
             "colorbar": {
              "outlinewidth": 0,
              "ticks": ""
             }
            },
            "type": "scattergl"
           }
          ],
          "scattermapbox": [
           {
            "marker": {
             "colorbar": {
              "outlinewidth": 0,
              "ticks": ""
             }
            },
            "type": "scattermapbox"
           }
          ],
          "scatterpolar": [
           {
            "marker": {
             "colorbar": {
              "outlinewidth": 0,
              "ticks": ""
             }
            },
            "type": "scatterpolar"
           }
          ],
          "scatterpolargl": [
           {
            "marker": {
             "colorbar": {
              "outlinewidth": 0,
              "ticks": ""
             }
            },
            "type": "scatterpolargl"
           }
          ],
          "scatterternary": [
           {
            "marker": {
             "colorbar": {
              "outlinewidth": 0,
              "ticks": ""
             }
            },
            "type": "scatterternary"
           }
          ],
          "surface": [
           {
            "colorbar": {
             "outlinewidth": 0,
             "ticks": ""
            },
            "colorscale": [
             [
              0,
              "#0d0887"
             ],
             [
              0.1111111111111111,
              "#46039f"
             ],
             [
              0.2222222222222222,
              "#7201a8"
             ],
             [
              0.3333333333333333,
              "#9c179e"
             ],
             [
              0.4444444444444444,
              "#bd3786"
             ],
             [
              0.5555555555555556,
              "#d8576b"
             ],
             [
              0.6666666666666666,
              "#ed7953"
             ],
             [
              0.7777777777777778,
              "#fb9f3a"
             ],
             [
              0.8888888888888888,
              "#fdca26"
             ],
             [
              1,
              "#f0f921"
             ]
            ],
            "type": "surface"
           }
          ],
          "table": [
           {
            "cells": {
             "fill": {
              "color": "#EBF0F8"
             },
             "line": {
              "color": "white"
             }
            },
            "header": {
             "fill": {
              "color": "#C8D4E3"
             },
             "line": {
              "color": "white"
             }
            },
            "type": "table"
           }
          ]
         },
         "layout": {
          "annotationdefaults": {
           "arrowcolor": "#2a3f5f",
           "arrowhead": 0,
           "arrowwidth": 1
          },
          "autotypenumbers": "strict",
          "coloraxis": {
           "colorbar": {
            "outlinewidth": 0,
            "ticks": ""
           }
          },
          "colorscale": {
           "diverging": [
            [
             0,
             "#8e0152"
            ],
            [
             0.1,
             "#c51b7d"
            ],
            [
             0.2,
             "#de77ae"
            ],
            [
             0.3,
             "#f1b6da"
            ],
            [
             0.4,
             "#fde0ef"
            ],
            [
             0.5,
             "#f7f7f7"
            ],
            [
             0.6,
             "#e6f5d0"
            ],
            [
             0.7,
             "#b8e186"
            ],
            [
             0.8,
             "#7fbc41"
            ],
            [
             0.9,
             "#4d9221"
            ],
            [
             1,
             "#276419"
            ]
           ],
           "sequential": [
            [
             0,
             "#0d0887"
            ],
            [
             0.1111111111111111,
             "#46039f"
            ],
            [
             0.2222222222222222,
             "#7201a8"
            ],
            [
             0.3333333333333333,
             "#9c179e"
            ],
            [
             0.4444444444444444,
             "#bd3786"
            ],
            [
             0.5555555555555556,
             "#d8576b"
            ],
            [
             0.6666666666666666,
             "#ed7953"
            ],
            [
             0.7777777777777778,
             "#fb9f3a"
            ],
            [
             0.8888888888888888,
             "#fdca26"
            ],
            [
             1,
             "#f0f921"
            ]
           ],
           "sequentialminus": [
            [
             0,
             "#0d0887"
            ],
            [
             0.1111111111111111,
             "#46039f"
            ],
            [
             0.2222222222222222,
             "#7201a8"
            ],
            [
             0.3333333333333333,
             "#9c179e"
            ],
            [
             0.4444444444444444,
             "#bd3786"
            ],
            [
             0.5555555555555556,
             "#d8576b"
            ],
            [
             0.6666666666666666,
             "#ed7953"
            ],
            [
             0.7777777777777778,
             "#fb9f3a"
            ],
            [
             0.8888888888888888,
             "#fdca26"
            ],
            [
             1,
             "#f0f921"
            ]
           ]
          },
          "colorway": [
           "#636efa",
           "#EF553B",
           "#00cc96",
           "#ab63fa",
           "#FFA15A",
           "#19d3f3",
           "#FF6692",
           "#B6E880",
           "#FF97FF",
           "#FECB52"
          ],
          "font": {
           "color": "#2a3f5f"
          },
          "geo": {
           "bgcolor": "white",
           "lakecolor": "white",
           "landcolor": "#E5ECF6",
           "showlakes": true,
           "showland": true,
           "subunitcolor": "white"
          },
          "hoverlabel": {
           "align": "left"
          },
          "hovermode": "closest",
          "mapbox": {
           "style": "light"
          },
          "paper_bgcolor": "white",
          "plot_bgcolor": "#E5ECF6",
          "polar": {
           "angularaxis": {
            "gridcolor": "white",
            "linecolor": "white",
            "ticks": ""
           },
           "bgcolor": "#E5ECF6",
           "radialaxis": {
            "gridcolor": "white",
            "linecolor": "white",
            "ticks": ""
           }
          },
          "scene": {
           "xaxis": {
            "backgroundcolor": "#E5ECF6",
            "gridcolor": "white",
            "gridwidth": 2,
            "linecolor": "white",
            "showbackground": true,
            "ticks": "",
            "zerolinecolor": "white"
           },
           "yaxis": {
            "backgroundcolor": "#E5ECF6",
            "gridcolor": "white",
            "gridwidth": 2,
            "linecolor": "white",
            "showbackground": true,
            "ticks": "",
            "zerolinecolor": "white"
           },
           "zaxis": {
            "backgroundcolor": "#E5ECF6",
            "gridcolor": "white",
            "gridwidth": 2,
            "linecolor": "white",
            "showbackground": true,
            "ticks": "",
            "zerolinecolor": "white"
           }
          },
          "shapedefaults": {
           "line": {
            "color": "#2a3f5f"
           }
          },
          "ternary": {
           "aaxis": {
            "gridcolor": "white",
            "linecolor": "white",
            "ticks": ""
           },
           "baxis": {
            "gridcolor": "white",
            "linecolor": "white",
            "ticks": ""
           },
           "bgcolor": "#E5ECF6",
           "caxis": {
            "gridcolor": "white",
            "linecolor": "white",
            "ticks": ""
           }
          },
          "title": {
           "x": 0.05
          },
          "xaxis": {
           "automargin": true,
           "gridcolor": "white",
           "linecolor": "white",
           "ticks": "",
           "title": {
            "standoff": 15
           },
           "zerolinecolor": "white",
           "zerolinewidth": 2
          },
          "yaxis": {
           "automargin": true,
           "gridcolor": "white",
           "linecolor": "white",
           "ticks": "",
           "title": {
            "standoff": 15
           },
           "zerolinecolor": "white",
           "zerolinewidth": 2
          }
         }
        },
        "title": {
         "x": 0.5
        },
        "xaxis": {
         "categoryorder": "category ascending",
         "gridcolor": "LightGrey",
         "linecolor": "Grey",
         "linewidth": 1,
         "mirror": false,
         "showline": true,
         "showticklabels": true,
         "side": "bottom",
         "title": {
          "text": "MedInc"
         },
         "visible": true,
         "zeroline": true,
         "zerolinecolor": "DarkGrey",
         "zerolinewidth": 1
        },
        "yaxis": {
         "categoryorder": "category ascending",
         "gridcolor": "LightGrey",
         "linecolor": "Grey",
         "linewidth": 1,
         "mirror": false,
         "showline": true,
         "showticklabels": true,
         "side": "left",
         "title": {
          "text": "predictions"
         },
         "visible": true,
         "zeroline": true,
         "zerolinecolor": "DarkGrey",
         "zerolinewidth": 1
        }
       },
       "_model_module": "jupyterlab-plotly",
       "_model_module_version": "^5.4.0",
       "_model_name": "FigureModel",
       "_py2js_addTraces": {},
       "_py2js_animate": {},
       "_py2js_deleteTraces": {},
       "_py2js_moveTraces": {},
       "_py2js_relayout": {},
       "_py2js_removeLayoutProps": {},
       "_py2js_removeTraceProps": {},
       "_py2js_restyle": {},
       "_py2js_update": {},
       "_view_count": 0,
       "_view_module": "jupyterlab-plotly",
       "_view_module_version": "^5.4.0",
       "_view_name": "FigureView",
       "tabbable": null,
       "tooltip": null
      }
     },
     "4a33dbce152d4e7aa65f9bf24bd5b39b": {
      "model_module": "@jupyter-widgets/controls",
      "model_module_version": "2.0.0",
      "model_name": "HTMLStyleModel",
      "state": {
       "_model_module": "@jupyter-widgets/controls",
       "_model_module_version": "2.0.0",
       "_model_name": "HTMLStyleModel",
       "_view_count": null,
       "_view_module": "@jupyter-widgets/base",
       "_view_module_version": "2.0.0",
       "_view_name": "StyleView",
       "background": null,
       "description_width": "",
       "font_size": null,
       "text_color": null
      }
     },
     "4f25151c22de4916996fafd8373af47c": {
      "model_module": "@jupyter-widgets/base",
      "model_module_version": "2.0.0",
      "model_name": "LayoutModel",
      "state": {
       "_model_module": "@jupyter-widgets/base",
       "_model_module_version": "2.0.0",
       "_model_name": "LayoutModel",
       "_view_count": null,
       "_view_module": "@jupyter-widgets/base",
       "_view_module_version": "2.0.0",
       "_view_name": "LayoutView",
       "align_content": null,
       "align_items": null,
       "align_self": null,
       "border_bottom": null,
       "border_left": null,
       "border_right": null,
       "border_top": null,
       "bottom": null,
       "display": null,
       "flex": null,
       "flex_flow": null,
       "grid_area": null,
       "grid_auto_columns": null,
       "grid_auto_flow": null,
       "grid_auto_rows": null,
       "grid_column": null,
       "grid_gap": null,
       "grid_row": null,
       "grid_template_areas": null,
       "grid_template_columns": null,
       "grid_template_rows": null,
       "height": null,
       "justify_content": null,
       "justify_items": null,
       "left": null,
       "margin": null,
       "max_height": null,
       "max_width": null,
       "min_height": null,
       "min_width": null,
       "object_fit": null,
       "object_position": null,
       "order": null,
       "overflow": null,
       "padding": null,
       "right": null,
       "top": null,
       "visibility": null,
       "width": "initial"
      }
     },
     "5118ce85aba34a2ea97349b83ef73bb8": {
      "model_module": "@jupyter-widgets/controls",
      "model_module_version": "2.0.0",
      "model_name": "HBoxModel",
      "state": {
       "_dom_classes": [],
       "_model_module": "@jupyter-widgets/controls",
       "_model_module_version": "2.0.0",
       "_model_name": "HBoxModel",
       "_view_count": null,
       "_view_module": "@jupyter-widgets/controls",
       "_view_module_version": "2.0.0",
       "_view_name": "HBoxView",
       "box_style": "",
       "children": [
        "IPY_MODEL_7f61dd9f588245d0b532051d098ab5d9",
        "IPY_MODEL_e32983bb6d064708bf4a6550681896f3"
       ],
       "layout": "IPY_MODEL_91431f81f30648ac9e049b99e17d4f5e",
       "tabbable": null,
       "tooltip": null
      }
     },
     "512914b5208a449182a96b3760ba0812": {
      "model_module": "@jupyter-widgets/controls",
      "model_module_version": "2.0.0",
      "model_name": "HTMLModel",
      "state": {
       "_dom_classes": [],
       "_model_module": "@jupyter-widgets/controls",
       "_model_module_version": "2.0.0",
       "_model_name": "HTMLModel",
       "_view_count": null,
       "_view_module": "@jupyter-widgets/controls",
       "_view_module_version": "2.0.0",
       "_view_name": "HTMLView",
       "description": "",
       "description_allow_html": false,
       "layout": "IPY_MODEL_f00eea9e4e0844f5b57be47fc5551f99",
       "placeholder": "​",
       "style": "IPY_MODEL_74da2cffce3649bfb8c7bc554d20608f",
       "tabbable": null,
       "tooltip": null,
       "value": "<style type=\"text/css\">\n#T_f33f7 thead th {\n  border-bottom: 1px solid #DDD;\n  background-color: #F5F5F5;\n  min-width: 20px;\n  padding: 0 10px;\n  text-align: right;\n}\n#T_f33f7 tbody th {\n  border-bottom: 1px solid #DDD;\n  background-color: #F5F5F5;\n  min-width: 115px;\n  padding: 0 10px;\n  text-align: right;\n}\n#T_f33f7 td {\n  text-align: right;\n  padding: 0 10px;\n}\n#T_f33f7 tr:nth-child(even) {\n  background-color: #F9F9F9;\n}\n#T_f33f7  {\n  border-collapse: collapse;\n  border: 1px solid #DDD;\n}\n</style>\n<table id=\"T_f33f7\">\n  <thead>\n    <tr>\n      <th class=\"blank level0\" >&nbsp;</th>\n      <th id=\"T_f33f7_level0_col0\" class=\"col_heading level0 col0\" >Prediction (True value: 3.6)</th>\n    </tr>\n  </thead>\n  <tbody>\n    <tr>\n      <th id=\"T_f33f7_level0_row0\" class=\"row_heading level0 row0\" >Original Sample</th>\n      <td id=\"T_f33f7_row0_col0\" class=\"data row0 col0\" >3.0662</td>\n    </tr>\n    <tr>\n      <th id=\"T_f33f7_level0_row1\" class=\"row_heading level0 row1\" >Modified Sample</th>\n      <td id=\"T_f33f7_row1_col0\" class=\"data row1 col0\" >3.0662</td>\n    </tr>\n  </tbody>\n</table>\n"
      }
     },
     "52111fe1ccdd451eb72bffe03a02d270": {
      "model_module": "@jupyter-widgets/base",
      "model_module_version": "2.0.0",
      "model_name": "LayoutModel",
      "state": {
       "_model_module": "@jupyter-widgets/base",
       "_model_module_version": "2.0.0",
       "_model_name": "LayoutModel",
       "_view_count": null,
       "_view_module": "@jupyter-widgets/base",
       "_view_module_version": "2.0.0",
       "_view_name": "LayoutView",
       "align_content": null,
       "align_items": null,
       "align_self": null,
       "border_bottom": null,
       "border_left": null,
       "border_right": null,
       "border_top": null,
       "bottom": null,
       "display": null,
       "flex": null,
       "flex_flow": null,
       "grid_area": null,
       "grid_auto_columns": null,
       "grid_auto_flow": null,
       "grid_auto_rows": null,
       "grid_column": null,
       "grid_gap": null,
       "grid_row": null,
       "grid_template_areas": null,
       "grid_template_columns": null,
       "grid_template_rows": null,
       "height": null,
       "justify_content": null,
       "justify_items": null,
       "left": null,
       "margin": "10px 18px 10px 10px",
       "max_height": null,
       "max_width": null,
       "min_height": null,
       "min_width": null,
       "object_fit": null,
       "object_position": null,
       "order": null,
       "overflow": null,
       "padding": "10px",
       "right": null,
       "top": null,
       "visibility": null,
       "width": null
      }
     },
     "536571a6acad40fd9fe9b35054222ddf": {
      "model_module": "@jupyter-widgets/base",
      "model_module_version": "2.0.0",
      "model_name": "LayoutModel",
      "state": {
       "_model_module": "@jupyter-widgets/base",
       "_model_module_version": "2.0.0",
       "_model_name": "LayoutModel",
       "_view_count": null,
       "_view_module": "@jupyter-widgets/base",
       "_view_module_version": "2.0.0",
       "_view_name": "LayoutView",
       "align_content": null,
       "align_items": null,
       "align_self": null,
       "border_bottom": null,
       "border_left": null,
       "border_right": null,
       "border_top": null,
       "bottom": null,
       "display": null,
       "flex": null,
       "flex_flow": null,
       "grid_area": null,
       "grid_auto_columns": null,
       "grid_auto_flow": null,
       "grid_auto_rows": null,
       "grid_column": null,
       "grid_gap": null,
       "grid_row": null,
       "grid_template_areas": null,
       "grid_template_columns": null,
       "grid_template_rows": null,
       "height": null,
       "justify_content": null,
       "justify_items": null,
       "left": null,
       "margin": null,
       "max_height": null,
       "max_width": null,
       "min_height": null,
       "min_width": null,
       "object_fit": null,
       "object_position": null,
       "order": null,
       "overflow": null,
       "padding": null,
       "right": null,
       "top": null,
       "visibility": null,
       "width": "initial"
      }
     },
     "570fb8b9e201493789bc8cf91ac4d6db": {
      "model_module": "@jupyter-widgets/controls",
      "model_module_version": "2.0.0",
      "model_name": "CheckboxStyleModel",
      "state": {
       "_model_module": "@jupyter-widgets/controls",
       "_model_module_version": "2.0.0",
       "_model_name": "CheckboxStyleModel",
       "_view_count": null,
       "_view_module": "@jupyter-widgets/base",
       "_view_module_version": "2.0.0",
       "_view_name": "StyleView",
       "background": null,
       "description_width": ""
      }
     },
     "58ed9d92c1244e6095234f8453f1a823": {
      "model_module": "@jupyter-widgets/controls",
      "model_module_version": "2.0.0",
      "model_name": "HTMLStyleModel",
      "state": {
       "_model_module": "@jupyter-widgets/controls",
       "_model_module_version": "2.0.0",
       "_model_name": "HTMLStyleModel",
       "_view_count": null,
       "_view_module": "@jupyter-widgets/base",
       "_view_module_version": "2.0.0",
       "_view_name": "StyleView",
       "background": null,
       "description_width": "",
       "font_size": null,
       "text_color": null
      }
     },
     "58eed21f21b644e5b7ad607f00dde511": {
      "model_module": "@jupyter-widgets/controls",
      "model_module_version": "2.0.0",
      "model_name": "HTMLStyleModel",
      "state": {
       "_model_module": "@jupyter-widgets/controls",
       "_model_module_version": "2.0.0",
       "_model_name": "HTMLStyleModel",
       "_view_count": null,
       "_view_module": "@jupyter-widgets/base",
       "_view_module_version": "2.0.0",
       "_view_name": "StyleView",
       "background": null,
       "description_width": "",
       "font_size": null,
       "text_color": null
      }
     },
     "591ec72a29d44ace8c251fd2678321ac": {
      "model_module": "@jupyter-widgets/controls",
      "model_module_version": "2.0.0",
      "model_name": "ButtonStyleModel",
      "state": {
       "_model_module": "@jupyter-widgets/controls",
       "_model_module_version": "2.0.0",
       "_model_name": "ButtonStyleModel",
       "_view_count": null,
       "_view_module": "@jupyter-widgets/base",
       "_view_module_version": "2.0.0",
       "_view_name": "StyleView",
       "button_color": null,
       "font_family": null,
       "font_size": null,
       "font_style": null,
       "font_variant": null,
       "font_weight": null,
       "text_color": null,
       "text_decoration": null
      }
     },
     "59c4bcfb36f44110aa6be90b71072367": {
      "model_module": "@jupyter-widgets/controls",
      "model_module_version": "2.0.0",
      "model_name": "ButtonModel",
      "state": {
       "_dom_classes": [],
       "_model_module": "@jupyter-widgets/controls",
       "_model_module_version": "2.0.0",
       "_model_name": "ButtonModel",
       "_view_count": null,
       "_view_module": "@jupyter-widgets/controls",
       "_view_module_version": "2.0.0",
       "_view_name": "ButtonView",
       "button_style": "success",
       "description": "Run Inference",
       "disabled": false,
       "icon": "",
       "layout": "IPY_MODEL_f1ffc5162aa74150add64c01b889e993",
       "style": "IPY_MODEL_0ad1cccfdae84fa09909936a13992797",
       "tabbable": null,
       "tooltip": "Runs inference on the new sample"
      }
     },
     "5b632462f7d34ac18bc4b189558fc1e0": {
      "model_module": "@jupyter-widgets/base",
      "model_module_version": "2.0.0",
      "model_name": "LayoutModel",
      "state": {
       "_model_module": "@jupyter-widgets/base",
       "_model_module_version": "2.0.0",
       "_model_name": "LayoutModel",
       "_view_count": null,
       "_view_module": "@jupyter-widgets/base",
       "_view_module_version": "2.0.0",
       "_view_name": "LayoutView",
       "align_content": null,
       "align_items": null,
       "align_self": null,
       "border_bottom": null,
       "border_left": null,
       "border_right": null,
       "border_top": null,
       "bottom": null,
       "display": null,
       "flex": null,
       "flex_flow": null,
       "grid_area": null,
       "grid_auto_columns": null,
       "grid_auto_flow": null,
       "grid_auto_rows": null,
       "grid_column": null,
       "grid_gap": null,
       "grid_row": null,
       "grid_template_areas": null,
       "grid_template_columns": null,
       "grid_template_rows": null,
       "height": null,
       "justify_content": null,
       "justify_items": null,
       "left": null,
       "margin": null,
       "max_height": null,
       "max_width": null,
       "min_height": null,
       "min_width": null,
       "object_fit": null,
       "object_position": null,
       "order": null,
       "overflow": null,
       "padding": null,
       "right": null,
       "top": null,
       "visibility": null,
       "width": null
      }
     },
     "5c254ad4609a4366951bb01ff350e405": {
      "model_module": "@jupyter-widgets/controls",
      "model_module_version": "2.0.0",
      "model_name": "HTMLModel",
      "state": {
       "_dom_classes": [],
       "_model_module": "@jupyter-widgets/controls",
       "_model_module_version": "2.0.0",
       "_model_name": "HTMLModel",
       "_view_count": null,
       "_view_module": "@jupyter-widgets/controls",
       "_view_module_version": "2.0.0",
       "_view_name": "HTMLView",
       "description": "",
       "description_allow_html": false,
       "layout": "IPY_MODEL_78eff68a33984b7dac0055a88e31eeef",
       "placeholder": "​",
       "style": "IPY_MODEL_43c53051733f4a18a3943b35f1276aa1",
       "tabbable": null,
       "tooltip": null,
       "value": ""
      }
     },
     "5e40ef6da90844be837dd40f5096ba70": {
      "model_module": "@jupyter-widgets/base",
      "model_module_version": "2.0.0",
      "model_name": "LayoutModel",
      "state": {
       "_model_module": "@jupyter-widgets/base",
       "_model_module_version": "2.0.0",
       "_model_name": "LayoutModel",
       "_view_count": null,
       "_view_module": "@jupyter-widgets/base",
       "_view_module_version": "2.0.0",
       "_view_name": "LayoutView",
       "align_content": null,
       "align_items": null,
       "align_self": null,
       "border_bottom": null,
       "border_left": null,
       "border_right": null,
       "border_top": null,
       "bottom": null,
       "display": null,
       "flex": null,
       "flex_flow": null,
       "grid_area": null,
       "grid_auto_columns": null,
       "grid_auto_flow": null,
       "grid_auto_rows": null,
       "grid_column": null,
       "grid_gap": null,
       "grid_row": null,
       "grid_template_areas": null,
       "grid_template_columns": null,
       "grid_template_rows": null,
       "height": null,
       "justify_content": null,
       "justify_items": null,
       "left": null,
       "margin": null,
       "max_height": null,
       "max_width": null,
       "min_height": null,
       "min_width": null,
       "object_fit": null,
       "object_position": null,
       "order": null,
       "overflow": null,
       "padding": null,
       "right": null,
       "top": null,
       "visibility": null,
       "width": null
      }
     },
     "628bc7ab7e364f89966f283a57f9811e": {
      "model_module": "@jupyter-widgets/base",
      "model_module_version": "2.0.0",
      "model_name": "LayoutModel",
      "state": {
       "_model_module": "@jupyter-widgets/base",
       "_model_module_version": "2.0.0",
       "_model_name": "LayoutModel",
       "_view_count": null,
       "_view_module": "@jupyter-widgets/base",
       "_view_module_version": "2.0.0",
       "_view_name": "LayoutView",
       "align_content": null,
       "align_items": null,
       "align_self": null,
       "border_bottom": null,
       "border_left": null,
       "border_right": null,
       "border_top": null,
       "bottom": null,
       "display": null,
       "flex": null,
       "flex_flow": null,
       "grid_area": null,
       "grid_auto_columns": null,
       "grid_auto_flow": null,
       "grid_auto_rows": null,
       "grid_column": null,
       "grid_gap": null,
       "grid_row": null,
       "grid_template_areas": null,
       "grid_template_columns": null,
       "grid_template_rows": null,
       "height": null,
       "justify_content": null,
       "justify_items": null,
       "left": null,
       "margin": null,
       "max_height": null,
       "max_width": null,
       "min_height": null,
       "min_width": null,
       "object_fit": null,
       "object_position": null,
       "order": null,
       "overflow": null,
       "padding": null,
       "right": null,
       "top": null,
       "visibility": null,
       "width": null
      }
     },
     "65e3096197104875ad1680b54a09af89": {
      "model_module": "@jupyter-widgets/controls",
      "model_module_version": "2.0.0",
      "model_name": "HTMLModel",
      "state": {
       "_dom_classes": [],
       "_model_module": "@jupyter-widgets/controls",
       "_model_module_version": "2.0.0",
       "_model_name": "HTMLModel",
       "_view_count": null,
       "_view_module": "@jupyter-widgets/controls",
       "_view_module_version": "2.0.0",
       "_view_name": "HTMLView",
       "description": "",
       "description_allow_html": false,
       "layout": "IPY_MODEL_ba27d5a9fd354e62992fab65ee34053f",
       "placeholder": "​",
       "style": "IPY_MODEL_065ee17059f649919bcf1341413c3be8",
       "tabbable": null,
       "tooltip": null,
       "value": ""
      }
     },
     "74da2cffce3649bfb8c7bc554d20608f": {
      "model_module": "@jupyter-widgets/controls",
      "model_module_version": "2.0.0",
      "model_name": "HTMLStyleModel",
      "state": {
       "_model_module": "@jupyter-widgets/controls",
       "_model_module_version": "2.0.0",
       "_model_name": "HTMLStyleModel",
       "_view_count": null,
       "_view_module": "@jupyter-widgets/base",
       "_view_module_version": "2.0.0",
       "_view_name": "StyleView",
       "background": null,
       "description_width": "",
       "font_size": null,
       "text_color": null
      }
     },
     "78eff68a33984b7dac0055a88e31eeef": {
      "model_module": "@jupyter-widgets/base",
      "model_module_version": "2.0.0",
      "model_name": "LayoutModel",
      "state": {
       "_model_module": "@jupyter-widgets/base",
       "_model_module_version": "2.0.0",
       "_model_name": "LayoutModel",
       "_view_count": null,
       "_view_module": "@jupyter-widgets/base",
       "_view_module_version": "2.0.0",
       "_view_name": "LayoutView",
       "align_content": null,
       "align_items": null,
       "align_self": null,
       "border_bottom": null,
       "border_left": null,
       "border_right": null,
       "border_top": null,
       "bottom": null,
       "display": null,
       "flex": null,
       "flex_flow": null,
       "grid_area": null,
       "grid_auto_columns": null,
       "grid_auto_flow": null,
       "grid_auto_rows": null,
       "grid_column": null,
       "grid_gap": null,
       "grid_row": null,
       "grid_template_areas": null,
       "grid_template_columns": null,
       "grid_template_rows": null,
       "height": null,
       "justify_content": null,
       "justify_items": null,
       "left": null,
       "margin": null,
       "max_height": null,
       "max_width": null,
       "min_height": null,
       "min_width": null,
       "object_fit": null,
       "object_position": null,
       "order": null,
       "overflow": null,
       "padding": null,
       "right": null,
       "top": null,
       "visibility": null,
       "width": null
      }
     },
     "7a32facbff6d43c6abc63739bec8328b": {
      "model_module": "@jupyter-widgets/controls",
      "model_module_version": "2.0.0",
      "model_name": "HTMLModel",
      "state": {
       "_dom_classes": [],
       "_model_module": "@jupyter-widgets/controls",
       "_model_module_version": "2.0.0",
       "_model_name": "HTMLModel",
       "_view_count": null,
       "_view_module": "@jupyter-widgets/controls",
       "_view_module_version": "2.0.0",
       "_view_name": "HTMLView",
       "description": "",
       "description_allow_html": false,
       "layout": "IPY_MODEL_da08b13774a74162aa06fe7cf6c54df7",
       "placeholder": "​",
       "style": "IPY_MODEL_da8d12b412ae4545b2b606a6c829b135",
       "tabbable": null,
       "tooltip": null,
       "value": "<h3 style=\"text-align: center\">Samples</h3>"
      }
     },
     "7b0abc53389e4419927b7760a15da39d": {
      "model_module": "@jupyter-widgets/controls",
      "model_module_version": "2.0.0",
      "model_name": "FloatTextModel",
      "state": {
       "_dom_classes": [],
       "_model_module": "@jupyter-widgets/controls",
       "_model_module_version": "2.0.0",
       "_model_name": "FloatTextModel",
       "_view_count": null,
       "_view_module": "@jupyter-widgets/controls",
       "_view_module_version": "2.0.0",
       "_view_name": "FloatTextView",
       "continuous_update": false,
       "description": "Latitude",
       "description_allow_html": false,
       "disabled": false,
       "layout": "IPY_MODEL_f6003b9bccbb4446af20ee9bae00b5fc",
       "step": null,
       "style": "IPY_MODEL_c8618f06e0b74fc6a8f87908765e089b",
       "tabbable": null,
       "tooltip": null,
       "value": 34.06
      }
     },
     "7bc9d624a9c24615a628846c9dda7779": {
      "model_module": "@jupyter-widgets/controls",
      "model_module_version": "2.0.0",
      "model_name": "HBoxModel",
      "state": {
       "_dom_classes": [],
       "_model_module": "@jupyter-widgets/controls",
       "_model_module_version": "2.0.0",
       "_model_name": "HBoxModel",
       "_view_count": null,
       "_view_module": "@jupyter-widgets/controls",
       "_view_module_version": "2.0.0",
       "_view_name": "HBoxView",
       "box_style": "",
       "children": [
        "IPY_MODEL_a7ba6e61de52412d9f5eb49676709377",
        "IPY_MODEL_7c3c7b2e0e9247f392e52c6c7ae28231"
       ],
       "layout": "IPY_MODEL_f8c68f68ec724b9eb4f9d3bed9d9a4ef",
       "tabbable": null,
       "tooltip": null
      }
     },
     "7c3c7b2e0e9247f392e52c6c7ae28231": {
      "model_module": "@jupyter-widgets/controls",
      "model_module_version": "2.0.0",
      "model_name": "ButtonModel",
      "state": {
       "_dom_classes": [],
       "_model_module": "@jupyter-widgets/controls",
       "_model_module_version": "2.0.0",
       "_model_name": "ButtonModel",
       "_view_count": null,
       "_view_module": "@jupyter-widgets/controls",
       "_view_module_version": "2.0.0",
       "_view_name": "ButtonView",
       "button_style": "",
       "description": "Select Sample",
       "disabled": false,
       "icon": "",
       "layout": "IPY_MODEL_df3a578783ba46bbb3b0d7da8738563e",
       "style": "IPY_MODEL_591ec72a29d44ace8c251fd2678321ac",
       "tabbable": null,
       "tooltip": "Select the sample at the specified row index"
      }
     },
     "7e68fe1934294838b2c672d73303ae5f": {
      "model_module": "@jupyter-widgets/base",
      "model_module_version": "2.0.0",
      "model_name": "LayoutModel",
      "state": {
       "_model_module": "@jupyter-widgets/base",
       "_model_module_version": "2.0.0",
       "_model_name": "LayoutModel",
       "_view_count": null,
       "_view_module": "@jupyter-widgets/base",
       "_view_module_version": "2.0.0",
       "_view_name": "LayoutView",
       "align_content": null,
       "align_items": null,
       "align_self": null,
       "border_bottom": null,
       "border_left": null,
       "border_right": null,
       "border_top": null,
       "bottom": null,
       "display": null,
       "flex": null,
       "flex_flow": null,
       "grid_area": null,
       "grid_auto_columns": null,
       "grid_auto_flow": null,
       "grid_auto_rows": null,
       "grid_column": null,
       "grid_gap": null,
       "grid_row": null,
       "grid_template_areas": null,
       "grid_template_columns": null,
       "grid_template_rows": null,
       "height": null,
       "justify_content": null,
       "justify_items": null,
       "left": null,
       "margin": null,
       "max_height": null,
       "max_width": null,
       "min_height": null,
       "min_width": null,
       "object_fit": null,
       "object_position": null,
       "order": null,
       "overflow": null,
       "padding": null,
       "right": null,
       "top": null,
       "visibility": null,
       "width": "50%"
      }
     },
     "7e8597478dd24175b0756e34b145b126": {
      "model_module": "@jupyter-widgets/base",
      "model_module_version": "2.0.0",
      "model_name": "LayoutModel",
      "state": {
       "_model_module": "@jupyter-widgets/base",
       "_model_module_version": "2.0.0",
       "_model_name": "LayoutModel",
       "_view_count": null,
       "_view_module": "@jupyter-widgets/base",
       "_view_module_version": "2.0.0",
       "_view_name": "LayoutView",
       "align_content": null,
       "align_items": null,
       "align_self": null,
       "border_bottom": null,
       "border_left": null,
       "border_right": null,
       "border_top": null,
       "bottom": null,
       "display": null,
       "flex": null,
       "flex_flow": null,
       "grid_area": null,
       "grid_auto_columns": null,
       "grid_auto_flow": null,
       "grid_auto_rows": null,
       "grid_column": null,
       "grid_gap": null,
       "grid_row": null,
       "grid_template_areas": null,
       "grid_template_columns": null,
       "grid_template_rows": null,
       "height": null,
       "justify_content": null,
       "justify_items": null,
       "left": null,
       "margin": null,
       "max_height": null,
       "max_width": null,
       "min_height": null,
       "min_width": null,
       "object_fit": null,
       "object_position": null,
       "order": null,
       "overflow": null,
       "padding": null,
       "right": null,
       "top": null,
       "visibility": null,
       "width": null
      }
     },
     "7f02d67bd0744c288f71387b50aa07f1": {
      "model_module": "@jupyter-widgets/controls",
      "model_module_version": "2.0.0",
      "model_name": "HTMLModel",
      "state": {
       "_dom_classes": [],
       "_model_module": "@jupyter-widgets/controls",
       "_model_module_version": "2.0.0",
       "_model_name": "HTMLModel",
       "_view_count": null,
       "_view_module": "@jupyter-widgets/controls",
       "_view_module_version": "2.0.0",
       "_view_name": "HTMLView",
       "description": "",
       "description_allow_html": false,
       "layout": "IPY_MODEL_912f422506c14add9dd6b2e12c29084e",
       "placeholder": "​",
       "style": "IPY_MODEL_ea067b67bbdd443a98831a83b6c0913b",
       "tabbable": null,
       "tooltip": null,
       "value": "<h3 style=\"text-align: center\">10 Sample Predictions to Explain</h3>"
      }
     },
     "7f61dd9f588245d0b532051d098ab5d9": {
      "model_module": "@jupyter-widgets/controls",
      "model_module_version": "2.0.0",
      "model_name": "VBoxModel",
      "state": {
       "_dom_classes": [],
       "_model_module": "@jupyter-widgets/controls",
       "_model_module_version": "2.0.0",
       "_model_name": "VBoxModel",
       "_view_count": null,
       "_view_module": "@jupyter-widgets/controls",
       "_view_module_version": "2.0.0",
       "_view_name": "VBoxView",
       "box_style": "",
       "children": [
        "IPY_MODEL_11a0d107d4d44ff4a0a741fe263f5184",
        "IPY_MODEL_a80af425c20f4495ad90fdf7c8867220"
       ],
       "layout": "IPY_MODEL_85f21d48aabd405296a02c323aecb011",
       "tabbable": null,
       "tooltip": null
      }
     },
     "81df99381a9c4003bf2c8c98c9f7486f": {
      "model_module": "@jupyter-widgets/controls",
      "model_module_version": "2.0.0",
      "model_name": "HTMLModel",
      "state": {
       "_dom_classes": [],
       "_model_module": "@jupyter-widgets/controls",
       "_model_module_version": "2.0.0",
       "_model_name": "HTMLModel",
       "_view_count": null,
       "_view_module": "@jupyter-widgets/controls",
       "_view_module_version": "2.0.0",
       "_view_name": "HTMLView",
       "description": "",
       "description_allow_html": false,
       "layout": "IPY_MODEL_d0cae5045e2441c0bdd7968fb397f66c",
       "placeholder": "​",
       "style": "IPY_MODEL_58ed9d92c1244e6095234f8453f1a823",
       "tabbable": null,
       "tooltip": null,
       "value": "\n                <h1 style=\"color:#F06F05;\">Select and Explore Sample</h1>\n            "
      }
     },
     "85f21d48aabd405296a02c323aecb011": {
      "model_module": "@jupyter-widgets/base",
      "model_module_version": "2.0.0",
      "model_name": "LayoutModel",
      "state": {
       "_model_module": "@jupyter-widgets/base",
       "_model_module_version": "2.0.0",
       "_model_name": "LayoutModel",
       "_view_count": null,
       "_view_module": "@jupyter-widgets/base",
       "_view_module_version": "2.0.0",
       "_view_name": "LayoutView",
       "align_content": null,
       "align_items": null,
       "align_self": null,
       "border_bottom": null,
       "border_left": null,
       "border_right": null,
       "border_top": null,
       "bottom": null,
       "display": null,
       "flex": null,
       "flex_flow": null,
       "grid_area": null,
       "grid_auto_columns": null,
       "grid_auto_flow": null,
       "grid_auto_rows": null,
       "grid_column": null,
       "grid_gap": null,
       "grid_row": null,
       "grid_template_areas": null,
       "grid_template_columns": null,
       "grid_template_rows": null,
       "height": null,
       "justify_content": null,
       "justify_items": null,
       "left": null,
       "margin": null,
       "max_height": null,
       "max_width": null,
       "min_height": null,
       "min_width": null,
       "object_fit": null,
       "object_position": null,
       "order": null,
       "overflow": null,
       "padding": null,
       "right": null,
       "top": null,
       "visibility": null,
       "width": null
      }
     },
     "89ce5a562e414c7a991d6492f398fcf1": {
      "model_module": "@jupyter-widgets/base",
      "model_module_version": "2.0.0",
      "model_name": "LayoutModel",
      "state": {
       "_model_module": "@jupyter-widgets/base",
       "_model_module_version": "2.0.0",
       "_model_name": "LayoutModel",
       "_view_count": null,
       "_view_module": "@jupyter-widgets/base",
       "_view_module_version": "2.0.0",
       "_view_name": "LayoutView",
       "align_content": null,
       "align_items": null,
       "align_self": null,
       "border_bottom": null,
       "border_left": null,
       "border_right": null,
       "border_top": null,
       "bottom": null,
       "display": null,
       "flex": null,
       "flex_flow": null,
       "grid_area": null,
       "grid_auto_columns": null,
       "grid_auto_flow": null,
       "grid_auto_rows": null,
       "grid_column": null,
       "grid_gap": null,
       "grid_row": null,
       "grid_template_areas": null,
       "grid_template_columns": null,
       "grid_template_rows": null,
       "height": null,
       "justify_content": null,
       "justify_items": null,
       "left": null,
       "margin": null,
       "max_height": null,
       "max_width": null,
       "min_height": null,
       "min_width": null,
       "object_fit": null,
       "object_position": null,
       "order": null,
       "overflow": null,
       "padding": null,
       "right": null,
       "top": null,
       "visibility": null,
       "width": null
      }
     },
     "8ae07bc89a394028a56ce0b429644b16": {
      "model_module": "@jupyter-widgets/controls",
      "model_module_version": "2.0.0",
      "model_name": "DescriptionStyleModel",
      "state": {
       "_model_module": "@jupyter-widgets/controls",
       "_model_module_version": "2.0.0",
       "_model_name": "DescriptionStyleModel",
       "_view_count": null,
       "_view_module": "@jupyter-widgets/base",
       "_view_module_version": "2.0.0",
       "_view_name": "StyleView",
       "description_width": ""
      }
     },
     "8cc912a87528466ab93d2f78f999ee87": {
      "model_module": "@jupyter-widgets/base",
      "model_module_version": "2.0.0",
      "model_name": "LayoutModel",
      "state": {
       "_model_module": "@jupyter-widgets/base",
       "_model_module_version": "2.0.0",
       "_model_name": "LayoutModel",
       "_view_count": null,
       "_view_module": "@jupyter-widgets/base",
       "_view_module_version": "2.0.0",
       "_view_name": "LayoutView",
       "align_content": null,
       "align_items": null,
       "align_self": null,
       "border_bottom": null,
       "border_left": null,
       "border_right": null,
       "border_top": null,
       "bottom": null,
       "display": null,
       "flex": null,
       "flex_flow": null,
       "grid_area": null,
       "grid_auto_columns": null,
       "grid_auto_flow": null,
       "grid_auto_rows": null,
       "grid_column": null,
       "grid_gap": null,
       "grid_row": null,
       "grid_template_areas": null,
       "grid_template_columns": null,
       "grid_template_rows": null,
       "height": null,
       "justify_content": null,
       "justify_items": null,
       "left": null,
       "margin": null,
       "max_height": null,
       "max_width": null,
       "min_height": null,
       "min_width": null,
       "object_fit": null,
       "object_position": null,
       "order": null,
       "overflow": null,
       "padding": null,
       "right": null,
       "top": null,
       "visibility": null,
       "width": null
      }
     },
     "912f422506c14add9dd6b2e12c29084e": {
      "model_module": "@jupyter-widgets/base",
      "model_module_version": "2.0.0",
      "model_name": "LayoutModel",
      "state": {
       "_model_module": "@jupyter-widgets/base",
       "_model_module_version": "2.0.0",
       "_model_name": "LayoutModel",
       "_view_count": null,
       "_view_module": "@jupyter-widgets/base",
       "_view_module_version": "2.0.0",
       "_view_name": "LayoutView",
       "align_content": null,
       "align_items": null,
       "align_self": null,
       "border_bottom": null,
       "border_left": null,
       "border_right": null,
       "border_top": null,
       "bottom": null,
       "display": null,
       "flex": null,
       "flex_flow": null,
       "grid_area": null,
       "grid_auto_columns": null,
       "grid_auto_flow": null,
       "grid_auto_rows": null,
       "grid_column": null,
       "grid_gap": null,
       "grid_row": null,
       "grid_template_areas": null,
       "grid_template_columns": null,
       "grid_template_rows": null,
       "height": null,
       "justify_content": null,
       "justify_items": null,
       "left": null,
       "margin": null,
       "max_height": null,
       "max_width": null,
       "min_height": null,
       "min_width": null,
       "object_fit": null,
       "object_position": null,
       "order": null,
       "overflow": null,
       "padding": null,
       "right": null,
       "top": null,
       "visibility": null,
       "width": null
      }
     },
     "91431f81f30648ac9e049b99e17d4f5e": {
      "model_module": "@jupyter-widgets/base",
      "model_module_version": "2.0.0",
      "model_name": "LayoutModel",
      "state": {
       "_model_module": "@jupyter-widgets/base",
       "_model_module_version": "2.0.0",
       "_model_name": "LayoutModel",
       "_view_count": null,
       "_view_module": "@jupyter-widgets/base",
       "_view_module_version": "2.0.0",
       "_view_name": "LayoutView",
       "align_content": null,
       "align_items": null,
       "align_self": null,
       "border_bottom": null,
       "border_left": null,
       "border_right": null,
       "border_top": null,
       "bottom": null,
       "display": null,
       "flex": null,
       "flex_flow": null,
       "grid_area": null,
       "grid_auto_columns": null,
       "grid_auto_flow": null,
       "grid_auto_rows": null,
       "grid_column": null,
       "grid_gap": null,
       "grid_row": null,
       "grid_template_areas": null,
       "grid_template_columns": null,
       "grid_template_rows": null,
       "height": null,
       "justify_content": null,
       "justify_items": null,
       "left": null,
       "margin": null,
       "max_height": null,
       "max_width": null,
       "min_height": null,
       "min_width": null,
       "object_fit": null,
       "object_position": null,
       "order": null,
       "overflow": null,
       "padding": null,
       "right": null,
       "top": null,
       "visibility": null,
       "width": null
      }
     },
     "944d0d2cde744f0ba4c921e6581a9005": {
      "model_module": "@jupyter-widgets/controls",
      "model_module_version": "2.0.0",
      "model_name": "HTMLStyleModel",
      "state": {
       "_model_module": "@jupyter-widgets/controls",
       "_model_module_version": "2.0.0",
       "_model_name": "HTMLStyleModel",
       "_view_count": null,
       "_view_module": "@jupyter-widgets/base",
       "_view_module_version": "2.0.0",
       "_view_name": "StyleView",
       "background": null,
       "description_width": "",
       "font_size": null,
       "text_color": null
      }
     },
     "97e0cd0e15374821ae08f6fb8898609a": {
      "model_module": "@jupyter-widgets/base",
      "model_module_version": "2.0.0",
      "model_name": "LayoutModel",
      "state": {
       "_model_module": "@jupyter-widgets/base",
       "_model_module_version": "2.0.0",
       "_model_name": "LayoutModel",
       "_view_count": null,
       "_view_module": "@jupyter-widgets/base",
       "_view_module_version": "2.0.0",
       "_view_name": "LayoutView",
       "align_content": null,
       "align_items": null,
       "align_self": null,
       "border_bottom": null,
       "border_left": null,
       "border_right": null,
       "border_top": null,
       "bottom": null,
       "display": null,
       "flex": null,
       "flex_flow": null,
       "grid_area": null,
       "grid_auto_columns": null,
       "grid_auto_flow": null,
       "grid_auto_rows": null,
       "grid_column": null,
       "grid_gap": null,
       "grid_row": null,
       "grid_template_areas": null,
       "grid_template_columns": null,
       "grid_template_rows": null,
       "height": null,
       "justify_content": null,
       "justify_items": null,
       "left": null,
       "margin": null,
       "max_height": null,
       "max_width": null,
       "min_height": null,
       "min_width": null,
       "object_fit": null,
       "object_position": null,
       "order": null,
       "overflow": null,
       "padding": null,
       "right": null,
       "top": null,
       "visibility": null,
       "width": null
      }
     },
     "9967db5aa66842a1817d1f8dbdf49ca4": {
      "model_module": "@jupyter-widgets/controls",
      "model_module_version": "2.0.0",
      "model_name": "FloatTextModel",
      "state": {
       "_dom_classes": [],
       "_model_module": "@jupyter-widgets/controls",
       "_model_module_version": "2.0.0",
       "_model_name": "FloatTextModel",
       "_view_count": null,
       "_view_module": "@jupyter-widgets/controls",
       "_view_module_version": "2.0.0",
       "_view_name": "FloatTextView",
       "continuous_update": false,
       "description": "AveOccup",
       "description_allow_html": false,
       "disabled": false,
       "layout": "IPY_MODEL_dfbf22a73c6c48a68a7ad0d7656717e2",
       "step": null,
       "style": "IPY_MODEL_27b7f9cfd7074b428a9076f3bc263262",
       "tabbable": null,
       "tooltip": null,
       "value": 3.1289023162134946
      }
     },
     "9f6f031fcf924641b8ba3c374b20e03c": {
      "model_module": "@jupyter-widgets/base",
      "model_module_version": "2.0.0",
      "model_name": "LayoutModel",
      "state": {
       "_model_module": "@jupyter-widgets/base",
       "_model_module_version": "2.0.0",
       "_model_name": "LayoutModel",
       "_view_count": null,
       "_view_module": "@jupyter-widgets/base",
       "_view_module_version": "2.0.0",
       "_view_name": "LayoutView",
       "align_content": null,
       "align_items": null,
       "align_self": null,
       "border_bottom": null,
       "border_left": null,
       "border_right": null,
       "border_top": null,
       "bottom": null,
       "display": null,
       "flex": null,
       "flex_flow": null,
       "grid_area": null,
       "grid_auto_columns": null,
       "grid_auto_flow": null,
       "grid_auto_rows": null,
       "grid_column": null,
       "grid_gap": null,
       "grid_row": null,
       "grid_template_areas": null,
       "grid_template_columns": null,
       "grid_template_rows": null,
       "height": null,
       "justify_content": null,
       "justify_items": null,
       "left": null,
       "margin": null,
       "max_height": null,
       "max_width": null,
       "min_height": null,
       "min_width": null,
       "object_fit": null,
       "object_position": null,
       "order": null,
       "overflow": null,
       "padding": null,
       "right": null,
       "top": null,
       "visibility": null,
       "width": "initial"
      }
     },
     "a7ba6e61de52412d9f5eb49676709377": {
      "model_module": "@jupyter-widgets/controls",
      "model_module_version": "2.0.0",
      "model_name": "BoundedIntTextModel",
      "state": {
       "_dom_classes": [],
       "_model_module": "@jupyter-widgets/controls",
       "_model_module_version": "2.0.0",
       "_model_name": "BoundedIntTextModel",
       "_view_count": null,
       "_view_module": "@jupyter-widgets/controls",
       "_view_module_version": "2.0.0",
       "_view_name": "IntTextView",
       "continuous_update": false,
       "description": "Row Index:",
       "description_allow_html": false,
       "disabled": false,
       "layout": "IPY_MODEL_2762b8902e8d4b77a9054ba31ec3b0c3",
       "max": 6191,
       "min": 0,
       "step": 1,
       "style": "IPY_MODEL_1ff99e46522641f0bff2477108094d01",
       "tabbable": null,
       "tooltip": null,
       "value": 0
      }
     },
     "a80af425c20f4495ad90fdf7c8867220": {
      "model_module": "jupyterlab-plotly",
      "model_module_version": "^5.4.0",
      "model_name": "FigureModel",
      "state": {
       "_config": {
        "plotlyServerURL": "https://plot.ly"
       },
       "_data": [
        {
         "boxmean": true,
         "boxpoints": "all",
         "customdata": [
          5,
          2,
          4,
          0,
          8,
          9,
          1,
          7,
          6,
          3
         ],
         "hovertemplate": "%{x}, %{y}, Explanation Index %{customdata}",
         "legendgroup": "Median Price",
         "marker": {
          "color": "rgb(248,0,0)",
          "line": {
           "outliercolor": "rgba(219, 64, 82, 1.0)"
          },
          "outliercolor": "rgba(219, 64, 82, 0.6)"
         },
         "name": "Target=Median Price",
         "orientation": "h",
         "showlegend": false,
         "type": "box",
         "uid": "20f609ce-e050-4f68-970d-f572af0fb87a",
         "x": [
          1.014918355884362,
          1.5699274211585195,
          1.7983970855444549,
          1.892036340804718,
          2.2423174939096855,
          2.2950419351358478,
          2.753206978159755,
          3.0034229026977557,
          4.866293730327249,
          5.0165132638224375
         ],
         "y": [
          "Median Price",
          "Median Price",
          "Median Price",
          "Median Price",
          "Median Price",
          "Median Price",
          "Median Price",
          "Median Price",
          "Median Price",
          "Median Price"
         ]
        }
       ],
       "_dom_classes": [],
       "_js2py_layoutDelta": {},
       "_js2py_pointsCallback": {},
       "_js2py_relayout": {},
       "_js2py_restyle": {},
       "_js2py_traceDeltas": {},
       "_js2py_update": {},
       "_last_layout_edit_id": 0,
       "_last_trace_edit_id": 0,
       "_layout": {
        "boxmode": "group",
        "margin": {
         "b": 50,
         "t": 50
        },
        "plot_bgcolor": "rgba(0,0,0,0)",
        "template": {
         "data": {
          "bar": [
           {
            "error_x": {
             "color": "#2a3f5f"
            },
            "error_y": {
             "color": "#2a3f5f"
            },
            "marker": {
             "line": {
              "color": "#E5ECF6",
              "width": 0.5
             },
             "pattern": {
              "fillmode": "overlay",
              "size": 10,
              "solidity": 0.2
             }
            },
            "type": "bar"
           }
          ],
          "barpolar": [
           {
            "marker": {
             "line": {
              "color": "#E5ECF6",
              "width": 0.5
             },
             "pattern": {
              "fillmode": "overlay",
              "size": 10,
              "solidity": 0.2
             }
            },
            "type": "barpolar"
           }
          ],
          "carpet": [
           {
            "aaxis": {
             "endlinecolor": "#2a3f5f",
             "gridcolor": "white",
             "linecolor": "white",
             "minorgridcolor": "white",
             "startlinecolor": "#2a3f5f"
            },
            "baxis": {
             "endlinecolor": "#2a3f5f",
             "gridcolor": "white",
             "linecolor": "white",
             "minorgridcolor": "white",
             "startlinecolor": "#2a3f5f"
            },
            "type": "carpet"
           }
          ],
          "choropleth": [
           {
            "colorbar": {
             "outlinewidth": 0,
             "ticks": ""
            },
            "type": "choropleth"
           }
          ],
          "contour": [
           {
            "colorbar": {
             "outlinewidth": 0,
             "ticks": ""
            },
            "colorscale": [
             [
              0,
              "#0d0887"
             ],
             [
              0.1111111111111111,
              "#46039f"
             ],
             [
              0.2222222222222222,
              "#7201a8"
             ],
             [
              0.3333333333333333,
              "#9c179e"
             ],
             [
              0.4444444444444444,
              "#bd3786"
             ],
             [
              0.5555555555555556,
              "#d8576b"
             ],
             [
              0.6666666666666666,
              "#ed7953"
             ],
             [
              0.7777777777777778,
              "#fb9f3a"
             ],
             [
              0.8888888888888888,
              "#fdca26"
             ],
             [
              1,
              "#f0f921"
             ]
            ],
            "type": "contour"
           }
          ],
          "contourcarpet": [
           {
            "colorbar": {
             "outlinewidth": 0,
             "ticks": ""
            },
            "type": "contourcarpet"
           }
          ],
          "heatmap": [
           {
            "colorbar": {
             "outlinewidth": 0,
             "ticks": ""
            },
            "colorscale": [
             [
              0,
              "#0d0887"
             ],
             [
              0.1111111111111111,
              "#46039f"
             ],
             [
              0.2222222222222222,
              "#7201a8"
             ],
             [
              0.3333333333333333,
              "#9c179e"
             ],
             [
              0.4444444444444444,
              "#bd3786"
             ],
             [
              0.5555555555555556,
              "#d8576b"
             ],
             [
              0.6666666666666666,
              "#ed7953"
             ],
             [
              0.7777777777777778,
              "#fb9f3a"
             ],
             [
              0.8888888888888888,
              "#fdca26"
             ],
             [
              1,
              "#f0f921"
             ]
            ],
            "type": "heatmap"
           }
          ],
          "heatmapgl": [
           {
            "colorbar": {
             "outlinewidth": 0,
             "ticks": ""
            },
            "colorscale": [
             [
              0,
              "#0d0887"
             ],
             [
              0.1111111111111111,
              "#46039f"
             ],
             [
              0.2222222222222222,
              "#7201a8"
             ],
             [
              0.3333333333333333,
              "#9c179e"
             ],
             [
              0.4444444444444444,
              "#bd3786"
             ],
             [
              0.5555555555555556,
              "#d8576b"
             ],
             [
              0.6666666666666666,
              "#ed7953"
             ],
             [
              0.7777777777777778,
              "#fb9f3a"
             ],
             [
              0.8888888888888888,
              "#fdca26"
             ],
             [
              1,
              "#f0f921"
             ]
            ],
            "type": "heatmapgl"
           }
          ],
          "histogram": [
           {
            "marker": {
             "pattern": {
              "fillmode": "overlay",
              "size": 10,
              "solidity": 0.2
             }
            },
            "type": "histogram"
           }
          ],
          "histogram2d": [
           {
            "colorbar": {
             "outlinewidth": 0,
             "ticks": ""
            },
            "colorscale": [
             [
              0,
              "#0d0887"
             ],
             [
              0.1111111111111111,
              "#46039f"
             ],
             [
              0.2222222222222222,
              "#7201a8"
             ],
             [
              0.3333333333333333,
              "#9c179e"
             ],
             [
              0.4444444444444444,
              "#bd3786"
             ],
             [
              0.5555555555555556,
              "#d8576b"
             ],
             [
              0.6666666666666666,
              "#ed7953"
             ],
             [
              0.7777777777777778,
              "#fb9f3a"
             ],
             [
              0.8888888888888888,
              "#fdca26"
             ],
             [
              1,
              "#f0f921"
             ]
            ],
            "type": "histogram2d"
           }
          ],
          "histogram2dcontour": [
           {
            "colorbar": {
             "outlinewidth": 0,
             "ticks": ""
            },
            "colorscale": [
             [
              0,
              "#0d0887"
             ],
             [
              0.1111111111111111,
              "#46039f"
             ],
             [
              0.2222222222222222,
              "#7201a8"
             ],
             [
              0.3333333333333333,
              "#9c179e"
             ],
             [
              0.4444444444444444,
              "#bd3786"
             ],
             [
              0.5555555555555556,
              "#d8576b"
             ],
             [
              0.6666666666666666,
              "#ed7953"
             ],
             [
              0.7777777777777778,
              "#fb9f3a"
             ],
             [
              0.8888888888888888,
              "#fdca26"
             ],
             [
              1,
              "#f0f921"
             ]
            ],
            "type": "histogram2dcontour"
           }
          ],
          "mesh3d": [
           {
            "colorbar": {
             "outlinewidth": 0,
             "ticks": ""
            },
            "type": "mesh3d"
           }
          ],
          "parcoords": [
           {
            "line": {
             "colorbar": {
              "outlinewidth": 0,
              "ticks": ""
             }
            },
            "type": "parcoords"
           }
          ],
          "pie": [
           {
            "automargin": true,
            "type": "pie"
           }
          ],
          "scatter": [
           {
            "marker": {
             "colorbar": {
              "outlinewidth": 0,
              "ticks": ""
             }
            },
            "type": "scatter"
           }
          ],
          "scatter3d": [
           {
            "line": {
             "colorbar": {
              "outlinewidth": 0,
              "ticks": ""
             }
            },
            "marker": {
             "colorbar": {
              "outlinewidth": 0,
              "ticks": ""
             }
            },
            "type": "scatter3d"
           }
          ],
          "scattercarpet": [
           {
            "marker": {
             "colorbar": {
              "outlinewidth": 0,
              "ticks": ""
             }
            },
            "type": "scattercarpet"
           }
          ],
          "scattergeo": [
           {
            "marker": {
             "colorbar": {
              "outlinewidth": 0,
              "ticks": ""
             }
            },
            "type": "scattergeo"
           }
          ],
          "scattergl": [
           {
            "marker": {
             "colorbar": {
              "outlinewidth": 0,
              "ticks": ""
             }
            },
            "type": "scattergl"
           }
          ],
          "scattermapbox": [
           {
            "marker": {
             "colorbar": {
              "outlinewidth": 0,
              "ticks": ""
             }
            },
            "type": "scattermapbox"
           }
          ],
          "scatterpolar": [
           {
            "marker": {
             "colorbar": {
              "outlinewidth": 0,
              "ticks": ""
             }
            },
            "type": "scatterpolar"
           }
          ],
          "scatterpolargl": [
           {
            "marker": {
             "colorbar": {
              "outlinewidth": 0,
              "ticks": ""
             }
            },
            "type": "scatterpolargl"
           }
          ],
          "scatterternary": [
           {
            "marker": {
             "colorbar": {
              "outlinewidth": 0,
              "ticks": ""
             }
            },
            "type": "scatterternary"
           }
          ],
          "surface": [
           {
            "colorbar": {
             "outlinewidth": 0,
             "ticks": ""
            },
            "colorscale": [
             [
              0,
              "#0d0887"
             ],
             [
              0.1111111111111111,
              "#46039f"
             ],
             [
              0.2222222222222222,
              "#7201a8"
             ],
             [
              0.3333333333333333,
              "#9c179e"
             ],
             [
              0.4444444444444444,
              "#bd3786"
             ],
             [
              0.5555555555555556,
              "#d8576b"
             ],
             [
              0.6666666666666666,
              "#ed7953"
             ],
             [
              0.7777777777777778,
              "#fb9f3a"
             ],
             [
              0.8888888888888888,
              "#fdca26"
             ],
             [
              1,
              "#f0f921"
             ]
            ],
            "type": "surface"
           }
          ],
          "table": [
           {
            "cells": {
             "fill": {
              "color": "#EBF0F8"
             },
             "line": {
              "color": "white"
             }
            },
            "header": {
             "fill": {
              "color": "#C8D4E3"
             },
             "line": {
              "color": "white"
             }
            },
            "type": "table"
           }
          ]
         },
         "layout": {
          "annotationdefaults": {
           "arrowcolor": "#2a3f5f",
           "arrowhead": 0,
           "arrowwidth": 1
          },
          "autotypenumbers": "strict",
          "coloraxis": {
           "colorbar": {
            "outlinewidth": 0,
            "ticks": ""
           }
          },
          "colorscale": {
           "diverging": [
            [
             0,
             "#8e0152"
            ],
            [
             0.1,
             "#c51b7d"
            ],
            [
             0.2,
             "#de77ae"
            ],
            [
             0.3,
             "#f1b6da"
            ],
            [
             0.4,
             "#fde0ef"
            ],
            [
             0.5,
             "#f7f7f7"
            ],
            [
             0.6,
             "#e6f5d0"
            ],
            [
             0.7,
             "#b8e186"
            ],
            [
             0.8,
             "#7fbc41"
            ],
            [
             0.9,
             "#4d9221"
            ],
            [
             1,
             "#276419"
            ]
           ],
           "sequential": [
            [
             0,
             "#0d0887"
            ],
            [
             0.1111111111111111,
             "#46039f"
            ],
            [
             0.2222222222222222,
             "#7201a8"
            ],
            [
             0.3333333333333333,
             "#9c179e"
            ],
            [
             0.4444444444444444,
             "#bd3786"
            ],
            [
             0.5555555555555556,
             "#d8576b"
            ],
            [
             0.6666666666666666,
             "#ed7953"
            ],
            [
             0.7777777777777778,
             "#fb9f3a"
            ],
            [
             0.8888888888888888,
             "#fdca26"
            ],
            [
             1,
             "#f0f921"
            ]
           ],
           "sequentialminus": [
            [
             0,
             "#0d0887"
            ],
            [
             0.1111111111111111,
             "#46039f"
            ],
            [
             0.2222222222222222,
             "#7201a8"
            ],
            [
             0.3333333333333333,
             "#9c179e"
            ],
            [
             0.4444444444444444,
             "#bd3786"
            ],
            [
             0.5555555555555556,
             "#d8576b"
            ],
            [
             0.6666666666666666,
             "#ed7953"
            ],
            [
             0.7777777777777778,
             "#fb9f3a"
            ],
            [
             0.8888888888888888,
             "#fdca26"
            ],
            [
             1,
             "#f0f921"
            ]
           ]
          },
          "colorway": [
           "#636efa",
           "#EF553B",
           "#00cc96",
           "#ab63fa",
           "#FFA15A",
           "#19d3f3",
           "#FF6692",
           "#B6E880",
           "#FF97FF",
           "#FECB52"
          ],
          "font": {
           "color": "#2a3f5f"
          },
          "geo": {
           "bgcolor": "white",
           "lakecolor": "white",
           "landcolor": "#E5ECF6",
           "showlakes": true,
           "showland": true,
           "subunitcolor": "white"
          },
          "hoverlabel": {
           "align": "left"
          },
          "hovermode": "closest",
          "mapbox": {
           "style": "light"
          },
          "paper_bgcolor": "white",
          "plot_bgcolor": "#E5ECF6",
          "polar": {
           "angularaxis": {
            "gridcolor": "white",
            "linecolor": "white",
            "ticks": ""
           },
           "bgcolor": "#E5ECF6",
           "radialaxis": {
            "gridcolor": "white",
            "linecolor": "white",
            "ticks": ""
           }
          },
          "scene": {
           "xaxis": {
            "backgroundcolor": "#E5ECF6",
            "gridcolor": "white",
            "gridwidth": 2,
            "linecolor": "white",
            "showbackground": true,
            "ticks": "",
            "zerolinecolor": "white"
           },
           "yaxis": {
            "backgroundcolor": "#E5ECF6",
            "gridcolor": "white",
            "gridwidth": 2,
            "linecolor": "white",
            "showbackground": true,
            "ticks": "",
            "zerolinecolor": "white"
           },
           "zaxis": {
            "backgroundcolor": "#E5ECF6",
            "gridcolor": "white",
            "gridwidth": 2,
            "linecolor": "white",
            "showbackground": true,
            "ticks": "",
            "zerolinecolor": "white"
           }
          },
          "shapedefaults": {
           "line": {
            "color": "#2a3f5f"
           }
          },
          "ternary": {
           "aaxis": {
            "gridcolor": "white",
            "linecolor": "white",
            "ticks": ""
           },
           "baxis": {
            "gridcolor": "white",
            "linecolor": "white",
            "ticks": ""
           },
           "bgcolor": "#E5ECF6",
           "caxis": {
            "gridcolor": "white",
            "linecolor": "white",
            "ticks": ""
           }
          },
          "title": {
           "x": 0.05
          },
          "xaxis": {
           "automargin": true,
           "gridcolor": "white",
           "linecolor": "white",
           "ticks": "",
           "title": {
            "standoff": 15
           },
           "zerolinecolor": "white",
           "zerolinewidth": 2
          },
          "yaxis": {
           "automargin": true,
           "gridcolor": "white",
           "linecolor": "white",
           "ticks": "",
           "title": {
            "standoff": 15
           },
           "zerolinecolor": "white",
           "zerolinewidth": 2
          }
         }
        },
        "title": {
         "x": 0.5
        },
        "xaxis": {
         "categoryorder": "category ascending",
         "gridcolor": "LightGrey",
         "linecolor": "Grey",
         "linewidth": 1,
         "mirror": true,
         "range": [
          0.8119346847074896,
          6.019815916586925
         ],
         "showline": true,
         "showticklabels": true,
         "side": "bottom",
         "title": {
          "text": "Predicted Target Value"
         },
         "visible": true,
         "zeroline": true,
         "zerolinecolor": "DarkGrey",
         "zerolinewidth": 1
        },
        "yaxis": {
         "categoryorder": "category ascending",
         "gridcolor": "rgba(0,0,0,0)",
         "linecolor": "Grey",
         "linewidth": 1,
         "mirror": true,
         "showline": true,
         "showticklabels": true,
         "side": "left",
         "title": {
          "text": "Target"
         },
         "visible": true,
         "zeroline": true,
         "zerolinecolor": "DarkGrey",
         "zerolinewidth": 1
        }
       },
       "_model_module": "jupyterlab-plotly",
       "_model_module_version": "^5.4.0",
       "_model_name": "FigureModel",
       "_py2js_addTraces": {},
       "_py2js_animate": {},
       "_py2js_deleteTraces": {},
       "_py2js_moveTraces": {},
       "_py2js_relayout": {},
       "_py2js_removeLayoutProps": {},
       "_py2js_removeTraceProps": {},
       "_py2js_restyle": {},
       "_py2js_update": {},
       "_view_count": 0,
       "_view_module": "jupyterlab-plotly",
       "_view_module_version": "^5.4.0",
       "_view_name": "FigureView",
       "tabbable": null,
       "tooltip": null
      }
     },
     "aa2c0f92e6914886bdc824a5829abb9a": {
      "model_module": "@jupyter-widgets/controls",
      "model_module_version": "2.0.0",
      "model_name": "HTMLModel",
      "state": {
       "_dom_classes": [],
       "_model_module": "@jupyter-widgets/controls",
       "_model_module_version": "2.0.0",
       "_model_name": "HTMLModel",
       "_view_count": null,
       "_view_module": "@jupyter-widgets/controls",
       "_view_module_version": "2.0.0",
       "_view_name": "HTMLView",
       "description": "",
       "description_allow_html": false,
       "layout": "IPY_MODEL_cf3a9a061651416794d379d953c72ba3",
       "placeholder": "​",
       "style": "IPY_MODEL_28891be6a82f4fee83efaa9801304fc4",
       "tabbable": null,
       "tooltip": null,
       "value": "<h2>Model Predictions</h2>"
      }
     },
     "ab6520076cb94fc081fab0e228ed9512": {
      "model_module": "@jupyter-widgets/controls",
      "model_module_version": "2.0.0",
      "model_name": "HTMLStyleModel",
      "state": {
       "_model_module": "@jupyter-widgets/controls",
       "_model_module_version": "2.0.0",
       "_model_name": "HTMLStyleModel",
       "_view_count": null,
       "_view_module": "@jupyter-widgets/base",
       "_view_module_version": "2.0.0",
       "_view_name": "StyleView",
       "background": null,
       "description_width": "",
       "font_size": null,
       "text_color": null
      }
     },
     "b29a8748f34a4c75accd74d3db5ae0f1": {
      "model_module": "@jupyter-widgets/controls",
      "model_module_version": "2.0.0",
      "model_name": "DescriptionStyleModel",
      "state": {
       "_model_module": "@jupyter-widgets/controls",
       "_model_module_version": "2.0.0",
       "_model_name": "DescriptionStyleModel",
       "_view_count": null,
       "_view_module": "@jupyter-widgets/base",
       "_view_module_version": "2.0.0",
       "_view_name": "StyleView",
       "description_width": ""
      }
     },
     "b35fdc7c75a6478aa5323732305f7059": {
      "model_module": "@jupyter-widgets/controls",
      "model_module_version": "2.0.0",
      "model_name": "DescriptionStyleModel",
      "state": {
       "_model_module": "@jupyter-widgets/controls",
       "_model_module_version": "2.0.0",
       "_model_name": "DescriptionStyleModel",
       "_view_count": null,
       "_view_module": "@jupyter-widgets/base",
       "_view_module_version": "2.0.0",
       "_view_name": "StyleView",
       "description_width": ""
      }
     },
     "b7ef1e0394a34e7e990fcd344c2b9eec": {
      "model_module": "@jupyter-widgets/controls",
      "model_module_version": "2.0.0",
      "model_name": "HTMLStyleModel",
      "state": {
       "_model_module": "@jupyter-widgets/controls",
       "_model_module_version": "2.0.0",
       "_model_name": "HTMLStyleModel",
       "_view_count": null,
       "_view_module": "@jupyter-widgets/base",
       "_view_module_version": "2.0.0",
       "_view_name": "StyleView",
       "background": null,
       "description_width": "",
       "font_size": null,
       "text_color": null
      }
     },
     "b8cf3efa7f53439ba081b3296afdd4e1": {
      "model_module": "@jupyter-widgets/controls",
      "model_module_version": "2.0.0",
      "model_name": "HTMLModel",
      "state": {
       "_dom_classes": [],
       "_model_module": "@jupyter-widgets/controls",
       "_model_module_version": "2.0.0",
       "_model_name": "HTMLModel",
       "_view_count": null,
       "_view_module": "@jupyter-widgets/controls",
       "_view_module_version": "2.0.0",
       "_view_name": "HTMLView",
       "description": "",
       "description_allow_html": false,
       "layout": "IPY_MODEL_dc44d4fac28b41e5be29590309b06a09",
       "placeholder": "​",
       "style": "IPY_MODEL_27bb32e391b64c1b9b8d135c51d082c1",
       "tabbable": null,
       "tooltip": null,
       "value": "<h2>Sample Values</h2>"
      }
     },
     "ba27d5a9fd354e62992fab65ee34053f": {
      "model_module": "@jupyter-widgets/base",
      "model_module_version": "2.0.0",
      "model_name": "LayoutModel",
      "state": {
       "_model_module": "@jupyter-widgets/base",
       "_model_module_version": "2.0.0",
       "_model_name": "LayoutModel",
       "_view_count": null,
       "_view_module": "@jupyter-widgets/base",
       "_view_module_version": "2.0.0",
       "_view_name": "LayoutView",
       "align_content": null,
       "align_items": null,
       "align_self": null,
       "border_bottom": null,
       "border_left": null,
       "border_right": null,
       "border_top": null,
       "bottom": null,
       "display": null,
       "flex": null,
       "flex_flow": null,
       "grid_area": null,
       "grid_auto_columns": null,
       "grid_auto_flow": null,
       "grid_auto_rows": null,
       "grid_column": null,
       "grid_gap": null,
       "grid_row": null,
       "grid_template_areas": null,
       "grid_template_columns": null,
       "grid_template_rows": null,
       "height": null,
       "justify_content": null,
       "justify_items": null,
       "left": null,
       "margin": null,
       "max_height": null,
       "max_width": null,
       "min_height": null,
       "min_width": null,
       "object_fit": null,
       "object_position": null,
       "order": null,
       "overflow": null,
       "padding": null,
       "right": null,
       "top": null,
       "visibility": null,
       "width": null
      }
     },
     "c19bb9f2df18422c9002f0114ac49806": {
      "model_module": "@jupyter-widgets/controls",
      "model_module_version": "2.0.0",
      "model_name": "DescriptionStyleModel",
      "state": {
       "_model_module": "@jupyter-widgets/controls",
       "_model_module_version": "2.0.0",
       "_model_name": "DescriptionStyleModel",
       "_view_count": null,
       "_view_module": "@jupyter-widgets/base",
       "_view_module_version": "2.0.0",
       "_view_name": "StyleView",
       "description_width": "initial"
      }
     },
     "c22c6d4b82ef4eda90f42ff6b0da3c49": {
      "model_module": "@jupyter-widgets/base",
      "model_module_version": "2.0.0",
      "model_name": "LayoutModel",
      "state": {
       "_model_module": "@jupyter-widgets/base",
       "_model_module_version": "2.0.0",
       "_model_name": "LayoutModel",
       "_view_count": null,
       "_view_module": "@jupyter-widgets/base",
       "_view_module_version": "2.0.0",
       "_view_name": "LayoutView",
       "align_content": null,
       "align_items": null,
       "align_self": null,
       "border_bottom": null,
       "border_left": null,
       "border_right": null,
       "border_top": null,
       "bottom": null,
       "display": "inline-flex",
       "flex": null,
       "flex_flow": "row wrap",
       "grid_area": null,
       "grid_auto_columns": null,
       "grid_auto_flow": null,
       "grid_auto_rows": null,
       "grid_column": null,
       "grid_gap": null,
       "grid_row": null,
       "grid_template_areas": null,
       "grid_template_columns": null,
       "grid_template_rows": null,
       "height": null,
       "justify_content": null,
       "justify_items": null,
       "left": null,
       "margin": null,
       "max_height": null,
       "max_width": null,
       "min_height": null,
       "min_width": null,
       "object_fit": null,
       "object_position": null,
       "order": null,
       "overflow": null,
       "padding": null,
       "right": null,
       "top": null,
       "visibility": null,
       "width": "100%"
      }
     },
     "c8618f06e0b74fc6a8f87908765e089b": {
      "model_module": "@jupyter-widgets/controls",
      "model_module_version": "2.0.0",
      "model_name": "DescriptionStyleModel",
      "state": {
       "_model_module": "@jupyter-widgets/controls",
       "_model_module_version": "2.0.0",
       "_model_name": "DescriptionStyleModel",
       "_view_count": null,
       "_view_module": "@jupyter-widgets/base",
       "_view_module_version": "2.0.0",
       "_view_name": "StyleView",
       "description_width": ""
      }
     },
     "c8a7c1ccfbb843be8798d4ef3dc67fc3": {
      "model_module": "@jupyter-widgets/controls",
      "model_module_version": "2.0.0",
      "model_name": "FloatTextModel",
      "state": {
       "_dom_classes": [],
       "_model_module": "@jupyter-widgets/controls",
       "_model_module_version": "2.0.0",
       "_model_name": "FloatTextModel",
       "_view_count": null,
       "_view_module": "@jupyter-widgets/controls",
       "_view_module_version": "2.0.0",
       "_view_name": "FloatTextView",
       "continuous_update": false,
       "description": "AveBedrms",
       "description_allow_html": false,
       "disabled": false,
       "layout": "IPY_MODEL_628bc7ab7e364f89966f283a57f9811e",
       "step": null,
       "style": "IPY_MODEL_b35fdc7c75a6478aa5323732305f7059",
       "tabbable": null,
       "tooltip": null,
       "value": 1.0916414904330312
      }
     },
     "c919f811782b44aaae927c6617429ceb": {
      "model_module": "@jupyter-widgets/controls",
      "model_module_version": "2.0.0",
      "model_name": "HBoxModel",
      "state": {
       "_dom_classes": [],
       "_model_module": "@jupyter-widgets/controls",
       "_model_module_version": "2.0.0",
       "_model_name": "HBoxModel",
       "_view_count": null,
       "_view_module": "@jupyter-widgets/controls",
       "_view_module_version": "2.0.0",
       "_view_name": "HBoxView",
       "box_style": "",
       "children": [
        "IPY_MODEL_eb4694e490674b11824f915afaf2737d",
        "IPY_MODEL_37aa1b95308a403bbe50fa5155c77836",
        "IPY_MODEL_3e3e1e68cf434015949febda42e68520",
        "IPY_MODEL_c8a7c1ccfbb843be8798d4ef3dc67fc3",
        "IPY_MODEL_d075c2f47dbb4dd3a718b276acd4008c",
        "IPY_MODEL_9967db5aa66842a1817d1f8dbdf49ca4",
        "IPY_MODEL_7b0abc53389e4419927b7760a15da39d",
        "IPY_MODEL_47fb2bcf04334693893450046e118ab9"
       ],
       "layout": "IPY_MODEL_c22c6d4b82ef4eda90f42ff6b0da3c49",
       "tabbable": null,
       "tooltip": null
      }
     },
     "ca5dbfb4223b4826bec9cda7be30bb93": {
      "model_module": "@jupyter-widgets/controls",
      "model_module_version": "2.0.0",
      "model_name": "HTMLModel",
      "state": {
       "_dom_classes": [],
       "_model_module": "@jupyter-widgets/controls",
       "_model_module_version": "2.0.0",
       "_model_name": "HTMLModel",
       "_view_count": null,
       "_view_module": "@jupyter-widgets/controls",
       "_view_module_version": "2.0.0",
       "_view_name": "HTMLView",
       "description": "",
       "description_allow_html": false,
       "layout": "IPY_MODEL_8cc912a87528466ab93d2f78f999ee87",
       "placeholder": "​",
       "style": "IPY_MODEL_58eed21f21b644e5b7ad607f00dde511",
       "tabbable": null,
       "tooltip": null,
       "value": "<h1 style='color:#F06F05;'>Select and Explore Predictions</h1>"
      }
     },
     "ca7d5dba609843a6bfb497e3195cd709": {
      "model_module": "@jupyter-widgets/controls",
      "model_module_version": "2.0.0",
      "model_name": "DropdownModel",
      "state": {
       "_dom_classes": [],
       "_model_module": "@jupyter-widgets/controls",
       "_model_module_version": "2.0.0",
       "_model_name": "DropdownModel",
       "_options_labels": [
        "scatter",
        "box"
       ],
       "_view_count": null,
       "_view_module": "@jupyter-widgets/controls",
       "_view_module_version": "2.0.0",
       "_view_name": "DropdownView",
       "description": "Plot Type",
       "description_allow_html": false,
       "disabled": false,
       "index": 0,
       "layout": "IPY_MODEL_4f25151c22de4916996fafd8373af47c",
       "style": "IPY_MODEL_15bab46de6484d3697862323e5e86e78",
       "tabbable": null,
       "tooltip": null
      }
     },
     "cb6cf7454d29442288388393476acf6d": {
      "model_module": "@jupyter-widgets/controls",
      "model_module_version": "2.0.0",
      "model_name": "DescriptionStyleModel",
      "state": {
       "_model_module": "@jupyter-widgets/controls",
       "_model_module_version": "2.0.0",
       "_model_name": "DescriptionStyleModel",
       "_view_count": null,
       "_view_module": "@jupyter-widgets/base",
       "_view_module_version": "2.0.0",
       "_view_name": "StyleView",
       "description_width": ""
      }
     },
     "ce077608d8cf4bb08e459eec1df5ea62": {
      "model_module": "@jupyter-widgets/controls",
      "model_module_version": "2.0.0",
      "model_name": "CheckboxModel",
      "state": {
       "_dom_classes": [],
       "_model_module": "@jupyter-widgets/controls",
       "_model_module_version": "2.0.0",
       "_model_name": "CheckboxModel",
       "_view_count": null,
       "_view_module": "@jupyter-widgets/controls",
       "_view_module_version": "2.0.0",
       "_view_name": "CheckboxView",
       "description": "Show all features",
       "description_allow_html": false,
       "disabled": true,
       "indent": false,
       "layout": "IPY_MODEL_072775e3bde748cdbbf32f458acad9dd",
       "style": "IPY_MODEL_570fb8b9e201493789bc8cf91ac4d6db",
       "tabbable": null,
       "tooltip": null,
       "value": true
      }
     },
     "cf3a9a061651416794d379d953c72ba3": {
      "model_module": "@jupyter-widgets/base",
      "model_module_version": "2.0.0",
      "model_name": "LayoutModel",
      "state": {
       "_model_module": "@jupyter-widgets/base",
       "_model_module_version": "2.0.0",
       "_model_name": "LayoutModel",
       "_view_count": null,
       "_view_module": "@jupyter-widgets/base",
       "_view_module_version": "2.0.0",
       "_view_name": "LayoutView",
       "align_content": null,
       "align_items": null,
       "align_self": null,
       "border_bottom": null,
       "border_left": null,
       "border_right": null,
       "border_top": null,
       "bottom": null,
       "display": null,
       "flex": null,
       "flex_flow": null,
       "grid_area": null,
       "grid_auto_columns": null,
       "grid_auto_flow": null,
       "grid_auto_rows": null,
       "grid_column": null,
       "grid_gap": null,
       "grid_row": null,
       "grid_template_areas": null,
       "grid_template_columns": null,
       "grid_template_rows": null,
       "height": null,
       "justify_content": null,
       "justify_items": null,
       "left": null,
       "margin": null,
       "max_height": null,
       "max_width": null,
       "min_height": null,
       "min_width": null,
       "object_fit": null,
       "object_position": null,
       "order": null,
       "overflow": null,
       "padding": null,
       "right": null,
       "top": null,
       "visibility": null,
       "width": null
      }
     },
     "d075c2f47dbb4dd3a718b276acd4008c": {
      "model_module": "@jupyter-widgets/controls",
      "model_module_version": "2.0.0",
      "model_name": "FloatTextModel",
      "state": {
       "_dom_classes": [],
       "_model_module": "@jupyter-widgets/controls",
       "_model_module_version": "2.0.0",
       "_model_name": "FloatTextModel",
       "_view_count": null,
       "_view_module": "@jupyter-widgets/controls",
       "_view_module_version": "2.0.0",
       "_view_name": "FloatTextView",
       "continuous_update": false,
       "description": "Population",
       "description_allow_html": false,
       "disabled": false,
       "layout": "IPY_MODEL_97e0cd0e15374821ae08f6fb8898609a",
       "step": null,
       "style": "IPY_MODEL_b29a8748f34a4c75accd74d3db5ae0f1",
       "tabbable": null,
       "tooltip": null,
       "value": 3107
      }
     },
     "d0cae5045e2441c0bdd7968fb397f66c": {
      "model_module": "@jupyter-widgets/base",
      "model_module_version": "2.0.0",
      "model_name": "LayoutModel",
      "state": {
       "_model_module": "@jupyter-widgets/base",
       "_model_module_version": "2.0.0",
       "_model_name": "LayoutModel",
       "_view_count": null,
       "_view_module": "@jupyter-widgets/base",
       "_view_module_version": "2.0.0",
       "_view_name": "LayoutView",
       "align_content": null,
       "align_items": null,
       "align_self": null,
       "border_bottom": null,
       "border_left": null,
       "border_right": null,
       "border_top": null,
       "bottom": null,
       "display": null,
       "flex": null,
       "flex_flow": null,
       "grid_area": null,
       "grid_auto_columns": null,
       "grid_auto_flow": null,
       "grid_auto_rows": null,
       "grid_column": null,
       "grid_gap": null,
       "grid_row": null,
       "grid_template_areas": null,
       "grid_template_columns": null,
       "grid_template_rows": null,
       "height": null,
       "justify_content": null,
       "justify_items": null,
       "left": null,
       "margin": null,
       "max_height": null,
       "max_width": null,
       "min_height": null,
       "min_width": null,
       "object_fit": null,
       "object_position": null,
       "order": null,
       "overflow": null,
       "padding": null,
       "right": null,
       "top": null,
       "visibility": null,
       "width": null
      }
     },
     "d56ed0cdf62445a5b1ece4535f641160": {
      "model_module": "@jupyter-widgets/controls",
      "model_module_version": "2.0.0",
      "model_name": "VBoxModel",
      "state": {
       "_dom_classes": [],
       "_model_module": "@jupyter-widgets/controls",
       "_model_module_version": "2.0.0",
       "_model_name": "VBoxModel",
       "_view_count": null,
       "_view_module": "@jupyter-widgets/controls",
       "_view_module_version": "2.0.0",
       "_view_name": "VBoxView",
       "box_style": "",
       "children": [
        "IPY_MODEL_454db7b647914167a6d09043e53e1b64",
        "IPY_MODEL_e17ab936bf92453193a8175840c98edb"
       ],
       "layout": "IPY_MODEL_3f1279d8a15147f29b0d1028cc06556d",
       "tabbable": null,
       "tooltip": null
      }
     },
     "d652e62be559445a9f12ed4764c0388c": {
      "model_module": "@jupyter-widgets/controls",
      "model_module_version": "2.0.0",
      "model_name": "DescriptionStyleModel",
      "state": {
       "_model_module": "@jupyter-widgets/controls",
       "_model_module_version": "2.0.0",
       "_model_name": "DescriptionStyleModel",
       "_view_count": null,
       "_view_module": "@jupyter-widgets/base",
       "_view_module_version": "2.0.0",
       "_view_name": "StyleView",
       "description_width": ""
      }
     },
     "d6b3fa1fe7d24cc1b0a3e218b63f9d92": {
      "model_module": "@jupyter-widgets/base",
      "model_module_version": "2.0.0",
      "model_name": "LayoutModel",
      "state": {
       "_model_module": "@jupyter-widgets/base",
       "_model_module_version": "2.0.0",
       "_model_name": "LayoutModel",
       "_view_count": null,
       "_view_module": "@jupyter-widgets/base",
       "_view_module_version": "2.0.0",
       "_view_name": "LayoutView",
       "align_content": null,
       "align_items": null,
       "align_self": null,
       "border_bottom": null,
       "border_left": null,
       "border_right": null,
       "border_top": null,
       "bottom": null,
       "display": null,
       "flex": null,
       "flex_flow": null,
       "grid_area": null,
       "grid_auto_columns": null,
       "grid_auto_flow": null,
       "grid_auto_rows": null,
       "grid_column": null,
       "grid_gap": null,
       "grid_row": null,
       "grid_template_areas": null,
       "grid_template_columns": null,
       "grid_template_rows": null,
       "height": null,
       "justify_content": null,
       "justify_items": null,
       "left": null,
       "margin": null,
       "max_height": null,
       "max_width": null,
       "min_height": null,
       "min_width": null,
       "object_fit": null,
       "object_position": null,
       "order": null,
       "overflow": null,
       "padding": null,
       "right": null,
       "top": null,
       "visibility": null,
       "width": "1100px"
      }
     },
     "d6d33428900b4369b9266f78c7e23252": {
      "model_module": "@jupyter-widgets/output",
      "model_module_version": "1.0.0",
      "model_name": "OutputModel",
      "state": {
       "_dom_classes": [],
       "_model_module": "@jupyter-widgets/output",
       "_model_module_version": "1.0.0",
       "_model_name": "OutputModel",
       "_view_count": null,
       "_view_module": "@jupyter-widgets/output",
       "_view_module_version": "1.0.0",
       "_view_name": "OutputView",
       "layout": "IPY_MODEL_5e40ef6da90844be837dd40f5096ba70",
       "msg_id": "",
       "outputs": [
        {
         "data": {
          "text/html": "<div>\n<style scoped>\n    .dataframe tbody tr th:only-of-type {\n        vertical-align: middle;\n    }\n\n    .dataframe tbody tr th {\n        vertical-align: top;\n    }\n\n    .dataframe thead th {\n        text-align: right;\n    }\n</style>\n<table border=\"1\" class=\"dataframe\">\n  <thead>\n    <tr style=\"text-align: right;\">\n      <th></th>\n      <th>MedInc</th>\n      <th>HouseAge</th>\n      <th>AveRooms</th>\n      <th>AveBedrms</th>\n      <th>Population</th>\n      <th>AveOccup</th>\n      <th>Latitude</th>\n      <th>Longitude</th>\n    </tr>\n  </thead>\n  <tbody>\n    <tr>\n      <th>0</th>\n      <td>3.0192</td>\n      <td>24.0</td>\n      <td>4.214751</td>\n      <td>0.969631</td>\n      <td>1844.0</td>\n      <td>4.000000</td>\n      <td>36.93</td>\n      <td>-121.77</td>\n    </tr>\n    <tr>\n      <th>1</th>\n      <td>4.9833</td>\n      <td>32.0</td>\n      <td>6.461078</td>\n      <td>1.239521</td>\n      <td>486.0</td>\n      <td>2.910180</td>\n      <td>34.26</td>\n      <td>-118.28</td>\n    </tr>\n    <tr>\n      <th>2</th>\n      <td>2.7652</td>\n      <td>19.0</td>\n      <td>4.031776</td>\n      <td>1.035514</td>\n      <td>1349.0</td>\n      <td>2.521495</td>\n      <td>32.81</td>\n      <td>-117.13</td>\n    </tr>\n    <tr>\n      <th>3</th>\n      <td>15.0001</td>\n      <td>32.0</td>\n      <td>8.845041</td>\n      <td>1.035124</td>\n      <td>1318.0</td>\n      <td>2.723140</td>\n      <td>37.44</td>\n      <td>-122.22</td>\n    </tr>\n    <tr>\n      <th>4</th>\n      <td>3.1204</td>\n      <td>32.0</td>\n      <td>4.596288</td>\n      <td>1.095128</td>\n      <td>1371.0</td>\n      <td>3.180974</td>\n      <td>33.91</td>\n      <td>-118.14</td>\n    </tr>\n    <tr>\n      <th>5</th>\n      <td>3.3095</td>\n      <td>33.0</td>\n      <td>5.474120</td>\n      <td>0.950311</td>\n      <td>1113.0</td>\n      <td>2.304348</td>\n      <td>41.74</td>\n      <td>-122.64</td>\n    </tr>\n    <tr>\n      <th>6</th>\n      <td>5.3777</td>\n      <td>41.0</td>\n      <td>5.479401</td>\n      <td>1.000000</td>\n      <td>601.0</td>\n      <td>2.250936</td>\n      <td>34.06</td>\n      <td>-118.43</td>\n    </tr>\n    <tr>\n      <th>7</th>\n      <td>5.7910</td>\n      <td>36.0</td>\n      <td>5.275000</td>\n      <td>0.956250</td>\n      <td>373.0</td>\n      <td>2.331250</td>\n      <td>37.34</td>\n      <td>-121.96</td>\n    </tr>\n    <tr>\n      <th>8</th>\n      <td>5.7416</td>\n      <td>25.0</td>\n      <td>7.154286</td>\n      <td>0.985714</td>\n      <td>1067.0</td>\n      <td>3.048571</td>\n      <td>32.80</td>\n      <td>-117.04</td>\n    </tr>\n    <tr>\n      <th>9</th>\n      <td>3.6833</td>\n      <td>33.0</td>\n      <td>6.102362</td>\n      <td>1.090551</td>\n      <td>638.0</td>\n      <td>2.511811</td>\n      <td>37.91</td>\n      <td>-122.07</td>\n    </tr>\n  </tbody>\n</table>\n</div>",
          "text/plain": "    MedInc  HouseAge  AveRooms  AveBedrms  Population  AveOccup  Latitude  \\\n0   3.0192      24.0  4.214751   0.969631      1844.0  4.000000     36.93   \n1   4.9833      32.0  6.461078   1.239521       486.0  2.910180     34.26   \n2   2.7652      19.0  4.031776   1.035514      1349.0  2.521495     32.81   \n3  15.0001      32.0  8.845041   1.035124      1318.0  2.723140     37.44   \n4   3.1204      32.0  4.596288   1.095128      1371.0  3.180974     33.91   \n5   3.3095      33.0  5.474120   0.950311      1113.0  2.304348     41.74   \n6   5.3777      41.0  5.479401   1.000000       601.0  2.250936     34.06   \n7   5.7910      36.0  5.275000   0.956250       373.0  2.331250     37.34   \n8   5.7416      25.0  7.154286   0.985714      1067.0  3.048571     32.80   \n9   3.6833      33.0  6.102362   1.090551       638.0  2.511811     37.91   \n\n   Longitude  \n0    -121.77  \n1    -118.28  \n2    -117.13  \n3    -122.22  \n4    -118.14  \n5    -122.64  \n6    -118.43  \n7    -121.96  \n8    -117.04  \n9    -122.07  "
         },
         "metadata": {},
         "output_type": "display_data"
        }
       ],
       "tabbable": null,
       "tooltip": null
      }
     },
     "da08b13774a74162aa06fe7cf6c54df7": {
      "model_module": "@jupyter-widgets/base",
      "model_module_version": "2.0.0",
      "model_name": "LayoutModel",
      "state": {
       "_model_module": "@jupyter-widgets/base",
       "_model_module_version": "2.0.0",
       "_model_name": "LayoutModel",
       "_view_count": null,
       "_view_module": "@jupyter-widgets/base",
       "_view_module_version": "2.0.0",
       "_view_name": "LayoutView",
       "align_content": null,
       "align_items": null,
       "align_self": null,
       "border_bottom": null,
       "border_left": null,
       "border_right": null,
       "border_top": null,
       "bottom": null,
       "display": null,
       "flex": null,
       "flex_flow": null,
       "grid_area": null,
       "grid_auto_columns": null,
       "grid_auto_flow": null,
       "grid_auto_rows": null,
       "grid_column": null,
       "grid_gap": null,
       "grid_row": null,
       "grid_template_areas": null,
       "grid_template_columns": null,
       "grid_template_rows": null,
       "height": null,
       "justify_content": null,
       "justify_items": null,
       "left": null,
       "margin": null,
       "max_height": null,
       "max_width": null,
       "min_height": null,
       "min_width": null,
       "object_fit": null,
       "object_position": null,
       "order": null,
       "overflow": null,
       "padding": null,
       "right": null,
       "top": null,
       "visibility": null,
       "width": null
      }
     },
     "da8d12b412ae4545b2b606a6c829b135": {
      "model_module": "@jupyter-widgets/controls",
      "model_module_version": "2.0.0",
      "model_name": "HTMLStyleModel",
      "state": {
       "_model_module": "@jupyter-widgets/controls",
       "_model_module_version": "2.0.0",
       "_model_name": "HTMLStyleModel",
       "_view_count": null,
       "_view_module": "@jupyter-widgets/base",
       "_view_module_version": "2.0.0",
       "_view_name": "StyleView",
       "background": null,
       "description_width": "",
       "font_size": null,
       "text_color": null
      }
     },
     "db50a84673b845d6987e00ef35ef620c": {
      "model_module": "@jupyter-widgets/base",
      "model_module_version": "2.0.0",
      "model_name": "LayoutModel",
      "state": {
       "_model_module": "@jupyter-widgets/base",
       "_model_module_version": "2.0.0",
       "_model_name": "LayoutModel",
       "_view_count": null,
       "_view_module": "@jupyter-widgets/base",
       "_view_module_version": "2.0.0",
       "_view_name": "LayoutView",
       "align_content": null,
       "align_items": null,
       "align_self": null,
       "border_bottom": null,
       "border_left": null,
       "border_right": null,
       "border_top": null,
       "bottom": null,
       "display": null,
       "flex": null,
       "flex_flow": null,
       "grid_area": null,
       "grid_auto_columns": null,
       "grid_auto_flow": null,
       "grid_auto_rows": null,
       "grid_column": null,
       "grid_gap": null,
       "grid_row": null,
       "grid_template_areas": null,
       "grid_template_columns": null,
       "grid_template_rows": null,
       "height": null,
       "justify_content": null,
       "justify_items": null,
       "left": null,
       "margin": null,
       "max_height": null,
       "max_width": null,
       "min_height": null,
       "min_width": null,
       "object_fit": null,
       "object_position": null,
       "order": null,
       "overflow": null,
       "padding": null,
       "right": null,
       "top": null,
       "visibility": null,
       "width": "initial"
      }
     },
     "db75bd36755e43029ce5b7afa32ddde3": {
      "model_module": "@jupyter-widgets/base",
      "model_module_version": "2.0.0",
      "model_name": "LayoutModel",
      "state": {
       "_model_module": "@jupyter-widgets/base",
       "_model_module_version": "2.0.0",
       "_model_name": "LayoutModel",
       "_view_count": null,
       "_view_module": "@jupyter-widgets/base",
       "_view_module_version": "2.0.0",
       "_view_name": "LayoutView",
       "align_content": null,
       "align_items": null,
       "align_self": null,
       "border_bottom": null,
       "border_left": null,
       "border_right": null,
       "border_top": null,
       "bottom": null,
       "display": null,
       "flex": null,
       "flex_flow": null,
       "grid_area": null,
       "grid_auto_columns": null,
       "grid_auto_flow": null,
       "grid_auto_rows": null,
       "grid_column": null,
       "grid_gap": null,
       "grid_row": null,
       "grid_template_areas": null,
       "grid_template_columns": null,
       "grid_template_rows": null,
       "height": null,
       "justify_content": null,
       "justify_items": null,
       "left": null,
       "margin": null,
       "max_height": null,
       "max_width": null,
       "min_height": null,
       "min_width": null,
       "object_fit": null,
       "object_position": null,
       "order": null,
       "overflow": null,
       "padding": null,
       "right": null,
       "top": null,
       "visibility": null,
       "width": null
      }
     },
     "dc44d4fac28b41e5be29590309b06a09": {
      "model_module": "@jupyter-widgets/base",
      "model_module_version": "2.0.0",
      "model_name": "LayoutModel",
      "state": {
       "_model_module": "@jupyter-widgets/base",
       "_model_module_version": "2.0.0",
       "_model_name": "LayoutModel",
       "_view_count": null,
       "_view_module": "@jupyter-widgets/base",
       "_view_module_version": "2.0.0",
       "_view_name": "LayoutView",
       "align_content": null,
       "align_items": null,
       "align_self": null,
       "border_bottom": null,
       "border_left": null,
       "border_right": null,
       "border_top": null,
       "bottom": null,
       "display": null,
       "flex": null,
       "flex_flow": null,
       "grid_area": null,
       "grid_auto_columns": null,
       "grid_auto_flow": null,
       "grid_auto_rows": null,
       "grid_column": null,
       "grid_gap": null,
       "grid_row": null,
       "grid_template_areas": null,
       "grid_template_columns": null,
       "grid_template_rows": null,
       "height": null,
       "justify_content": null,
       "justify_items": null,
       "left": null,
       "margin": null,
       "max_height": null,
       "max_width": null,
       "min_height": null,
       "min_width": null,
       "object_fit": null,
       "object_position": null,
       "order": null,
       "overflow": null,
       "padding": null,
       "right": null,
       "top": null,
       "visibility": null,
       "width": null
      }
     },
     "dd1abb3a276a49719e0188819338ca0b": {
      "model_module": "@jupyter-widgets/controls",
      "model_module_version": "2.0.0",
      "model_name": "HTMLModel",
      "state": {
       "_dom_classes": [],
       "_model_module": "@jupyter-widgets/controls",
       "_model_module_version": "2.0.0",
       "_model_name": "HTMLModel",
       "_view_count": null,
       "_view_module": "@jupyter-widgets/controls",
       "_view_module_version": "2.0.0",
       "_view_name": "HTMLView",
       "description": "",
       "description_allow_html": false,
       "layout": "IPY_MODEL_28f758312a214aea940158d5fffd8c97",
       "placeholder": "​",
       "style": "IPY_MODEL_b7ef1e0394a34e7e990fcd344c2b9eec",
       "tabbable": null,
       "tooltip": null,
       "value": "<style type=\"text/css\">\n#T_a661b thead th {\n  border-bottom: 1px solid #DDD;\n  background-color: #F5F5F5;\n  min-width: 20px;\n  padding: 0 10px;\n  text-align: right;\n}\n#T_a661b tbody th {\n  border-bottom: 1px solid #DDD;\n  background-color: #F5F5F5;\n  min-width: 115px;\n  padding: 0 10px;\n  text-align: right;\n}\n#T_a661b td {\n  text-align: right;\n  padding: 0 10px;\n}\n#T_a661b tr:nth-child(even) {\n  background-color: #F9F9F9;\n}\n#T_a661b  {\n  border-collapse: collapse;\n  border: 1px solid #DDD;\n}\n</style>\n<table id=\"T_a661b\">\n  <thead>\n    <tr>\n      <th class=\"blank level0\" >&nbsp;</th>\n      <th id=\"T_a661b_level0_col0\" class=\"col_heading level0 col0\" >MedInc</th>\n      <th id=\"T_a661b_level0_col1\" class=\"col_heading level0 col1\" >HouseAge</th>\n      <th id=\"T_a661b_level0_col2\" class=\"col_heading level0 col2\" >AveRooms</th>\n      <th id=\"T_a661b_level0_col3\" class=\"col_heading level0 col3\" >AveBedrms</th>\n      <th id=\"T_a661b_level0_col4\" class=\"col_heading level0 col4\" >Population</th>\n      <th id=\"T_a661b_level0_col5\" class=\"col_heading level0 col5\" >AveOccup</th>\n      <th id=\"T_a661b_level0_col6\" class=\"col_heading level0 col6\" >Latitude</th>\n      <th id=\"T_a661b_level0_col7\" class=\"col_heading level0 col7\" >Longitude</th>\n    </tr>\n  </thead>\n  <tbody>\n    <tr>\n      <th id=\"T_a661b_level0_row0\" class=\"row_heading level0 row0\" >Original Sample</th>\n      <td id=\"T_a661b_row0_col0\" class=\"data row0 col0\" >2.0278</td>\n      <td id=\"T_a661b_row0_col1\" class=\"data row0 col1\" >31.0</td>\n      <td id=\"T_a661b_row0_col2\" class=\"data row0 col2\" >2.8469284994964754</td>\n      <td id=\"T_a661b_row0_col3\" class=\"data row0 col3\" >1.0916414904330312</td>\n      <td id=\"T_a661b_row0_col4\" class=\"data row0 col4\" >3107.0</td>\n      <td id=\"T_a661b_row0_col5\" class=\"data row0 col5\" >3.1289023162134946</td>\n      <td id=\"T_a661b_row0_col6\" class=\"data row0 col6\" >34.06</td>\n      <td id=\"T_a661b_row0_col7\" class=\"data row0 col7\" >-118.31</td>\n    </tr>\n    <tr>\n      <th id=\"T_a661b_level0_row1\" class=\"row_heading level0 row1\" >Modified Sample</th>\n      <td id=\"T_a661b_row1_col0\" class=\"data row1 col0\" >2.0278</td>\n      <td id=\"T_a661b_row1_col1\" class=\"data row1 col1\" >31.0</td>\n      <td id=\"T_a661b_row1_col2\" class=\"data row1 col2\" >2.8469284994964754</td>\n      <td id=\"T_a661b_row1_col3\" class=\"data row1 col3\" >1.0916414904330312</td>\n      <td id=\"T_a661b_row1_col4\" class=\"data row1 col4\" >3107.0</td>\n      <td id=\"T_a661b_row1_col5\" class=\"data row1 col5\" >3.1289023162134946</td>\n      <td id=\"T_a661b_row1_col6\" class=\"data row1 col6\" >34.06</td>\n      <td id=\"T_a661b_row1_col7\" class=\"data row1 col7\" >-118.31</td>\n    </tr>\n  </tbody>\n</table>\n"
      }
     },
     "ddd6f34ffaae4403a0ba6130f26b9aa7": {
      "model_module": "@jupyter-widgets/base",
      "model_module_version": "2.0.0",
      "model_name": "LayoutModel",
      "state": {
       "_model_module": "@jupyter-widgets/base",
       "_model_module_version": "2.0.0",
       "_model_name": "LayoutModel",
       "_view_count": null,
       "_view_module": "@jupyter-widgets/base",
       "_view_module_version": "2.0.0",
       "_view_name": "LayoutView",
       "align_content": null,
       "align_items": null,
       "align_self": null,
       "border_bottom": null,
       "border_left": null,
       "border_right": null,
       "border_top": null,
       "bottom": null,
       "display": null,
       "flex": null,
       "flex_flow": null,
       "grid_area": null,
       "grid_auto_columns": null,
       "grid_auto_flow": null,
       "grid_auto_rows": null,
       "grid_column": null,
       "grid_gap": null,
       "grid_row": null,
       "grid_template_areas": null,
       "grid_template_columns": null,
       "grid_template_rows": null,
       "height": null,
       "justify_content": null,
       "justify_items": null,
       "left": null,
       "margin": "15px 0",
       "max_height": null,
       "max_width": null,
       "min_height": null,
       "min_width": null,
       "object_fit": null,
       "object_position": null,
       "order": null,
       "overflow": null,
       "padding": null,
       "right": null,
       "top": null,
       "visibility": null,
       "width": null
      }
     },
     "df3a578783ba46bbb3b0d7da8738563e": {
      "model_module": "@jupyter-widgets/base",
      "model_module_version": "2.0.0",
      "model_name": "LayoutModel",
      "state": {
       "_model_module": "@jupyter-widgets/base",
       "_model_module_version": "2.0.0",
       "_model_name": "LayoutModel",
       "_view_count": null,
       "_view_module": "@jupyter-widgets/base",
       "_view_module_version": "2.0.0",
       "_view_name": "LayoutView",
       "align_content": null,
       "align_items": null,
       "align_self": null,
       "border_bottom": null,
       "border_left": null,
       "border_right": null,
       "border_top": null,
       "bottom": null,
       "display": null,
       "flex": null,
       "flex_flow": null,
       "grid_area": null,
       "grid_auto_columns": null,
       "grid_auto_flow": null,
       "grid_auto_rows": null,
       "grid_column": null,
       "grid_gap": null,
       "grid_row": null,
       "grid_template_areas": null,
       "grid_template_columns": null,
       "grid_template_rows": null,
       "height": null,
       "justify_content": null,
       "justify_items": null,
       "left": null,
       "margin": null,
       "max_height": null,
       "max_width": null,
       "min_height": null,
       "min_width": null,
       "object_fit": null,
       "object_position": null,
       "order": null,
       "overflow": null,
       "padding": null,
       "right": null,
       "top": null,
       "visibility": null,
       "width": null
      }
     },
     "dfbf22a73c6c48a68a7ad0d7656717e2": {
      "model_module": "@jupyter-widgets/base",
      "model_module_version": "2.0.0",
      "model_name": "LayoutModel",
      "state": {
       "_model_module": "@jupyter-widgets/base",
       "_model_module_version": "2.0.0",
       "_model_name": "LayoutModel",
       "_view_count": null,
       "_view_module": "@jupyter-widgets/base",
       "_view_module_version": "2.0.0",
       "_view_name": "LayoutView",
       "align_content": null,
       "align_items": null,
       "align_self": null,
       "border_bottom": null,
       "border_left": null,
       "border_right": null,
       "border_top": null,
       "bottom": null,
       "display": null,
       "flex": null,
       "flex_flow": null,
       "grid_area": null,
       "grid_auto_columns": null,
       "grid_auto_flow": null,
       "grid_auto_rows": null,
       "grid_column": null,
       "grid_gap": null,
       "grid_row": null,
       "grid_template_areas": null,
       "grid_template_columns": null,
       "grid_template_rows": null,
       "height": null,
       "justify_content": null,
       "justify_items": null,
       "left": null,
       "margin": null,
       "max_height": null,
       "max_width": null,
       "min_height": null,
       "min_width": null,
       "object_fit": null,
       "object_position": null,
       "order": null,
       "overflow": null,
       "padding": null,
       "right": null,
       "top": null,
       "visibility": null,
       "width": null
      }
     },
     "e17ab936bf92453193a8175840c98edb": {
      "model_module": "@jupyter-widgets/controls",
      "model_module_version": "2.0.0",
      "model_name": "VBoxModel",
      "state": {
       "_dom_classes": [],
       "_model_module": "@jupyter-widgets/controls",
       "_model_module_version": "2.0.0",
       "_model_name": "VBoxModel",
       "_view_count": null,
       "_view_module": "@jupyter-widgets/controls",
       "_view_module_version": "2.0.0",
       "_view_name": "VBoxView",
       "box_style": "",
       "children": [
        "IPY_MODEL_36e0eef1d71a493ca85c6795c2ad47b1",
        "IPY_MODEL_fc21cb0389e64c6c992ca219db4b337b"
       ],
       "layout": "IPY_MODEL_d6b3fa1fe7d24cc1b0a3e218b63f9d92",
       "tabbable": null,
       "tooltip": null
      }
     },
     "e32983bb6d064708bf4a6550681896f3": {
      "model_module": "@jupyter-widgets/controls",
      "model_module_version": "2.0.0",
      "model_name": "VBoxModel",
      "state": {
       "_dom_classes": [],
       "_model_module": "@jupyter-widgets/controls",
       "_model_module_version": "2.0.0",
       "_model_name": "VBoxModel",
       "_view_count": null,
       "_view_module": "@jupyter-widgets/controls",
       "_view_module_version": "2.0.0",
       "_view_name": "VBoxView",
       "box_style": "",
       "children": [
        "IPY_MODEL_7a32facbff6d43c6abc63739bec8328b",
        "IPY_MODEL_d6d33428900b4369b9266f78c7e23252"
       ],
       "layout": "IPY_MODEL_7e68fe1934294838b2c672d73303ae5f",
       "tabbable": null,
       "tooltip": null
      }
     },
     "e3dfc9aa01c440ffa399af7a0a0fc13d": {
      "model_module": "@jupyter-widgets/controls",
      "model_module_version": "2.0.0",
      "model_name": "VBoxModel",
      "state": {
       "_dom_classes": [],
       "_model_module": "@jupyter-widgets/controls",
       "_model_module_version": "2.0.0",
       "_model_name": "VBoxModel",
       "_view_count": null,
       "_view_module": "@jupyter-widgets/controls",
       "_view_module_version": "2.0.0",
       "_view_name": "VBoxView",
       "box_style": "",
       "children": [
        "IPY_MODEL_7f02d67bd0744c288f71387b50aa07f1",
        "IPY_MODEL_5118ce85aba34a2ea97349b83ef73bb8",
        "IPY_MODEL_02bb9fa1a4104cbfb7e864c17ab8baea",
        "IPY_MODEL_f544f10b62c3462489e825db442fa295"
       ],
       "layout": "IPY_MODEL_db75bd36755e43029ce5b7afa32ddde3",
       "tabbable": null,
       "tooltip": null
      }
     },
     "ea067b67bbdd443a98831a83b6c0913b": {
      "model_module": "@jupyter-widgets/controls",
      "model_module_version": "2.0.0",
      "model_name": "HTMLStyleModel",
      "state": {
       "_model_module": "@jupyter-widgets/controls",
       "_model_module_version": "2.0.0",
       "_model_name": "HTMLStyleModel",
       "_view_count": null,
       "_view_module": "@jupyter-widgets/base",
       "_view_module_version": "2.0.0",
       "_view_name": "StyleView",
       "background": null,
       "description_width": "",
       "font_size": null,
       "text_color": null
      }
     },
     "eb4694e490674b11824f915afaf2737d": {
      "model_module": "@jupyter-widgets/controls",
      "model_module_version": "2.0.0",
      "model_name": "FloatTextModel",
      "state": {
       "_dom_classes": [],
       "_model_module": "@jupyter-widgets/controls",
       "_model_module_version": "2.0.0",
       "_model_name": "FloatTextModel",
       "_view_count": null,
       "_view_module": "@jupyter-widgets/controls",
       "_view_module_version": "2.0.0",
       "_view_name": "FloatTextView",
       "continuous_update": false,
       "description": "MedInc",
       "description_allow_html": false,
       "disabled": false,
       "layout": "IPY_MODEL_28295fad3a81432bbb31a9782b8aa2e2",
       "step": null,
       "style": "IPY_MODEL_273107f12bbb4f0289e3322d172af395",
       "tabbable": null,
       "tooltip": null,
       "value": 2.0278
      }
     },
     "ed0ccd692f094c909e117ebf41e6108f": {
      "model_module": "@jupyter-widgets/controls",
      "model_module_version": "2.0.0",
      "model_name": "HBoxModel",
      "state": {
       "_dom_classes": [],
       "_model_module": "@jupyter-widgets/controls",
       "_model_module_version": "2.0.0",
       "_model_name": "HBoxModel",
       "_view_count": null,
       "_view_module": "@jupyter-widgets/controls",
       "_view_module_version": "2.0.0",
       "_view_name": "HBoxView",
       "box_style": "",
       "children": [
        "IPY_MODEL_46ada92c40f34c678090da35b446f32b",
        "IPY_MODEL_0447a9191e6a4621b3e40dc19c1fc79a",
        "IPY_MODEL_ca7d5dba609843a6bfb497e3195cd709",
        "IPY_MODEL_48cfa388058e4a75ae7d0eb2fca21c61",
        "IPY_MODEL_36b564b27c974f02a9151890fde9a403"
       ],
       "layout": "IPY_MODEL_ddd6f34ffaae4403a0ba6130f26b9aa7",
       "tabbable": null,
       "tooltip": null
      }
     },
     "ed0e7d66527e4af0bebe5531bad97acd": {
      "model_module": "@jupyter-widgets/controls",
      "model_module_version": "2.0.0",
      "model_name": "DescriptionStyleModel",
      "state": {
       "_model_module": "@jupyter-widgets/controls",
       "_model_module_version": "2.0.0",
       "_model_name": "DescriptionStyleModel",
       "_view_count": null,
       "_view_module": "@jupyter-widgets/base",
       "_view_module_version": "2.0.0",
       "_view_name": "StyleView",
       "description_width": "initial"
      }
     },
     "ede8fd125f97444686da2eeb8ee9202f": {
      "model_module": "@jupyter-widgets/controls",
      "model_module_version": "2.0.0",
      "model_name": "HTMLStyleModel",
      "state": {
       "_model_module": "@jupyter-widgets/controls",
       "_model_module_version": "2.0.0",
       "_model_name": "HTMLStyleModel",
       "_view_count": null,
       "_view_module": "@jupyter-widgets/base",
       "_view_module_version": "2.0.0",
       "_view_name": "StyleView",
       "background": null,
       "description_width": "",
       "font_size": null,
       "text_color": null
      }
     },
     "f00eea9e4e0844f5b57be47fc5551f99": {
      "model_module": "@jupyter-widgets/base",
      "model_module_version": "2.0.0",
      "model_name": "LayoutModel",
      "state": {
       "_model_module": "@jupyter-widgets/base",
       "_model_module_version": "2.0.0",
       "_model_name": "LayoutModel",
       "_view_count": null,
       "_view_module": "@jupyter-widgets/base",
       "_view_module_version": "2.0.0",
       "_view_name": "LayoutView",
       "align_content": null,
       "align_items": null,
       "align_self": null,
       "border_bottom": null,
       "border_left": null,
       "border_right": null,
       "border_top": null,
       "bottom": null,
       "display": null,
       "flex": null,
       "flex_flow": null,
       "grid_area": null,
       "grid_auto_columns": null,
       "grid_auto_flow": null,
       "grid_auto_rows": null,
       "grid_column": null,
       "grid_gap": null,
       "grid_row": null,
       "grid_template_areas": null,
       "grid_template_columns": null,
       "grid_template_rows": null,
       "height": null,
       "justify_content": null,
       "justify_items": null,
       "left": null,
       "margin": null,
       "max_height": null,
       "max_width": null,
       "min_height": null,
       "min_width": null,
       "object_fit": null,
       "object_position": null,
       "order": null,
       "overflow": null,
       "padding": null,
       "right": null,
       "top": null,
       "visibility": null,
       "width": null
      }
     },
     "f151c10c6d7e4f68859063a68341235b": {
      "model_module": "@jupyter-widgets/base",
      "model_module_version": "2.0.0",
      "model_name": "LayoutModel",
      "state": {
       "_model_module": "@jupyter-widgets/base",
       "_model_module_version": "2.0.0",
       "_model_name": "LayoutModel",
       "_view_count": null,
       "_view_module": "@jupyter-widgets/base",
       "_view_module_version": "2.0.0",
       "_view_name": "LayoutView",
       "align_content": null,
       "align_items": null,
       "align_self": null,
       "border_bottom": null,
       "border_left": null,
       "border_right": null,
       "border_top": null,
       "bottom": null,
       "display": null,
       "flex": null,
       "flex_flow": null,
       "grid_area": null,
       "grid_auto_columns": null,
       "grid_auto_flow": null,
       "grid_auto_rows": null,
       "grid_column": null,
       "grid_gap": null,
       "grid_row": null,
       "grid_template_areas": null,
       "grid_template_columns": null,
       "grid_template_rows": null,
       "height": null,
       "justify_content": null,
       "justify_items": null,
       "left": null,
       "margin": null,
       "max_height": null,
       "max_width": null,
       "min_height": null,
       "min_width": null,
       "object_fit": null,
       "object_position": null,
       "order": null,
       "overflow": null,
       "padding": null,
       "right": null,
       "top": null,
       "visibility": null,
       "width": null
      }
     },
     "f1ffc5162aa74150add64c01b889e993": {
      "model_module": "@jupyter-widgets/base",
      "model_module_version": "2.0.0",
      "model_name": "LayoutModel",
      "state": {
       "_model_module": "@jupyter-widgets/base",
       "_model_module_version": "2.0.0",
       "_model_name": "LayoutModel",
       "_view_count": null,
       "_view_module": "@jupyter-widgets/base",
       "_view_module_version": "2.0.0",
       "_view_name": "LayoutView",
       "align_content": null,
       "align_items": null,
       "align_self": null,
       "border_bottom": null,
       "border_left": null,
       "border_right": null,
       "border_top": null,
       "bottom": null,
       "display": null,
       "flex": null,
       "flex_flow": null,
       "grid_area": null,
       "grid_auto_columns": null,
       "grid_auto_flow": null,
       "grid_auto_rows": null,
       "grid_column": null,
       "grid_gap": null,
       "grid_row": null,
       "grid_template_areas": null,
       "grid_template_columns": null,
       "grid_template_rows": null,
       "height": null,
       "justify_content": null,
       "justify_items": null,
       "left": null,
       "margin": "20px 0 0 0",
       "max_height": null,
       "max_width": null,
       "min_height": null,
       "min_width": null,
       "object_fit": null,
       "object_position": null,
       "order": null,
       "overflow": null,
       "padding": null,
       "right": null,
       "top": null,
       "visibility": null,
       "width": null
      }
     },
     "f544f10b62c3462489e825db442fa295": {
      "model_module": "jupyterlab-plotly",
      "model_module_version": "^5.4.0",
      "model_name": "FigureModel",
      "state": {
       "_config": {
        "plotlyServerURL": "https://plot.ly"
       },
       "_data": [
        {
         "boxmean": true,
         "boxpoints": "all",
         "customdata": [
          5,
          8,
          2,
          9,
          4,
          0,
          0,
          5,
          7,
          4,
          0,
          8,
          8,
          2,
          1,
          7,
          4,
          7,
          0,
          4,
          1,
          9,
          4,
          3,
          0,
          5,
          9,
          2,
          5,
          2,
          9,
          5,
          3,
          2,
          6,
          6,
          9,
          1,
          1,
          5,
          3,
          7,
          4,
          7,
          8,
          1,
          8,
          2,
          3,
          1,
          0,
          6,
          8,
          6,
          9,
          6,
          7,
          3,
          3,
          6
         ],
         "hovertemplate": "%{x}, %{y}, Explanation Index %{customdata}",
         "legendgroup": "Median Price",
         "marker": {
          "color": "rgb(0, 128, 128)",
          "line": {
           "outliercolor": "rgba(219, 64, 82, 1.0)"
          },
          "outliercolor": "rgba(219, 64, 82, 0.6)"
         },
         "name": "Target=Median Price",
         "orientation": "h",
         "showlegend": false,
         "type": "box",
         "uid": "f5874f4c-0bbd-492f-99c1-4b2f822af24c",
         "x": [
          -2.303830478761505,
          -1.529184521047543,
          -1.4420904643682324,
          -0.7876719673548671,
          -0.558772049350287,
          -0.29984948320586396,
          -0.2960477334473897,
          -0.2633650403948666,
          -0.2310166882088444,
          -0.21552235635788203,
          -0.1804042358135727,
          -0.17168707281954074,
          -0.13471024234187942,
          -0.12239375133622642,
          -0.09813735699254887,
          -0.08794113813042453,
          -0.08331778935464383,
          -0.07171259598896924,
          -0.06793175199322145,
          -0.053146168680019916,
          -0.0416124408185505,
          -0.016214914267696858,
          -0.010538223370979762,
          -0.007311540026145865,
          0.0004106459683735713,
          0.0028650439824451147,
          0.016901841851987735,
          0.03624110181230695,
          0.04019143230277875,
          0.06466976825338426,
          0.07025093993415296,
          0.10703166190727277,
          0.11247353558206029,
          0.11368196364152752,
          0.13839233171419713,
          0.15626871996379121,
          0.15854778621874874,
          0.17616100961651243,
          0.18362811335961987,
          0.28058098404105847,
          0.2885580884090563,
          0.3084442802298718,
          0.35000579531971515,
          0.3638232193783261,
          0.36964171094845943,
          0.37448060668403127,
          0.37901828936597054,
          0.4206687165680911,
          0.5158532392674146,
          0.5506659166933198,
          0.5998600524483303,
          0.6715796167068949,
          0.6771501373201655,
          0.747179967103893,
          0.7679865905125373,
          0.8926695473803524,
          1.0208367633045252,
          1.4412249834301825,
          1.5086637982325277,
          1.7030713296783124
         ],
         "xaxis": "x",
         "y": [
          "Latitude",
          "Longitude",
          "Longitude",
          "Latitude",
          "Longitude",
          "Latitude",
          "AveOccup",
          "MedInc",
          "Latitude",
          "AveOccup",
          "AveRooms",
          "AveOccup",
          "HouseAge",
          "MedInc",
          "AveOccup",
          "AveRooms",
          "AveRooms",
          "HouseAge",
          "MedInc",
          "MedInc",
          "HouseAge",
          "HouseAge",
          "HouseAge",
          "HouseAge",
          "HouseAge",
          "HouseAge",
          "MedInc",
          "AveRooms",
          "AveOccup",
          "AveOccup",
          "AveOccup",
          "AveRooms",
          "AveOccup",
          "HouseAge",
          "AveRooms",
          "HouseAge",
          "AveRooms",
          "Longitude",
          "MedInc",
          "Longitude",
          "Latitude",
          "MedInc",
          "Latitude",
          "AveOccup",
          "AveRooms",
          "AveRooms",
          "MedInc",
          "Latitude",
          "AveRooms",
          "Latitude",
          "Longitude",
          "MedInc",
          "Latitude",
          "AveOccup",
          "Longitude",
          "Longitude",
          "Longitude",
          "Longitude",
          "MedInc",
          "Latitude"
         ],
         "yaxis": "y"
        }
       ],
       "_dom_classes": [],
       "_js2py_layoutDelta": {},
       "_js2py_pointsCallback": {},
       "_js2py_relayout": {},
       "_js2py_restyle": {},
       "_js2py_traceDeltas": {},
       "_js2py_update": {},
       "_last_layout_edit_id": 1,
       "_last_trace_edit_id": 1,
       "_layout": {
        "annotations": [
         {
          "font": {
           "size": 16
          },
          "showarrow": false,
          "text": "Predicted Target = \"Median Price\"",
          "textangle": 90,
          "x": 0.98,
          "xanchor": "left",
          "xref": "paper",
          "y": 0.55,
          "yanchor": "middle",
          "yref": "paper"
         }
        ],
        "height": 600,
        "margin": {
         "b": 50,
         "t": 50
        },
        "plot_bgcolor": "rgba(0,0,0,0)",
        "template": {
         "data": {
          "bar": [
           {
            "error_x": {
             "color": "#2a3f5f"
            },
            "error_y": {
             "color": "#2a3f5f"
            },
            "marker": {
             "line": {
              "color": "#E5ECF6",
              "width": 0.5
             },
             "pattern": {
              "fillmode": "overlay",
              "size": 10,
              "solidity": 0.2
             }
            },
            "type": "bar"
           }
          ],
          "barpolar": [
           {
            "marker": {
             "line": {
              "color": "#E5ECF6",
              "width": 0.5
             },
             "pattern": {
              "fillmode": "overlay",
              "size": 10,
              "solidity": 0.2
             }
            },
            "type": "barpolar"
           }
          ],
          "carpet": [
           {
            "aaxis": {
             "endlinecolor": "#2a3f5f",
             "gridcolor": "white",
             "linecolor": "white",
             "minorgridcolor": "white",
             "startlinecolor": "#2a3f5f"
            },
            "baxis": {
             "endlinecolor": "#2a3f5f",
             "gridcolor": "white",
             "linecolor": "white",
             "minorgridcolor": "white",
             "startlinecolor": "#2a3f5f"
            },
            "type": "carpet"
           }
          ],
          "choropleth": [
           {
            "colorbar": {
             "outlinewidth": 0,
             "ticks": ""
            },
            "type": "choropleth"
           }
          ],
          "contour": [
           {
            "colorbar": {
             "outlinewidth": 0,
             "ticks": ""
            },
            "colorscale": [
             [
              0,
              "#0d0887"
             ],
             [
              0.1111111111111111,
              "#46039f"
             ],
             [
              0.2222222222222222,
              "#7201a8"
             ],
             [
              0.3333333333333333,
              "#9c179e"
             ],
             [
              0.4444444444444444,
              "#bd3786"
             ],
             [
              0.5555555555555556,
              "#d8576b"
             ],
             [
              0.6666666666666666,
              "#ed7953"
             ],
             [
              0.7777777777777778,
              "#fb9f3a"
             ],
             [
              0.8888888888888888,
              "#fdca26"
             ],
             [
              1,
              "#f0f921"
             ]
            ],
            "type": "contour"
           }
          ],
          "contourcarpet": [
           {
            "colorbar": {
             "outlinewidth": 0,
             "ticks": ""
            },
            "type": "contourcarpet"
           }
          ],
          "heatmap": [
           {
            "colorbar": {
             "outlinewidth": 0,
             "ticks": ""
            },
            "colorscale": [
             [
              0,
              "#0d0887"
             ],
             [
              0.1111111111111111,
              "#46039f"
             ],
             [
              0.2222222222222222,
              "#7201a8"
             ],
             [
              0.3333333333333333,
              "#9c179e"
             ],
             [
              0.4444444444444444,
              "#bd3786"
             ],
             [
              0.5555555555555556,
              "#d8576b"
             ],
             [
              0.6666666666666666,
              "#ed7953"
             ],
             [
              0.7777777777777778,
              "#fb9f3a"
             ],
             [
              0.8888888888888888,
              "#fdca26"
             ],
             [
              1,
              "#f0f921"
             ]
            ],
            "type": "heatmap"
           }
          ],
          "heatmapgl": [
           {
            "colorbar": {
             "outlinewidth": 0,
             "ticks": ""
            },
            "colorscale": [
             [
              0,
              "#0d0887"
             ],
             [
              0.1111111111111111,
              "#46039f"
             ],
             [
              0.2222222222222222,
              "#7201a8"
             ],
             [
              0.3333333333333333,
              "#9c179e"
             ],
             [
              0.4444444444444444,
              "#bd3786"
             ],
             [
              0.5555555555555556,
              "#d8576b"
             ],
             [
              0.6666666666666666,
              "#ed7953"
             ],
             [
              0.7777777777777778,
              "#fb9f3a"
             ],
             [
              0.8888888888888888,
              "#fdca26"
             ],
             [
              1,
              "#f0f921"
             ]
            ],
            "type": "heatmapgl"
           }
          ],
          "histogram": [
           {
            "marker": {
             "pattern": {
              "fillmode": "overlay",
              "size": 10,
              "solidity": 0.2
             }
            },
            "type": "histogram"
           }
          ],
          "histogram2d": [
           {
            "colorbar": {
             "outlinewidth": 0,
             "ticks": ""
            },
            "colorscale": [
             [
              0,
              "#0d0887"
             ],
             [
              0.1111111111111111,
              "#46039f"
             ],
             [
              0.2222222222222222,
              "#7201a8"
             ],
             [
              0.3333333333333333,
              "#9c179e"
             ],
             [
              0.4444444444444444,
              "#bd3786"
             ],
             [
              0.5555555555555556,
              "#d8576b"
             ],
             [
              0.6666666666666666,
              "#ed7953"
             ],
             [
              0.7777777777777778,
              "#fb9f3a"
             ],
             [
              0.8888888888888888,
              "#fdca26"
             ],
             [
              1,
              "#f0f921"
             ]
            ],
            "type": "histogram2d"
           }
          ],
          "histogram2dcontour": [
           {
            "colorbar": {
             "outlinewidth": 0,
             "ticks": ""
            },
            "colorscale": [
             [
              0,
              "#0d0887"
             ],
             [
              0.1111111111111111,
              "#46039f"
             ],
             [
              0.2222222222222222,
              "#7201a8"
             ],
             [
              0.3333333333333333,
              "#9c179e"
             ],
             [
              0.4444444444444444,
              "#bd3786"
             ],
             [
              0.5555555555555556,
              "#d8576b"
             ],
             [
              0.6666666666666666,
              "#ed7953"
             ],
             [
              0.7777777777777778,
              "#fb9f3a"
             ],
             [
              0.8888888888888888,
              "#fdca26"
             ],
             [
              1,
              "#f0f921"
             ]
            ],
            "type": "histogram2dcontour"
           }
          ],
          "mesh3d": [
           {
            "colorbar": {
             "outlinewidth": 0,
             "ticks": ""
            },
            "type": "mesh3d"
           }
          ],
          "parcoords": [
           {
            "line": {
             "colorbar": {
              "outlinewidth": 0,
              "ticks": ""
             }
            },
            "type": "parcoords"
           }
          ],
          "pie": [
           {
            "automargin": true,
            "type": "pie"
           }
          ],
          "scatter": [
           {
            "marker": {
             "colorbar": {
              "outlinewidth": 0,
              "ticks": ""
             }
            },
            "type": "scatter"
           }
          ],
          "scatter3d": [
           {
            "line": {
             "colorbar": {
              "outlinewidth": 0,
              "ticks": ""
             }
            },
            "marker": {
             "colorbar": {
              "outlinewidth": 0,
              "ticks": ""
             }
            },
            "type": "scatter3d"
           }
          ],
          "scattercarpet": [
           {
            "marker": {
             "colorbar": {
              "outlinewidth": 0,
              "ticks": ""
             }
            },
            "type": "scattercarpet"
           }
          ],
          "scattergeo": [
           {
            "marker": {
             "colorbar": {
              "outlinewidth": 0,
              "ticks": ""
             }
            },
            "type": "scattergeo"
           }
          ],
          "scattergl": [
           {
            "marker": {
             "colorbar": {
              "outlinewidth": 0,
              "ticks": ""
             }
            },
            "type": "scattergl"
           }
          ],
          "scattermapbox": [
           {
            "marker": {
             "colorbar": {
              "outlinewidth": 0,
              "ticks": ""
             }
            },
            "type": "scattermapbox"
           }
          ],
          "scatterpolar": [
           {
            "marker": {
             "colorbar": {
              "outlinewidth": 0,
              "ticks": ""
             }
            },
            "type": "scatterpolar"
           }
          ],
          "scatterpolargl": [
           {
            "marker": {
             "colorbar": {
              "outlinewidth": 0,
              "ticks": ""
             }
            },
            "type": "scatterpolargl"
           }
          ],
          "scatterternary": [
           {
            "marker": {
             "colorbar": {
              "outlinewidth": 0,
              "ticks": ""
             }
            },
            "type": "scatterternary"
           }
          ],
          "surface": [
           {
            "colorbar": {
             "outlinewidth": 0,
             "ticks": ""
            },
            "colorscale": [
             [
              0,
              "#0d0887"
             ],
             [
              0.1111111111111111,
              "#46039f"
             ],
             [
              0.2222222222222222,
              "#7201a8"
             ],
             [
              0.3333333333333333,
              "#9c179e"
             ],
             [
              0.4444444444444444,
              "#bd3786"
             ],
             [
              0.5555555555555556,
              "#d8576b"
             ],
             [
              0.6666666666666666,
              "#ed7953"
             ],
             [
              0.7777777777777778,
              "#fb9f3a"
             ],
             [
              0.8888888888888888,
              "#fdca26"
             ],
             [
              1,
              "#f0f921"
             ]
            ],
            "type": "surface"
           }
          ],
          "table": [
           {
            "cells": {
             "fill": {
              "color": "#EBF0F8"
             },
             "line": {
              "color": "white"
             }
            },
            "header": {
             "fill": {
              "color": "#C8D4E3"
             },
             "line": {
              "color": "white"
             }
            },
            "type": "table"
           }
          ]
         },
         "layout": {
          "annotationdefaults": {
           "arrowcolor": "#2a3f5f",
           "arrowhead": 0,
           "arrowwidth": 1
          },
          "autotypenumbers": "strict",
          "coloraxis": {
           "colorbar": {
            "outlinewidth": 0,
            "ticks": ""
           }
          },
          "colorscale": {
           "diverging": [
            [
             0,
             "#8e0152"
            ],
            [
             0.1,
             "#c51b7d"
            ],
            [
             0.2,
             "#de77ae"
            ],
            [
             0.3,
             "#f1b6da"
            ],
            [
             0.4,
             "#fde0ef"
            ],
            [
             0.5,
             "#f7f7f7"
            ],
            [
             0.6,
             "#e6f5d0"
            ],
            [
             0.7,
             "#b8e186"
            ],
            [
             0.8,
             "#7fbc41"
            ],
            [
             0.9,
             "#4d9221"
            ],
            [
             1,
             "#276419"
            ]
           ],
           "sequential": [
            [
             0,
             "#0d0887"
            ],
            [
             0.1111111111111111,
             "#46039f"
            ],
            [
             0.2222222222222222,
             "#7201a8"
            ],
            [
             0.3333333333333333,
             "#9c179e"
            ],
            [
             0.4444444444444444,
             "#bd3786"
            ],
            [
             0.5555555555555556,
             "#d8576b"
            ],
            [
             0.6666666666666666,
             "#ed7953"
            ],
            [
             0.7777777777777778,
             "#fb9f3a"
            ],
            [
             0.8888888888888888,
             "#fdca26"
            ],
            [
             1,
             "#f0f921"
            ]
           ],
           "sequentialminus": [
            [
             0,
             "#0d0887"
            ],
            [
             0.1111111111111111,
             "#46039f"
            ],
            [
             0.2222222222222222,
             "#7201a8"
            ],
            [
             0.3333333333333333,
             "#9c179e"
            ],
            [
             0.4444444444444444,
             "#bd3786"
            ],
            [
             0.5555555555555556,
             "#d8576b"
            ],
            [
             0.6666666666666666,
             "#ed7953"
            ],
            [
             0.7777777777777778,
             "#fb9f3a"
            ],
            [
             0.8888888888888888,
             "#fdca26"
            ],
            [
             1,
             "#f0f921"
            ]
           ]
          },
          "colorway": [
           "#636efa",
           "#EF553B",
           "#00cc96",
           "#ab63fa",
           "#FFA15A",
           "#19d3f3",
           "#FF6692",
           "#B6E880",
           "#FF97FF",
           "#FECB52"
          ],
          "font": {
           "color": "#2a3f5f"
          },
          "geo": {
           "bgcolor": "white",
           "lakecolor": "white",
           "landcolor": "#E5ECF6",
           "showlakes": true,
           "showland": true,
           "subunitcolor": "white"
          },
          "hoverlabel": {
           "align": "left"
          },
          "hovermode": "closest",
          "mapbox": {
           "style": "light"
          },
          "paper_bgcolor": "white",
          "plot_bgcolor": "#E5ECF6",
          "polar": {
           "angularaxis": {
            "gridcolor": "white",
            "linecolor": "white",
            "ticks": ""
           },
           "bgcolor": "#E5ECF6",
           "radialaxis": {
            "gridcolor": "white",
            "linecolor": "white",
            "ticks": ""
           }
          },
          "scene": {
           "xaxis": {
            "backgroundcolor": "#E5ECF6",
            "gridcolor": "white",
            "gridwidth": 2,
            "linecolor": "white",
            "showbackground": true,
            "ticks": "",
            "zerolinecolor": "white"
           },
           "yaxis": {
            "backgroundcolor": "#E5ECF6",
            "gridcolor": "white",
            "gridwidth": 2,
            "linecolor": "white",
            "showbackground": true,
            "ticks": "",
            "zerolinecolor": "white"
           },
           "zaxis": {
            "backgroundcolor": "#E5ECF6",
            "gridcolor": "white",
            "gridwidth": 2,
            "linecolor": "white",
            "showbackground": true,
            "ticks": "",
            "zerolinecolor": "white"
           }
          },
          "shapedefaults": {
           "line": {
            "color": "#2a3f5f"
           }
          },
          "ternary": {
           "aaxis": {
            "gridcolor": "white",
            "linecolor": "white",
            "ticks": ""
           },
           "baxis": {
            "gridcolor": "white",
            "linecolor": "white",
            "ticks": ""
           },
           "bgcolor": "#E5ECF6",
           "caxis": {
            "gridcolor": "white",
            "linecolor": "white",
            "ticks": ""
           }
          },
          "title": {
           "x": 0.05
          },
          "xaxis": {
           "automargin": true,
           "gridcolor": "white",
           "linecolor": "white",
           "ticks": "",
           "title": {
            "standoff": 15
           },
           "zerolinecolor": "white",
           "zerolinewidth": 2
          },
          "yaxis": {
           "automargin": true,
           "gridcolor": "white",
           "linecolor": "white",
           "ticks": "",
           "title": {
            "standoff": 15
           },
           "zerolinecolor": "white",
           "zerolinewidth": 2
          }
         }
        },
        "title": {
         "x": 0.5
        },
        "width": 850,
        "xaxis": {
         "anchor": "y",
         "categoryarray": [
          "HouseAge",
          "AveRooms",
          "AveOccup",
          "MedInc",
          "Latitude",
          "Longitude"
         ],
         "categoryorder": "array",
         "domain": [
          0.07058823529411765,
          0.98
         ],
         "gridcolor": "LightGrey",
         "linecolor": "Grey",
         "linewidth": 1,
         "matches": "x",
         "mirror": true,
         "scaleanchor": "x",
         "showline": true,
         "showticklabels": true,
         "side": "bottom",
         "title": {
          "text": "Attribution"
         },
         "visible": true,
         "zeroline": true,
         "zerolinecolor": "DarkGrey",
         "zerolinewidth": 1
        },
        "yaxis": {
         "anchor": "x",
         "categoryarray": [
          "HouseAge",
          "AveRooms",
          "AveOccup",
          "MedInc",
          "Latitude",
          "Longitude"
         ],
         "categoryorder": "array",
         "domain": [
          0.1,
          1
         ],
         "gridcolor": "LightGrey",
         "linecolor": "Grey",
         "linewidth": 1,
         "matches": "y",
         "mirror": true,
         "scaleanchor": "y",
         "showline": true,
         "showticklabels": true,
         "side": "left",
         "title": {
          "text": "Feature"
         },
         "visible": true,
         "zeroline": true,
         "zerolinecolor": "DarkGrey",
         "zerolinewidth": 1
        }
       },
       "_model_module": "jupyterlab-plotly",
       "_model_module_version": "^5.4.0",
       "_model_name": "FigureModel",
       "_py2js_addTraces": {},
       "_py2js_animate": {},
       "_py2js_deleteTraces": {},
       "_py2js_moveTraces": {},
       "_py2js_relayout": {},
       "_py2js_removeLayoutProps": {},
       "_py2js_removeTraceProps": {},
       "_py2js_restyle": {},
       "_py2js_update": null,
       "_view_count": 0,
       "_view_module": "jupyterlab-plotly",
       "_view_module_version": "^5.4.0",
       "_view_name": "FigureView",
       "tabbable": null,
       "tooltip": null
      }
     },
     "f6003b9bccbb4446af20ee9bae00b5fc": {
      "model_module": "@jupyter-widgets/base",
      "model_module_version": "2.0.0",
      "model_name": "LayoutModel",
      "state": {
       "_model_module": "@jupyter-widgets/base",
       "_model_module_version": "2.0.0",
       "_model_name": "LayoutModel",
       "_view_count": null,
       "_view_module": "@jupyter-widgets/base",
       "_view_module_version": "2.0.0",
       "_view_name": "LayoutView",
       "align_content": null,
       "align_items": null,
       "align_self": null,
       "border_bottom": null,
       "border_left": null,
       "border_right": null,
       "border_top": null,
       "bottom": null,
       "display": null,
       "flex": null,
       "flex_flow": null,
       "grid_area": null,
       "grid_auto_columns": null,
       "grid_auto_flow": null,
       "grid_auto_rows": null,
       "grid_column": null,
       "grid_gap": null,
       "grid_row": null,
       "grid_template_areas": null,
       "grid_template_columns": null,
       "grid_template_rows": null,
       "height": null,
       "justify_content": null,
       "justify_items": null,
       "left": null,
       "margin": null,
       "max_height": null,
       "max_width": null,
       "min_height": null,
       "min_width": null,
       "object_fit": null,
       "object_position": null,
       "order": null,
       "overflow": null,
       "padding": null,
       "right": null,
       "top": null,
       "visibility": null,
       "width": null
      }
     },
     "f8c68f68ec724b9eb4f9d3bed9d9a4ef": {
      "model_module": "@jupyter-widgets/base",
      "model_module_version": "2.0.0",
      "model_name": "LayoutModel",
      "state": {
       "_model_module": "@jupyter-widgets/base",
       "_model_module_version": "2.0.0",
       "_model_name": "LayoutModel",
       "_view_count": null,
       "_view_module": "@jupyter-widgets/base",
       "_view_module_version": "2.0.0",
       "_view_name": "LayoutView",
       "align_content": null,
       "align_items": null,
       "align_self": null,
       "border_bottom": null,
       "border_left": null,
       "border_right": null,
       "border_top": null,
       "bottom": null,
       "display": null,
       "flex": null,
       "flex_flow": null,
       "grid_area": null,
       "grid_auto_columns": null,
       "grid_auto_flow": null,
       "grid_auto_rows": null,
       "grid_column": null,
       "grid_gap": null,
       "grid_row": null,
       "grid_template_areas": null,
       "grid_template_columns": null,
       "grid_template_rows": null,
       "height": null,
       "justify_content": null,
       "justify_items": null,
       "left": null,
       "margin": null,
       "max_height": null,
       "max_width": null,
       "min_height": null,
       "min_width": null,
       "object_fit": null,
       "object_position": null,
       "order": null,
       "overflow": null,
       "padding": null,
       "right": null,
       "top": null,
       "visibility": null,
       "width": null
      }
     },
     "fc21cb0389e64c6c992ca219db4b337b": {
      "model_module": "@jupyter-widgets/controls",
      "model_module_version": "2.0.0",
      "model_name": "VBoxModel",
      "state": {
       "_dom_classes": [],
       "_model_module": "@jupyter-widgets/controls",
       "_model_module_version": "2.0.0",
       "_model_name": "VBoxModel",
       "_view_count": null,
       "_view_module": "@jupyter-widgets/controls",
       "_view_module_version": "2.0.0",
       "_view_name": "VBoxView",
       "box_style": "",
       "children": [
        "IPY_MODEL_b8cf3efa7f53439ba081b3296afdd4e1",
        "IPY_MODEL_dd1abb3a276a49719e0188819338ca0b",
        "IPY_MODEL_ce077608d8cf4bb08e459eec1df5ea62",
        "IPY_MODEL_aa2c0f92e6914886bdc824a5829abb9a",
        "IPY_MODEL_512914b5208a449182a96b3760ba0812",
        "IPY_MODEL_5c254ad4609a4366951bb01ff350e405",
        "IPY_MODEL_3f3d6aa82e74440cadf4d7625ee89746"
       ],
       "layout": "IPY_MODEL_4104443c55144f49b174f9e166b7420a",
       "tabbable": null,
       "tooltip": null
      }
     }
    },
    "version_major": 2,
    "version_minor": 0
   }
  }
 },
 "nbformat": 4,
 "nbformat_minor": 5
}
