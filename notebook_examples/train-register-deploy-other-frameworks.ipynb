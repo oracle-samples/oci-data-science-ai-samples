{
 "cells": [
  {
   "cell_type": "raw",
   "id": "abc832b0",
   "metadata": {},
   "source": [
    "@notebook{train-register-deploy-other-frameworks.ipynb,\n",
    "    title: Train, Register, and Deploy a Generic Model,\n",
    "    summary: Train, register, and deploy a generic model,\n",
    "    developed_on: generalml_p38_cpu_v1,\n",
    "    keywords: generic model, deploy model, register model, train model,\n",
    "    license: Universal Permissive License v 1.0\n",
    "}"
   ]
  },
  {
   "cell_type": "code",
   "execution_count": null,
   "id": "b6627d58",
   "metadata": {},
   "outputs": [],
   "source": [
    "# Upgrade Oracle ADS to pick up latest features and maintain compatibility with Oracle Cloud Infrastructure.\n",
    "\n",
    "!pip install -U oracle-ads"
   ]
  },
  {
   "cell_type": "markdown",
   "id": "b6794602",
   "metadata": {},
   "source": [
    "<font color=gray>Oracle Data Science service sample notebook.\n",
    "\n",
    "Copyright (c) 2022 Oracle, Inc.  All rights reserved.\n",
    "Licensed under the Universal Permissive License v 1.0 as shown at https://oss.oracle.com/licenses/upl.\n",
    "</font>\n",
    "\n",
    "***\n",
    "# <font color=red>Train, Register, and Deploy a Generic Model</font>\n",
    "<p style=\"margin-left:10%; margin-right:10%;\">by the <font color=teal> Oracle Cloud Infrastructure Data Science Service Team </font></p>\n",
    "\n",
    "***\n",
    "\n",
    "## Overview\n",
    "\n",
    "The notebook demonstrates how to to train, test, save and deploy an instance of the `GenericModel` class.\n",
    "\n",
    "The `GenericModel` class in Accelerated Data Science (ADS) allows you to rapidly get a model into production. The `.prepare()` method creates the model artifacts that are needed to deploy a functioning model without you having to configure it or write code, including the ability to customize the `score.py` file as needed. The model can be subsequently verified, saved, and deployed.\n",
    "\n",
    "Compatible conda pack: [General Machine Learning](https://docs.oracle.com/en-us/iaas/data-science/using/conda-gml-fam.htm) for CPU on Python 3.8 (version 1.0)\n",
    "\n",
    "### Prequisites\n",
    "\n",
    "This notebook requires authorization to work with the OCI Data Science Service. Details can be found [here](https://accelerated-data-science.readthedocs.io/en/latest/user_guide/cli/authentication.html#). For the purposes of this notebook what is important to to know is that resource principals will be used absent api_key authentication.\n",
    "\n",
    "---\n",
    "\n",
    "## Contents\n",
    "\n",
    "* <a href='#intro'>Introduction</a>\n",
    "* <a href='#create'>Create a Generic Model</a>\n",
    "* <a href='#serialize'>Generic Framework Serialization</a>\n",
    "    * <a href='#serialize_genericmodel'>Create a GenericModel</a>\n",
    "    * <a href='#serialize_prepare'>Prepare</a>\n",
    "    * <a href='#serialize_verify'>Verify</a>\n",
    "    * <a href='#serialize_save'>Save</a>\n",
    "    * <a href='#serialize_deploy'>Deploy</a>\n",
    "    * <a href='#serialize_predict'>Predict</a>\n",
    "* <a href='#clean_up'>Clean Up</a>\n",
    "* <a href='#ref'>References</a>    \n",
    "\n",
    "---\n",
    "\n",
    "Datasets are provided as a convenience. Datasets are considered third-party content and are not considered materials under your agreement with Oracle.\n",
    "      \n"
   ]
  },
  {
   "cell_type": "code",
   "execution_count": null,
   "id": "7c840bd1",
   "metadata": {},
   "outputs": [],
   "source": [
    "import ads\n",
    "import logging\n",
    "import os\n",
    "import random\n",
    "import tempfile\n",
    "import warnings\n",
    "\n",
    "from ads.common.model_metadata import UseCaseType\n",
    "from ads.model.generic_model import GenericModel\n",
    "from numpy import array\n",
    "from shutil import rmtree\n",
    "\n",
    "logging.basicConfig(format=\"%(levelname)s:%(message)s\", level=logging.ERROR)\n",
    "warnings.filterwarnings(\"ignore\")"
   ]
  },
  {
   "cell_type": "markdown",
   "id": "4edccb58",
   "metadata": {},
   "source": [
    "<a id='intro'></a>\n",
    "# Introduction\n",
    "\n",
    "In this notebook, you will create a custom model class called `Square`. It has one method, `.predict()`, that returns the predicted value. It is designed to demonstrate how to create your own custom model class and use the `GenericModel` class.\n",
    "\n",
    "The `.prepare()` method will store the model as a pickle file. It will also generate a generic `score.py` file that will load the pickle file and call the `predict()` method."
   ]
  },
  {
   "cell_type": "markdown",
   "id": "4310f729",
   "metadata": {},
   "source": [
    "### Authenticate\n",
    "\n",
    "Authentication to the OCI Data Science service is required. Here we default to resource principals."
   ]
  },
  {
   "cell_type": "code",
   "execution_count": null,
   "id": "29e8e5e7",
   "metadata": {},
   "outputs": [],
   "source": [
    "ads.set_auth(auth=\"resource_principal\")"
   ]
  },
  {
   "cell_type": "markdown",
   "id": "e5cdca6c",
   "metadata": {},
   "source": [
    "<a id='create'></a>\n",
    "# Create a Generic Model\n",
    "\n",
    "The next cell creates a class and instantiates it such that you have a custom model. This toy model takes a collection of values and returns the square of the values. Since this is a parametric model with no parameters to learn, there is no need to train it."
   ]
  },
  {
   "cell_type": "code",
   "execution_count": null,
   "id": "bcebf46b",
   "metadata": {},
   "outputs": [],
   "source": [
    "class Square:\n",
    "    def predict(self, x):\n",
    "        import numpy as np\n",
    "\n",
    "        x_array = np.array(x)\n",
    "        return np.ndarray.tolist(x_array * x_array)\n",
    "\n",
    "\n",
    "model = Square()"
   ]
  },
  {
   "cell_type": "markdown",
   "id": "098350b3",
   "metadata": {},
   "source": [
    "The next cell will sample random values. You then use the .predict() method to make predictions on the dataset."
   ]
  },
  {
   "cell_type": "code",
   "execution_count": null,
   "id": "48fc8d3f",
   "metadata": {},
   "outputs": [],
   "source": [
    "random.seed(42)\n",
    "X = random.sample(range(0, 100), 10)\n",
    "model.predict(X)"
   ]
  },
  {
   "cell_type": "markdown",
   "id": "c9b2a820",
   "metadata": {},
   "source": [
    "<a id='serialize'></a>\n",
    "# Generic Framework Serialization\n",
    "\n",
    "<a id='serialize_genericmodel'></a>\n",
    "## Create a GenericModel\n",
    "\n",
    "The next cell creates a model artifact directory. This directory is used to store the artifacts that are needed to deploy the model. It also creates the `GenericModel` object."
   ]
  },
  {
   "cell_type": "code",
   "execution_count": null,
   "id": "ee73675c",
   "metadata": {},
   "outputs": [],
   "source": [
    "artifact_dir = tempfile.mkdtemp()\n",
    "print(f\"Model artifact director: {artifact_dir}\")\n",
    "generic_model = GenericModel(estimator=model, artifact_dir=artifact_dir)"
   ]
  },
  {
   "cell_type": "markdown",
   "id": "033e9a44",
   "metadata": {},
   "source": [
    "The `.summary_status()` method shows the progress toward deploying the model."
   ]
  },
  {
   "cell_type": "code",
   "execution_count": null,
   "id": "0969a925",
   "metadata": {},
   "outputs": [],
   "source": [
    "generic_model.summary_status()"
   ]
  },
  {
   "cell_type": "markdown",
   "id": "3e77ece4",
   "metadata": {},
   "source": [
    "<a id='serialize_prepare'></a>\n",
    "## Prepare\n",
    "\n",
    "The prepare step is performed by the `.prepare()` method of the `GenericModel` class. It creates a number of customized files that are used to run the model once it is deployed. These include:\n",
    "\n",
    "* `input_schema.json`: A JSON file that defines the nature of the features of the `X_sample` data.\n",
    "* `output_schema.json`: A JSON file that defines the nature of the dependent variable in the `y_sample` data.\n",
    "* `runtime.yaml`: This file contains information that is needed to set up the runtime environment on the deployment server.\n",
    "* `score.py`: This script contains the `load_model()` and `predict()` functions. The `load_model()` function understands the format the model file was saved in, and loads it into memory. The `.predict()` method is used to make inferences in a deployed model.\n",
    "\n",
    "The `.prepare()` method requires the `model_file_name` parameter to define the name of the model file. By default, the model is stored in a pickle file. `as_onnx` provides an alternate way to save it in the ONNX format.\n",
    "\n",
    "To create the model artifacts, you use the `.prepare()` method\n",
    "\n",
    "* `conda_env` variable defines the slug of the conda environment that was used to train the model\n",
    "\n",
    " Note that you can only pass in slug for service conda environment. For custom conda environment, you have to pass in the full path along with the `inference_python_version`."
   ]
  },
  {
   "cell_type": "code",
   "execution_count": null,
   "id": "c145016f",
   "metadata": {},
   "outputs": [],
   "source": [
    "conda_env = \"dataexpl_p37_cpu_v3\"\n",
    "\n",
    "generic_model.prepare(\n",
    "    inference_conda_env=conda_env,\n",
    "    training_conda_env=conda_env,\n",
    "    use_case_type=UseCaseType.MULTINOMIAL_CLASSIFICATION,\n",
    "    X_sample=X,\n",
    "    y_sample=array(X) ** 2,\n",
    ")"
   ]
  },
  {
   "cell_type": "markdown",
   "id": "81d0a31d",
   "metadata": {},
   "source": [
    "The next cell uses the `.summary_status()` method to show you that the prepare step finished, and what tasks were completed:"
   ]
  },
  {
   "cell_type": "code",
   "execution_count": null,
   "id": "0ec98b81",
   "metadata": {},
   "outputs": [],
   "source": [
    "generic_model.summary_status()"
   ]
  },
  {
   "cell_type": "markdown",
   "id": "5456ca19",
   "metadata": {},
   "source": [
    "The `.prepare()` method has created the following fully files. However, you can modify them to fit your specific needs."
   ]
  },
  {
   "cell_type": "code",
   "execution_count": null,
   "id": "c63ecbaa",
   "metadata": {},
   "outputs": [],
   "source": [
    "os.listdir(artifact_dir)"
   ]
  },
  {
   "cell_type": "markdown",
   "id": "7b32b1e2",
   "metadata": {},
   "source": [
    "Once the artifacts have been created, there are a number of attributes in the `GenericModel` object that provide metadata about the model. The `.runtime` attribute details the model deployment settings and model provenance data."
   ]
  },
  {
   "cell_type": "code",
   "execution_count": null,
   "id": "cf9873ce",
   "metadata": {},
   "outputs": [],
   "source": [
    "generic_model.runtime_info"
   ]
  },
  {
   "cell_type": "markdown",
   "id": "36869a56",
   "metadata": {},
   "source": [
    "The `.schema_input` attribute provides metadata on the features that were used to train the model. You can use this information to determine what data must be provided to make model inferences. Each feature in the model has a section that defines the dtype, feature type, name, and if it is required. The metadata also includes the summary statistics associated with the feature type."
   ]
  },
  {
   "cell_type": "code",
   "execution_count": null,
   "id": "ca55112e",
   "metadata": {},
   "outputs": [],
   "source": [
    "generic_model.schema_input"
   ]
  },
  {
   "cell_type": "markdown",
   "id": "43664bd1",
   "metadata": {},
   "source": [
    "The `.metadata_custom` attribute provides custom metadata that contains information on the category of the metadata, description, key, and value:"
   ]
  },
  {
   "cell_type": "code",
   "execution_count": null,
   "id": "b6bde7ba",
   "metadata": {},
   "outputs": [],
   "source": [
    "generic_model.metadata_custom"
   ]
  },
  {
   "cell_type": "markdown",
   "id": "a497ba68",
   "metadata": {},
   "source": [
    "The `.metadata_provenance` contains information about the code and training data that was used to create the model. This information is most useful when a Git repository is being used to manage the code for training the model. This is considered a best practice because it allows you to do things like reproduce a model, perform forensic on the model, and so on."
   ]
  },
  {
   "cell_type": "code",
   "execution_count": null,
   "id": "fab0da32",
   "metadata": {},
   "outputs": [],
   "source": [
    "generic_model.metadata_provenance"
   ]
  },
  {
   "cell_type": "markdown",
   "id": "bbb3e1c3",
   "metadata": {},
   "source": [
    "The `.metadata_taxonomy` is a key-value store that has information about the classification or taxonomy of the model. This can include information such as the model framework, use case type, hyperparameters, and more."
   ]
  },
  {
   "cell_type": "code",
   "execution_count": null,
   "id": "61d9c408",
   "metadata": {},
   "outputs": [],
   "source": [
    "generic_model.metadata_taxonomy"
   ]
  },
  {
   "cell_type": "markdown",
   "id": "a22e5ac7",
   "metadata": {},
   "source": [
    "<a id='serialize_verify'></a>\n",
    "## Verify\n",
    "\n",
    "If you modify the `score.py` file that is part of the model artifacts, then you should verify it. The verify step allows you to test those changes without having to deploy the model. The `.verify()` method takes a set of test parameters and performs the prediction by calling the `predict` function in `score.py`. It also runs the `load_model` function.\n",
    "\n",
    "**Note**: You need to make sure that data passed in to verify is json serializable as data serialization and deserialization is not supported for GenericModel class. However, other frameworks such as `SklearnModel` supports data serialization and deserialization for certain data types such as `Pandas DataFrame`, hence you can directly pass into `Pandas DataFrame` for `SklearnModel`."
   ]
  },
  {
   "cell_type": "code",
   "execution_count": null,
   "id": "311b8b29",
   "metadata": {},
   "outputs": [],
   "source": [
    "generic_model.verify(X)"
   ]
  },
  {
   "cell_type": "markdown",
   "id": "5de12c43",
   "metadata": {},
   "source": [
    "Update the `.summary_status()` method to show that the verify step has been completed:"
   ]
  },
  {
   "cell_type": "code",
   "execution_count": null,
   "id": "4f004c6e",
   "metadata": {},
   "outputs": [],
   "source": [
    "generic_model.summary_status()"
   ]
  },
  {
   "cell_type": "markdown",
   "id": "333f7f3f",
   "metadata": {},
   "source": [
    "<a id='serialize_save'></a>\n",
    "## Save\n",
    "\n",
    "Once you are satisfied with the performance of the model and have verified that the `score.py` file is working, you save the model to the model catalog using the `.save()` method on the model instance. This step requires authentication provided here. The result is the model OCID which you can view in the UI."
   ]
  },
  {
   "cell_type": "code",
   "execution_count": null,
   "id": "25b77775",
   "metadata": {},
   "outputs": [],
   "source": [
    "model_id = generic_model.save(display_name=\"Demo GenericModel model\")"
   ]
  },
  {
   "cell_type": "markdown",
   "id": "451c71b9",
   "metadata": {},
   "source": [
    "<a id='serialize_deploy'></a>\n",
    "## Deploy\n",
    "\n",
    "When the model is in the model catalog, you can use the `.deploy()` method of a `GenericModel` object to deploy the model. This method allows you to specify the attributes of the deployment such as the display name, description, instance type and count, the maximum bandwidth, and logging groups. The next cell deploys the model with the default settings, except for the custom display name. The `.deploy()` method returns a `ModelDeployment` object."
   ]
  },
  {
   "cell_type": "code",
   "execution_count": null,
   "id": "c5781e90",
   "metadata": {},
   "outputs": [],
   "source": [
    "deploy = generic_model.deploy(display_name=\"Demo GenericModel deployment\")"
   ]
  },
  {
   "cell_type": "markdown",
   "id": "a712acd7",
   "metadata": {},
   "source": [
    "After deployment, the `.summary_status()` method shows that the model is `ACTIVE` and the `predict()` method is available."
   ]
  },
  {
   "cell_type": "code",
   "execution_count": null,
   "id": "0e4464dd",
   "metadata": {},
   "outputs": [],
   "source": [
    "generic_model.summary_status()"
   ]
  },
  {
   "cell_type": "markdown",
   "id": "45120b5b",
   "metadata": {},
   "source": [
    "<a id='serialize_predict'></a>\n",
    "## Predict\n",
    "\n",
    "In the <a href='#create'>Create a Generic Model</a> section, you used the `model.predict()` method where `model` is an generic model object. This did inference using the local model. Now that the `GenericModel` model has been deployed, you can do the same thing using similar syntax with the `.predict()` method on a `GenericModel`. \n",
    "\n",
    "After the deployment is active, you can call the `predict()` on the `GenericModel` object to send request to the deployed endpoint. "
   ]
  },
  {
   "cell_type": "code",
   "execution_count": null,
   "id": "4e9e4f37",
   "metadata": {},
   "outputs": [],
   "source": [
    "generic_model.predict(X)[\"prediction\"]"
   ]
  },
  {
   "cell_type": "markdown",
   "id": "5e8eba2b",
   "metadata": {},
   "source": [
    "<a id='clean_up'></a>\n",
    "# Clean Up\n",
    "\n",
    "This notebook created a model deployment and a model. This section deletes those resources. \n",
    "\n",
    "The model deployment must be deleted before the model can be deleted. You use the `.delete_deployment()` method on the `GenericModel` object to do this."
   ]
  },
  {
   "cell_type": "code",
   "execution_count": null,
   "id": "b6b83939",
   "metadata": {},
   "outputs": [],
   "source": [
    "delete = generic_model.delete_deployment(wait_for_completion=True)"
   ]
  },
  {
   "cell_type": "markdown",
   "id": "74dffcf2",
   "metadata": {},
   "source": [
    "After the model deployment has been deleted, the `.summary_status()` method shows that the model has been deleted and that the `predict()` method is not available:"
   ]
  },
  {
   "cell_type": "code",
   "execution_count": null,
   "id": "55d6ac4e",
   "metadata": {},
   "outputs": [],
   "source": [
    "generic_model.summary_status()"
   ]
  },
  {
   "cell_type": "markdown",
   "id": "ac4f1b20",
   "metadata": {},
   "source": [
    "Use the `.delete()` method to delete the model:"
   ]
  },
  {
   "cell_type": "code",
   "execution_count": null,
   "id": "316114a1",
   "metadata": {},
   "outputs": [],
   "source": [
    "generic_model.delete()"
   ]
  },
  {
   "cell_type": "markdown",
   "id": "8a2abfbf",
   "metadata": {},
   "source": [
    "The next cell removes the model artifacts that were stored on your local drive:"
   ]
  },
  {
   "cell_type": "code",
   "execution_count": null,
   "id": "e6c432ea",
   "metadata": {},
   "outputs": [],
   "source": [
    "rmtree(artifact_dir)"
   ]
  },
  {
   "cell_type": "markdown",
   "id": "9e62b9a7",
   "metadata": {},
   "source": [
    "<a id='ref'></a>\n",
    "# References\n",
    "- [ADS Library Documentation](https://accelerated-data-science.readthedocs.io/en/latest/index.html)\n",
    "- [Data Science YouTube Videos](https://www.youtube.com/playlist?list=PLKCk3OyNwIzv6CWMhvqSB_8MLJIZdO80L)\n",
    "- [OCI Data Science Documentation](https://docs.cloud.oracle.com/en-us/iaas/data-science/using/data-science.htm)\n",
    "- [Oracle Data & AI Blog](https://blogs.oracle.com/datascience/)\n",
    "- [Understanding Conda Environments](https://docs.cloud.oracle.com/en-us/iaas/data-science/using/use-notebook-sessions.htm#conda_understand_environments)\n",
    "- [Use Resource Manager to Configure Your Tenancy for Data Science](https://docs.cloud.oracle.com/en-us/iaas/data-science/using/orm-configure-tenancy.htm)\n",
    "- [`runtime.yaml`](https://docs.content.oci.oracleiaas.com/en-us/iaas/data-science/using/model_runtime_yaml.htm#model_runtime_yaml)\n",
    "- [`score.py`](https://docs.content.oci.oracleiaas.com/en-us/iaas/data-science/using/model_score_py.htm#model_score_py)\n",
    "- [Model artifact](https://docs.content.oci.oracleiaas.com/en-us/iaas/data-science/using/models_saving_catalog.htm#create-models)\n",
    "- [ONNX API Summary](http://onnx.ai/sklearn-onnx/api_summary.html)"
   ]
  }
 ],
 "metadata": {
  "kernelspec": {
   "display_name": "Python 3",
   "language": "python",
   "name": "python3"
  },
  "language_info": {
   "codemirror_mode": {
    "name": "ipython",
    "version": 3
   },
   "file_extension": ".py",
   "mimetype": "text/x-python",
   "name": "python",
   "nbconvert_exporter": "python",
   "pygments_lexer": "ipython3",
   "version": "3.11.1"
  },
  "vscode": {
   "interpreter": {
    "hash": "1a1af0ee75eeea9e2e1ee996c87e7a2b11a0bebd85af04bb136d915cefc0abce"
   }
  }
 },
 "nbformat": 4,
 "nbformat_minor": 5
}
