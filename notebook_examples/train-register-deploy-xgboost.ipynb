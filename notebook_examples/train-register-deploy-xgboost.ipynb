{
 "cells": [
  {
   "cell_type": "raw",
   "id": "4c2103c0",
   "metadata": {},
   "source": [
    "@notebook{train-register-deploy-xgboost.ipynb,\n",
    "    title: Train, Register, and Deploy an XGBoost Model,\n",
    "    summary: Train, register, and deploy an XGBoost model.,\n",
    "    developed_on: generalml_p38_cpu_v1,\n",
    "    keywords: xgboost, deploy model, register model, train model,\n",
    "    license: Universal Permissive License v 1.0\n",
    "}"
   ]
  },
  {
   "cell_type": "code",
   "execution_count": null,
   "id": "b6627d58",
   "metadata": {},
   "outputs": [],
   "source": [
    "# Upgrade Oracle ADS to pick up latest features and maintain compatibility with Oracle Cloud Infrastructure.\n",
    "\n",
    "!pip install -U oracle-ads"
   ]
  },
  {
   "attachments": {},
   "cell_type": "markdown",
   "id": "603aa750",
   "metadata": {},
   "source": [
    "<font color=gray>Oracle Data Science service sample notebook.\n",
    "\n",
    "Copyright (c) 2022, 2023 Oracle, Inc.  All rights reserved.\n",
    "Licensed under the Universal Permissive License v 1.0 as shown at https://oss.oracle.com/licenses/upl.\n",
    "</font>\n",
    "\n",
    "***\n",
    "# <font color=red>Train, Register, and Deploy an XGBoost Model</font>\n",
    "<p style=\"margin-left:10%; margin-right:10%;\">by the <font color=teal> Oracle Cloud Infrastructure Data Science Service Team </font></p>\n",
    "\n",
    "***\n",
    "\n",
    "## Overview:\n",
    "\n",
    "The `XGBoostModel` class in Accelerated Data Science (ADS) allows you to rapidly get a model into production. The `.prepare()` method creates the model artifacts that are needed to deploy a functioning model without you having to configure it or write code, including the ability to customize the `score.py` file as needed. The model can be subsequently verified, saved, and deployed.\n",
    "\n",
    "Compatible conda pack: [General Machine Learning](https://docs.oracle.com/en-us/iaas/data-science/using/conda-gml-fam.htm) for CPU on Python 3.8 (version 1.0)\n",
    "\n",
    "### Prequisites\n",
    "\n",
    "This notebook requires authorization to work with the OCI Data Science Service. Details can be found [here](https://accelerated-data-science.readthedocs.io/en/latest/user_guide/cli/authentication.html#). For the purposes of this notebook what is important to to know is that resource principals will be used absent api_key authentication.\n"
   ]
  },
  {
   "cell_type": "code",
   "execution_count": null,
   "id": "1967d078",
   "metadata": {},
   "outputs": [],
   "source": [
    "import ads\n",
    "import logging\n",
    "import tempfile\n",
    "import warnings\n",
    "\n",
    "from ads.common.model_metadata import UseCaseType\n",
    "from ads.model.framework.xgboost_model import XGBoostModel\n",
    "from shutil import rmtree\n",
    "from sklearn.datasets import make_classification\n",
    "from sklearn.model_selection import train_test_split\n",
    "import xgboost\n",
    "\n",
    "logging.basicConfig(format=\"%(levelname)s:%(message)s\", level=logging.ERROR)\n",
    "warnings.filterwarnings(\"ignore\")"
   ]
  },
  {
   "cell_type": "markdown",
   "id": "12ba9530",
   "metadata": {},
   "source": [
    "<a id='intro'></a>\n",
    "# Introduction"
   ]
  },
  {
   "cell_type": "markdown",
   "id": "43fa742e",
   "metadata": {},
   "source": [
    "## Authenticate\n",
    "\n",
    "Authentication to the OCI Data Science service is required. Here we default to resource principals."
   ]
  },
  {
   "cell_type": "code",
   "execution_count": null,
   "id": "d66df404",
   "metadata": {},
   "outputs": [],
   "source": [
    "ads.set_auth(auth=\"resource_principal\")"
   ]
  },
  {
   "cell_type": "markdown",
   "id": "81ff07d3",
   "metadata": {},
   "source": [
    "<a id=\"intro_dataset\"></a>\n",
    "## Create Dataset"
   ]
  },
  {
   "cell_type": "code",
   "execution_count": null,
   "id": "65c0a3df",
   "metadata": {},
   "outputs": [],
   "source": [
    "X, y = make_classification(n_samples=10000, n_features=15, n_classes=2, flip_y=0.05)\n",
    "trainx, testx, trainy, testy = train_test_split(X, y, test_size=30, random_state=42)"
   ]
  },
  {
   "cell_type": "markdown",
   "id": "376e0314",
   "metadata": {},
   "source": [
    "Take a look at the first few records so that you can get an understanding of the data."
   ]
  },
  {
   "cell_type": "code",
   "execution_count": null,
   "id": "82268c90",
   "metadata": {},
   "outputs": [],
   "source": [
    "X[:5]"
   ]
  },
  {
   "cell_type": "code",
   "execution_count": null,
   "id": "76e89407",
   "metadata": {},
   "outputs": [],
   "source": [
    "y[:5]"
   ]
  },
  {
   "cell_type": "markdown",
   "id": "2afb012b",
   "metadata": {},
   "source": [
    "## Create a model"
   ]
  },
  {
   "cell_type": "code",
   "execution_count": null,
   "id": "74d5e11d",
   "metadata": {},
   "outputs": [],
   "source": [
    "model = xgboost.XGBClassifier(n_estimators=100, learning_rate=0.01, random_state=42)\n",
    "model.fit(\n",
    "    trainx,\n",
    "    trainy,\n",
    ")"
   ]
  },
  {
   "cell_type": "markdown",
   "id": "a549a720",
   "metadata": {},
   "source": [
    "## Prepare the model\n",
    "\n",
    "Create a temporary directory for the model components."
   ]
  },
  {
   "cell_type": "code",
   "execution_count": null,
   "id": "e72f29c9",
   "metadata": {},
   "outputs": [],
   "source": [
    "artifact_dir = tempfile.mkdtemp()\n",
    "xgb_model = XGBoostModel(estimator=model, artifact_dir=artifact_dir)\n",
    "xgb_model.prepare(\n",
    "    inference_conda_env=\"generalml_p38_cpu_v1\",\n",
    "    training_conda_env=\"generalml_p38_cpu_v1\",\n",
    "    X_sample=trainx,\n",
    "    y_sample=trainy,\n",
    "    use_case_type=UseCaseType.BINARY_CLASSIFICATION,\n",
    ")"
   ]
  },
  {
   "cell_type": "code",
   "execution_count": null,
   "id": "97b8c425",
   "metadata": {},
   "outputs": [],
   "source": [
    "xgb_model.summary_status()"
   ]
  },
  {
   "cell_type": "markdown",
   "id": "33937e2f",
   "metadata": {},
   "source": [
    "## Verify\n",
    "\n",
    "The verify method invokes the ``predict`` function defined inside ``score.py`` in the artifact_dir"
   ]
  },
  {
   "cell_type": "code",
   "execution_count": null,
   "id": "9eb88589",
   "metadata": {},
   "outputs": [],
   "source": [
    "xgb_model.verify(testx)"
   ]
  },
  {
   "cell_type": "markdown",
   "id": "7d04b2d1",
   "metadata": {},
   "source": [
    "## Save"
   ]
  },
  {
   "cell_type": "code",
   "execution_count": null,
   "id": "aee5fc96",
   "metadata": {},
   "outputs": [],
   "source": [
    "model_id = xgb_model.save(display_name=\"XGBoost Model\")"
   ]
  },
  {
   "cell_type": "code",
   "execution_count": null,
   "id": "f39483c6",
   "metadata": {},
   "outputs": [],
   "source": [
    "xgb_model.summary_status()"
   ]
  },
  {
   "cell_type": "markdown",
   "id": "8cd401f7",
   "metadata": {},
   "source": [
    "## Deploy\n",
    "\n",
    "When the model is in the model catalog, you can use the model's `.deploy()` method to deploy it. This method allows you to specify the attributes of the deployment such as the display name, description, instance type and count, the maximum bandwidth, and logging groups. The next cell deploys the model with the default settings except for the custom display name. The `.deploy()` method returns a `ModelDeployment` object."
   ]
  },
  {
   "cell_type": "code",
   "execution_count": null,
   "id": "0872a9ef",
   "metadata": {},
   "outputs": [],
   "source": [
    "xgb_model.deploy(display_name=\"XGBoost Model For Classification\")"
   ]
  },
  {
   "cell_type": "code",
   "execution_count": null,
   "id": "ce3c57f3",
   "metadata": {},
   "outputs": [],
   "source": [
    "xgb_model.summary_status()"
   ]
  },
  {
   "cell_type": "markdown",
   "id": "97a4e6ff",
   "metadata": {},
   "source": [
    "## Predict\n",
    "\n",
    "After the deployment is active, you can call `predict()` on the model object to send request to the deployed endpoint. "
   ]
  },
  {
   "cell_type": "code",
   "execution_count": null,
   "id": "8bae9f4d",
   "metadata": {},
   "outputs": [],
   "source": [
    "xgb_model.predict(testx)[\"prediction\"][:10]"
   ]
  },
  {
   "cell_type": "markdown",
   "id": "6a321c37",
   "metadata": {},
   "source": [
    "<a id='clean_up'></a>\n",
    "# Clean Up\n",
    "\n",
    "This notebook created a model deployment and a model. This section cleans up those resources. \n",
    "\n",
    "The model deployment must be deleted before the model can be deleted. You use the `.delete_deployment()` method on the `SklearnModel` object to do this."
   ]
  },
  {
   "cell_type": "code",
   "execution_count": null,
   "id": "ee4b1758",
   "metadata": {},
   "outputs": [],
   "source": [
    "delete = xgb_model.delete_deployment(wait_for_completion=True)"
   ]
  },
  {
   "cell_type": "markdown",
   "id": "e6916e1b",
   "metadata": {},
   "source": [
    "After the model deployment has been deleted, the `.summary_status()` method shows that the model has been deleted and that the `predict()` method is not available."
   ]
  },
  {
   "cell_type": "code",
   "execution_count": null,
   "id": "7bc161b4",
   "metadata": {},
   "outputs": [],
   "source": [
    "xgb_model.summary_status()"
   ]
  },
  {
   "attachments": {},
   "cell_type": "markdown",
   "id": "9b2c3629",
   "metadata": {},
   "source": [
    "Use the `.delete()` method to delete the model."
   ]
  },
  {
   "cell_type": "code",
   "execution_count": null,
   "id": "08dda090",
   "metadata": {},
   "outputs": [],
   "source": [
    "xgb_model.delete()"
   ]
  },
  {
   "cell_type": "markdown",
   "id": "a963581e",
   "metadata": {},
   "source": [
    "The next cell removes the model artifacts that were stored on your local drive."
   ]
  },
  {
   "cell_type": "code",
   "execution_count": null,
   "id": "321ede96",
   "metadata": {},
   "outputs": [],
   "source": [
    "rmtree(artifact_dir)"
   ]
  },
  {
   "cell_type": "markdown",
   "id": "b048c707",
   "metadata": {},
   "source": [
    "<a id='ref'></a>\n",
    "# References\n",
    "- [ADS Library Documentation](https://accelerated-data-science.readthedocs.io/en/latest/index.html)\n",
    "- [Data Science YouTube Videos](https://www.youtube.com/playlist?list=PLKCk3OyNwIzv6CWMhvqSB_8MLJIZdO80L)\n",
    "- [OCI Data Science Documentation](https://docs.cloud.oracle.com/en-us/iaas/data-science/using/data-science.htm)\n",
    "- [Oracle Data & AI Blog](https://blogs.oracle.com/datascience/)\n",
    "- [Understanding Conda Environments](https://docs.cloud.oracle.com/en-us/iaas/data-science/using/use-notebook-sessions.htm#conda_understand_environments)\n",
    "- [Use Resource Manager to Configure Your Tenancy for Data Science](https://docs.cloud.oracle.com/en-us/iaas/data-science/using/orm-configure-tenancy.htm)\n",
    "- [`runtime.yaml`](https://docs.content.oci.oracleiaas.com/en-us/iaas/data-science/using/model_runtime_yaml.htm#model_runtime_yaml)\n",
    "- [`score.py`](https://docs.content.oci.oracleiaas.com/en-us/iaas/data-science/using/model_score_py.htm#model_score_py)\n",
    "- [Model artifact](https://docs.content.oci.oracleiaas.com/en-us/iaas/data-science/using/models_saving_catalog.htm#create-models)\n",
    "- [ONNX API Summary](http://onnx.ai/sklearn-onnx/api_summary.html)"
   ]
  }
 ],
 "metadata": {
  "kernelspec": {
   "display_name": "Python 3.11.0 64-bit",
   "language": "python",
   "name": "python3"
  },
  "language_info": {
   "codemirror_mode": {
    "name": "ipython",
    "version": 3
   },
   "file_extension": ".py",
   "mimetype": "text/x-python",
   "name": "python",
   "nbconvert_exporter": "python",
   "pygments_lexer": "ipython3",
   "version": "3.11.1"
  },
  "vscode": {
   "interpreter": {
    "hash": "1a1af0ee75eeea9e2e1ee996c87e7a2b11a0bebd85af04bb136d915cefc0abce"
   }
  }
 },
 "nbformat": 4,
 "nbformat_minor": 5
}
