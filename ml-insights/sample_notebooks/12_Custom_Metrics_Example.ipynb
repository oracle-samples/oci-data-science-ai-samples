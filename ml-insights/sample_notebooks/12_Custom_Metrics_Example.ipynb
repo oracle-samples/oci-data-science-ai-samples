{
 "cells": [
  {
   "cell_type": "markdown",
   "source": [
    "# ML Insights run with Custom Metrics"
   ],
   "metadata": {
    "collapsed": false
   }
  },
  {
   "cell_type": "markdown",
   "id": "44c63619",
   "metadata": {
    "jp-MarkdownHeadingCollapsed": true,
    "tags": []
   },
   "source": [
    "# Use Case\n",
    "\n",
    "This Notebook shows how to to define and use custom metrics using ML Insights declarative API  metric calculation.\n",
    "\n",
    "## Note\n",
    "\n",
    "### Custom Metrics \n",
    "    - sum_divide_by_two :  This metrics return the total sum divided by 2 \n",
    "    - sum_divide_by_k : This metrics return the total sum divided by k , where k : [1 ,length of data set] \n",
    "    \n",
    "## About Dataset\n",
    "The data was collected and made available by “National Institute of Diabetes and Digestive and Kidney Diseases” as part of the Pima Indians Diabetes Database. Several constraints were placed on the selection of these instances from a larger database. In particular, all patients here belong to the Pima Indian heritage (subgroup of Native Americans), and are females of ages 21 and above.\n",
    "\n",
    "The data set contains medical and demographic data of patients . It consists of various features such as Pregnancies, Glucose, BloodPressure, SkinThickness, Insulin, BMI, DiabetesPedigreeFunction, Age, Outcome, Prediction, BMICategory, Prediction_Score .\n",
    "\n",
    "Dataset source : https://www.kaggle.com/datasets/kandij/diabetes-dataset\n"
   ]
  },
  {
   "cell_type": "markdown",
   "id": "d807a7da",
   "metadata": {
    "tags": []
   },
   "source": [
    "# Install ML Observability Insights Library SDK\n",
    "\n",
    "- Prerequisites\n",
    "    - Linux/Mac (Intel CPU)\n",
    "    - Python 3.8 and 3.9 only\n",
    "\n",
    "\n",
    "- Installation\n",
    "    - ML Insights is made available as a Python package (via Artifactory) which can be installed using pip install as shown below. Depending on the execution engine on which to do the run, one can use scoped package. For eg: if we want to run on dask, use oracle-ml-insights[dask], for spark use oracle-ml-insights[spark], for native use oracle-ml-insights. One can install all the dependencies as use oracle-ml-insights[all]\n",
    "\n",
    "      !pip install oracle-ml-insights\n",
    "\n",
    "Refer : [Installation and Setup](https://docs.oracle.com/en-us/iaas/tools/ml-insights-docs/latest/ml-insights-documentation/html/user_guide/tutorials/install.html)"
   ]
  },
  {
   "cell_type": "code",
   "execution_count": null,
   "id": "406387ff",
   "metadata": {
    "tags": [],
    "pycharm": {
     "is_executing": true
    }
   },
   "outputs": [],
   "source": [
    "!python3 -m pip install oracle-ml-insights"
   ]
  },
  {
   "cell_type": "code",
   "execution_count": null,
   "id": "b2d719f8",
   "metadata": {
    "tags": []
   },
   "outputs": [],
   "source": [
    "!python3 -m pip install matplotlib"
   ]
  },
  {
   "cell_type": "markdown",
   "id": "e02be26b",
   "metadata": {},
   "source": [
    "# 1 ML Insights Imports "
   ]
  },
  {
   "cell_type": "code",
   "execution_count": 25,
   "id": "e59af580",
   "metadata": {
    "tags": []
   },
   "outputs": [],
   "source": [
    "# imports\n",
    "\n",
    "import os\n",
    "from typing import Any\n",
    "import pyarrow as pa\n",
    "import pandas as pd\n",
    "import json\n",
    "\n",
    "# Import Data Quality metrics \n",
    "from mlm_insights.core.metrics.count import Count\n",
    "from mlm_insights.core.metrics.min import Min\n",
    "from mlm_insights.core.metrics.mean import Mean\n",
    "from mlm_insights.core.metrics.sum import Sum\n",
    "from mlm_insights.core.metrics.standard_deviation import StandardDeviation\n",
    "\n",
    "# Import Data Integrity metrics\n",
    "from mlm_insights.core.metrics.rows_count import RowCount\n",
    "from mlm_insights.core.metrics.distinct_count import DistinctCount\n",
    "from mlm_insights.core.metrics.duplicate_count import DuplicateCount\n",
    "from mlm_insights.core.metrics.rows_count import RowCount\n",
    "\n",
    "\n",
    "\n",
    "from mlm_insights.builder.builder_component import MetricDetail, EngineDetail\n",
    "from mlm_insights.constants.types import FeatureType, DataType, VariableType, ColumnType\n",
    "from mlm_insights.core.metrics.metric_metadata import MetricMetadata\n",
    "from mlm_insights.builder.insights_builder import InsightsBuilder\n",
    "from mlm_insights.core.post_processors.local_writer_post_processor import LocalWriterPostProcessor\n",
    "\n",
    "\n",
    "# import data reader\n",
    "from mlm_insights.core.data_sources import LocalDatePrefixDataSource\n",
    "from mlm_insights.mlm_native.readers import CSVNativeDataReader\n",
    "\n"
   ]
  },
  {
   "cell_type": "markdown",
   "id": "763ab82c-231d-4a20-a96b-0409442cfa01",
   "metadata": {},
   "source": [
    "# Custom Metrics\n",
    "\n",
    "- To Configure the custom metrics , We need to extend the ML Insights MetricBase interface which is Abstract Base Class for defining an Insights Metric and override its methods to write custom metrics logic. \n",
    "\n",
    "    - create method : Factory Method to create an object. The configuration will be available in    config.\n",
    "    - compute method : Use to write the custom metrics logic to calculate the metric value from the passed series object .\n",
    "    - merge method :  Use to Merge the other metric with the current metric and return a new instance of metric. Use this method to merge the states of the 2 metrics .\n",
    "    - get_result method : Use to returns the computed value of the metric used by to_json() method internally\n",
    "    - get_standard_metric_result : Use to returns the computed value of the metric in standard way used by to_json() method internally  \n",
    "\n",
    "\n",
    "Refer : [Metrics Component Documentation](https://docs.oracle.com/en-us/iaas/tools/ml-insights-docs/latest/ml-insights-documentation/html/user_guide/getting_started/metrics_component.html)"
   ]
  },
  {
   "cell_type": "code",
   "execution_count": 26,
   "id": "5aeb2df1-2c83-4b92-b51d-554f31de0bcc",
   "metadata": {},
   "outputs": [],
   "source": [
    "# import Custom metrics  \n",
    "from sum_divide_by_two_custom_metrics import SumDivideByTwo\n",
    "from sum_divide_by_k_custom_metrics import SumDivideByK"
   ]
  },
  {
   "cell_type": "markdown",
   "id": "f22e18ab",
   "metadata": {},
   "source": [
    "# 2 Configure Feature schema\n",
    "\n",
    "Feature Schema defines the structure and metadata of the input data, which includes data type, column type, column mapping . The framework, uses this information as the ground truth and any deviation in the actual data is taken as an anomaly and the framework usually will ignore such all such anomaly in data."
   ]
  },
  {
   "cell_type": "code",
   "execution_count": 27,
   "id": "dd2db88a",
   "metadata": {
    "tags": []
   },
   "outputs": [],
   "source": [
    "def get_input_schema():\n",
    "    return {\n",
    "        \"Pregnancies\": FeatureType(data_type=DataType.FLOAT, variable_type=VariableType.CONTINUOUS),\n",
    "        \"BloodPressure\": FeatureType(data_type=DataType.FLOAT, variable_type=VariableType.CONTINUOUS),\n",
    "        \"SkinThickness\": FeatureType(data_type=DataType.FLOAT, variable_type=VariableType.CONTINUOUS),\n",
    "        \"Insulin\": FeatureType(data_type=DataType.FLOAT, variable_type=VariableType.CONTINUOUS),\n",
    "        \"BMI\": FeatureType(data_type=DataType.FLOAT, variable_type=VariableType.CONTINUOUS),\n",
    "        \"Age\": FeatureType(data_type=DataType.FLOAT, variable_type=VariableType.CONTINUOUS),\n",
    "        \"DiabetesPedigreeFunction\": FeatureType(data_type=DataType.FLOAT, variable_type=VariableType.CONTINUOUS),\n",
    "        \"Outcome\": FeatureType(data_type=DataType.FLOAT, variable_type=VariableType.CONTINUOUS,column_type = ColumnType.TARGET),\n",
    "        \"Prediction\": FeatureType(data_type=DataType.FLOAT, variable_type=VariableType.CONTINUOUS,column_type = ColumnType.PREDICTION),\n",
    "        \"BMICategory\":FeatureType(data_type=DataType.STRING, variable_type=VariableType.NOMINAL)\n",
    "        \n",
    "    }\n",
    "\n"
   ]
  },
  {
   "cell_type": "markdown",
   "id": "601ab2ee",
   "metadata": {},
   "source": [
    "# 3 Configure Metrics \n",
    "\n",
    "Metrics are the core construct for the framework. This component is responsible for calculating all statistical metrics and algorithms. Metric components work based on the type of features (eg. input feature, output feature etc.) available, their data type (eg. int, float, string etc.) as well as additional context (e.g. if any previous computation is available to compare against). ML Insights provides commonly used metrics out of the box for different ML observability use cases.\n",
    "\n",
    "Refer : [Metrics Component Documentation](https://docs.oracle.com/en-us/iaas/tools/ml-insights-docs/latest/ml-insights-documentation/html/user_guide/getting_started/metrics_component.html)\n",
    "\n"
   ]
  },
  {
   "cell_type": "code",
   "execution_count": 28,
   "id": "a7d05c7b",
   "metadata": {},
   "outputs": [],
   "source": [
    "def get_metrics():\n",
    "    metrics = [\n",
    "               MetricMetadata(klass=Mean),\n",
    "               MetricMetadata(klass=Sum),\n",
    "               MetricMetadata(klass=SumDivideByTwo), # register custom metrics \n",
    "               MetricMetadata(klass=SumDivideByK, config={'k': 5}) # register custom metrics \n",
    "              ]\n",
    "    uni_variate_metrics = {\n",
    "        \"BloodPressure\": metrics\n",
    "        \n",
    "    }\n",
    "    metric_details = MetricDetail(univariate_metric=uni_variate_metrics,\n",
    "                                  dataset_metrics=[])\n",
    "    return metric_details"
   ]
  },
  {
   "cell_type": "markdown",
   "id": "f83d52cd",
   "metadata": {},
   "source": [
    "# 4 Configure Data Reader\n",
    "\n",
    "Data Reader allows for ingestion of raw data into the framework. This component is primarily responsible for understanding different formats of data (e.g. jsonl, csv) etc. and how to properly read them. At its essence, the primary responsibility of this component is that given a set of valid file locations which represents file of a specific type, reader can properly decode the content and load them in memory.\n",
    "\n",
    "Additionally, Data Source component is an optional subcomponent, which is usually used along side the Reader. The primary responsibility of the data source component is to embed logic on filtering and partitioning of files to be read by the framework.\n",
    "\n",
    "Refer : [Data Reader Documentation](https://docs.oracle.com/en-us/iaas/tools/ml-insights-docs/latest/ml-insights-documentation/html/user_guide/getting_started/data_reader_component.html)"
   ]
  },
  {
   "cell_type": "code",
   "execution_count": 29,
   "id": "2951d6b8",
   "metadata": {
    "tags": []
   },
   "outputs": [],
   "source": [
    "def get_reader():\n",
    "    data = {\n",
    "        \"file_type\": \"csv\",\n",
    "        \"date_range\": {\"start\": \"2023-06-26\", \"end\": \"2023-06-27\"}\n",
    "    }\n",
    "    base_location =\"input_data/diabetes_prediction\"\n",
    "    ds = LocalDatePrefixDataSource(base_location, **data)\n",
    "    print(ds.get_data_location())\n",
    "    csv_reader = CSVNativeDataReader(data_source=ds)\n",
    "    return csv_reader\n",
    "\n"
   ]
  },
  {
   "cell_type": "markdown",
   "id": "5159be09",
   "metadata": {},
   "source": [
    "# 5 Compute the Profile \n",
    "\n",
    "Create the builder object which provides core set of api, using which user can set the behavior of their monitoring. By selecting what components and variants to run all aspects of the monitoring task can be customised and configured. \n",
    "\n",
    "The run() method is responsible to run the internal workflow. It also handles the life cycle of each component passed, which includes creation (if required), invoking interface functions, destroying etc . Additionally, runner also handles some more advanced operations like thread pooling, compute engine abstraction etc.\n",
    "\n",
    "Refer : [Builder Object Documentation](https://docs.oracle.com/en-us/iaas/tools/ml-insights-docs/latest/ml-insights-documentation/html/user_guide/getting_started/builder_object.html)\n"
   ]
  },
  {
   "cell_type": "code",
   "execution_count": 30,
   "id": "116cbc50",
   "metadata": {},
   "outputs": [
    {
     "name": "stdout",
     "output_type": "stream",
     "text": [
      "['input_data/diabetes_prediction/2023-06-26/2023-06-26.csv', 'input_data/diabetes_prediction/2023-06-27/2023-06-27.csv']\n"
     ]
    },
    {
     "data": {
      "text/html": [
       "<div>\n",
       "<style scoped>\n",
       "    .dataframe tbody tr th:only-of-type {\n",
       "        vertical-align: middle;\n",
       "    }\n",
       "\n",
       "    .dataframe tbody tr th {\n",
       "        vertical-align: top;\n",
       "    }\n",
       "\n",
       "    .dataframe thead th {\n",
       "        text-align: right;\n",
       "    }\n",
       "</style>\n",
       "<table border=\"1\" class=\"dataframe\">\n",
       "  <thead>\n",
       "    <tr style=\"text-align: right;\">\n",
       "      <th></th>\n",
       "      <th>Mean</th>\n",
       "      <th>SumDivideByTwo</th>\n",
       "      <th>SumDivideByK</th>\n",
       "      <th>Sum</th>\n",
       "    </tr>\n",
       "  </thead>\n",
       "  <tbody>\n",
       "    <tr>\n",
       "      <th>BloodPressure</th>\n",
       "      <td>69.134328</td>\n",
       "      <td>32424.0</td>\n",
       "      <td>12969.6</td>\n",
       "      <td>64848.0</td>\n",
       "    </tr>\n",
       "  </tbody>\n",
       "</table>\n",
       "</div>"
      ],
      "text/plain": [
       "                    Mean  SumDivideByTwo  SumDivideByK      Sum\n",
       "BloodPressure  69.134328         32424.0       12969.6  64848.0"
      ]
     },
     "execution_count": 30,
     "metadata": {},
     "output_type": "execute_result"
    }
   ],
   "source": [
    "def main():    \n",
    "    # Set up the insights builder by passing: input schema, metric, reader and engine details\n",
    "    runner = InsightsBuilder(). \\\n",
    "        with_input_schema(get_input_schema()). \\\n",
    "        with_metrics(metrics=get_metrics()). \\\n",
    "        with_reader(reader=get_reader()). \\\n",
    "        with_post_processors(post_processors=[LocalWriterPostProcessor(file_location=\"output_data/profiles\", file_name=\"custom_metrics_profile.bin\")]). \\\n",
    "        build()\n",
    "\n",
    "    # Run the evaluation\n",
    "    run_result = runner.run()\n",
    "    return run_result.profile\n",
    "    \n",
    "profile = main()\n",
    "profile.to_pandas()"
   ]
  },
  {
   "cell_type": "markdown",
   "id": "02a6cb4c",
   "metadata": {},
   "source": [
    "## 6 Profile Result"
   ]
  },
  {
   "cell_type": "code",
   "execution_count": 31,
   "id": "bb0bf190",
   "metadata": {},
   "outputs": [
    {
     "name": "stdout",
     "output_type": "stream",
     "text": [
      "{'dataset_metrics': {}, 'feature_metrics': {'BloodPressure': {'Mean': {'metric_name': 'Mean', 'metric_description': 'Feature Metric to compute mean', 'variable_count': 1, 'variable_names': ['mean'], 'variable_types': ['CONTINUOUS'], 'variable_dtypes': ['FLOAT'], 'variable_dimensions': [0], 'metric_data': [69.13432835820896], 'metadata': {}, 'error': ''}, 'SumDivideByTwo': {'metric_name': 'SumDivideByTwo', 'metric_description': '', 'variable_count': 1, 'variable_names': ['sumdividebytwo'], 'variable_types': ['CONTINUOUS'], 'variable_dtypes': ['FLOAT'], 'variable_dimensions': [0], 'metric_data': [32424.0], 'metadata': {}, 'error': ''}, 'SumDivideByK': {'metric_name': 'SumDivideByK', 'metric_description': '', 'variable_count': 1, 'variable_names': ['sumdividebyK'], 'variable_types': ['CONTINUOUS'], 'variable_dtypes': ['FLOAT'], 'variable_dimensions': [0], 'metric_data': [12969.6], 'metadata': {}, 'error': ''}, 'Sum': {'metric_name': 'Sum', 'metric_description': '', 'variable_count': 1, 'variable_names': ['sum'], 'variable_types': ['CONTINUOUS'], 'variable_dtypes': ['FLOAT'], 'variable_dimensions': [0], 'metric_data': [64848.0], 'metadata': {}, 'error': ''}}}}\n"
     ]
    }
   ],
   "source": [
    "profile_json = profile.to_json()\n",
    "print(profile_json)\n",
    "\n",
    "\n"
   ]
  },
  {
   "cell_type": "code",
   "execution_count": 32,
   "id": "856460d2-0684-420e-93dd-2d1a27d4fc54",
   "metadata": {},
   "outputs": [
    {
     "name": "stdout",
     "output_type": "stream",
     "text": [
      "The Sum Metric value : \n",
      "[64848.0]\n"
     ]
    }
   ],
   "source": [
    "print(\"The Sum Metric value : \")\n",
    "print(profile_json['feature_metrics']['BloodPressure']['Sum']['metric_data'])"
   ]
  },
  {
   "cell_type": "code",
   "execution_count": 33,
   "id": "0d784705-bcc3-4ab4-b2eb-d1f8a0b0c8dc",
   "metadata": {},
   "outputs": [
    {
     "name": "stdout",
     "output_type": "stream",
     "text": [
      "The SumDivideByTwo Metric value : \n",
      "[32424.0]\n"
     ]
    }
   ],
   "source": [
    "print(\"The SumDivideByTwo Metric value : \")\n",
    "print(profile_json['feature_metrics']['BloodPressure']['SumDivideByTwo']['metric_data'])"
   ]
  },
  {
   "cell_type": "code",
   "execution_count": 34,
   "id": "4ec0bdde-01d7-4633-8996-3863dcd2d067",
   "metadata": {},
   "outputs": [
    {
     "name": "stdout",
     "output_type": "stream",
     "text": [
      "The SumDivideByK Metric value : \n",
      "[12969.6]\n"
     ]
    }
   ],
   "source": [
    "print(\"The SumDivideByK Metric value : \")\n",
    "print(profile_json['feature_metrics']['BloodPressure']['SumDivideByK']['metric_data'])"
   ]
  }
 ],
 "metadata": {
  "kernelspec": {
   "display_name": "Python 3 (ipykernel)",
   "language": "python",
   "name": "python3"
  },
  "language_info": {
   "codemirror_mode": {
    "name": "ipython",
    "version": 3
   },
   "file_extension": ".py",
   "mimetype": "text/x-python",
   "name": "python",
   "nbconvert_exporter": "python",
   "pygments_lexer": "ipython3",
   "version": "3.10.9"
  }
 },
 "nbformat": 4,
 "nbformat_minor": 5
}
