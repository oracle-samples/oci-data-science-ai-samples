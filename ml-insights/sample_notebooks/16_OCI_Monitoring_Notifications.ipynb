{
 "cells": [
  {
   "cell_type": "markdown",
   "metadata": {
    "collapsed": false,
    "jupyter": {
     "outputs_hidden": false
    }
   },
   "source": [
    "# Run ML Insights Unified Builder API to push Notifications to OCI Monitoring"
   ]
  },
  {
   "cell_type": "markdown",
   "metadata": {
    "collapsed": false,
    "jupyter": {
     "outputs_hidden": false
    }
   },
   "source": [
    "# Use Case\n",
    "\n",
    "This Notebook demonstrates how to leverage the ML Insights SDK to push data regarding Insights test results to OCI Monitoring, so that any threshold breaches can be communicated to a user via OCI Monitoring. For information on how OCI Monitoring can be used to configure alarms or visualize threshold breaches, refer [OCI Monitoring Notifications Documentation](https://objectstorage.us-ashburn-1.oraclecloud.com/p/52qrFSNgCH85OWPBGIfTgNm-KeibRU8oPSSBdDg_t90gZ89r5qXrQFpTfdvQ9ear/n/bigdatadatasciencelarge/b/ml-insight-doc/o/user_guide/tutorials/notifications.html)\n",
    "\n",
    "## Prerequisites\n",
    "The OCI Monitoring post-processor component (used to push test results to OCI Monitoring) will fail unless the user is authenticated to push to OCI Monitoring. These authentication details can be set by arguments passed to the post-processor. Additionally, the user will need to set IAM policies to allow pushing metrics to OCI Monitoring.\n",
    "\n",
    "For more details on arguments passed to this post-processor as well as IAM policy requirements, refer : [OCI Monitoring Post-processor Documentation](https://docs.oracle.com/en-us/iaas/tools/ml-insights-docs/latest/ml-insights-documentation/html/user_guide/getting_started/post_processor_component.html#ocimonitoringpostprocessor)\n",
    "\n",
    "## About Dataset\n",
    "The data was collected and made available by “National Institute of Diabetes and Digestive and Kidney Diseases” as part of the Pima Indians Diabetes Database. Several constraints were placed on the selection of these instances from a larger database. In particular, all patients here belong to the Pima Indian heritage (subgroup of Native Americans), and are females of ages 21 and above.\n",
    "\n",
    "The data set contains medical and demographic data of patients . It consists of various features such as Pregnancies, Glucose, BloodPressure, SkinThickness, Insulin, BMI, DiabetesPedigreeFunction, Age, Outcome, Prediction, BMICategory, Prediction_Score .\n",
    "\n",
    "Dataset source : https://www.kaggle.com/datasets/kandij/diabetes-dataset\n"
   ]
  },
  {
   "cell_type": "markdown",
   "metadata": {
    "collapsed": false,
    "jupyter": {
     "outputs_hidden": false
    }
   },
   "source": [
    "# Install ML Observability Insights Library SDK\n",
    "\n",
    "- Prerequisites\n",
    "- Linux/Mac (Intel CPU)\n",
    "- Python 3.8 and 3.9 only\n",
    "\n",
    "\n",
    "- Installation\n",
    "- ML Insights is made available as a Python package (via Artifactory) which can be installed using pip install as shown below. Depending on the execution engine on which to do the run, one can use scoped package. For eg: if we want to run on dask, use oracle-ml-insights[dask], for spark use oracle-ml-insights[spark], for native use oracle-ml-insights. One can install all the dependencies as use oracle-ml-insights[all]\n",
    "\n",
    "!pip install oracle-ml-insights\n",
    "\n",
    "Refer : [Installation and Setup](https://docs.oracle.com/en-us/iaas/tools/ml-insights-docs/latest/ml-insights-documentation/html/user_guide/tutorials/install.html)"
   ]
  },
  {
   "cell_type": "code",
   "execution_count": null,
   "metadata": {
    "ExecuteTime": {
     "end_time": "2024-07-25T13:34:44.186296Z",
     "start_time": "2024-07-25T13:34:38.619641Z"
    },
    "collapsed": false,
    "jupyter": {
     "outputs_hidden": false
    }
   },
   "outputs": [],
   "source": [
    "!python3 -m pip install oracle-ml-insights"
   ]
  },
  {
   "cell_type": "code",
   "execution_count": null,
   "metadata": {
    "ExecuteTime": {
     "end_time": "2024-07-23T15:10:19.397974Z",
     "start_time": "2024-07-23T15:10:16.982177Z"
    },
    "collapsed": false,
    "jupyter": {
     "outputs_hidden": false
    }
   },
   "outputs": [],
   "source": [
    "!python3 -m pip install matplotlib"
   ]
  },
  {
   "cell_type": "markdown",
   "metadata": {
    "collapsed": false,
    "jupyter": {
     "outputs_hidden": false
    }
   },
   "source": [
    "# ML Insights Imports"
   ]
  },
  {
   "cell_type": "code",
   "execution_count": 12,
   "metadata": {
    "ExecuteTime": {
     "end_time": "2024-07-29T10:40:08.359389Z",
     "start_time": "2024-07-29T10:40:05.637838Z"
    },
    "collapsed": false,
    "jupyter": {
     "outputs_hidden": false
    }
   },
   "outputs": [],
   "source": [
    "# Imports\n",
    "\n",
    "# Import Data Quality metrics\n",
    "from mlm_insights.core.metrics.count import Count\n",
    "from mlm_insights.core.metrics.mean import Mean\n",
    "from mlm_insights.core.metrics.quartiles import Quartiles\n",
    "\n",
    "# Import Data Integrity metrics\n",
    "from mlm_insights.core.metrics.rows_count import RowCount\n",
    "\n",
    "from mlm_insights.builder.builder_component import MetricDetail\n",
    "from mlm_insights.constants.types import FeatureType, DataType, VariableType, ColumnType\n",
    "from mlm_insights.core.metrics.metric_metadata import MetricMetadata\n",
    "from mlm_insights.builder.insights_builder import InsightsBuilder\n",
    "\n",
    "# Import Data reader\n",
    "from mlm_insights.core.data_sources import LocalDatePrefixDataSource\n",
    "from mlm_insights.mlm_native.readers import CSVNativeDataReader\n",
    "\n",
    "# Import Profile reader\n",
    "from mlm_insights.core.profile_readers.local_profile_reader import LocalProfileReader\n",
    "\n",
    "# Import Test config\n",
    "from mlm_insights.builder.builder_component import TestConfig\n",
    "from mlm_insights.tests.selectors.dataset_metric_selector import DatasetMetricSelector\n",
    "from mlm_insights.tests.test_types.metric_based_tests.test_is_complete import TestIsComplete\n",
    "from mlm_insights.tests.test_types.predicate_based_tests.test_less_than import TestLessThan\n",
    "from mlm_insights.tests.profile_source import ProfileSource\n",
    "from mlm_insights.tests.selectors.feature_metric_selector import FeatureMetricSelector\n",
    "from mlm_insights.tests.test_types.predicate_based_tests.test_greater_than import TestGreaterThan\n",
    "\n",
    "# Import OCI Monitoring post-processor\n",
    "from mlm_insights.core.post_processors.oci_monitoring_post_processor import OCIMonitoringPostProcessor"
   ]
  },
  {
   "cell_type": "markdown",
   "metadata": {
    "collapsed": false,
    "jupyter": {
     "outputs_hidden": false
    }
   },
   "source": [
    "# Configure feature schema, metrics and data reader\n",
    "\n",
    "For additional context on these components, please refer to the previous sample notebooks in this series."
   ]
  },
  {
   "cell_type": "code",
   "execution_count": 13,
   "metadata": {
    "ExecuteTime": {
     "end_time": "2024-07-23T15:10:44.818435Z",
     "start_time": "2024-07-23T15:10:44.806636Z"
    },
    "collapsed": false,
    "jupyter": {
     "outputs_hidden": false
    }
   },
   "outputs": [],
   "source": [
    "def get_input_schema():\n",
    "    return {\n",
    "        \"Pregnancies\": FeatureType(data_type=DataType.FLOAT, variable_type=VariableType.CONTINUOUS),\n",
    "        \"BloodPressure\": FeatureType(data_type=DataType.FLOAT, variable_type=VariableType.CONTINUOUS),\n",
    "        \"SkinThickness\": FeatureType(data_type=DataType.FLOAT, variable_type=VariableType.CONTINUOUS),\n",
    "    \n",
    "\n",
    "    \"Insulin\": FeatureType(data_type=DataType.FLOAT, variable_type=VariableType.CONTINUOUS),\n",
    "        \"BMI\": FeatureType(data_type=DataType.FLOAT, variable_type=VariableType.CONTINUOUS),\n",
    "        \"Age\": FeatureType(data_type=DataType.FLOAT, variable_type=VariableType.CONTINUOUS),\n",
    "        \"DiabetesPedigreeFunction\": FeatureType(data_type=DataType.FLOAT, variable_type=VariableType.CONTINUOUS),\n",
    "        \"Outcome\": FeatureType(data_type=DataType.FLOAT, variable_type=VariableType.CONTINUOUS,column_type = ColumnType.TARGET),\n",
    "        \"Prediction\": FeatureType(data_type=DataType.FLOAT, variable_type=VariableType.CONTINUOUS,column_type = ColumnType.PREDICTION),\n",
    "        \"BMICategory\":FeatureType(data_type=DataType.STRING, variable_type=VariableType.NOMINAL)\n",
    "    }\n",
    "        \n",
    "\n",
    "def get_metrics():\n",
    "    metrics = [\n",
    "        MetricMetadata(klass=Mean),\n",
    "        MetricMetadata(klass=Count),\n",
    "        MetricMetadata(klass=Quartiles)\n",
    "    ]\n",
    "    uni_variate_metrics = {\n",
    "        \"BloodPressure\": metrics\n",
    "    }\n",
    "    metric_details = MetricDetail(univariate_metric=uni_variate_metrics,\n",
    "                                  dataset_metrics=[MetricMetadata(klass=RowCount)])\n",
    "    return metric_details\n",
    "\n",
    "def get_reader():\n",
    "    data = {\n",
    "        \"file_type\": \"csv\",\n",
    "        \"date_range\": {\"start\": \"2023-06-26\", \"end\": \"2023-06-27\"}\n",
    "    }\n",
    "    base_location =\"input_data/diabetes_prediction\"\n",
    "    ds = LocalDatePrefixDataSource(base_location, **data)\n",
    "    print(ds.get_data_location())\n",
    "    csv_reader = CSVNativeDataReader(data_source=ds)\n",
    "    return csv_reader"
   ]
  },
  {
   "cell_type": "markdown",
   "metadata": {
    "collapsed": false,
    "jupyter": {
     "outputs_hidden": false
    }
   },
   "source": [
    "# 1 Configure Tests\n",
    "\n",
    "The Tests component allows users to configure threshold-based tests on metrics. Tests can be supplied via the Insights Config Reader or Builder API.\n",
    "\n",
    "\n",
    "Refer : [Test/Test Suites Documentation](https://objectstorage.us-ashburn-1.oraclecloud.com/p/52qrFSNgCH85OWPBGIfTgNm-KeibRU8oPSSBdDg_t90gZ89r5qXrQFpTfdvQ9ear/n/bigdatadatasciencelarge/b/ml-insight-doc/o/user_guide/getting_started/test_suites_component.html)"
   ]
  },
  {
   "cell_type": "code",
   "execution_count": 14,
   "metadata": {
    "ExecuteTime": {
     "end_time": "2024-07-23T15:11:16.417136Z",
     "start_time": "2024-07-23T15:11:16.409867Z"
    },
    "collapsed": false,
    "jupyter": {
     "outputs_hidden": false
    }
   },
   "outputs": [],
   "source": [
    "def get_test_config():\n",
    "    test = []\n",
    "    test.append(TestGreaterThan(\n",
    "        lhs=FeatureMetricSelector(\n",
    "            profile_source=ProfileSource.CURRENT,\n",
    "            feature_name=\"BloodPressure\",\n",
    "            metric_key=\"Mean\"),\n",
    "        rhs=100))\n",
    "    test.append(TestLessThan(\n",
    "        lhs=FeatureMetricSelector(\n",
    "            profile_source=ProfileSource.CURRENT,\n",
    "            feature_name=\"BloodPressure\",\n",
    "            metric_key=\"Quartiles.q1\"),\n",
    "        rhs=200))\n",
    "    test.append(TestGreaterThan(\n",
    "        lhs=FeatureMetricSelector(\n",
    "            profile_source=ProfileSource.CURRENT,\n",
    "            feature_name=\"BloodPressure\",\n",
    "            metric_key=\"Quartiles.q1\"),\n",
    "        rhs=50000))\n",
    "    test.append(TestIsComplete(feature_name='BloodPressure'))\n",
    "    test.append(TestGreaterThan(\n",
    "        lhs=DatasetMetricSelector(\n",
    "            profile_source=ProfileSource.CURRENT,\n",
    "            metric_key=\"RowCount\"),\n",
    "        rhs=5000))\n",
    "\n",
    "    test_config = TestConfig(tests=test)\n",
    "    return test_config"
   ]
  },
  {
   "cell_type": "markdown",
   "metadata": {
    "collapsed": false,
    "jupyter": {
     "outputs_hidden": false
    }
   },
   "source": [
    "# 2 Configure Profile Reader\n",
    "\n",
    "The Profile Reader component allows for reading an Insights profile into the framework. This optional component is primarily used to pass the reference profile to the Insights Tests component.\n",
    "\n",
    "\n",
    "Refer : [Profile Reader Documentation](https://objectstorage.us-ashburn-1.oraclecloud.com/p/52qrFSNgCH85OWPBGIfTgNm-KeibRU8oPSSBdDg_t90gZ89r5qXrQFpTfdvQ9ear/n/bigdatadatasciencelarge/b/ml-insight-doc/o/user_guide/getting_started/profile_reader_component.html)"
   ]
  },
  {
   "cell_type": "code",
   "execution_count": 15,
   "metadata": {
    "ExecuteTime": {
     "end_time": "2024-07-23T15:11:02.497659Z",
     "start_time": "2024-07-23T15:11:02.483324Z"
    },
    "collapsed": false,
    "jupyter": {
     "outputs_hidden": false
    }
   },
   "outputs": [],
   "source": [
    "def get_profile_reader():\n",
    "    base_location =\"input_data/profiles/profile_diabetes_reference.bin\"\n",
    "    profile_reader = LocalProfileReader(base_location)\n",
    "    return profile_reader"
   ]
  },
  {
   "cell_type": "markdown",
   "metadata": {
    "collapsed": false,
    "jupyter": {
     "outputs_hidden": false
    }
   },
   "source": [
    "# 3 Configure OCI Monitoring Post-processor\n",
    "\n",
    "The OCI Monitoring post-processor component allows users to push the test results to OCI Monitoring Service.\n",
    "\n",
    "NOTE: The post-processor component will fail unless the user is authenticated to push to OCI Monitoring. Please make sure that the arguments configured in the oci_monitoring_params dictionary in the below code snippet are valid for your use case before running the rest of the notebook.\n",
    "\n",
    "For more details on arguments passed to this processor, refer : [OCI Monitoring Post-processor Documentation](https://objectstorage.us-ashburn-1.oraclecloud.com/p/52qrFSNgCH85OWPBGIfTgNm-KeibRU8oPSSBdDg_t90gZ89r5qXrQFpTfdvQ9ear/n/bigdatadatasciencelarge/b/ml-insight-doc/o/user_guide/getting_started/post_processor_component.html#ocimonitoringpostprocessor)"
   ]
  },
  {
   "cell_type": "code",
   "execution_count": 28,
   "metadata": {
    "ExecuteTime": {
     "start_time": "2024-07-29T11:13:20.490411Z",
     "end_time": "2024-07-29T11:13:20.498506Z"
    },
    "collapsed": false,
    "jupyter": {
     "outputs_hidden": false
    }
   },
   "outputs": [],
   "source": [
    "def get_post_processors():\n",
    "    post_processors = []\n",
    "    oci_monitoring_params = {\n",
    "        \"compartment_id\": \"ocid1.compartment.oc1..<ocid>\", # Update with the compartment OCID you wish to use\n",
    "        \"namespace\": \"sample_ml_insights_tests\",\n",
    "        \"dimensions\": {\"key\": \"value\"},\n",
    "        \"is_critical\": False,\n",
    "        \"auth\": { # Update with the auth details you wish to configure\n",
    "            \"file_location\": \"~/.oci/config\",\n",
    "            \"profile_name\": \"DEFAULT\"\n",
    "        }\n",
    "    }\n",
    "    post_processors.append(OCIMonitoringPostProcessor(\n",
    "        compartment_id=oci_monitoring_params[\"compartment_id\"],\n",
    "        namespace=oci_monitoring_params[\"namespace\"],\n",
    "        dimensions=oci_monitoring_params[\"dimensions\"],\n",
    "        is_critical=oci_monitoring_params[\"is_critical\"],\n",
    "        auth=oci_monitoring_params[\"auth\"]))\n",
    "    return post_processors"
   ]
  },
  {
   "cell_type": "markdown",
   "metadata": {
    "collapsed": false,
    "jupyter": {
     "outputs_hidden": false
    }
   },
   "source": [
    "# 4 Run Unified Insights Builder API\n",
    "\n",
    "Create the InsightsBuilder object which provides core set of api, using which user can set the behavior of their monitoring. The below code snippet introduces the unified InsightsBuilder API, which allows users to configure tests along with the components that were previously configurable via InsightsBuilder. The InsightsBuilder computes the profile, runs tests on metric results based on the test config, and pushes test results to OCI Monitoring via the OCI Monitoring post-processor.\n",
    "\n",
    "Refer : [Builder Object Documentation](https://objectstorage.us-ashburn-1.oraclecloud.com/p/52qrFSNgCH85OWPBGIfTgNm-KeibRU8oPSSBdDg_t90gZ89r5qXrQFpTfdvQ9ear/n/bigdatadatasciencelarge/b/ml-insight-doc/o/user_guide/getting_started/builder_object.html)\n"
   ]
  },
  {
   "cell_type": "code",
   "execution_count": 29,
   "metadata": {
    "ExecuteTime": {
     "start_time": "2024-07-29T11:13:22.454123Z",
     "end_time": "2024-07-29T11:13:22.511354Z"
    },
    "collapsed": false,
    "jupyter": {
     "outputs_hidden": false
    }
   },
   "outputs": [
    {
     "name": "stdout",
     "output_type": "stream",
     "text": [
      "['input_data/diabetes_prediction/2023-06-26/2023-06-26.csv', 'input_data/diabetes_prediction/2023-06-27/2023-06-27.csv']\n",
      "Profile data: \n",
      "               Quartiles.q1  Quartiles.q2  Quartiles.q3       Mean  \\\n",
      "BloodPressure          62.0          72.0          80.0  69.134328   \n",
      "\n",
      "               Count.total_count  Count.missing_count  \\\n",
      "BloodPressure              938.0                  0.0   \n",
      "\n",
      "               Count.missing_count_percentage  \n",
      "BloodPressure                             0.0  \n",
      "Test results data: \n",
      "TestResults(test_summary=TestSummary(total_tests=5, passed_tests=2, failed_tests=3, error_test=0), test_results=[TestResult(name='TestGreaterThan', description='The Mean of feature BloodPressure is 69.13432835820896. Test condition : 69.13432835820896 > 100', status=<TestStatus.FAILED: 1>, test_config={'strictly': False}, test_assertion_info=TestAssertionInfo(expected=100, actual=69.13432835820896), error=TestError(description='', has_error=False), user_defined_tags={}, system_tags={'metric_key': 'Mean', 'feature_name': 'BloodPressure', 'selector_type': 'FeatureMetricSelector', 'test_type': 'predicate', 'test_alias': 'TestGreaterThan-Mean-expected-100'}), TestResult(name='TestLessThan', description='The Quartiles.q1 of feature BloodPressure is 62.0. Test condition : 62.0 < 200', status=<TestStatus.PASSED: 0>, test_config={'strictly': False}, test_assertion_info=TestAssertionInfo(expected=200, actual=62.0), error=TestError(description='', has_error=False), user_defined_tags={}, system_tags={'metric_key': 'Quartiles.q1', 'feature_name': 'BloodPressure', 'selector_type': 'FeatureMetricSelector', 'test_type': 'predicate', 'test_alias': 'TestLessThan-Quartiles.q1-expected-200'}), TestResult(name='TestGreaterThan', description='The Quartiles.q1 of feature BloodPressure is 62.0. Test condition : 62.0 > 50000', status=<TestStatus.FAILED: 1>, test_config={'strictly': False}, test_assertion_info=TestAssertionInfo(expected=50000, actual=62.0), error=TestError(description='', has_error=False), user_defined_tags={}, system_tags={'metric_key': 'Quartiles.q1', 'feature_name': 'BloodPressure', 'selector_type': 'FeatureMetricSelector', 'test_type': 'predicate', 'test_alias': 'TestGreaterThan-Quartiles.q1-expected-50000'}), TestResult(name='TestIsComplete', description='TestIsComplete: Completion percentage of feature BloodPressure is 100.0. Completion percentage of feature BloodPressure is 100.0 in reference profile. Test condition: 100.0 >= 100.0', status=<TestStatus.PASSED: 0>, test_config={'threshold_value': 100.0}, test_assertion_info=TestAssertionInfo(expected=100.0, actual=100.0), error=TestError(description='', has_error=False), user_defined_tags={}, system_tags={'test_type': 'metric', 'feature_name': 'BloodPressure', 'metric_key': 'Count.missing_count', 'test_alias': 'TestIsComplete-completion-percentage-expected-100.0'}), TestResult(name='TestGreaterThan', description='The RowCount is 938.0. Test condition : 938.0 > 5000', status=<TestStatus.FAILED: 1>, test_config={'strictly': False}, test_assertion_info=TestAssertionInfo(expected=5000, actual=938.0), error=TestError(description='', has_error=False), user_defined_tags={}, system_tags={'metric_key': 'RowCount', 'selector_type': 'DatasetMetricSelector', 'test_type': 'predicate', 'test_alias': 'TestGreaterThan-RowCount-expected-5000'})], user_defined_tags={})\n"
     ]
    }
   ],
   "source": [
    "def main():\n",
    "    # Set up the insights builder by passing: input schema, metric, reader, profile reader, test config and engine details\n",
    "    # NOTE: The post-processor component will fail unless the user is authenticated to push to OCI Monitoring\n",
    "    runner = InsightsBuilder(). \\\n",
    "        with_input_schema(get_input_schema()). \\\n",
    "        with_metrics(metrics=get_metrics()). \\\n",
    "        with_reader(reader=get_reader()). \\\n",
    "        with_reference_profile(profile=get_profile_reader()). \\\n",
    "        with_test_config(test_config=get_test_config()). \\\n",
    "        with_post_processors(post_processors=get_post_processors()). \\\n",
    "        build()\n",
    "\n",
    "    # Run the evaluation\n",
    "    run_result = runner.run()\n",
    "    profile = run_result.profile\n",
    "    test_results = run_result.test_results\n",
    "    return profile, test_results\n",
    "\n",
    "profile, test_results = main()\n",
    "print(\"Profile data: \")\n",
    "print(profile.to_pandas())\n",
    "print(\"Test results data: \")\n",
    "print(test_results)"
   ]
  },
  {
   "cell_type": "markdown",
   "metadata": {
    "collapsed": false,
    "jupyter": {
     "outputs_hidden": false
    }
   },
   "source": [
    "# 5 Verify Pushed Test Results in OCI Monitoring\n",
    "\n",
    "At this stage, the test results have been sent to OCI Monitoring. For information on how these pushed test results can be visualized in OCI Monitoring and then used to configure alarms or dashboards, refer [OCI Monitoring Notifications Documentation](https://objectstorage.us-ashburn-1.oraclecloud.com/p/52qrFSNgCH85OWPBGIfTgNm-KeibRU8oPSSBdDg_t90gZ89r5qXrQFpTfdvQ9ear/n/bigdatadatasciencelarge/b/ml-insight-doc/o/user_guide/tutorials/notifications.html)"
   ]
  }
 ],
 "metadata": {
  "kernelspec": {
   "display_name": "Python 3 (ipykernel)",
   "language": "python",
   "name": "python3"
  },
  "language_info": {
   "codemirror_mode": {
    "name": "ipython",
    "version": 3
   },
   "file_extension": ".py",
   "mimetype": "text/x-python",
   "name": "python",
   "nbconvert_exporter": "python",
   "pygments_lexer": "ipython3",
   "version": "3.9.18"
  }
 },
 "nbformat": 4,
 "nbformat_minor": 4
}