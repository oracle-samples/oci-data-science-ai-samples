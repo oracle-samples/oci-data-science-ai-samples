{
 "cells": [
  {
   "cell_type": "markdown",
   "id": "bb530e57",
   "metadata": {},
   "source": [
    "# Run ML Insights using APIs"
   ]
  },
  {
   "cell_type": "markdown",
   "id": "44c63619",
   "metadata": {
    "tags": []
   },
   "source": [
    "# Use Case\n",
    "\n",
    "This Notebook shows how to use ML Insights declarative API to define and customise all of its core features like data scheme, data ingestion, data transformation, metric calculation and post processing of metric output .\n",
    "\n",
    "## Note\n",
    "\n",
    "### Performance metrics for classification models\n",
    "\n",
    "- Metrics \n",
    "    - AccuracyScore , PrecisionScore , RecallScore , FBetaScore , FalsePositiveRate , FalseNegativeRate, Specificity , ConfusionMatrix , LogLoss , ROCCurve , ROCAreaUnderCurve , PrecisionRecallCurve , PrecisionRecallAreaUnderCurve \n",
    "- Performance Metrics For classsification Models works only for categorical type input features\n",
    "- Confusion Matrix will work for following \n",
    "    - Binary class\n",
    "    - Multi-class\n",
    "    - Support only upto 256 labels\n",
    "- Aggregate metrics \n",
    "    - Accuracy\n",
    "    - Precision (Micro, Macro, Weighted)\n",
    "    - Recall (Micro, Macro, Weighted)\n",
    "    - F-beta score (Micro, Macro, Weighted) \n",
    "    - beta = 1\n",
    "    - False Positive Rate works only for binary classification\n",
    "    - False Negative Rate works only for binary classification\n",
    "    - Specificity works only for binary classification\n",
    "    - Log Loss require a feature in dataset which has Column Type as Prediction score\n",
    "- Curves (Only for binary classification)\n",
    "    - ROC Curve works only for binary classification\n",
    "    - ROC- AUC works only for binary classification\n",
    "    - Precision-Recall curve works only for binary classification\n",
    "    - Precision-Recall curve / AUC works only for binary classification\n",
    "- Performance metrics for classsification models needs to have target and prediction features in feature schema. This includes:\n",
    "    - Column Type as Target for ground truth column , If these columns are missing or not configured, Insights throw validation errors\n",
    "    - Column Type as Prediction for prediction column , If these columns are missing or not configured, Insights throw validation errors\n",
    "    - Prediction score option in Column Type \n",
    "- All performance metrics for classsification models can be view using following Profile API:\n",
    "    - to_json\n",
    "    \n",
    "### Performance Metrics For Regression Models\n",
    "\n",
    "- Metrics\n",
    "    - MeanAbsoluteError , MeanSquaredError , R2Score , RootMeanSquaredError , MeanSquaredLogError , MeanAbsolutePercentageError ,  MaxError \n",
    "- Performance Metrics For Regression Models works only for contineous type input features\n",
    "- Performance Metrics For Regression Models needs to have target and prediction features in feature schema. This includes:\n",
    "    - Column Type as Target for ground truth column ,If these columns are missing or not configured, Insights throw validation errors\n",
    "    - Column Type as Prediction for prediction column ,If these columns are missing or not configured, Insights throw validation errors\n",
    "    \n",
    "### Conflict metrics\n",
    "- Metrics\n",
    "    - ConflictPrediction , ConflictLabel\n",
    "- Conflict metrics are approximate metric.\n",
    "- Conflict metrics needs to have target and prediction features in feature schema. This includes:\n",
    "    - Column Type as Target for ground truth column ,If these columns are missing or not configured, Insights throw validation errors\n",
    "    - Column Type as Prediction for prediction column ,If these columns are missing or not configured, Insights throw validation errors\n",
    "    \n",
    "### Drift metrics\n",
    "\n",
    "- Metrics \n",
    "    - Kolmogorov Smirnov , Chi square Goodness of Fit Test , Kullback Leibler Divergence ,Jensen Shannon (JS) , Population Stability Index (PSI)\n",
    "- Supported Drift metric algorithm for Numerical feature which needs to define variable_type=VariableType.CONTINUOUS :\n",
    "    - Kolmogorov Smirnov\n",
    "    - Kullback Leibler Divergence\n",
    "    - Jensen Shannon (JS)\n",
    "    - Population Stability Index (PSI)\n",
    "- Supported Drift metric algorithm for Categorical feature which needs to define variable_type=VariableType.NOMINAL :\n",
    "    - Chi square Goodness of Fit Test\n",
    "- To view the drift metrics user needs to pass a reference profile to Profile API method ie to_json() , to_pandas() .\n",
    "    - Eg. result =  base_profile.to_json(reference_profile=reference_profile_data)\n",
    "    \n",
    "### Data Quality & Data Integrity Metrics\n",
    "- Metrics\n",
    "    - Sum ,TypeMetric , Mean , Min , StandardDeviation , Variance , Max , Range , Count , Skewness , Kurtosis , Quartiles , IQR , TopKFrequentElements , FrequencyDistribution , DistinctCount , DuplicateCount , Mode , IsConstantFeature , IsQuasiConstantFeature , ProbabilityDistribution    \n",
    "- All Data Quality & Data Integrity Metrics needs to define VariableType and DataType of feature in feature schema. This includes:\n",
    "    - variable_type=VariableType.CONTINUOUS for Numerical features\n",
    "    - variable_type=VariableType.NOMINAL for Categorical features\n",
    "    - Supported datatype : data_type=DataType.FLOAT , data_type=DataType.INTEGER ,data_type=DataType.STRING , data_type=DataType.TEXT ,data_type=DataType.BOOLEAN\n",
    "    \n",
    "## About Dataset\n",
    "The data was collected and made available by “National Institute of Diabetes and Digestive and Kidney Diseases” as part of the Pima Indians Diabetes Database. Several constraints were placed on the selection of these instances from a larger database. In particular, all patients here belong to the Pima Indian heritage (subgroup of Native Americans), and are females of ages 21 and above.\n",
    "\n",
    "The data set contains medical and demographic data of patients . It consists of various features such as Pregnancies, Glucose, BloodPressure, SkinThickness, Insulin, BMI, DiabetesPedigreeFunction, Age, Outcome, Prediction, BMICategory, Prediction_Score .\n",
    "\n",
    "Dataset source : https://www.kaggle.com/datasets/kandij/diabetes-dataset\n"
   ]
  },
  {
   "cell_type": "markdown",
   "id": "d807a7da",
   "metadata": {},
   "source": [
    "# Install ML Observability Insights Library SDK\n",
    "\n",
    "- Prerequisites\n",
    "    - Linux/Mac (Intel CPU)\n",
    "    - Python 3.8 and 3.9 only\n",
    "\n",
    "\n",
    "- Installation\n",
    "    - ML Insights is made available as a Python package (via Artifactory) which can be installed using pip install as shown below. Depending on the execution engine on which to do the run, one can use scoped package. For eg: if we want to run on dask, use oracle-ml-insights[dask], for spark use oracle-ml-insights[spark], for native use oracle-ml-insights. One can install all the dependencies as use oracle-ml-insights[all]\n",
    "\n",
    "      !pip install oracle-ml-insights\n",
    "\n",
    "Refer : [Installation and Setup](https://docs.oracle.com/en-us/iaas/tools/ml-insights-docs/latest/ml-insights-documentation/html/user_guide/tutorials/install.html)"
   ]
  },
  {
   "cell_type": "code",
   "execution_count": null,
   "id": "406387ff",
   "metadata": {
    "tags": []
   },
   "outputs": [],
   "source": [
    "!python3 -m pip install oracle-ml-insights"
   ]
  },
  {
   "cell_type": "code",
   "execution_count": null,
   "id": "b2d719f8",
   "metadata": {},
   "outputs": [],
   "source": [
    "!python3 -m pip install matplotlib"
   ]
  },
  {
   "cell_type": "markdown",
   "id": "e02be26b",
   "metadata": {},
   "source": [
    "# 1 ML Insights Imports "
   ]
  },
  {
   "cell_type": "code",
   "execution_count": 14,
   "id": "e59af580",
   "metadata": {
    "tags": []
   },
   "outputs": [],
   "source": [
    "# imports\n",
    "\n",
    "import os\n",
    "from typing import Any\n",
    "import pyarrow as pa\n",
    "import pandas as pd\n",
    "import json\n",
    "\n",
    "# Import Data Quality metrics \n",
    "from mlm_insights.core.metrics.count import Count\n",
    "from mlm_insights.core.metrics.min import Min\n",
    "from mlm_insights.core.metrics.mean import Mean\n",
    "from mlm_insights.core.metrics.standard_deviation import StandardDeviation\n",
    "\n",
    "# Import Data Integrity metrics\n",
    "from mlm_insights.core.metrics.rows_count import RowCount\n",
    "from mlm_insights.core.metrics.distinct_count import DistinctCount\n",
    "from mlm_insights.core.metrics.duplicate_count import DuplicateCount\n",
    "from mlm_insights.core.metrics.rows_count import RowCount\n",
    "\n",
    "\n",
    "# Import Classification metrics\n",
    "from mlm_insights.core.metrics.classification_metrics.accuracy_score import AccuracyScore\n",
    "from mlm_insights.core.metrics.classification_metrics.recall_score import RecallScore\n",
    "from mlm_insights.core.metrics.classification_metrics.precision_score import PrecisionScore\n",
    "from mlm_insights.core.metrics.classification_metrics.confusion_matrix import ConfusionMatrix\n",
    "from mlm_insights.core.metrics.classification_metrics.false_negative_rate import FalseNegativeRate\n",
    "from mlm_insights.core.metrics.classification_metrics.false_positive_rate import FalsePositiveRate\n",
    "from mlm_insights.core.metrics.classification_metrics.fbeta_score import FBetaScore\n",
    "from mlm_insights.core.metrics.classification_metrics.specificity import Specificity\n",
    "from mlm_insights.core.metrics.classification_metrics.log_loss import LogLoss\n",
    "\n",
    "# Import Regression metrics\n",
    "from mlm_insights.core.metrics.regression_metrics.max_error import MaxError\n",
    "from mlm_insights.core.metrics.regression_metrics.mean_absolute_error import MeanAbsoluteError\n",
    "from mlm_insights.core.metrics.regression_metrics.mean_absolute_percentage_error import MeanAbsolutePercentageError\n",
    "\n",
    "# Import Conflict metrics\n",
    "from mlm_insights.core.metrics.conflict_metrics.conflict_label import ConflictLabel\n",
    "from mlm_insights.core.metrics.conflict_metrics.conflict_prediction import ConflictPrediction\n",
    "\n",
    "# Import drift detection metrics\n",
    "from mlm_insights.core.metrics.drift_metrics.chi_square import ChiSquare\n",
    "from mlm_insights.core.metrics.drift_metrics.population_stability_index import PopulationStabilityIndex\n",
    "\n",
    "\n",
    "from mlm_insights.builder.builder_component import MetricDetail, EngineDetail\n",
    "from mlm_insights.constants.types import FeatureType, DataType, VariableType, ColumnType\n",
    "from mlm_insights.core.metrics.metric_metadata import MetricMetadata\n",
    "from mlm_insights.builder.insights_builder import InsightsBuilder\n",
    "from mlm_insights.core.post_processors.local_writer_post_processor import LocalWriterPostProcessor\n",
    "\n",
    "\n",
    "# import data reader\n",
    "from mlm_insights.core.data_sources import LocalDatePrefixDataSource\n",
    "from mlm_insights.mlm_native.readers import CSVNativeDataReader"
   ]
  },
  {
   "cell_type": "markdown",
   "id": "f22e18ab",
   "metadata": {},
   "source": [
    "# 2 Configure Feature schema\n",
    "\n",
    "Feature Schema defines the structure and metadata of the input data, which includes data type, column type, column mapping . The framework, uses this information as the ground truth and any deviation in the actual data is taken as an anomaly and the framework usually will ignore such all such anomaly in data."
   ]
  },
  {
   "cell_type": "code",
   "execution_count": 15,
   "id": "dd2db88a",
   "metadata": {
    "tags": []
   },
   "outputs": [],
   "source": [
    "def get_input_schema():\n",
    "    return {\n",
    "        \"Pregnancies\": FeatureType(data_type=DataType.FLOAT, variable_type=VariableType.CONTINUOUS),\n",
    "        \"BloodPressure\": FeatureType(data_type=DataType.FLOAT, variable_type=VariableType.CONTINUOUS),\n",
    "        \"SkinThickness\": FeatureType(data_type=DataType.FLOAT, variable_type=VariableType.CONTINUOUS),\n",
    "        \"Insulin\": FeatureType(data_type=DataType.FLOAT, variable_type=VariableType.CONTINUOUS),\n",
    "        \"BMI\": FeatureType(data_type=DataType.FLOAT, variable_type=VariableType.CONTINUOUS),\n",
    "        \"Age\": FeatureType(data_type=DataType.FLOAT, variable_type=VariableType.CONTINUOUS),\n",
    "        \"DiabetesPedigreeFunction\": FeatureType(data_type=DataType.FLOAT, variable_type=VariableType.CONTINUOUS),\n",
    "        \"Outcome\": FeatureType(data_type=DataType.FLOAT, variable_type=VariableType.CONTINUOUS,column_type = ColumnType.TARGET),\n",
    "        \"Prediction\": FeatureType(data_type=DataType.FLOAT, variable_type=VariableType.CONTINUOUS,column_type = ColumnType.PREDICTION),\n",
    "        \"BMICategory\":FeatureType(data_type=DataType.STRING, variable_type=VariableType.NOMINAL)\n",
    "        \n",
    "    }\n",
    "\n"
   ]
  },
  {
   "cell_type": "markdown",
   "id": "601ab2ee",
   "metadata": {},
   "source": [
    "# 3 Configure Metrics\n",
    "\n",
    "Metrics are the core construct for the framework. This component is responsible for calculating all statistical metrics and algorithms. Metric components work based on the type of features (eg. input feature, output feature etc.) available, their data type (eg. int, float, string etc.) as well as additional context (e.g. if any previous computation is available to compare against). ML Insights provides commonly used metrics out of the box for different ML observability use cases.\n",
    "\n",
    "Refer : [Metrics Component Documentation](https://docs.oracle.com/en-us/iaas/tools/ml-insights-docs/latest/ml-insights-documentation/html/user_guide/getting_started/metrics_component.html)\n",
    "\n"
   ]
  },
  {
   "cell_type": "code",
   "execution_count": 16,
   "id": "a7d05c7b",
   "metadata": {},
   "outputs": [],
   "source": [
    "def get_metrics():\n",
    "    metrics = [\n",
    "               MetricMetadata(klass=Mean),\n",
    "               MetricMetadata(klass=StandardDeviation),\n",
    "               MetricMetadata(klass=Min),\n",
    "               MetricMetadata(klass=DistinctCount),\n",
    "               MetricMetadata(klass=DuplicateCount),\n",
    "               MetricMetadata(klass=Count)\n",
    "              ]\n",
    "    uni_variate_metrics = {\n",
    "        \"BloodPressure\": metrics\n",
    "        # \"BMI\": [MetricMetadata(klass=PopulationStabilityIndex)],\n",
    "        # \"BMICategory\": [MetricMetadata(klass=ChiSquare)]\n",
    "        \n",
    "    }\n",
    "    metric_details = MetricDetail(univariate_metric=uni_variate_metrics,\n",
    "                                  dataset_metrics=[MetricMetadata(klass=RowCount),\n",
    "                                                   MetricMetadata(klass=ConflictPrediction),\n",
    "                                                   MetricMetadata(klass=ConflictLabel),\n",
    "                                                   MetricMetadata(klass=MaxError),\n",
    "                                                   MetricMetadata(klass=MeanAbsoluteError),\n",
    "                                                   MetricMetadata(klass=MeanAbsolutePercentageError),\n",
    "                                                   MetricMetadata(klass=AccuracyScore),\n",
    "                                                   MetricMetadata(klass=RecallScore),\n",
    "                                                   MetricMetadata(klass=PrecisionScore),\n",
    "                                                   MetricMetadata(klass=FalsePositiveRate, config={'labels': [\"1\"]}),\n",
    "                                                   MetricMetadata(klass=FalseNegativeRate, config={'labels': [\"0\"]}),\n",
    "                                                   MetricMetadata(klass=FBetaScore),\n",
    "                                                   MetricMetadata(klass=Specificity, config={'labels': [\"0\"]}),\n",
    "                                                   MetricMetadata(klass=ConfusionMatrix)])\n",
    "    return metric_details"
   ]
  },
  {
   "cell_type": "markdown",
   "id": "f83d52cd",
   "metadata": {},
   "source": [
    "# 4 Configure Data Reader\n",
    "\n",
    "Data Reader allows for ingestion of raw data into the framework. This component is primarily responsible for understanding different formats of data (e.g. jsonl, csv) etc. and how to properly read them. At its essence, the primary responsibility of this component is that given a set of valid file locations which represents file of a specific type, reader can properly decode the content and load them in memory.\n",
    "\n",
    "Additionally, Data Source component is an optional subcomponent, which is usually used along side the Reader. The primary responsibility of the data source component is to embed logic on filtering and partitioning of files to be read by the framework.\n",
    "\n",
    "Refer : [Data Reader Documentation](https://objectstorage.us-ashburn-1.oraclecloud.com/p/52qrFSNgCH85OWPBGIfTgNm-KeibRU8oPSSBdDg_t90gZ89r5qXrQFpTfdvQ9ear/n/bigdatadatasciencelarge/b/ml-insight-doc/o/user_guide/getting_started/data_reader_component.html)"
   ]
  },
  {
   "cell_type": "code",
   "execution_count": 17,
   "id": "2951d6b8",
   "metadata": {
    "tags": []
   },
   "outputs": [],
   "source": [
    "def get_reader():\n",
    "    data = {\n",
    "        \"file_type\": \"csv\",\n",
    "        \"date_range\": {\"start\": \"2023-06-26\", \"end\": \"2023-06-27\"}\n",
    "    }\n",
    "    base_location =\"input_data/diabetes_prediction\"\n",
    "    ds = LocalDatePrefixDataSource(base_location, **data)\n",
    "    print(ds.get_data_location())\n",
    "    csv_reader = CSVNativeDataReader(data_source=ds)\n",
    "    return csv_reader\n",
    "\n"
   ]
  },
  {
   "cell_type": "markdown",
   "id": "5159be09",
   "metadata": {},
   "source": [
    "# 5 Compute the Profile \n",
    "\n",
    "Create the builder object which provides core set of api, using which user can set the behavior of their monitoring. By selecting what components and variants to run all aspects of the monitoring task can be customised and configured. \n",
    "\n",
    "The run() method is responsible to run the internal workflow. It also handles the life cycle of each component passed, which includes creation (if required), invoking interface functions, destroying etc . Additionally, runner also handles some more advanced operations like thread pooling, compute engine abstraction etc.\n",
    "\n",
    "Refer : [Builder Object Documentation](https://objectstorage.us-ashburn-1.oraclecloud.com/p/52qrFSNgCH85OWPBGIfTgNm-KeibRU8oPSSBdDg_t90gZ89r5qXrQFpTfdvQ9ear/n/bigdatadatasciencelarge/b/ml-insight-doc/o/user_guide/getting_started/builder_object.html)\n"
   ]
  },
  {
   "cell_type": "code",
   "execution_count": 18,
   "id": "116cbc50",
   "metadata": {},
   "outputs": [
    {
     "name": "stdout",
     "output_type": "stream",
     "text": [
      "['input_data/diabetes_prediction/2023-06-26/2023-06-26.csv', 'input_data/diabetes_prediction/2023-06-27/2023-06-27.csv']\n"
     ]
    },
    {
     "data": {
      "text/html": [
       "<div>\n",
       "<style scoped>\n",
       "    .dataframe tbody tr th:only-of-type {\n",
       "        vertical-align: middle;\n",
       "    }\n",
       "\n",
       "    .dataframe tbody tr th {\n",
       "        vertical-align: top;\n",
       "    }\n",
       "\n",
       "    .dataframe thead th {\n",
       "        text-align: right;\n",
       "    }\n",
       "</style>\n",
       "<table border=\"1\" class=\"dataframe\">\n",
       "  <thead>\n",
       "    <tr style=\"text-align: right;\">\n",
       "      <th></th>\n",
       "      <th>Mean</th>\n",
       "      <th>Min</th>\n",
       "      <th>StandardDeviation</th>\n",
       "      <th>Count.total_count</th>\n",
       "      <th>Count.missing_count</th>\n",
       "      <th>Count.missing_count_percentage</th>\n",
       "      <th>DistinctCount</th>\n",
       "      <th>DuplicateCount.count</th>\n",
       "      <th>DuplicateCount.percentage</th>\n",
       "    </tr>\n",
       "  </thead>\n",
       "  <tbody>\n",
       "    <tr>\n",
       "      <th>BloodPressure</th>\n",
       "      <td>69.134328</td>\n",
       "      <td>1.0</td>\n",
       "      <td>19.459133</td>\n",
       "      <td>938.0</td>\n",
       "      <td>0.0</td>\n",
       "      <td>0.0</td>\n",
       "      <td>42</td>\n",
       "      <td>896</td>\n",
       "      <td>95.522388</td>\n",
       "    </tr>\n",
       "  </tbody>\n",
       "</table>\n",
       "</div>"
      ],
      "text/plain": [
       "                    Mean  Min  StandardDeviation  Count.total_count  \\\n",
       "BloodPressure  69.134328  1.0          19.459133              938.0   \n",
       "\n",
       "               Count.missing_count  Count.missing_count_percentage  \\\n",
       "BloodPressure                  0.0                             0.0   \n",
       "\n",
       "               DistinctCount  DuplicateCount.count  DuplicateCount.percentage  \n",
       "BloodPressure             42                   896                  95.522388  "
      ]
     },
     "execution_count": 18,
     "metadata": {},
     "output_type": "execute_result"
    }
   ],
   "source": [
    "def main():    \n",
    "    # Set up the insights builder by passing: input schema, metric, reader and engine details\n",
    "    runner = InsightsBuilder(). \\\n",
    "        with_input_schema(get_input_schema()). \\\n",
    "        with_metrics(metrics=get_metrics()). \\\n",
    "        with_reader(reader=get_reader()). \\\n",
    "        with_post_processors(post_processors=[LocalWriterPostProcessor(file_location=\"output_data/profiles\", file_name=\"classification_metrics_profile.bin\")]). \\\n",
    "        build()\n",
    "\n",
    "    # Run the evaluation\n",
    "    run_result = runner.run()\n",
    "    return run_result.profile\n",
    "    \n",
    "profile = main()\n",
    "profile.to_pandas()"
   ]
  },
  {
   "cell_type": "markdown",
   "id": "870139da",
   "metadata": {},
   "source": [
    "# 5.1 Compute the Reference Profile for Drift Metrics "
   ]
  },
  {
   "cell_type": "code",
   "execution_count": 19,
   "id": "8e6510c1",
   "metadata": {},
   "outputs": [
    {
     "name": "stdout",
     "output_type": "stream",
     "text": [
      "['input_data/diabetes_prediction/2023-06-28/2023-06-28.csv']\n"
     ]
    }
   ],
   "source": [
    "# Calculate the Reference Profile \n",
    "\n",
    "def get_reader():\n",
    "    data = {\n",
    "        \"file_type\": \"csv\",\n",
    "        \"date_range\": {\"start\": \"2023-06-28\", \"end\": \"2023-06-28\"}\n",
    "    }\n",
    "    base_location =\"input_data/diabetes_prediction\"\n",
    "    ds = LocalDatePrefixDataSource(base_location, **data)\n",
    "    print(ds.get_data_location())\n",
    "    csv_reader = CSVNativeDataReader(data_source=ds)\n",
    "    return csv_reader\n",
    "\n",
    "def main():    \n",
    "    # Set up the insights builder by passing: input schema, metric, reader and engine details\n",
    "    runner = InsightsBuilder(). \\\n",
    "        with_input_schema(get_input_schema()). \\\n",
    "        with_metrics(metrics=get_metrics()). \\\n",
    "        with_reader(reader=get_reader()). \\\n",
    "        with_post_processors(post_processors=[LocalWriterPostProcessor(file_location=\"output_data/profiles\", file_name=\"classification_metrics_profile.bin\")]). \\\n",
    "        build()\n",
    "\n",
    "    # Run the evaluation\n",
    "    run_result = runner.run()\n",
    "    return run_result.profile\n",
    "    \n",
    "referenceProfile = main()\n",
    "#referenceProfile.to_pandas()\n",
    "\n"
   ]
  },
  {
   "cell_type": "markdown",
   "id": "02a6cb4c",
   "metadata": {},
   "source": [
    "## 6 Profile Result"
   ]
  },
  {
   "cell_type": "code",
   "execution_count": 20,
   "id": "bb0bf190",
   "metadata": {},
   "outputs": [],
   "source": [
    "profile_json = profile.to_json(reference_profile=referenceProfile)\n",
    "\n"
   ]
  },
  {
   "cell_type": "code",
   "execution_count": 21,
   "id": "b293e024",
   "metadata": {},
   "outputs": [
    {
     "data": {
      "text/html": [
       "<div>\n",
       "<style scoped>\n",
       "    .dataframe tbody tr th:only-of-type {\n",
       "        vertical-align: middle;\n",
       "    }\n",
       "\n",
       "    .dataframe tbody tr th {\n",
       "        vertical-align: top;\n",
       "    }\n",
       "\n",
       "    .dataframe thead th {\n",
       "        text-align: right;\n",
       "    }\n",
       "</style>\n",
       "<table border=\"1\" class=\"dataframe\">\n",
       "  <thead>\n",
       "    <tr style=\"text-align: right;\">\n",
       "      <th></th>\n",
       "      <th>0</th>\n",
       "    </tr>\n",
       "  </thead>\n",
       "  <tbody>\n",
       "    <tr>\n",
       "      <th>dataset_metrics.RecallScore.metric_name</th>\n",
       "      <td>RecallScore</td>\n",
       "    </tr>\n",
       "    <tr>\n",
       "      <th>dataset_metrics.RecallScore.metric_description</th>\n",
       "      <td>Metric computes the recall.Recall is the ratio...</td>\n",
       "    </tr>\n",
       "    <tr>\n",
       "      <th>dataset_metrics.RecallScore.variable_count</th>\n",
       "      <td>5</td>\n",
       "    </tr>\n",
       "    <tr>\n",
       "      <th>dataset_metrics.RecallScore.variable_names</th>\n",
       "      <td>[macro, micro, weighted, ovr, labels]</td>\n",
       "    </tr>\n",
       "    <tr>\n",
       "      <th>dataset_metrics.RecallScore.variable_types</th>\n",
       "      <td>[CONTINUOUS, CONTINUOUS, CONTINUOUS, CONTINUOU...</td>\n",
       "    </tr>\n",
       "    <tr>\n",
       "      <th>...</th>\n",
       "      <td>...</td>\n",
       "    </tr>\n",
       "    <tr>\n",
       "      <th>feature_metrics.BloodPressure.DuplicateCount.variable_names</th>\n",
       "      <td>[count, percentage]</td>\n",
       "    </tr>\n",
       "    <tr>\n",
       "      <th>feature_metrics.BloodPressure.DuplicateCount.variable_types</th>\n",
       "      <td>[CONTINUOUS, CONTINUOUS]</td>\n",
       "    </tr>\n",
       "    <tr>\n",
       "      <th>feature_metrics.BloodPressure.DuplicateCount.variable_dtypes</th>\n",
       "      <td>[INTEGER, FLOAT]</td>\n",
       "    </tr>\n",
       "    <tr>\n",
       "      <th>feature_metrics.BloodPressure.DuplicateCount.variable_dimensions</th>\n",
       "      <td>[0, 0]</td>\n",
       "    </tr>\n",
       "    <tr>\n",
       "      <th>feature_metrics.BloodPressure.DuplicateCount.metric_data</th>\n",
       "      <td>[896, 95.52238805970148]</td>\n",
       "    </tr>\n",
       "  </tbody>\n",
       "</table>\n",
       "<p>160 rows × 1 columns</p>\n",
       "</div>"
      ],
      "text/plain": [
       "                                                                                                    0\n",
       "dataset_metrics.RecallScore.metric_name                                                   RecallScore\n",
       "dataset_metrics.RecallScore.metric_description      Metric computes the recall.Recall is the ratio...\n",
       "dataset_metrics.RecallScore.variable_count                                                          5\n",
       "dataset_metrics.RecallScore.variable_names                      [macro, micro, weighted, ovr, labels]\n",
       "dataset_metrics.RecallScore.variable_types          [CONTINUOUS, CONTINUOUS, CONTINUOUS, CONTINUOU...\n",
       "...                                                                                               ...\n",
       "feature_metrics.BloodPressure.DuplicateCount.va...                                [count, percentage]\n",
       "feature_metrics.BloodPressure.DuplicateCount.va...                           [CONTINUOUS, CONTINUOUS]\n",
       "feature_metrics.BloodPressure.DuplicateCount.va...                                   [INTEGER, FLOAT]\n",
       "feature_metrics.BloodPressure.DuplicateCount.va...                                             [0, 0]\n",
       "feature_metrics.BloodPressure.DuplicateCount.me...                           [896, 95.52238805970148]\n",
       "\n",
       "[160 rows x 1 columns]"
      ]
     },
     "execution_count": 21,
     "metadata": {},
     "output_type": "execute_result"
    }
   ],
   "source": [
    "metrics = profile_json\n",
    "pd.json_normalize(metrics).T.dropna()\n"
   ]
  },
  {
   "cell_type": "code",
   "execution_count": 22,
   "id": "b9de93e8",
   "metadata": {},
   "outputs": [
    {
     "data": {
      "image/png": "[encoded data removed]",
      "text/plain": [
       "<Figure size 640x480 with 2 Axes>"
      ]
     },
     "metadata": {},
     "output_type": "display_data"
    }
   ],
   "source": [
    "\n",
    "\n",
    "from sklearn.metrics import confusion_matrix, ConfusionMatrixDisplay\n",
    "import numpy as np\n",
    "import matplotlib.pyplot as plt\n",
    "\n",
    "dataset_metrics = profile_json[\"dataset_metrics\"]\n",
    "cm_metric_result = dataset_metrics[\"ConfusionMatrix\"][\"metric_data\"]\n",
    "matrix = cm_metric_result[0]\n",
    "labels = cm_metric_result[1]\n",
    "\n",
    "numpyArrayMatrix = np.array(matrix)\n",
    "numpyArrayLabel = np.array(labels)\n",
    "\n",
    "\n",
    "disp = ConfusionMatrixDisplay(confusion_matrix=numpyArrayMatrix,\n",
    "                              display_labels=numpyArrayLabel)\n",
    "\n",
    "disp.plot()\n",
    "\n",
    "plt.show()"
   ]
  }
 ],
 "metadata": {
  "kernelspec": {
   "display_name": "Python 3 (ipykernel)",
   "language": "python",
   "name": "python3"
  },
  "language_info": {
   "codemirror_mode": {
    "name": "ipython",
    "version": 3
   },
   "file_extension": ".py",
   "mimetype": "text/x-python",
   "name": "python",
   "nbconvert_exporter": "python",
   "pygments_lexer": "ipython3",
   "version": "3.10.9"
  }
 },
 "nbformat": 4,
 "nbformat_minor": 5
}