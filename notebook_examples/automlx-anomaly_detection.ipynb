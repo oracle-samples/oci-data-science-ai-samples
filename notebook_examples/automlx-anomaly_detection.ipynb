{
 "cells": [
  {
   "cell_type": "raw",
   "id": "fdcc49d4",
   "metadata": {},
   "source": [
    "@notebook{automlx-anomaly_detection.ipynb,\n",
    "    title: Building and Explaining an Anomaly Detector using AutoMLx - Experimental\n",
    "    summary: Build an anomaly detection model using the experimental, fully unsupervised anomaly detection pipeline in Oracle AutoMLx for the public Credit Card Fraud dataset.,\n",
    "    developed on: automlx_p38_cpu_v2,\n",
    "    keywords: automlx, anomaly detection,\n",
    "    license: Universal Permissive License v 1.0,\n",
    "    original source: https://github.com/oracle-samples/automlx/blob/main/demos/OracleAutoMLx_AnomalyDetection.ipynb \n",
    "}"
   ]
  },
  {
   "cell_type": "markdown",
   "id": "2cf7f4f5",
   "metadata": {},
   "source": [
    "***\n",
    "# <font color=red>Building and Explaining an Anomaly Detector using AutoMLx - Experimental</font>\n",
    "<p style=\"margin-left:10%; margin-right:10%;\">by the <font color=teal> Oracle AutoMLx Team </font></p>\n",
    "\n",
    "***"
   ]
  },
  {
   "cell_type": "markdown",
   "id": "96de495c",
   "metadata": {},
   "source": [
    "AutoMLx Anomaly Detection Demo version 23.1.1.\n",
    "\n",
    "Copyright (c) 2023 Oracle, Inc.  \n",
    "\n",
    "Licensed under the Universal Permissive License v 1.0 as shown at https://oss.oracle.com/licenses/upl/"
   ]
  },
  {
   "cell_type": "markdown",
   "id": "03755380",
   "metadata": {},
   "source": [
    "Oracle AutoML and Model Explanation for Python 3.8## Overview of this Notebook\n",
    "\n",
    "In this notebook we will build an anomaly detection model using the experimental, fully unsupervised anomaly detection pipeline in Oracle AutoMLx for the public Credit Card Fraud dataset. The dataset is a binary anomaly detection dataset, and more details about the dataset can be found at https://www.openml.org/d/1597.\n",
    "We explore the various options provided by the Oracle AutoMLx tool, allowing the user to control the AutoML training process. We then evaluate the different models trained by AutoML. Finally we provide an overview of the possibilites that Oracle AutoMLx provides for explaining the predictions of the tuned model.\n",
    "\n",
    "---\n",
    "## Prerequisites\n",
    "\n",
    "  - Experience level: novice (Python and Machine Learning)\n",
    "  - Professional experience: some industry experience\n",
    "\n",
    "Compatible conda pack: [Oracle AutoML and Model Explanation for Python 3.8 (version 2.0)](oci://service-conda-packs@id19sfcrra6z/service_pack/cpu/Oracle_AutoML_and_Model_Explanation_for_Python_3.8/2.0/automlx_p38_cpu_v2)\n",
    "\n",
    "---\n",
    "\n",
    "## Business Use\n",
    "\n",
    "Data analytics and modeling problems using Machine Learning (ML) are becoming popular and often rely on data science expertise to build accurate ML models. Such modeling tasks primarily involve the following steps:\n",
    "- Preprocess dataset (clean, impute, engineer features, normalize).\n",
    "- Pick an appropriate model for the given dataset and prediction task at hand.\n",
    "<!-- - Reduce the dataset size using feature selection to reduce the overall runtime of the machine learning tasks and improve model scores -->\n",
    "- Tune the chosen model’s hyperparameters for the given dataset.\n",
    "\n",
    "All of these steps are significantly time consuming and heavily rely on data scientist expertise. Unfortunately, to make this problem harder, the best feature subset, model, and hyperparameter choice widely varies with the dataset and the prediction task. Hence, there is no one-size-fits-all solution to achieve reasonably good model performance. Using a simple Python API, AutoML can quickly (faster) jump-start the datascience process with an accurately-tuned model and appropriate features for a given prediction task.\n",
    "\n",
    "## Table of Contents\n",
    "\n",
    "- <a href='#setup'>0. Setup</a>\n",
    "- <a href='#load-data'>1. Load the Credit Card dataset</a>\n",
    "- <a href='#AutoML'>2. AutoML</a>\n",
    "  - <a href='#Engine'>2.0. Set the Engine</a>\n",
    "  - <a href='#provider'>2.1. Create an Instance of AutoML</a> \n",
    "  - <a href='#default'>2.2. Train a Model using AutoML</a> \n",
    "  - <a href='#analyze'>2.3. Analyze the AutoML optimization process </a>\n",
    "      - <a href='#algorithm-selection'>2.3.1. Algorithm Selection</a>\n",
    "      - <a href='#hyperparameter-tuning'>2.3.2. Hyperparameter Tuning</a>\n",
    "  - <a href='#timebudget'>2.4. Specify a Time Budget to AutoML</a>\n",
    "- <a href='#MLX'>3. Machine Learning Explainability (MLX)</a>\n",
    "  - <a href='#MLX-initialization'> 3.1. Initialize an MLExplainer</a>\n",
    "  - <a href='#MLX-global'> 3.2. Model Explanations (Global Feature Importance)</a>\n",
    "  - <a href='#MLX-dependency'> 3.3. Feature Dependence Explanations</a>\n",
    "  - <a href='#MLX-local'> 3.4 Prediction Explanations (Local Feature Importance)</a>\n",
    "  - <a href='#MLX-alfi'> 3.5 Aggregate Local Feature Importance & Local Feature Importance Built-in Sampling\n",
    "  - <a href='#MLX-advanced'> 3.6 Advanced Feature Importance Options</a>\n",
    "       - <a href='#MLX-changing'> 3.6.1. Change the number of iterations</a>\n",
    "       - <a href='#MLX-including'> 3.6.2. Include the effects of feature interactions (with Shapley feature importance)</a>\n",
    "  - <a href='#MLX-advanced-ale'>3.7. Advanced Feature Dependence Options (ALE)</a>         \n",
    "- <a href='#ref'>References</a>"
   ]
  },
  {
   "cell_type": "markdown",
   "id": "a9b9893b",
   "metadata": {},
   "source": [
    "<a id='setup'></a>\n",
    "## Setup\n",
    "\n",
    "Basic setup for the Notebook."
   ]
  },
  {
   "cell_type": "code",
   "execution_count": null,
   "id": "cad56f69",
   "metadata": {},
   "outputs": [],
   "source": [
    "%matplotlib inline\n",
    "%load_ext autoreload\n",
    "%autoreload 2"
   ]
  },
  {
   "cell_type": "markdown",
   "id": "7522929f",
   "metadata": {},
   "source": [
    "Load the required modules."
   ]
  },
  {
   "cell_type": "code",
   "execution_count": null,
   "id": "2b0a6bb3",
   "metadata": {},
   "outputs": [],
   "source": [
    "import gzip\n",
    "import urllib\n",
    "import rdata\n",
    "import pandas as pd\n",
    "import numpy as np\n",
    "import matplotlib.pyplot as plt\n",
    "import seaborn as sns\n",
    "from sklearn.metrics import f1_score, confusion_matrix\n",
    "from sklearn.model_selection import train_test_split\n",
    "from pyod.models.iforest import IForest\n",
    "\n",
    "# Settings for plots\n",
    "plt.rcParams['figure.figsize'] = [10, 7]\n",
    "plt.rcParams['font.size'] = 15\n",
    "sns.set(color_codes=True)\n",
    "sns.set(font_scale=1.5)\n",
    "sns.set_palette(\"bright\")\n",
    "sns.set_style(\"whitegrid\")\n",
    "\n",
    "import automl\n",
    "from automl import init"
   ]
  },
  {
   "cell_type": "markdown",
   "id": "4bcff0b8",
   "metadata": {},
   "source": [
    "<a id='load-data'></a>\n",
    "## Load the Credit Card Fraud Dataset\n",
    "We start by retrieving and reading in the dataset from provided URL."
   ]
  },
  {
   "cell_type": "code",
   "execution_count": null,
   "id": "b047210a",
   "metadata": {},
   "outputs": [],
   "source": [
    "url = \"http://www.ulb.ac.be/di/map/adalpozz/data/creditcard.Rdata\"\n",
    "dst_path = \"./creditcard.Rdata\"\n",
    "\n",
    "with open(dst_path, 'wb') as fout:\n",
    "    fout.write(urllib.request.urlopen(url).read())\n",
    "parsed_res = rdata.parser.parse_file(dst_path)\n",
    "res = rdata.conversion.convert(parsed_res)\n",
    "dataset = res['creditcard'].reset_index().drop(['Time'], axis=1)"
   ]
  },
  {
   "cell_type": "markdown",
   "id": "b6f516bc",
   "metadata": {},
   "source": [
    "In this case, the target is identified by the `Class` column."
   ]
  },
  {
   "cell_type": "code",
   "execution_count": null,
   "id": "e479046d",
   "metadata": {},
   "outputs": [],
   "source": [
    "y = dataset.loc[:, 'Class']"
   ]
  },
  {
   "cell_type": "markdown",
   "id": "3edd9ae6",
   "metadata": {},
   "source": [
    "We reduce the total number of features to 20 to have a reasonable training time for this demonstration."
   ]
  },
  {
   "cell_type": "code",
   "execution_count": null,
   "id": "db4d93a3",
   "metadata": {},
   "outputs": [],
   "source": [
    "df = dataset.iloc[:, :20]"
   ]
  },
  {
   "cell_type": "markdown",
   "id": "b5f1fd44",
   "metadata": {},
   "source": [
    "Our pipeline currently only allows the indices types to be strings. Make sure to convert the indices types before any use of the pipeline"
   ]
  },
  {
   "cell_type": "code",
   "execution_count": null,
   "id": "0baf9256",
   "metadata": {},
   "outputs": [],
   "source": [
    "df.columns = df.columns.astype(str)"
   ]
  },
  {
   "cell_type": "markdown",
   "id": "635c8e46",
   "metadata": {},
   "source": [
    "Since the dataset is not split into training and validation sets by default, we now split it into training (60%) and test (40%) datasets. The training set will be used to create a Machine Learning model using AutoML, and the test set will be used to evaluate the model's performance on unseen data."
   ]
  },
  {
   "cell_type": "code",
   "execution_count": null,
   "id": "573d3c9f",
   "metadata": {},
   "outputs": [],
   "source": [
    "X_train, X_test, y_train, y_test = train_test_split(df, y, train_size=0.6, random_state=0, stratify=y)\n",
    "                                                 \n",
    "X_train.shape, X_test.shape"
   ]
  },
  {
   "cell_type": "markdown",
   "id": "16825eb4",
   "metadata": {},
   "source": [
    "Again to keep the training time reasonable, we also downsample to use 5% of the total training set. "
   ]
  },
  {
   "cell_type": "code",
   "execution_count": null,
   "id": "7cbb1713",
   "metadata": {},
   "outputs": [],
   "source": [
    "X_train, _, y_train, _ = train_test_split(X_train, y_train, train_size=0.05, random_state=0, stratify=y_train)\n",
    "\n",
    "X_train.shape"
   ]
  },
  {
   "cell_type": "markdown",
   "id": "b2c59988",
   "metadata": {},
   "source": [
    "We also need to reset the indexes after our downsampling."
   ]
  },
  {
   "cell_type": "code",
   "execution_count": null,
   "id": "2ba41dd3",
   "metadata": {},
   "outputs": [],
   "source": [
    "X_train.reset_index(drop=True, inplace=True)\n",
    "y_train.reset_index(drop=True, inplace=True)"
   ]
  },
  {
   "cell_type": "markdown",
   "id": "8628d11e",
   "metadata": {},
   "source": [
    "Lets look at a few of the samples in the training dataset."
   ]
  },
  {
   "cell_type": "code",
   "execution_count": null,
   "id": "53bda24b",
   "metadata": {},
   "outputs": [],
   "source": [
    "X_train.head()"
   ]
  },
  {
   "cell_type": "markdown",
   "id": "b85be127",
   "metadata": {},
   "source": [
    "The Credit card fraud dataset contains numerical data."
   ]
  },
  {
   "cell_type": "code",
   "execution_count": null,
   "id": "5c50e25e",
   "metadata": {},
   "outputs": [],
   "source": [
    "pd.DataFrame({'Data type': X_train.dtypes}).T"
   ]
  },
  {
   "cell_type": "markdown",
   "id": "64fd5eb0",
   "metadata": {},
   "source": [
    "The Oracle AutoMLx solution automatically handles missing values by dropping features with too many missing values, and filling in the remaining missing values based on the feature type.\n",
    "\n",
    "In this case, there are no such missing values in our training dataset."
   ]
  },
  {
   "cell_type": "code",
   "execution_count": null,
   "id": "23b82b88",
   "metadata": {},
   "outputs": [],
   "source": [
    "pd.DataFrame({'% missing values': X_train.isnull().sum() * 100 / len(df)}).T"
   ]
  },
  {
   "cell_type": "markdown",
   "id": "327afba0",
   "metadata": {},
   "source": [
    "We visualize the distribution of the target variable in the data. The dataset is heavily unbalanced, as is often the case in the anomaly detection use-case.  "
   ]
  },
  {
   "cell_type": "code",
   "execution_count": null,
   "id": "83de624c",
   "metadata": {},
   "outputs": [],
   "source": [
    "y_df = pd.DataFrame(y_train)\n",
    "y_df.columns = ['income']\n",
    "\n",
    "ax = sns.countplot(x='income', data=y_df)\n",
    "ax.set(xlabel='Anomaly', xticklabels=['False', 'True'])\n",
    "ax.bar_label(ax.containers[0])"
   ]
  },
  {
   "cell_type": "markdown",
   "id": "568e1b9e",
   "metadata": {},
   "source": [
    "<a id='AutoML'></a>\n",
    "## AutoML"
   ]
  },
  {
   "cell_type": "markdown",
   "id": "e8a2a166",
   "metadata": {},
   "source": [
    "<a id='Engine'></a>\n",
    "### Setting the engine\n",
    "The AutoML pipeline offers the function `init`, which allows to initialize the parallel engine. By default, the AutoML pipeline uses the `dask` parallel engine. One can also set the engine to `local`, which uses python's multiprocessing library for parallelism instead."
   ]
  },
  {
   "cell_type": "code",
   "execution_count": null,
   "id": "81fd7400",
   "metadata": {},
   "outputs": [],
   "source": [
    "init(engine='local')"
   ]
  },
  {
   "cell_type": "markdown",
   "id": "81c623d3",
   "metadata": {},
   "source": [
    "<a id='provider'></a>\n",
    "### Create an instance of AutoML for Unsupervised Anomaly Detection - Experimental Feature\n",
    "\n",
    "The Oracle AutoMLx solution provides a pipeline that automatically finds a tuned model given a prediction task and a training dataset. In particular it allows to find a tuned model for the task of Unsupervised Anomaly Detection (UAD), where the training labels (whether a training point is an anomaly or not) are unknown.\n",
    "\n",
    "The AutoML UAD Pipeline consists of three main modules: \n",
    "- **Preprocessing** : Clean, impute, engineer, and normalize features.\n",
    "- **Algorithm Selection** : Identify the right algorithm for a given dataset, choosing from amongst the following Outlier Detectors (OD):\n",
    "    - IsolationForestOD\n",
    "    - SubspaceOD\n",
    "    - HistogramOD\n",
    "    - ClusteringLocalFactorOD\n",
    "    - PrincipalCompOD\n",
    "    - MinCovOD\n",
    "    - AutoEncoder\n",
    "    - KNearestNeighborsOD\n",
    "    - OneClassSVMOD\n",
    "- **Hyperparameter Tuning** : Find the best model hyperparameters that maximize score for the given dataset.\n",
    "\n",
    "All these pieces are readily combined into a simple AutoML pipeline which automates the entire Machine Learning process with minimal user input/interaction."
   ]
  },
  {
   "cell_type": "markdown",
   "id": "1b752117",
   "metadata": {},
   "source": [
    "<a id='default'></a>\n",
    "### Train a model using Oracle AutoMLx\n",
    "\n",
    "The AutoML API is quite simple to work with. We create an instance of the pipeline. Next, the training data is passed to the `fit()` function which successively executes the three previously mentioned modules.\n",
    "\n",
    "A model is then generated and can be used for prediction tasks. We then evaluate the performance of the model on unseen data (`X_test`) using the F1-score."
   ]
  },
  {
   "cell_type": "code",
   "execution_count": null,
   "id": "92c8131a",
   "metadata": {},
   "outputs": [],
   "source": [
    "est = automl.Pipeline(task='anomaly_detection', score_metric='unsupervised_unify95')\n",
    "est.fit(X_train, y=None) \n",
    "# In the above line, even though y_train is available for this dataset, \n",
    "# we ignore it to treat the problem as an unsupervised problem\n",
    "y_pred = est.predict(X_test)\n",
    "\n",
    "score_default = f1_score(y_test.astype(int), y_pred)\n",
    "\n",
    "print(f'F1-Score on test data : {score_default}')"
   ]
  },
  {
   "cell_type": "markdown",
   "id": "eba2c948",
   "metadata": {},
   "source": [
    "<a id='analyze'></a>\n",
    "### Analyze the AutoML optimization process\n",
    "\n",
    "During AutoML training, a summary of the optimization process is logged, containing:\n",
    "- Information about the training data.\n",
    "- Information about the AutoML pipeline, such as:\n",
    "    - Selected algorithm that was the best choice for this data;\n",
    "    - Selected hyperparameters for the selected algorithm."
   ]
  },
  {
   "cell_type": "markdown",
   "id": "e1726213",
   "metadata": {},
   "source": [
    "AutoML provides a `print_summary()` API to output all the different trials performed."
   ]
  },
  {
   "cell_type": "code",
   "execution_count": null,
   "id": "2018f9be",
   "metadata": {},
   "outputs": [],
   "source": [
    "est.print_summary()"
   ]
  },
  {
   "cell_type": "markdown",
   "id": "a92f8394",
   "metadata": {},
   "source": [
    "We also provide the capability to visualize the results of each stage of the AutoML pipeline. "
   ]
  },
  {
   "cell_type": "markdown",
   "id": "152446f6",
   "metadata": {},
   "source": [
    "<a id='algorithm-selection'></a>\n",
    "#### Algorithm Selection\n",
    "\n",
    "The plot below shows the scores predicted by Algorithm Selection for each algorithm. The horizontal line shows the average score across all algorithms. Algorithms below the line are colored turquoise, whereas those with a score higher than the mean are colored teal. Here we can see that the `MinCovOD` achieved the highest predicted score (orange bar), and is chosen for subsequent stages of the Pipeline."
   ]
  },
  {
   "cell_type": "code",
   "execution_count": null,
   "id": "db1574b6",
   "metadata": {},
   "outputs": [],
   "source": [
    "# Each trial is a tuple of\n",
    "# (algorithm, no. samples, no. features, mean CV score, hyperparameters, \n",
    "# all CV scores, total CV time (s), memory usage (Gb))\n",
    "trials = est.model_selection_trials_\n",
    "colors = []\n",
    "scores = [x[3] for x in trials]\n",
    "models = [x[0] for x in trials]\n",
    "y_margin = 0.10 * (max(scores) - min(scores))\n",
    "s = pd.Series(scores, index=models).sort_values(ascending=False)\n",
    "\n",
    "for f in s.keys():\n",
    "    if f == '{}_AS'.format(est.selected_model_):\n",
    "        colors.append('orange')\n",
    "    elif s[f] >= s.mean():\n",
    "        colors.append('teal')\n",
    "    else:\n",
    "        colors.append('turquoise')\n",
    "        \n",
    "\n",
    "fig, ax = plt.subplots(1)\n",
    "ax.set_title(\"Algorithm Selection Trials\")\n",
    "ax.set_ylim(min(scores) - y_margin, max(scores) + y_margin)\n",
    "ax.set_ylabel(est.inferred_score_metric[0])\n",
    "s.plot.bar(ax=ax, color=colors, edgecolor='black')\n",
    "ax.axhline(y=s.mean(), color='black', linewidth=0.5)\n",
    "plt.show()"
   ]
  },
  {
   "cell_type": "markdown",
   "id": "b1b526b6",
   "metadata": {},
   "source": [
    "<a id='hyperparameter-tuning'></a>\n",
    "#### Hyperparameter Tuning\n",
    "\n",
    "Hyperparameter Tuning is the last stage of the AutoML pipeline, and focuses on improving the chosen algorithm's score on the dataset. We use a novel algorithm to search across many hyperparameters dimensions, and converge automatically when optimal hyperparameters are identified. Each trial in the graph below represents a particular hyperparameters configuration for the selected model."
   ]
  },
  {
   "cell_type": "code",
   "execution_count": null,
   "id": "38d72712",
   "metadata": {},
   "outputs": [],
   "source": [
    "# Each trial is a tuple of\n",
    "# (algorithm, no. samples, no. features, mean CV score, hyperparameters, \n",
    "# all CV scores, total CV time (s), memory usage (Gb))\n",
    "trials = est.tuning_trials_\n",
    "scores = [x[3] for x in reversed(trials)]\n",
    "y_margin = 0.10 * (max(scores) - min(scores))\n",
    "\n",
    "\n",
    "fig, ax = plt.subplots(1)\n",
    "ax.set_title(\"Hyperparameter Tuning Trials\")\n",
    "ax.set_xlabel(\"Iteration $n$\")\n",
    "ax.set_ylabel(est.inferred_score_metric[0])\n",
    "ax.grid(color='g', linestyle='-', linewidth=0.1)\n",
    "ax.set_ylim(min(scores) - y_margin, max(scores) + y_margin)\n",
    "ax.plot(range(1, len(trials) + 1), scores, 'k:', marker=\"s\", color='teal', markersize=3)\n",
    "plt.show()"
   ]
  },
  {
   "cell_type": "markdown",
   "id": "445b785b",
   "metadata": {},
   "source": [
    "#### Confusion Matrix\n",
    "Evaluating an anomaly detection model is slightly more involved. Essentially, we would like to know when the model was wrong and when the model was right. We use a **Confusion Matrix** to help us visualize the model's behavior."
   ]
  },
  {
   "cell_type": "code",
   "execution_count": null,
   "id": "8760478b",
   "metadata": {},
   "outputs": [],
   "source": [
    "cm = confusion_matrix(y_test.astype(int), y_pred, labels=[False, True])\n",
    "cm = cm.astype('float') / cm.sum(axis=1)[:, np.newaxis]\n",
    "\n",
    "df_cm = pd.DataFrame(cm)\n",
    "df_cm = df_cm * 100\n",
    "\n",
    "ax = sns.heatmap(df_cm, annot=True, fmt='.2f', cbar=False, \n",
    "            xticklabels=['Normal', 'Fraud'], yticklabels=['Normal', 'Fraud'])\n",
    "\n",
    "ax.set_xlabel('Prediction')\n",
    "ax.set_ylabel('Actual')"
   ]
  },
  {
   "cell_type": "markdown",
   "id": "4d57a1ce",
   "metadata": {},
   "source": [
    "<a id='timebudget'></a>\n",
    "### Specify a time budget to Oracle AutoMLx\n",
    "The Oracle AutoMLx tool also allows a user to specify a time budget in seconds. Given the small size of this dataset, we give a small time budget of 10 seconds using the `time_budget` argument to `fit()`."
   ]
  },
  {
   "cell_type": "code",
   "execution_count": null,
   "id": "e4e20cb8",
   "metadata": {},
   "outputs": [],
   "source": [
    "est_timebudget = automl.Pipeline(task='anomaly_detection', score_metric='unsupervised_unify95')\n",
    "est_timebudget.fit(X_train, y=None, time_budget=10)\n",
    "y_pred = est_timebudget.predict(X_test)\n",
    "score_timebudget = f1_score(y_test.astype(int), y_pred)\n",
    "\n",
    "print(f'F1-Score on test data : {score_timebudget}')"
   ]
  },
  {
   "cell_type": "markdown",
   "id": "460f4ba2",
   "metadata": {},
   "source": [
    "<a id='MLX'></a>\n",
    "## Machine Learning Explainability"
   ]
  },
  {
   "cell_type": "markdown",
   "id": "1eba940c",
   "metadata": {},
   "source": [
    "For a variety of decision-making tasks, getting only a prediction as model output is not sufficient. A user may wish to know why the model outputs that prediction, or which data features are relevant for that prediction. For that purpose the Oracle AutoMLx solution defines the `MLExplainer` object, which allows to compute a variety of model explanations.\n",
    "\n",
    "<a id='MLX-initializing'></a>\n",
    "### Initialize an MLExplainer\n",
    "\n",
    "The `MLExplainer` object takes as argument the trained model, the training data and the task. If you know the labels for your dataset, you may provide them; however, since we are dealing with anomaly detection they are optional. When the labels are not provided, we will use the model's predictions instead. "
   ]
  },
  {
   "cell_type": "code",
   "execution_count": null,
   "id": "11b26fbd",
   "metadata": {},
   "outputs": [],
   "source": [
    "explainer = automl.MLExplainer(est,\n",
    "                               X_train,\n",
    "                               target_names=['Normal', 'Anomaly'],\n",
    "                               task='anomaly_detection')"
   ]
  },
  {
   "cell_type": "markdown",
   "id": "ed188b3c",
   "metadata": {},
   "source": [
    "<a id='MLX-global'></a>\n",
    "### Model Explanations (Global Feature Importance)"
   ]
  },
  {
   "cell_type": "markdown",
   "id": "d548f066",
   "metadata": {},
   "source": [
    "The notion of Global Feature Importance intuitively measures how much the model's performance (relative to the model's original predictions or the provided train labels, if available) would change if a given feature were dropped from the dataset, ***and the model was retrained***. (Note that this is unlike the default explainers for classification and regression tasks, which explain the model as if it were not retrained. Also unlike these supervised explainers, the anomaly detection explainer does not support interventional explanations.) Note that this notion of feature importance still considers each feature independently from all other features."
   ]
  },
  {
   "cell_type": "markdown",
   "id": "1f54218c",
   "metadata": {},
   "source": [
    "#### Compute the importance"
   ]
  },
  {
   "cell_type": "markdown",
   "id": "9a8cdc8b",
   "metadata": {},
   "source": [
    "By default we use a permutation method to successively measure the importance of each feature. Such a method therefore runs in linear time with respect to the\n",
    "number of features in the dataset. \n",
    "\n",
    "The method `explain_model()` allows to compute such feature importances. It also provides 95% confidence intervals for each feature importance."
   ]
  },
  {
   "cell_type": "code",
   "execution_count": null,
   "id": "8752e35d",
   "metadata": {},
   "outputs": [],
   "source": [
    "result_explain_model_default = explainer.explain_model()"
   ]
  },
  {
   "cell_type": "markdown",
   "id": "9aba37f6",
   "metadata": {},
   "source": [
    "#### Visualization"
   ]
  },
  {
   "cell_type": "markdown",
   "id": "60abca28",
   "metadata": {},
   "source": [
    "There are two options to show the explanation's results:\n",
    "- `to_dataframe()` will return a dataframe of the results.\n",
    "- `show_in_notebook()` will show the results as a bar plot.\n",
    "\n",
    "The features are returned in decreasing order of importance."
   ]
  },
  {
   "cell_type": "code",
   "execution_count": null,
   "id": "b976b0b7",
   "metadata": {},
   "outputs": [],
   "source": [
    "result_explain_model_default.to_dataframe()"
   ]
  },
  {
   "cell_type": "code",
   "execution_count": null,
   "id": "8e343f43",
   "metadata": {},
   "outputs": [],
   "source": [
    "result_explain_model_default.show_in_notebook()"
   ]
  },
  {
   "cell_type": "markdown",
   "id": "79f00d51",
   "metadata": {},
   "source": [
    "###  Feature Dependence Explanations (Partial Dependence Plots)\n",
    "\n",
    "Another way to measure dependency on a feature is through a partial dependence plot (PDP). Given a dataset, a PDP displays the average output of the model as a function of the value of the selected set of features. \n",
    "\n",
    "The X-axis is the value of the feature `V17` and the y-axis is the corresponding outputted price. Since we are considering the whole dataset, while the shaded interval corresponds to a 95% confidence interval for the average.\n",
    "\n",
    "The histogram on top shows the distribution of the value of the feature `V17` in the dataset."
   ]
  },
  {
   "cell_type": "code",
   "execution_count": null,
   "id": "d8767270",
   "metadata": {
    "lines_to_next_cell": 0
   },
   "outputs": [],
   "source": [
    "result_explain_feature_dependence_default = explainer.explain_feature_dependence('V17')\n",
    "result_explain_feature_dependence_default.show_in_notebook()"
   ]
  },
  {
   "cell_type": "markdown",
   "id": "7158e065",
   "metadata": {},
   "source": [
    "<a id='MLX-local'></a>\n",
    "### Prediction Explanations (Local Feature Importance)"
   ]
  },
  {
   "cell_type": "markdown",
   "id": "3bb76bca",
   "metadata": {},
   "source": [
    "Given a data sample, one can also obtain the local importance, which is the importance of the features for the model's prediction on that sample.\n",
    "In the following cell, we consider sample $1$. The function `explain_prediction()` computes the local importance for a given sample.\n",
    "\n",
    "In the plot, `V8=0.8878` means that the value of feature `V8` for that sample is `0.8878`. Removing that feature and retraining the model would change the model's prediction by the magnitude of the bar. That is, in this case, the model's prediction for the probability that the point is anomalous is approximately 0.4% larger because the model was able to observe the value for `V8`."
   ]
  },
  {
   "cell_type": "code",
   "execution_count": null,
   "id": "8dbdb2b8",
   "metadata": {},
   "outputs": [],
   "source": [
    "anomaly_indices = np.where(y_pred == 1)[0]"
   ]
  },
  {
   "cell_type": "code",
   "execution_count": null,
   "id": "b91105aa",
   "metadata": {},
   "outputs": [],
   "source": [
    "index = anomaly_indices[0]\n",
    "result_explain_prediction_default = explainer.explain_prediction(X_train.iloc[index:index+1,:])\n",
    "result_explain_prediction_default[0].show_in_notebook()"
   ]
  },
  {
   "cell_type": "markdown",
   "id": "bff7b786",
   "metadata": {},
   "source": [
    "<a id='MLX-alfi'></a>\n",
    "### Aggregate Local Feature Importance & Local Feature Importance Built-in Sampling\n",
    "We now summarize all of the individual local feature importance explanations into one single aggregate explanation.\n",
    "\n",
    "To speed up the computation of the local feature importance explanations, we enable the explainer's built-in sampling."
   ]
  },
  {
   "cell_type": "code",
   "execution_count": null,
   "id": "8d0dc323",
   "metadata": {},
   "outputs": [],
   "source": [
    "explainer.configure_explain_prediction(sampling={'technique': 'random', 'n_samples': 2000})"
   ]
  },
  {
   "cell_type": "code",
   "execution_count": null,
   "id": "70e67c1f",
   "metadata": {},
   "outputs": [],
   "source": [
    "# We select 5 random instances here as an example and show the aggregate explanation of those instances.\n",
    "local_explanations = explainer.explain_prediction(X_train.sample(n=5))\n",
    "alfi = explainer.aggregate(explanations=local_explanations)\n",
    "alfi.show_in_notebook()"
   ]
  },
  {
   "cell_type": "markdown",
   "id": "124f70da",
   "metadata": {},
   "source": [
    "<a id='MLX-advanced'></a>\n",
    "###  Advanced Feature Importance Configurations\n",
    "We now display more advanced configuration for computing feature importance. Here, we will explain a custom isolation forest model from the `PyOD` package. Note that the MLExplainer object is capable to explain any anomaly detection model, as long as the model follows a pyod-style interface with the `predict` and `predict_proba` fucntions."
   ]
  },
  {
   "cell_type": "code",
   "execution_count": null,
   "id": "cd957c95",
   "metadata": {},
   "outputs": [],
   "source": [
    "pyod_model = IForest()\n",
    "pyod_model.fit(X_train, y_train)\n",
    "\n",
    "y_pred = pd.Series(pyod_model.predict(X_train), index=X_train.index)\n",
    "explainer_pyod = automl.MLExplainer(pyod_model,\n",
    "                                    X_train,\n",
    "                                    target_names=['Normal', 'Anomaly'],\n",
    "                                    task=\"anomaly_detection\")"
   ]
  },
  {
   "cell_type": "markdown",
   "id": "6b368353",
   "metadata": {},
   "source": [
    "<a id='MLX-changing'></a>\n",
    "#### Changing the number of iterations\n",
    "\n",
    "One can modify the number of iterations `n_iter` used to evaluate the global importance of the model, or the local importance of a prediction.\n",
    "\n",
    "Increasing `n_iter` requires a linear increase in computation time. It however provides more\n",
    "accurate importance estimates, thereby decreasing the variance in repeated calls to\n",
    "`explain_model`/`explain_prediction`.\n",
    "\n",
    "The default value is auto, which selects a suitable default value based on the choice of\n",
    "the method of explanation. Decreasing the number of iterations to 1 also means that the confidence intervals are no longer available.\n",
    "\n",
    "In this example, because we are explaining a different model, the order of the most important features has changed. "
   ]
  },
  {
   "cell_type": "code",
   "execution_count": null,
   "id": "4d2ace1d",
   "metadata": {},
   "outputs": [],
   "source": [
    "result_explain_model_increase_n_iter = explainer_pyod.explain_model(n_iter=1)\n",
    "result_explain_model_increase_n_iter.show_in_notebook()"
   ]
  },
  {
   "cell_type": "markdown",
   "id": "88ca526a",
   "metadata": {},
   "source": [
    "<a id='MLX-including'></a>\n",
    "#### Including the effects of feature interactions (with Shapley feature importance)\n",
    "\n",
    "The Oracle AutoMLx solution allows one to change the effect of feature interactions. This can be done through the `tabulator_type` argument of both global and local importance methods. \n",
    "\n",
    "`tabulator_type` can be set to one of those three options: `permutation`, `kernel_shap`, `shapley`, `shap_pi`\n",
    "          \n",
    "- `permutation`: This value is the default method in the MLExplainer object, and the behaviour was described above\n",
    "\n",
    "- `kernel_shap`: Feature importance attributions will be calculated using an approximation of the Shapley value method. It typically provides relatively high-quality approximations; however, it currently does not provide confidence intervals.\n",
    "\n",
    "- `shapley`: Feature importance is computed using the popular game-theoretic Shapley value method. Technically, this measures the importance of each feature while including the effect of all feature interactions. As a result, it runs in exponential time with respect to the number of features in the dataset. This method also includes the interaction effects of the other features, which means that if two features contain duplicate information, they will be less important. Note that the interpretation of this method's result is a bit different from the permutation method's result. An interested reader may find <a href='https://christophm.github.io/interpretable-ml-book/shapley.html'>this</a> a good source for learning more about it.\n",
    "            \n",
    "- `shap_pi`: Feature importance attributions will be computed using an approximation of the Shapley value method. It runs in linear time, but may miss the effect of interactions between some features, which may therefore produce lower-quality results. Most likely, you will notice that this method yields larger confidence intervals than the other two.\n",
    "\n",
    "**Summary: `permutation` can miss important features for AD. Exact SHAP (`shapley`) doesn't, but it is exponential in running time. `kernel_shap` is an approximation of exact SHAP method that does not provide confidence intervals. `shap_pi` is linear, thus faster than exact SHAP and kernel_shap but unstable and very random leads to lower quality approximations.**"
   ]
  },
  {
   "cell_type": "markdown",
   "id": "d4be7e0b",
   "metadata": {},
   "source": [
    "<a id='MLX-advance-tabulator-prediction'></a>\n",
    "##### Local feature importance with kernel_shap"
   ]
  },
  {
   "cell_type": "code",
   "execution_count": null,
   "id": "3bf256c7",
   "metadata": {},
   "outputs": [],
   "source": [
    "explainer_pyod.configure_explain_prediction(tabulator_type=\"kernel_shap\", \n",
    "                                            sampling={'technique': 'random', 'n_samples': 2000})"
   ]
  },
  {
   "cell_type": "code",
   "execution_count": null,
   "id": "7dc8fc84",
   "metadata": {},
   "outputs": [],
   "source": [
    "anomaly_indices = np.where(y_pred == 1)[0]\n",
    "index = anomaly_indices[0]\n",
    "result_explain_prediction_kernel_shap = explainer_pyod.explain_prediction(X_train.iloc[index:index+1,:])\n",
    "result_explain_prediction_kernel_shap[0].show_in_notebook()"
   ]
  },
  {
   "cell_type": "markdown",
   "id": "57a51f59",
   "metadata": {},
   "source": [
    "<a id='MLX-advanced-ale'></a>\n",
    "### Advanced Feature Dependence Options (ALE)\n",
    "\n",
    "We now show how to use an alternative method for computing feature dependence: accumulated local effects (ALE). ALE explanations are sometimes considered a better alternative to PDPs when features are correlated, because it does not evaluate the model outside of its training distribution in these cases. For more information, see https://christophm.github.io/interpretable-ml-book/ale.html.\n",
    "\n",
    "Given a dataset, an ALE displays the average change in the output of the model, accumulated of multiple small changes in one or two features, when all other features are held fixed. By default, the ALE explanations are centered around 0, and thus, unlike PDPs, ALEs show the change in the prediction measured by changing a given feature, rather than the average model's prediction for a particular feature value."
   ]
  },
  {
   "cell_type": "markdown",
   "id": "e7149b23",
   "metadata": {},
   "source": [
    "The X-axis is the value of the `V17` feature and the y-axis is the corresponding computed ALE (price unit).\n",
    "\n",
    "The histogram on top shows the distribution of the value of the `V17` feature in the dataset."
   ]
  },
  {
   "cell_type": "code",
   "execution_count": null,
   "id": "6dd6bdb4",
   "metadata": {},
   "outputs": [],
   "source": [
    "explainer_pyod.configure_explain_feature_dependence(explanation_type='ale')\n",
    "result_explain_feature_dependence_default = explainer_pyod.explain_feature_dependence(['V17'])\n",
    "result_explain_feature_dependence_default.show_in_notebook()"
   ]
  },
  {
   "cell_type": "markdown",
   "id": "cc906248",
   "metadata": {},
   "source": [
    "<a id='ref'></a>\n",
    "## References\n",
    "* More examples and details: http://automl.oraclecorp.com/\n",
    "* Oracle AutoML http://www.vldb.org/pvldb/vol13/p3166-yakovlev.pdf\n",
    "* scikit-learn https://scikit-learn.org/stable/\n",
    "* Interpretable Machine Learning https://christophm.github.io/interpretable-ml-book/\n",
    "* LIME https://arxiv.org/pdf/1602.04938\n",
    "* OpenML (Credit Card Fraud Dataset) https://www.openml.org/d/1597\n"
   ]
  }
 ],
 "metadata": {
  "jupytext": {
   "formats": "ipynb,py:percent"
  },
  "kernelspec": {
   "display_name": "Python [conda env:automlx_p38_cpu_v2]",
   "language": "python",
   "name": "conda-env-automlx_p38_cpu_v2-py"
  },
  "language_info": {
   "codemirror_mode": {
    "name": "ipython",
    "version": 3
   },
   "file_extension": ".py",
   "mimetype": "text/x-python",
   "name": "python",
   "nbconvert_exporter": "python",
   "pygments_lexer": "ipython3",
   "version": "3.8.16"
  },
  "widgets": {
   "application/vnd.jupyter.widget-state+json": {
    "state": {
     "237e4a01f33945b4a159958e63b86c91": {
      "model_module": "@jupyter-widgets/controls",
      "model_module_version": "2.0.0",
      "model_name": "HTMLStyleModel",
      "state": {
       "_model_module": "@jupyter-widgets/controls",
       "_model_module_version": "2.0.0",
       "_model_name": "HTMLStyleModel",
       "_view_count": null,
       "_view_module": "@jupyter-widgets/base",
       "_view_module_version": "2.0.0",
       "_view_name": "StyleView",
       "background": null,
       "description_width": "",
       "font_size": null,
       "text_color": null
      }
     },
     "2490d806e5a9410a9e3340a2c685be68": {
      "model_module": "@jupyter-widgets/base",
      "model_module_version": "2.0.0",
      "model_name": "LayoutModel",
      "state": {
       "_model_module": "@jupyter-widgets/base",
       "_model_module_version": "2.0.0",
       "_model_name": "LayoutModel",
       "_view_count": null,
       "_view_module": "@jupyter-widgets/base",
       "_view_module_version": "2.0.0",
       "_view_name": "LayoutView",
       "align_content": null,
       "align_items": null,
       "align_self": null,
       "border_bottom": null,
       "border_left": null,
       "border_right": null,
       "border_top": null,
       "bottom": null,
       "display": null,
       "flex": null,
       "flex_flow": null,
       "grid_area": null,
       "grid_auto_columns": null,
       "grid_auto_flow": null,
       "grid_auto_rows": null,
       "grid_column": null,
       "grid_gap": null,
       "grid_row": null,
       "grid_template_areas": null,
       "grid_template_columns": null,
       "grid_template_rows": null,
       "height": null,
       "justify_content": null,
       "justify_items": null,
       "left": null,
       "margin": null,
       "max_height": null,
       "max_width": null,
       "min_height": null,
       "min_width": null,
       "object_fit": null,
       "object_position": null,
       "order": null,
       "overflow": null,
       "padding": null,
       "right": null,
       "top": null,
       "visibility": null,
       "width": "50%"
      }
     },
     "3968701f0cc64c4188bf8128691a4a6c": {
      "model_module": "@jupyter-widgets/controls",
      "model_module_version": "2.0.0",
      "model_name": "HTMLModel",
      "state": {
       "_dom_classes": [],
       "_model_module": "@jupyter-widgets/controls",
       "_model_module_version": "2.0.0",
       "_model_name": "HTMLModel",
       "_view_count": null,
       "_view_module": "@jupyter-widgets/controls",
       "_view_module_version": "2.0.0",
       "_view_name": "HTMLView",
       "description": "",
       "description_allow_html": false,
       "layout": "IPY_MODEL_915be373ca7d412aa2aaf777701a9e39",
       "placeholder": "​",
       "style": "IPY_MODEL_aacf758d50474bba93aa43145b0ab1cd",
       "tabbable": null,
       "tooltip": null,
       "value": "<h3 style=\"text-align: center\">Samples</h3>"
      }
     },
     "3c1a68247aa848409647bbb7fa148a23": {
      "model_module": "@jupyter-widgets/base",
      "model_module_version": "2.0.0",
      "model_name": "LayoutModel",
      "state": {
       "_model_module": "@jupyter-widgets/base",
       "_model_module_version": "2.0.0",
       "_model_name": "LayoutModel",
       "_view_count": null,
       "_view_module": "@jupyter-widgets/base",
       "_view_module_version": "2.0.0",
       "_view_name": "LayoutView",
       "align_content": null,
       "align_items": null,
       "align_self": null,
       "border_bottom": null,
       "border_left": null,
       "border_right": null,
       "border_top": null,
       "bottom": null,
       "display": null,
       "flex": null,
       "flex_flow": null,
       "grid_area": null,
       "grid_auto_columns": null,
       "grid_auto_flow": null,
       "grid_auto_rows": null,
       "grid_column": null,
       "grid_gap": null,
       "grid_row": null,
       "grid_template_areas": null,
       "grid_template_columns": null,
       "grid_template_rows": null,
       "height": null,
       "justify_content": null,
       "justify_items": null,
       "left": null,
       "margin": null,
       "max_height": null,
       "max_width": null,
       "min_height": null,
       "min_width": null,
       "object_fit": null,
       "object_position": null,
       "order": null,
       "overflow": null,
       "padding": null,
       "right": null,
       "top": null,
       "visibility": null,
       "width": null
      }
     },
     "4e9b3b6f38134bf8a7630c654fe8fcce": {
      "model_module": "@jupyter-widgets/controls",
      "model_module_version": "2.0.0",
      "model_name": "HTMLStyleModel",
      "state": {
       "_model_module": "@jupyter-widgets/controls",
       "_model_module_version": "2.0.0",
       "_model_name": "HTMLStyleModel",
       "_view_count": null,
       "_view_module": "@jupyter-widgets/base",
       "_view_module_version": "2.0.0",
       "_view_name": "StyleView",
       "background": null,
       "description_width": "",
       "font_size": null,
       "text_color": null
      }
     },
     "546957822930413c8215507c799a8b5b": {
      "model_module": "@jupyter-widgets/output",
      "model_module_version": "1.0.0",
      "model_name": "OutputModel",
      "state": {
       "_dom_classes": [],
       "_model_module": "@jupyter-widgets/output",
       "_model_module_version": "1.0.0",
       "_model_name": "OutputModel",
       "_view_count": null,
       "_view_module": "@jupyter-widgets/output",
       "_view_module_version": "1.0.0",
       "_view_name": "OutputView",
       "layout": "IPY_MODEL_e23fdfab09e0487e900ecde00724b367",
       "msg_id": "",
       "outputs": [
        {
         "data": {
          "text/html": "<div>\n<style scoped>\n    .dataframe tbody tr th:only-of-type {\n        vertical-align: middle;\n    }\n\n    .dataframe tbody tr th {\n        vertical-align: top;\n    }\n\n    .dataframe thead th {\n        text-align: right;\n    }\n</style>\n<table border=\"1\" class=\"dataframe\">\n  <thead>\n    <tr style=\"text-align: right;\">\n      <th></th>\n      <th>index</th>\n      <th>V1</th>\n      <th>V2</th>\n      <th>V3</th>\n      <th>V4</th>\n      <th>V5</th>\n      <th>V6</th>\n      <th>V7</th>\n      <th>V8</th>\n      <th>V9</th>\n      <th>V10</th>\n      <th>V11</th>\n      <th>V12</th>\n      <th>V13</th>\n      <th>V14</th>\n      <th>V15</th>\n      <th>V16</th>\n      <th>V17</th>\n      <th>V18</th>\n      <th>V19</th>\n    </tr>\n  </thead>\n  <tbody>\n    <tr>\n      <th>0</th>\n      <td>72498</td>\n      <td>1.286461</td>\n      <td>-0.799818</td>\n      <td>0.836816</td>\n      <td>-0.862319</td>\n      <td>-1.111602</td>\n      <td>0.260183</td>\n      <td>-1.189960</td>\n      <td>0.234456</td>\n      <td>-0.653094</td>\n      <td>0.724931</td>\n      <td>1.322173</td>\n      <td>0.076376</td>\n      <td>0.353258</td>\n      <td>-0.257408</td>\n      <td>0.682281</td>\n      <td>1.476380</td>\n      <td>-0.040158</td>\n      <td>-0.707961</td>\n      <td>0.273076</td>\n    </tr>\n    <tr>\n      <th>1</th>\n      <td>206453</td>\n      <td>-0.696986</td>\n      <td>0.648298</td>\n      <td>-0.418057</td>\n      <td>-0.694315</td>\n      <td>0.497555</td>\n      <td>-1.449702</td>\n      <td>0.956581</td>\n      <td>-0.202610</td>\n      <td>-0.167353</td>\n      <td>-0.201585</td>\n      <td>-0.897306</td>\n      <td>0.266755</td>\n      <td>0.665683</td>\n      <td>0.284379</td>\n      <td>-0.003752</td>\n      <td>0.041740</td>\n      <td>-0.618082</td>\n      <td>-0.210501</td>\n      <td>-0.496638</td>\n    </tr>\n    <tr>\n      <th>2</th>\n      <td>152216</td>\n      <td>-1.338346</td>\n      <td>1.520187</td>\n      <td>1.098563</td>\n      <td>-0.295307</td>\n      <td>0.589506</td>\n      <td>-0.571376</td>\n      <td>1.230388</td>\n      <td>-0.580876</td>\n      <td>1.168886</td>\n      <td>-0.732232</td>\n      <td>0.108093</td>\n      <td>-1.974253</td>\n      <td>2.549736</td>\n      <td>1.221270</td>\n      <td>-0.819627</td>\n      <td>-0.798156</td>\n      <td>0.542515</td>\n      <td>-0.323516</td>\n      <td>0.630232</td>\n    </tr>\n    <tr>\n      <th>3</th>\n      <td>264893</td>\n      <td>1.674005</td>\n      <td>-0.492174</td>\n      <td>-0.410921</td>\n      <td>1.654028</td>\n      <td>-0.398545</td>\n      <td>-0.016083</td>\n      <td>-0.095719</td>\n      <td>-0.001343</td>\n      <td>1.040877</td>\n      <td>-0.098991</td>\n      <td>-0.859661</td>\n      <td>1.131786</td>\n      <td>0.325761</td>\n      <td>-0.338893</td>\n      <td>-1.197144</td>\n      <td>-0.571363</td>\n      <td>0.084674</td>\n      <td>-1.097222</td>\n      <td>-0.024714</td>\n    </tr>\n    <tr>\n      <th>4</th>\n      <td>36936</td>\n      <td>1.569326</td>\n      <td>-1.311660</td>\n      <td>-0.765256</td>\n      <td>-2.501079</td>\n      <td>0.697513</td>\n      <td>3.453020</td>\n      <td>-1.840265</td>\n      <td>0.857176</td>\n      <td>-1.736130</td>\n      <td>1.489373</td>\n      <td>-0.278306</td>\n      <td>-1.048677</td>\n      <td>0.600617</td>\n      <td>-0.370965</td>\n      <td>1.020128</td>\n      <td>0.172745</td>\n      <td>-0.129958</td>\n      <td>0.742917</td>\n      <td>-0.067092</td>\n    </tr>\n  </tbody>\n</table>\n</div>",
          "text/plain": "    index        V1        V2        V3        V4        V5        V6  \\\n0   72498  1.286461 -0.799818  0.836816 -0.862319 -1.111602  0.260183   \n1  206453 -0.696986  0.648298 -0.418057 -0.694315  0.497555 -1.449702   \n2  152216 -1.338346  1.520187  1.098563 -0.295307  0.589506 -0.571376   \n3  264893  1.674005 -0.492174 -0.410921  1.654028 -0.398545 -0.016083   \n4   36936  1.569326 -1.311660 -0.765256 -2.501079  0.697513  3.453020   \n\n         V7        V8        V9       V10       V11       V12       V13  \\\n0 -1.189960  0.234456 -0.653094  0.724931  1.322173  0.076376  0.353258   \n1  0.956581 -0.202610 -0.167353 -0.201585 -0.897306  0.266755  0.665683   \n2  1.230388 -0.580876  1.168886 -0.732232  0.108093 -1.974253  2.549736   \n3 -0.095719 -0.001343  1.040877 -0.098991 -0.859661  1.131786  0.325761   \n4 -1.840265  0.857176 -1.736130  1.489373 -0.278306 -1.048677  0.600617   \n\n        V14       V15       V16       V17       V18       V19  \n0 -0.257408  0.682281  1.476380 -0.040158 -0.707961  0.273076  \n1  0.284379 -0.003752  0.041740 -0.618082 -0.210501 -0.496638  \n2  1.221270 -0.819627 -0.798156  0.542515 -0.323516  0.630232  \n3 -0.338893 -1.197144 -0.571363  0.084674 -1.097222 -0.024714  \n4 -0.370965  1.020128  0.172745 -0.129958  0.742917 -0.067092  "
         },
         "metadata": {},
         "output_type": "display_data"
        }
       ],
       "tabbable": null,
       "tooltip": null
      }
     },
     "5cf464cb83f544c397843612efbac7fd": {
      "model_module": "@jupyter-widgets/controls",
      "model_module_version": "2.0.0",
      "model_name": "HTMLModel",
      "state": {
       "_dom_classes": [],
       "_model_module": "@jupyter-widgets/controls",
       "_model_module_version": "2.0.0",
       "_model_name": "HTMLModel",
       "_view_count": null,
       "_view_module": "@jupyter-widgets/controls",
       "_view_module_version": "2.0.0",
       "_view_name": "HTMLView",
       "description": "",
       "description_allow_html": false,
       "layout": "IPY_MODEL_8f2f0726714544279a117b23d47e1c99",
       "placeholder": "​",
       "style": "IPY_MODEL_4e9b3b6f38134bf8a7630c654fe8fcce",
       "tabbable": null,
       "tooltip": null,
       "value": "<h2 style=\"text-align: center\">Aggregated Feature Attributions</h2>"
      }
     },
     "6e080145861047aebb0dc161a4ecf640": {
      "model_module": "@jupyter-widgets/controls",
      "model_module_version": "2.0.0",
      "model_name": "HTMLModel",
      "state": {
       "_dom_classes": [],
       "_model_module": "@jupyter-widgets/controls",
       "_model_module_version": "2.0.0",
       "_model_name": "HTMLModel",
       "_view_count": null,
       "_view_module": "@jupyter-widgets/controls",
       "_view_module_version": "2.0.0",
       "_view_name": "HTMLView",
       "description": "",
       "description_allow_html": false,
       "layout": "IPY_MODEL_cfffb4231a944c55bf1dc722a04b5019",
       "placeholder": "​",
       "style": "IPY_MODEL_c9b4e95b3eaa40d3844fca90d0d175a7",
       "tabbable": null,
       "tooltip": null,
       "value": "<h3 style=\"text-align: center\">Model Predictions</h3>"
      }
     },
     "7d8c29199ec84f049c82d58b9db56f38": {
      "model_module": "@jupyter-widgets/base",
      "model_module_version": "2.0.0",
      "model_name": "LayoutModel",
      "state": {
       "_model_module": "@jupyter-widgets/base",
       "_model_module_version": "2.0.0",
       "_model_name": "LayoutModel",
       "_view_count": null,
       "_view_module": "@jupyter-widgets/base",
       "_view_module_version": "2.0.0",
       "_view_name": "LayoutView",
       "align_content": null,
       "align_items": null,
       "align_self": null,
       "border_bottom": null,
       "border_left": null,
       "border_right": null,
       "border_top": null,
       "bottom": null,
       "display": null,
       "flex": null,
       "flex_flow": null,
       "grid_area": null,
       "grid_auto_columns": null,
       "grid_auto_flow": null,
       "grid_auto_rows": null,
       "grid_column": null,
       "grid_gap": null,
       "grid_row": null,
       "grid_template_areas": null,
       "grid_template_columns": null,
       "grid_template_rows": null,
       "height": null,
       "justify_content": null,
       "justify_items": null,
       "left": null,
       "margin": null,
       "max_height": null,
       "max_width": null,
       "min_height": null,
       "min_width": null,
       "object_fit": null,
       "object_position": null,
       "order": null,
       "overflow": null,
       "padding": null,
       "right": null,
       "top": null,
       "visibility": null,
       "width": null
      }
     },
     "8f2f0726714544279a117b23d47e1c99": {
      "model_module": "@jupyter-widgets/base",
      "model_module_version": "2.0.0",
      "model_name": "LayoutModel",
      "state": {
       "_model_module": "@jupyter-widgets/base",
       "_model_module_version": "2.0.0",
       "_model_name": "LayoutModel",
       "_view_count": null,
       "_view_module": "@jupyter-widgets/base",
       "_view_module_version": "2.0.0",
       "_view_name": "LayoutView",
       "align_content": null,
       "align_items": null,
       "align_self": null,
       "border_bottom": null,
       "border_left": null,
       "border_right": null,
       "border_top": null,
       "bottom": null,
       "display": null,
       "flex": null,
       "flex_flow": null,
       "grid_area": null,
       "grid_auto_columns": null,
       "grid_auto_flow": null,
       "grid_auto_rows": null,
       "grid_column": null,
       "grid_gap": null,
       "grid_row": null,
       "grid_template_areas": null,
       "grid_template_columns": null,
       "grid_template_rows": null,
       "height": null,
       "justify_content": null,
       "justify_items": null,
       "left": null,
       "margin": null,
       "max_height": null,
       "max_width": null,
       "min_height": null,
       "min_width": null,
       "object_fit": null,
       "object_position": null,
       "order": null,
       "overflow": null,
       "padding": null,
       "right": null,
       "top": null,
       "visibility": null,
       "width": null
      }
     },
     "915be373ca7d412aa2aaf777701a9e39": {
      "model_module": "@jupyter-widgets/base",
      "model_module_version": "2.0.0",
      "model_name": "LayoutModel",
      "state": {
       "_model_module": "@jupyter-widgets/base",
       "_model_module_version": "2.0.0",
       "_model_name": "LayoutModel",
       "_view_count": null,
       "_view_module": "@jupyter-widgets/base",
       "_view_module_version": "2.0.0",
       "_view_name": "LayoutView",
       "align_content": null,
       "align_items": null,
       "align_self": null,
       "border_bottom": null,
       "border_left": null,
       "border_right": null,
       "border_top": null,
       "bottom": null,
       "display": null,
       "flex": null,
       "flex_flow": null,
       "grid_area": null,
       "grid_auto_columns": null,
       "grid_auto_flow": null,
       "grid_auto_rows": null,
       "grid_column": null,
       "grid_gap": null,
       "grid_row": null,
       "grid_template_areas": null,
       "grid_template_columns": null,
       "grid_template_rows": null,
       "height": null,
       "justify_content": null,
       "justify_items": null,
       "left": null,
       "margin": null,
       "max_height": null,
       "max_width": null,
       "min_height": null,
       "min_width": null,
       "object_fit": null,
       "object_position": null,
       "order": null,
       "overflow": null,
       "padding": null,
       "right": null,
       "top": null,
       "visibility": null,
       "width": null
      }
     },
     "92c413ea80314b2e91dc452c20916132": {
      "model_module": "@jupyter-widgets/controls",
      "model_module_version": "2.0.0",
      "model_name": "VBoxModel",
      "state": {
       "_dom_classes": [],
       "_model_module": "@jupyter-widgets/controls",
       "_model_module_version": "2.0.0",
       "_model_name": "VBoxModel",
       "_view_count": null,
       "_view_module": "@jupyter-widgets/controls",
       "_view_module_version": "2.0.0",
       "_view_name": "VBoxView",
       "box_style": "",
       "children": [
        "IPY_MODEL_ec843733c67b401db04eedce6c113bee",
        "IPY_MODEL_a36ba200300a4e18a51cf5681c04b00a",
        "IPY_MODEL_5cf464cb83f544c397843612efbac7fd",
        "IPY_MODEL_a5da0ea1f64847469a255e055d3f1912"
       ],
       "layout": "IPY_MODEL_7d8c29199ec84f049c82d58b9db56f38",
       "tabbable": null,
       "tooltip": null
      }
     },
     "9655ae5770d24d4d805721c0129cde8e": {
      "model_module": "@jupyter-widgets/base",
      "model_module_version": "2.0.0",
      "model_name": "LayoutModel",
      "state": {
       "_model_module": "@jupyter-widgets/base",
       "_model_module_version": "2.0.0",
       "_model_name": "LayoutModel",
       "_view_count": null,
       "_view_module": "@jupyter-widgets/base",
       "_view_module_version": "2.0.0",
       "_view_name": "LayoutView",
       "align_content": null,
       "align_items": null,
       "align_self": null,
       "border_bottom": null,
       "border_left": null,
       "border_right": null,
       "border_top": null,
       "bottom": null,
       "display": null,
       "flex": null,
       "flex_flow": null,
       "grid_area": null,
       "grid_auto_columns": null,
       "grid_auto_flow": null,
       "grid_auto_rows": null,
       "grid_column": null,
       "grid_gap": null,
       "grid_row": null,
       "grid_template_areas": null,
       "grid_template_columns": null,
       "grid_template_rows": null,
       "height": null,
       "justify_content": null,
       "justify_items": null,
       "left": null,
       "margin": null,
       "max_height": null,
       "max_width": null,
       "min_height": null,
       "min_width": null,
       "object_fit": null,
       "object_position": null,
       "order": null,
       "overflow": null,
       "padding": null,
       "right": null,
       "top": null,
       "visibility": null,
       "width": null
      }
     },
     "a36ba200300a4e18a51cf5681c04b00a": {
      "model_module": "@jupyter-widgets/controls",
      "model_module_version": "2.0.0",
      "model_name": "HBoxModel",
      "state": {
       "_dom_classes": [],
       "_model_module": "@jupyter-widgets/controls",
       "_model_module_version": "2.0.0",
       "_model_name": "HBoxModel",
       "_view_count": null,
       "_view_module": "@jupyter-widgets/controls",
       "_view_module_version": "2.0.0",
       "_view_name": "HBoxView",
       "box_style": "",
       "children": [
        "IPY_MODEL_c282e0effe0d46889964d514c7f06ac9",
        "IPY_MODEL_e776d18091d94e52834e30caa1e47d9e"
       ],
       "layout": "IPY_MODEL_d1720a7ec1014b07aab83eea223142f5",
       "tabbable": null,
       "tooltip": null
      }
     },
     "a5da0ea1f64847469a255e055d3f1912": {
      "model_module": "jupyterlab-plotly",
      "model_module_version": "^5.4.0",
      "model_name": "FigureModel",
      "state": {
       "_config": {
        "plotlyServerURL": "https://plot.ly"
       },
       "_data": [
        {
         "boxmean": true,
         "boxpoints": "all",
         "customdata": [
          2,
          2,
          2,
          2,
          2,
          2,
          2,
          2,
          2,
          2,
          2,
          2,
          3,
          3,
          3,
          3,
          3,
          3,
          3,
          3,
          3,
          3,
          3,
          3,
          0,
          3,
          4,
          4,
          4,
          4,
          4,
          4,
          4,
          4,
          4,
          4,
          4,
          4,
          4,
          4,
          4,
          4,
          4,
          3,
          3,
          3,
          3,
          3,
          3,
          4,
          1,
          4,
          1,
          1,
          0,
          0,
          0,
          0,
          1,
          0,
          0,
          0,
          0,
          0,
          0,
          0,
          0,
          0,
          1,
          1,
          1,
          0,
          0,
          0,
          1,
          1,
          1,
          0,
          1,
          1,
          1,
          1,
          1,
          1,
          1,
          1,
          1,
          0,
          2,
          2,
          2,
          2,
          2,
          2,
          2
         ],
         "hovertemplate": "%{x}, %{y}, Explanation Index %{customdata}",
         "legendgroup": "Normal",
         "marker": {
          "color": "rgb(0, 128, 128)",
          "line": {
           "outliercolor": "rgba(219, 64, 82, 1.0)"
          },
          "outliercolor": "rgba(219, 64, 82, 0.6)"
         },
         "name": "Target=Normal",
         "orientation": "h",
         "showlegend": false,
         "type": "box",
         "uid": "ed18422c-1680-4e75-ac0c-39971b82f8cc",
         "x": [
          -0.02511752325260748,
          -0.020606778853276945,
          -0.010557894113667048,
          -0.006691399052136158,
          -0.005126441267079891,
          -0.004171732287520111,
          -0.0030442421577716494,
          -0.0022200234809677697,
          -0.0021808257736191747,
          -0.0015916898263677415,
          -0.0014764350241765812,
          -0.00032899789321904737,
          0,
          0,
          0,
          0,
          0,
          0,
          0,
          0,
          0,
          0,
          0,
          0,
          0,
          0,
          0,
          0,
          0,
          0,
          0,
          0,
          0,
          0,
          0,
          0,
          0,
          0,
          0,
          0,
          0,
          0,
          0,
          0,
          0,
          0,
          0,
          0,
          0,
          0,
          0,
          0,
          0,
          0,
          0,
          0,
          0,
          0,
          0,
          0,
          0,
          0,
          0,
          0,
          0,
          0,
          0,
          0,
          0,
          0,
          0,
          0,
          0,
          0,
          0,
          0,
          0,
          0,
          0,
          0,
          0,
          0,
          0,
          0,
          0,
          0,
          0,
          0,
          0.0013628335029887595,
          0.0016336015826347227,
          0.004593654732924137,
          0.004786347106954944,
          0.006442015145316858,
          0.007715180032371217,
          0.015412234341473848
         ],
         "xaxis": "x",
         "y": [
          "V13",
          "V12",
          "V16",
          "V15",
          "V9",
          "V10",
          "V1",
          "V2",
          "V11",
          "V18",
          "V19",
          "V6",
          "V10",
          "V18",
          "V2",
          "V3",
          "V4",
          "V6",
          "V7",
          "V8",
          "V19",
          "V17",
          "V5",
          "V1",
          "V1",
          "V14",
          "V12",
          "V13",
          "V14",
          "V15",
          "V16",
          "V17",
          "V10",
          "V18",
          "V2",
          "V3",
          "V4",
          "V5",
          "V6",
          "V7",
          "V8",
          "V19",
          "V1",
          "V9",
          "V11",
          "V12",
          "V13",
          "V15",
          "V16",
          "V9",
          "V8",
          "V11",
          "V19",
          "V1",
          "V9",
          "V11",
          "V12",
          "V13",
          "V7",
          "V14",
          "V16",
          "V17",
          "V10",
          "V18",
          "V2",
          "V3",
          "V4",
          "V15",
          "V6",
          "V5",
          "V4",
          "V19",
          "V8",
          "V7",
          "V9",
          "V11",
          "V12",
          "V5",
          "V13",
          "V15",
          "V16",
          "V17",
          "V10",
          "V18",
          "V2",
          "V3",
          "V14",
          "V6",
          "V4",
          "V5",
          "V8",
          "V3",
          "V7",
          "V14",
          "V17"
         ],
         "yaxis": "y"
        }
       ],
       "_dom_classes": [],
       "_js2py_layoutDelta": {},
       "_js2py_pointsCallback": {},
       "_js2py_relayout": {},
       "_js2py_restyle": {},
       "_js2py_traceDeltas": {},
       "_js2py_update": {},
       "_last_layout_edit_id": 1,
       "_last_trace_edit_id": 1,
       "_layout": {
        "annotations": [
         {
          "font": {
           "size": 16
          },
          "showarrow": false,
          "text": "Predicted Target = \"Normal\"",
          "textangle": 90,
          "x": 0.98,
          "xanchor": "left",
          "xref": "paper",
          "y": 0.55,
          "yanchor": "middle",
          "yref": "paper"
         }
        ],
        "height": 600,
        "margin": {
         "b": 50,
         "t": 50
        },
        "plot_bgcolor": "rgba(0,0,0,0)",
        "template": {
         "data": {
          "bar": [
           {
            "error_x": {
             "color": "#2a3f5f"
            },
            "error_y": {
             "color": "#2a3f5f"
            },
            "marker": {
             "line": {
              "color": "#E5ECF6",
              "width": 0.5
             },
             "pattern": {
              "fillmode": "overlay",
              "size": 10,
              "solidity": 0.2
             }
            },
            "type": "bar"
           }
          ],
          "barpolar": [
           {
            "marker": {
             "line": {
              "color": "#E5ECF6",
              "width": 0.5
             },
             "pattern": {
              "fillmode": "overlay",
              "size": 10,
              "solidity": 0.2
             }
            },
            "type": "barpolar"
           }
          ],
          "carpet": [
           {
            "aaxis": {
             "endlinecolor": "#2a3f5f",
             "gridcolor": "white",
             "linecolor": "white",
             "minorgridcolor": "white",
             "startlinecolor": "#2a3f5f"
            },
            "baxis": {
             "endlinecolor": "#2a3f5f",
             "gridcolor": "white",
             "linecolor": "white",
             "minorgridcolor": "white",
             "startlinecolor": "#2a3f5f"
            },
            "type": "carpet"
           }
          ],
          "choropleth": [
           {
            "colorbar": {
             "outlinewidth": 0,
             "ticks": ""
            },
            "type": "choropleth"
           }
          ],
          "contour": [
           {
            "colorbar": {
             "outlinewidth": 0,
             "ticks": ""
            },
            "colorscale": [
             [
              0,
              "#0d0887"
             ],
             [
              0.1111111111111111,
              "#46039f"
             ],
             [
              0.2222222222222222,
              "#7201a8"
             ],
             [
              0.3333333333333333,
              "#9c179e"
             ],
             [
              0.4444444444444444,
              "#bd3786"
             ],
             [
              0.5555555555555556,
              "#d8576b"
             ],
             [
              0.6666666666666666,
              "#ed7953"
             ],
             [
              0.7777777777777778,
              "#fb9f3a"
             ],
             [
              0.8888888888888888,
              "#fdca26"
             ],
             [
              1,
              "#f0f921"
             ]
            ],
            "type": "contour"
           }
          ],
          "contourcarpet": [
           {
            "colorbar": {
             "outlinewidth": 0,
             "ticks": ""
            },
            "type": "contourcarpet"
           }
          ],
          "heatmap": [
           {
            "colorbar": {
             "outlinewidth": 0,
             "ticks": ""
            },
            "colorscale": [
             [
              0,
              "#0d0887"
             ],
             [
              0.1111111111111111,
              "#46039f"
             ],
             [
              0.2222222222222222,
              "#7201a8"
             ],
             [
              0.3333333333333333,
              "#9c179e"
             ],
             [
              0.4444444444444444,
              "#bd3786"
             ],
             [
              0.5555555555555556,
              "#d8576b"
             ],
             [
              0.6666666666666666,
              "#ed7953"
             ],
             [
              0.7777777777777778,
              "#fb9f3a"
             ],
             [
              0.8888888888888888,
              "#fdca26"
             ],
             [
              1,
              "#f0f921"
             ]
            ],
            "type": "heatmap"
           }
          ],
          "heatmapgl": [
           {
            "colorbar": {
             "outlinewidth": 0,
             "ticks": ""
            },
            "colorscale": [
             [
              0,
              "#0d0887"
             ],
             [
              0.1111111111111111,
              "#46039f"
             ],
             [
              0.2222222222222222,
              "#7201a8"
             ],
             [
              0.3333333333333333,
              "#9c179e"
             ],
             [
              0.4444444444444444,
              "#bd3786"
             ],
             [
              0.5555555555555556,
              "#d8576b"
             ],
             [
              0.6666666666666666,
              "#ed7953"
             ],
             [
              0.7777777777777778,
              "#fb9f3a"
             ],
             [
              0.8888888888888888,
              "#fdca26"
             ],
             [
              1,
              "#f0f921"
             ]
            ],
            "type": "heatmapgl"
           }
          ],
          "histogram": [
           {
            "marker": {
             "pattern": {
              "fillmode": "overlay",
              "size": 10,
              "solidity": 0.2
             }
            },
            "type": "histogram"
           }
          ],
          "histogram2d": [
           {
            "colorbar": {
             "outlinewidth": 0,
             "ticks": ""
            },
            "colorscale": [
             [
              0,
              "#0d0887"
             ],
             [
              0.1111111111111111,
              "#46039f"
             ],
             [
              0.2222222222222222,
              "#7201a8"
             ],
             [
              0.3333333333333333,
              "#9c179e"
             ],
             [
              0.4444444444444444,
              "#bd3786"
             ],
             [
              0.5555555555555556,
              "#d8576b"
             ],
             [
              0.6666666666666666,
              "#ed7953"
             ],
             [
              0.7777777777777778,
              "#fb9f3a"
             ],
             [
              0.8888888888888888,
              "#fdca26"
             ],
             [
              1,
              "#f0f921"
             ]
            ],
            "type": "histogram2d"
           }
          ],
          "histogram2dcontour": [
           {
            "colorbar": {
             "outlinewidth": 0,
             "ticks": ""
            },
            "colorscale": [
             [
              0,
              "#0d0887"
             ],
             [
              0.1111111111111111,
              "#46039f"
             ],
             [
              0.2222222222222222,
              "#7201a8"
             ],
             [
              0.3333333333333333,
              "#9c179e"
             ],
             [
              0.4444444444444444,
              "#bd3786"
             ],
             [
              0.5555555555555556,
              "#d8576b"
             ],
             [
              0.6666666666666666,
              "#ed7953"
             ],
             [
              0.7777777777777778,
              "#fb9f3a"
             ],
             [
              0.8888888888888888,
              "#fdca26"
             ],
             [
              1,
              "#f0f921"
             ]
            ],
            "type": "histogram2dcontour"
           }
          ],
          "mesh3d": [
           {
            "colorbar": {
             "outlinewidth": 0,
             "ticks": ""
            },
            "type": "mesh3d"
           }
          ],
          "parcoords": [
           {
            "line": {
             "colorbar": {
              "outlinewidth": 0,
              "ticks": ""
             }
            },
            "type": "parcoords"
           }
          ],
          "pie": [
           {
            "automargin": true,
            "type": "pie"
           }
          ],
          "scatter": [
           {
            "marker": {
             "colorbar": {
              "outlinewidth": 0,
              "ticks": ""
             }
            },
            "type": "scatter"
           }
          ],
          "scatter3d": [
           {
            "line": {
             "colorbar": {
              "outlinewidth": 0,
              "ticks": ""
             }
            },
            "marker": {
             "colorbar": {
              "outlinewidth": 0,
              "ticks": ""
             }
            },
            "type": "scatter3d"
           }
          ],
          "scattercarpet": [
           {
            "marker": {
             "colorbar": {
              "outlinewidth": 0,
              "ticks": ""
             }
            },
            "type": "scattercarpet"
           }
          ],
          "scattergeo": [
           {
            "marker": {
             "colorbar": {
              "outlinewidth": 0,
              "ticks": ""
             }
            },
            "type": "scattergeo"
           }
          ],
          "scattergl": [
           {
            "marker": {
             "colorbar": {
              "outlinewidth": 0,
              "ticks": ""
             }
            },
            "type": "scattergl"
           }
          ],
          "scattermapbox": [
           {
            "marker": {
             "colorbar": {
              "outlinewidth": 0,
              "ticks": ""
             }
            },
            "type": "scattermapbox"
           }
          ],
          "scatterpolar": [
           {
            "marker": {
             "colorbar": {
              "outlinewidth": 0,
              "ticks": ""
             }
            },
            "type": "scatterpolar"
           }
          ],
          "scatterpolargl": [
           {
            "marker": {
             "colorbar": {
              "outlinewidth": 0,
              "ticks": ""
             }
            },
            "type": "scatterpolargl"
           }
          ],
          "scatterternary": [
           {
            "marker": {
             "colorbar": {
              "outlinewidth": 0,
              "ticks": ""
             }
            },
            "type": "scatterternary"
           }
          ],
          "surface": [
           {
            "colorbar": {
             "outlinewidth": 0,
             "ticks": ""
            },
            "colorscale": [
             [
              0,
              "#0d0887"
             ],
             [
              0.1111111111111111,
              "#46039f"
             ],
             [
              0.2222222222222222,
              "#7201a8"
             ],
             [
              0.3333333333333333,
              "#9c179e"
             ],
             [
              0.4444444444444444,
              "#bd3786"
             ],
             [
              0.5555555555555556,
              "#d8576b"
             ],
             [
              0.6666666666666666,
              "#ed7953"
             ],
             [
              0.7777777777777778,
              "#fb9f3a"
             ],
             [
              0.8888888888888888,
              "#fdca26"
             ],
             [
              1,
              "#f0f921"
             ]
            ],
            "type": "surface"
           }
          ],
          "table": [
           {
            "cells": {
             "fill": {
              "color": "#EBF0F8"
             },
             "line": {
              "color": "white"
             }
            },
            "header": {
             "fill": {
              "color": "#C8D4E3"
             },
             "line": {
              "color": "white"
             }
            },
            "type": "table"
           }
          ]
         },
         "layout": {
          "annotationdefaults": {
           "arrowcolor": "#2a3f5f",
           "arrowhead": 0,
           "arrowwidth": 1
          },
          "autotypenumbers": "strict",
          "coloraxis": {
           "colorbar": {
            "outlinewidth": 0,
            "ticks": ""
           }
          },
          "colorscale": {
           "diverging": [
            [
             0,
             "#8e0152"
            ],
            [
             0.1,
             "#c51b7d"
            ],
            [
             0.2,
             "#de77ae"
            ],
            [
             0.3,
             "#f1b6da"
            ],
            [
             0.4,
             "#fde0ef"
            ],
            [
             0.5,
             "#f7f7f7"
            ],
            [
             0.6,
             "#e6f5d0"
            ],
            [
             0.7,
             "#b8e186"
            ],
            [
             0.8,
             "#7fbc41"
            ],
            [
             0.9,
             "#4d9221"
            ],
            [
             1,
             "#276419"
            ]
           ],
           "sequential": [
            [
             0,
             "#0d0887"
            ],
            [
             0.1111111111111111,
             "#46039f"
            ],
            [
             0.2222222222222222,
             "#7201a8"
            ],
            [
             0.3333333333333333,
             "#9c179e"
            ],
            [
             0.4444444444444444,
             "#bd3786"
            ],
            [
             0.5555555555555556,
             "#d8576b"
            ],
            [
             0.6666666666666666,
             "#ed7953"
            ],
            [
             0.7777777777777778,
             "#fb9f3a"
            ],
            [
             0.8888888888888888,
             "#fdca26"
            ],
            [
             1,
             "#f0f921"
            ]
           ],
           "sequentialminus": [
            [
             0,
             "#0d0887"
            ],
            [
             0.1111111111111111,
             "#46039f"
            ],
            [
             0.2222222222222222,
             "#7201a8"
            ],
            [
             0.3333333333333333,
             "#9c179e"
            ],
            [
             0.4444444444444444,
             "#bd3786"
            ],
            [
             0.5555555555555556,
             "#d8576b"
            ],
            [
             0.6666666666666666,
             "#ed7953"
            ],
            [
             0.7777777777777778,
             "#fb9f3a"
            ],
            [
             0.8888888888888888,
             "#fdca26"
            ],
            [
             1,
             "#f0f921"
            ]
           ]
          },
          "colorway": [
           "#636efa",
           "#EF553B",
           "#00cc96",
           "#ab63fa",
           "#FFA15A",
           "#19d3f3",
           "#FF6692",
           "#B6E880",
           "#FF97FF",
           "#FECB52"
          ],
          "font": {
           "color": "#2a3f5f"
          },
          "geo": {
           "bgcolor": "white",
           "lakecolor": "white",
           "landcolor": "#E5ECF6",
           "showlakes": true,
           "showland": true,
           "subunitcolor": "white"
          },
          "hoverlabel": {
           "align": "left"
          },
          "hovermode": "closest",
          "mapbox": {
           "style": "light"
          },
          "paper_bgcolor": "white",
          "plot_bgcolor": "#E5ECF6",
          "polar": {
           "angularaxis": {
            "gridcolor": "white",
            "linecolor": "white",
            "ticks": ""
           },
           "bgcolor": "#E5ECF6",
           "radialaxis": {
            "gridcolor": "white",
            "linecolor": "white",
            "ticks": ""
           }
          },
          "scene": {
           "xaxis": {
            "backgroundcolor": "#E5ECF6",
            "gridcolor": "white",
            "gridwidth": 2,
            "linecolor": "white",
            "showbackground": true,
            "ticks": "",
            "zerolinecolor": "white"
           },
           "yaxis": {
            "backgroundcolor": "#E5ECF6",
            "gridcolor": "white",
            "gridwidth": 2,
            "linecolor": "white",
            "showbackground": true,
            "ticks": "",
            "zerolinecolor": "white"
           },
           "zaxis": {
            "backgroundcolor": "#E5ECF6",
            "gridcolor": "white",
            "gridwidth": 2,
            "linecolor": "white",
            "showbackground": true,
            "ticks": "",
            "zerolinecolor": "white"
           }
          },
          "shapedefaults": {
           "line": {
            "color": "#2a3f5f"
           }
          },
          "ternary": {
           "aaxis": {
            "gridcolor": "white",
            "linecolor": "white",
            "ticks": ""
           },
           "baxis": {
            "gridcolor": "white",
            "linecolor": "white",
            "ticks": ""
           },
           "bgcolor": "#E5ECF6",
           "caxis": {
            "gridcolor": "white",
            "linecolor": "white",
            "ticks": ""
           }
          },
          "title": {
           "x": 0.05
          },
          "xaxis": {
           "automargin": true,
           "gridcolor": "white",
           "linecolor": "white",
           "ticks": "",
           "title": {
            "standoff": 15
           },
           "zerolinecolor": "white",
           "zerolinewidth": 2
          },
          "yaxis": {
           "automargin": true,
           "gridcolor": "white",
           "linecolor": "white",
           "ticks": "",
           "title": {
            "standoff": 15
           },
           "zerolinecolor": "white",
           "zerolinewidth": 2
          }
         }
        },
        "title": {
         "x": 0.5
        },
        "width": 850,
        "xaxis": {
         "anchor": "y",
         "categoryarray": [
          "V6",
          "V4",
          "V19",
          "V18",
          "V5",
          "V11",
          "V2",
          "V1",
          "V10",
          "V8",
          "V3",
          "V9",
          "V7",
          "V15",
          "V14",
          "V16",
          "V17",
          "V12",
          "V13"
         ],
         "categoryorder": "array",
         "domain": [
          0.07058823529411765,
          0.98
         ],
         "gridcolor": "LightGrey",
         "linecolor": "Grey",
         "linewidth": 1,
         "matches": "x",
         "mirror": true,
         "scaleanchor": "x",
         "showline": true,
         "showticklabels": true,
         "side": "bottom",
         "title": {
          "text": "Attribution"
         },
         "visible": true,
         "zeroline": true,
         "zerolinecolor": "DarkGrey",
         "zerolinewidth": 1
        },
        "yaxis": {
         "anchor": "x",
         "categoryarray": [
          "V6",
          "V4",
          "V19",
          "V18",
          "V5",
          "V11",
          "V2",
          "V1",
          "V10",
          "V8",
          "V3",
          "V9",
          "V7",
          "V15",
          "V14",
          "V16",
          "V17",
          "V12",
          "V13"
         ],
         "categoryorder": "array",
         "domain": [
          0.1,
          1
         ],
         "gridcolor": "LightGrey",
         "linecolor": "Grey",
         "linewidth": 1,
         "matches": "y",
         "mirror": true,
         "scaleanchor": "y",
         "showline": true,
         "showticklabels": true,
         "side": "left",
         "title": {
          "text": "Feature"
         },
         "visible": true,
         "zeroline": true,
         "zerolinecolor": "DarkGrey",
         "zerolinewidth": 1
        }
       },
       "_model_module": "jupyterlab-plotly",
       "_model_module_version": "^5.4.0",
       "_model_name": "FigureModel",
       "_py2js_addTraces": {},
       "_py2js_animate": {},
       "_py2js_deleteTraces": {},
       "_py2js_moveTraces": {},
       "_py2js_relayout": {},
       "_py2js_removeLayoutProps": {},
       "_py2js_removeTraceProps": {},
       "_py2js_restyle": {},
       "_py2js_update": null,
       "_view_count": 0,
       "_view_module": "jupyterlab-plotly",
       "_view_module_version": "^5.4.0",
       "_view_name": "FigureView",
       "tabbable": null,
       "tooltip": null
      }
     },
     "aacf758d50474bba93aa43145b0ab1cd": {
      "model_module": "@jupyter-widgets/controls",
      "model_module_version": "2.0.0",
      "model_name": "HTMLStyleModel",
      "state": {
       "_model_module": "@jupyter-widgets/controls",
       "_model_module_version": "2.0.0",
       "_model_name": "HTMLStyleModel",
       "_view_count": null,
       "_view_module": "@jupyter-widgets/base",
       "_view_module_version": "2.0.0",
       "_view_name": "StyleView",
       "background": null,
       "description_width": "",
       "font_size": null,
       "text_color": null
      }
     },
     "c0ee98de400a4798b1e38a8026f4fd26": {
      "model_module": "jupyterlab-plotly",
      "model_module_version": "^5.4.0",
      "model_name": "FigureModel",
      "state": {
       "_config": {
        "plotlyServerURL": "https://plot.ly"
       },
       "_data": [
        {
         "boxmean": true,
         "boxpoints": "all",
         "customdata": [
          0,
          1,
          3,
          4,
          2
         ],
         "hovertemplate": "%{x}, %{y}, Explanation Index %{customdata}",
         "legendgroup": "Anomaly",
         "marker": {
          "color": "#4C78A8",
          "line": {
           "outliercolor": "rgba(219, 64, 82, 1.0)"
          },
          "outliercolor": "rgba(219, 64, 82, 0.6)"
         },
         "name": "Target=Anomaly",
         "orientation": "h",
         "showlegend": false,
         "type": "box",
         "uid": "75b6c254-abb4-41a5-ae10-b7d4968187ab",
         "x": [
          0,
          0,
          0,
          0,
          0.03218984867474926
         ],
         "y": [
          "Anomaly",
          "Anomaly",
          "Anomaly",
          "Anomaly",
          "Anomaly"
         ]
        },
        {
         "boxmean": true,
         "boxpoints": "all",
         "customdata": [
          2,
          0,
          1,
          3,
          4
         ],
         "hovertemplate": "%{x}, %{y}, Explanation Index %{customdata}",
         "legendgroup": "Normal",
         "marker": {
          "color": "#F58518",
          "line": {
           "outliercolor": "rgba(219, 64, 82, 1.0)"
          },
          "outliercolor": "rgba(219, 64, 82, 0.6)"
         },
         "name": "Target=Normal",
         "orientation": "h",
         "showlegend": false,
         "type": "box",
         "uid": "691dd5ed-5c59-44c9-9d8c-5fcd4837d195",
         "x": [
          0.9678101513252507,
          1,
          1,
          1,
          1
         ],
         "y": [
          "Normal",
          "Normal",
          "Normal",
          "Normal",
          "Normal"
         ]
        }
       ],
       "_dom_classes": [],
       "_js2py_layoutDelta": {},
       "_js2py_pointsCallback": {},
       "_js2py_relayout": {},
       "_js2py_restyle": {},
       "_js2py_traceDeltas": {},
       "_js2py_update": {},
       "_last_layout_edit_id": 0,
       "_last_trace_edit_id": 0,
       "_layout": {
        "boxmode": "group",
        "margin": {
         "b": 50,
         "t": 50
        },
        "plot_bgcolor": "rgba(0,0,0,0)",
        "template": {
         "data": {
          "bar": [
           {
            "error_x": {
             "color": "#2a3f5f"
            },
            "error_y": {
             "color": "#2a3f5f"
            },
            "marker": {
             "line": {
              "color": "#E5ECF6",
              "width": 0.5
             },
             "pattern": {
              "fillmode": "overlay",
              "size": 10,
              "solidity": 0.2
             }
            },
            "type": "bar"
           }
          ],
          "barpolar": [
           {
            "marker": {
             "line": {
              "color": "#E5ECF6",
              "width": 0.5
             },
             "pattern": {
              "fillmode": "overlay",
              "size": 10,
              "solidity": 0.2
             }
            },
            "type": "barpolar"
           }
          ],
          "carpet": [
           {
            "aaxis": {
             "endlinecolor": "#2a3f5f",
             "gridcolor": "white",
             "linecolor": "white",
             "minorgridcolor": "white",
             "startlinecolor": "#2a3f5f"
            },
            "baxis": {
             "endlinecolor": "#2a3f5f",
             "gridcolor": "white",
             "linecolor": "white",
             "minorgridcolor": "white",
             "startlinecolor": "#2a3f5f"
            },
            "type": "carpet"
           }
          ],
          "choropleth": [
           {
            "colorbar": {
             "outlinewidth": 0,
             "ticks": ""
            },
            "type": "choropleth"
           }
          ],
          "contour": [
           {
            "colorbar": {
             "outlinewidth": 0,
             "ticks": ""
            },
            "colorscale": [
             [
              0,
              "#0d0887"
             ],
             [
              0.1111111111111111,
              "#46039f"
             ],
             [
              0.2222222222222222,
              "#7201a8"
             ],
             [
              0.3333333333333333,
              "#9c179e"
             ],
             [
              0.4444444444444444,
              "#bd3786"
             ],
             [
              0.5555555555555556,
              "#d8576b"
             ],
             [
              0.6666666666666666,
              "#ed7953"
             ],
             [
              0.7777777777777778,
              "#fb9f3a"
             ],
             [
              0.8888888888888888,
              "#fdca26"
             ],
             [
              1,
              "#f0f921"
             ]
            ],
            "type": "contour"
           }
          ],
          "contourcarpet": [
           {
            "colorbar": {
             "outlinewidth": 0,
             "ticks": ""
            },
            "type": "contourcarpet"
           }
          ],
          "heatmap": [
           {
            "colorbar": {
             "outlinewidth": 0,
             "ticks": ""
            },
            "colorscale": [
             [
              0,
              "#0d0887"
             ],
             [
              0.1111111111111111,
              "#46039f"
             ],
             [
              0.2222222222222222,
              "#7201a8"
             ],
             [
              0.3333333333333333,
              "#9c179e"
             ],
             [
              0.4444444444444444,
              "#bd3786"
             ],
             [
              0.5555555555555556,
              "#d8576b"
             ],
             [
              0.6666666666666666,
              "#ed7953"
             ],
             [
              0.7777777777777778,
              "#fb9f3a"
             ],
             [
              0.8888888888888888,
              "#fdca26"
             ],
             [
              1,
              "#f0f921"
             ]
            ],
            "type": "heatmap"
           }
          ],
          "heatmapgl": [
           {
            "colorbar": {
             "outlinewidth": 0,
             "ticks": ""
            },
            "colorscale": [
             [
              0,
              "#0d0887"
             ],
             [
              0.1111111111111111,
              "#46039f"
             ],
             [
              0.2222222222222222,
              "#7201a8"
             ],
             [
              0.3333333333333333,
              "#9c179e"
             ],
             [
              0.4444444444444444,
              "#bd3786"
             ],
             [
              0.5555555555555556,
              "#d8576b"
             ],
             [
              0.6666666666666666,
              "#ed7953"
             ],
             [
              0.7777777777777778,
              "#fb9f3a"
             ],
             [
              0.8888888888888888,
              "#fdca26"
             ],
             [
              1,
              "#f0f921"
             ]
            ],
            "type": "heatmapgl"
           }
          ],
          "histogram": [
           {
            "marker": {
             "pattern": {
              "fillmode": "overlay",
              "size": 10,
              "solidity": 0.2
             }
            },
            "type": "histogram"
           }
          ],
          "histogram2d": [
           {
            "colorbar": {
             "outlinewidth": 0,
             "ticks": ""
            },
            "colorscale": [
             [
              0,
              "#0d0887"
             ],
             [
              0.1111111111111111,
              "#46039f"
             ],
             [
              0.2222222222222222,
              "#7201a8"
             ],
             [
              0.3333333333333333,
              "#9c179e"
             ],
             [
              0.4444444444444444,
              "#bd3786"
             ],
             [
              0.5555555555555556,
              "#d8576b"
             ],
             [
              0.6666666666666666,
              "#ed7953"
             ],
             [
              0.7777777777777778,
              "#fb9f3a"
             ],
             [
              0.8888888888888888,
              "#fdca26"
             ],
             [
              1,
              "#f0f921"
             ]
            ],
            "type": "histogram2d"
           }
          ],
          "histogram2dcontour": [
           {
            "colorbar": {
             "outlinewidth": 0,
             "ticks": ""
            },
            "colorscale": [
             [
              0,
              "#0d0887"
             ],
             [
              0.1111111111111111,
              "#46039f"
             ],
             [
              0.2222222222222222,
              "#7201a8"
             ],
             [
              0.3333333333333333,
              "#9c179e"
             ],
             [
              0.4444444444444444,
              "#bd3786"
             ],
             [
              0.5555555555555556,
              "#d8576b"
             ],
             [
              0.6666666666666666,
              "#ed7953"
             ],
             [
              0.7777777777777778,
              "#fb9f3a"
             ],
             [
              0.8888888888888888,
              "#fdca26"
             ],
             [
              1,
              "#f0f921"
             ]
            ],
            "type": "histogram2dcontour"
           }
          ],
          "mesh3d": [
           {
            "colorbar": {
             "outlinewidth": 0,
             "ticks": ""
            },
            "type": "mesh3d"
           }
          ],
          "parcoords": [
           {
            "line": {
             "colorbar": {
              "outlinewidth": 0,
              "ticks": ""
             }
            },
            "type": "parcoords"
           }
          ],
          "pie": [
           {
            "automargin": true,
            "type": "pie"
           }
          ],
          "scatter": [
           {
            "marker": {
             "colorbar": {
              "outlinewidth": 0,
              "ticks": ""
             }
            },
            "type": "scatter"
           }
          ],
          "scatter3d": [
           {
            "line": {
             "colorbar": {
              "outlinewidth": 0,
              "ticks": ""
             }
            },
            "marker": {
             "colorbar": {
              "outlinewidth": 0,
              "ticks": ""
             }
            },
            "type": "scatter3d"
           }
          ],
          "scattercarpet": [
           {
            "marker": {
             "colorbar": {
              "outlinewidth": 0,
              "ticks": ""
             }
            },
            "type": "scattercarpet"
           }
          ],
          "scattergeo": [
           {
            "marker": {
             "colorbar": {
              "outlinewidth": 0,
              "ticks": ""
             }
            },
            "type": "scattergeo"
           }
          ],
          "scattergl": [
           {
            "marker": {
             "colorbar": {
              "outlinewidth": 0,
              "ticks": ""
             }
            },
            "type": "scattergl"
           }
          ],
          "scattermapbox": [
           {
            "marker": {
             "colorbar": {
              "outlinewidth": 0,
              "ticks": ""
             }
            },
            "type": "scattermapbox"
           }
          ],
          "scatterpolar": [
           {
            "marker": {
             "colorbar": {
              "outlinewidth": 0,
              "ticks": ""
             }
            },
            "type": "scatterpolar"
           }
          ],
          "scatterpolargl": [
           {
            "marker": {
             "colorbar": {
              "outlinewidth": 0,
              "ticks": ""
             }
            },
            "type": "scatterpolargl"
           }
          ],
          "scatterternary": [
           {
            "marker": {
             "colorbar": {
              "outlinewidth": 0,
              "ticks": ""
             }
            },
            "type": "scatterternary"
           }
          ],
          "surface": [
           {
            "colorbar": {
             "outlinewidth": 0,
             "ticks": ""
            },
            "colorscale": [
             [
              0,
              "#0d0887"
             ],
             [
              0.1111111111111111,
              "#46039f"
             ],
             [
              0.2222222222222222,
              "#7201a8"
             ],
             [
              0.3333333333333333,
              "#9c179e"
             ],
             [
              0.4444444444444444,
              "#bd3786"
             ],
             [
              0.5555555555555556,
              "#d8576b"
             ],
             [
              0.6666666666666666,
              "#ed7953"
             ],
             [
              0.7777777777777778,
              "#fb9f3a"
             ],
             [
              0.8888888888888888,
              "#fdca26"
             ],
             [
              1,
              "#f0f921"
             ]
            ],
            "type": "surface"
           }
          ],
          "table": [
           {
            "cells": {
             "fill": {
              "color": "#EBF0F8"
             },
             "line": {
              "color": "white"
             }
            },
            "header": {
             "fill": {
              "color": "#C8D4E3"
             },
             "line": {
              "color": "white"
             }
            },
            "type": "table"
           }
          ]
         },
         "layout": {
          "annotationdefaults": {
           "arrowcolor": "#2a3f5f",
           "arrowhead": 0,
           "arrowwidth": 1
          },
          "autotypenumbers": "strict",
          "coloraxis": {
           "colorbar": {
            "outlinewidth": 0,
            "ticks": ""
           }
          },
          "colorscale": {
           "diverging": [
            [
             0,
             "#8e0152"
            ],
            [
             0.1,
             "#c51b7d"
            ],
            [
             0.2,
             "#de77ae"
            ],
            [
             0.3,
             "#f1b6da"
            ],
            [
             0.4,
             "#fde0ef"
            ],
            [
             0.5,
             "#f7f7f7"
            ],
            [
             0.6,
             "#e6f5d0"
            ],
            [
             0.7,
             "#b8e186"
            ],
            [
             0.8,
             "#7fbc41"
            ],
            [
             0.9,
             "#4d9221"
            ],
            [
             1,
             "#276419"
            ]
           ],
           "sequential": [
            [
             0,
             "#0d0887"
            ],
            [
             0.1111111111111111,
             "#46039f"
            ],
            [
             0.2222222222222222,
             "#7201a8"
            ],
            [
             0.3333333333333333,
             "#9c179e"
            ],
            [
             0.4444444444444444,
             "#bd3786"
            ],
            [
             0.5555555555555556,
             "#d8576b"
            ],
            [
             0.6666666666666666,
             "#ed7953"
            ],
            [
             0.7777777777777778,
             "#fb9f3a"
            ],
            [
             0.8888888888888888,
             "#fdca26"
            ],
            [
             1,
             "#f0f921"
            ]
           ],
           "sequentialminus": [
            [
             0,
             "#0d0887"
            ],
            [
             0.1111111111111111,
             "#46039f"
            ],
            [
             0.2222222222222222,
             "#7201a8"
            ],
            [
             0.3333333333333333,
             "#9c179e"
            ],
            [
             0.4444444444444444,
             "#bd3786"
            ],
            [
             0.5555555555555556,
             "#d8576b"
            ],
            [
             0.6666666666666666,
             "#ed7953"
            ],
            [
             0.7777777777777778,
             "#fb9f3a"
            ],
            [
             0.8888888888888888,
             "#fdca26"
            ],
            [
             1,
             "#f0f921"
            ]
           ]
          },
          "colorway": [
           "#636efa",
           "#EF553B",
           "#00cc96",
           "#ab63fa",
           "#FFA15A",
           "#19d3f3",
           "#FF6692",
           "#B6E880",
           "#FF97FF",
           "#FECB52"
          ],
          "font": {
           "color": "#2a3f5f"
          },
          "geo": {
           "bgcolor": "white",
           "lakecolor": "white",
           "landcolor": "#E5ECF6",
           "showlakes": true,
           "showland": true,
           "subunitcolor": "white"
          },
          "hoverlabel": {
           "align": "left"
          },
          "hovermode": "closest",
          "mapbox": {
           "style": "light"
          },
          "paper_bgcolor": "white",
          "plot_bgcolor": "#E5ECF6",
          "polar": {
           "angularaxis": {
            "gridcolor": "white",
            "linecolor": "white",
            "ticks": ""
           },
           "bgcolor": "#E5ECF6",
           "radialaxis": {
            "gridcolor": "white",
            "linecolor": "white",
            "ticks": ""
           }
          },
          "scene": {
           "xaxis": {
            "backgroundcolor": "#E5ECF6",
            "gridcolor": "white",
            "gridwidth": 2,
            "linecolor": "white",
            "showbackground": true,
            "ticks": "",
            "zerolinecolor": "white"
           },
           "yaxis": {
            "backgroundcolor": "#E5ECF6",
            "gridcolor": "white",
            "gridwidth": 2,
            "linecolor": "white",
            "showbackground": true,
            "ticks": "",
            "zerolinecolor": "white"
           },
           "zaxis": {
            "backgroundcolor": "#E5ECF6",
            "gridcolor": "white",
            "gridwidth": 2,
            "linecolor": "white",
            "showbackground": true,
            "ticks": "",
            "zerolinecolor": "white"
           }
          },
          "shapedefaults": {
           "line": {
            "color": "#2a3f5f"
           }
          },
          "ternary": {
           "aaxis": {
            "gridcolor": "white",
            "linecolor": "white",
            "ticks": ""
           },
           "baxis": {
            "gridcolor": "white",
            "linecolor": "white",
            "ticks": ""
           },
           "bgcolor": "#E5ECF6",
           "caxis": {
            "gridcolor": "white",
            "linecolor": "white",
            "ticks": ""
           }
          },
          "title": {
           "x": 0.05
          },
          "xaxis": {
           "automargin": true,
           "gridcolor": "white",
           "linecolor": "white",
           "ticks": "",
           "title": {
            "standoff": 15
           },
           "zerolinecolor": "white",
           "zerolinewidth": 2
          },
          "yaxis": {
           "automargin": true,
           "gridcolor": "white",
           "linecolor": "white",
           "ticks": "",
           "title": {
            "standoff": 15
           },
           "zerolinecolor": "white",
           "zerolinewidth": 2
          }
         }
        },
        "title": {
         "x": 0.5
        },
        "xaxis": {
         "categoryorder": "category ascending",
         "gridcolor": "LightGrey",
         "linecolor": "Grey",
         "linewidth": 1,
         "mirror": true,
         "range": [
          0,
          1
         ],
         "showline": true,
         "showticklabels": true,
         "side": "bottom",
         "title": {
          "text": "P(Target)"
         },
         "visible": true,
         "zeroline": true,
         "zerolinecolor": "DarkGrey",
         "zerolinewidth": 1
        },
        "yaxis": {
         "categoryorder": "category ascending",
         "gridcolor": "rgba(0,0,0,0)",
         "linecolor": "Grey",
         "linewidth": 1,
         "mirror": true,
         "showline": true,
         "showticklabels": true,
         "side": "left",
         "title": {
          "text": "Target"
         },
         "visible": true,
         "zeroline": true,
         "zerolinecolor": "DarkGrey",
         "zerolinewidth": 1
        }
       },
       "_model_module": "jupyterlab-plotly",
       "_model_module_version": "^5.4.0",
       "_model_name": "FigureModel",
       "_py2js_addTraces": {},
       "_py2js_animate": {},
       "_py2js_deleteTraces": {},
       "_py2js_moveTraces": {},
       "_py2js_relayout": {},
       "_py2js_removeLayoutProps": {},
       "_py2js_removeTraceProps": {},
       "_py2js_restyle": {},
       "_py2js_update": {},
       "_view_count": 0,
       "_view_module": "jupyterlab-plotly",
       "_view_module_version": "^5.4.0",
       "_view_name": "FigureView",
       "tabbable": null,
       "tooltip": null
      }
     },
     "c282e0effe0d46889964d514c7f06ac9": {
      "model_module": "@jupyter-widgets/controls",
      "model_module_version": "2.0.0",
      "model_name": "VBoxModel",
      "state": {
       "_dom_classes": [],
       "_model_module": "@jupyter-widgets/controls",
       "_model_module_version": "2.0.0",
       "_model_name": "VBoxModel",
       "_view_count": null,
       "_view_module": "@jupyter-widgets/controls",
       "_view_module_version": "2.0.0",
       "_view_name": "VBoxView",
       "box_style": "",
       "children": [
        "IPY_MODEL_6e080145861047aebb0dc161a4ecf640",
        "IPY_MODEL_c0ee98de400a4798b1e38a8026f4fd26"
       ],
       "layout": "IPY_MODEL_3c1a68247aa848409647bbb7fa148a23",
       "tabbable": null,
       "tooltip": null
      }
     },
     "c9b4e95b3eaa40d3844fca90d0d175a7": {
      "model_module": "@jupyter-widgets/controls",
      "model_module_version": "2.0.0",
      "model_name": "HTMLStyleModel",
      "state": {
       "_model_module": "@jupyter-widgets/controls",
       "_model_module_version": "2.0.0",
       "_model_name": "HTMLStyleModel",
       "_view_count": null,
       "_view_module": "@jupyter-widgets/base",
       "_view_module_version": "2.0.0",
       "_view_name": "StyleView",
       "background": null,
       "description_width": "",
       "font_size": null,
       "text_color": null
      }
     },
     "cfffb4231a944c55bf1dc722a04b5019": {
      "model_module": "@jupyter-widgets/base",
      "model_module_version": "2.0.0",
      "model_name": "LayoutModel",
      "state": {
       "_model_module": "@jupyter-widgets/base",
       "_model_module_version": "2.0.0",
       "_model_name": "LayoutModel",
       "_view_count": null,
       "_view_module": "@jupyter-widgets/base",
       "_view_module_version": "2.0.0",
       "_view_name": "LayoutView",
       "align_content": null,
       "align_items": null,
       "align_self": null,
       "border_bottom": null,
       "border_left": null,
       "border_right": null,
       "border_top": null,
       "bottom": null,
       "display": null,
       "flex": null,
       "flex_flow": null,
       "grid_area": null,
       "grid_auto_columns": null,
       "grid_auto_flow": null,
       "grid_auto_rows": null,
       "grid_column": null,
       "grid_gap": null,
       "grid_row": null,
       "grid_template_areas": null,
       "grid_template_columns": null,
       "grid_template_rows": null,
       "height": null,
       "justify_content": null,
       "justify_items": null,
       "left": null,
       "margin": null,
       "max_height": null,
       "max_width": null,
       "min_height": null,
       "min_width": null,
       "object_fit": null,
       "object_position": null,
       "order": null,
       "overflow": null,
       "padding": null,
       "right": null,
       "top": null,
       "visibility": null,
       "width": null
      }
     },
     "d1720a7ec1014b07aab83eea223142f5": {
      "model_module": "@jupyter-widgets/base",
      "model_module_version": "2.0.0",
      "model_name": "LayoutModel",
      "state": {
       "_model_module": "@jupyter-widgets/base",
       "_model_module_version": "2.0.0",
       "_model_name": "LayoutModel",
       "_view_count": null,
       "_view_module": "@jupyter-widgets/base",
       "_view_module_version": "2.0.0",
       "_view_name": "LayoutView",
       "align_content": null,
       "align_items": null,
       "align_self": null,
       "border_bottom": null,
       "border_left": null,
       "border_right": null,
       "border_top": null,
       "bottom": null,
       "display": null,
       "flex": null,
       "flex_flow": null,
       "grid_area": null,
       "grid_auto_columns": null,
       "grid_auto_flow": null,
       "grid_auto_rows": null,
       "grid_column": null,
       "grid_gap": null,
       "grid_row": null,
       "grid_template_areas": null,
       "grid_template_columns": null,
       "grid_template_rows": null,
       "height": null,
       "justify_content": null,
       "justify_items": null,
       "left": null,
       "margin": null,
       "max_height": null,
       "max_width": null,
       "min_height": null,
       "min_width": null,
       "object_fit": null,
       "object_position": null,
       "order": null,
       "overflow": null,
       "padding": null,
       "right": null,
       "top": null,
       "visibility": null,
       "width": null
      }
     },
     "e23fdfab09e0487e900ecde00724b367": {
      "model_module": "@jupyter-widgets/base",
      "model_module_version": "2.0.0",
      "model_name": "LayoutModel",
      "state": {
       "_model_module": "@jupyter-widgets/base",
       "_model_module_version": "2.0.0",
       "_model_name": "LayoutModel",
       "_view_count": null,
       "_view_module": "@jupyter-widgets/base",
       "_view_module_version": "2.0.0",
       "_view_name": "LayoutView",
       "align_content": null,
       "align_items": null,
       "align_self": null,
       "border_bottom": null,
       "border_left": null,
       "border_right": null,
       "border_top": null,
       "bottom": null,
       "display": null,
       "flex": null,
       "flex_flow": null,
       "grid_area": null,
       "grid_auto_columns": null,
       "grid_auto_flow": null,
       "grid_auto_rows": null,
       "grid_column": null,
       "grid_gap": null,
       "grid_row": null,
       "grid_template_areas": null,
       "grid_template_columns": null,
       "grid_template_rows": null,
       "height": null,
       "justify_content": null,
       "justify_items": null,
       "left": null,
       "margin": null,
       "max_height": null,
       "max_width": null,
       "min_height": null,
       "min_width": null,
       "object_fit": null,
       "object_position": null,
       "order": null,
       "overflow": null,
       "padding": null,
       "right": null,
       "top": null,
       "visibility": null,
       "width": null
      }
     },
     "e776d18091d94e52834e30caa1e47d9e": {
      "model_module": "@jupyter-widgets/controls",
      "model_module_version": "2.0.0",
      "model_name": "VBoxModel",
      "state": {
       "_dom_classes": [],
       "_model_module": "@jupyter-widgets/controls",
       "_model_module_version": "2.0.0",
       "_model_name": "VBoxModel",
       "_view_count": null,
       "_view_module": "@jupyter-widgets/controls",
       "_view_module_version": "2.0.0",
       "_view_name": "VBoxView",
       "box_style": "",
       "children": [
        "IPY_MODEL_3968701f0cc64c4188bf8128691a4a6c",
        "IPY_MODEL_546957822930413c8215507c799a8b5b"
       ],
       "layout": "IPY_MODEL_2490d806e5a9410a9e3340a2c685be68",
       "tabbable": null,
       "tooltip": null
      }
     },
     "ec843733c67b401db04eedce6c113bee": {
      "model_module": "@jupyter-widgets/controls",
      "model_module_version": "2.0.0",
      "model_name": "HTMLModel",
      "state": {
       "_dom_classes": [],
       "_model_module": "@jupyter-widgets/controls",
       "_model_module_version": "2.0.0",
       "_model_name": "HTMLModel",
       "_view_count": null,
       "_view_module": "@jupyter-widgets/controls",
       "_view_module_version": "2.0.0",
       "_view_name": "HTMLView",
       "description": "",
       "description_allow_html": false,
       "layout": "IPY_MODEL_9655ae5770d24d4d805721c0129cde8e",
       "placeholder": "​",
       "style": "IPY_MODEL_237e4a01f33945b4a159958e63b86c91",
       "tabbable": null,
       "tooltip": null,
       "value": "<h3 style=\"text-align: center\">5 Sample Predictions to Explain</h3>"
      }
     }
    },
    "version_major": 2,
    "version_minor": 0
   }
  }
 },
 "nbformat": 4,
 "nbformat_minor": 5
}
