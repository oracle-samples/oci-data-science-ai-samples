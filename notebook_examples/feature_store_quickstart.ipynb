{
 "cells": [
  {
   "cell_type": "raw",
   "id": "be580618",
   "metadata": {
    "vscode": {
     "languageId": "raw"
    }
   },
   "source": [
    "@notebook{feature_store_quickstart.ipynb,\n",
    "    title: Using feature store for feature ingestion and feature querying,\n",
    "    summary: Introduction to the Oracle Cloud Infrastructure Feature Store.Use feature store for feature ingestion        and feature querying,\n",
    "    developed_on: fspyspark32_p38_cpu_v3,\n",
    "    keywords: feature store,\n",
    "    license: Universal Permissive License v 1.0\n",
    "}"
   ]
  },
  {
   "cell_type": "code",
   "execution_count": null,
   "id": "a5ed26a0",
   "metadata": {},
   "outputs": [],
   "source": [
    "!odsc conda install -s fspyspark32_p38_cpu_v3"
   ]
  },
  {
   "cell_type": "markdown",
   "id": "91063428",
   "metadata": {},
   "source": [
    "Oracle Data Science service sample notebook.\n",
    "\n",
    "Copyright (c) 2022, 2023 Oracle, Inc. All rights reserved. Licensed under the [Universal Permissive License v 1.0](https://oss.oracle.com/licenses/upl).\n",
    "\n",
    "***\n",
    "\n",
    "# <font color=\"red\">Feature store quickstart</font>\n",
    "<p style=\"margin-left:10%; margin-right:10%;\">by the <font color=\"teal\">Oracle Cloud Infrastructure Data Science Service.</font></p>\n",
    "\n",
    "---\n",
    "# Overview:\n",
    "---\n",
    "Managing many datasets, datasources and transformations for machine learning is complex and costly. Poorly cleaned data, data issues, bugs in transformations, data drift and training serving skew all lead to increased model development time and worse model performance. Feature store can be used to solve many of the problems becuase it provides a centralised way to transform and access data for training and serving time. Feature store helps define a standardised pipeline for ingestion of data and querying of data.This notebook demonstrates how to use feature store using a notebook spark session.\n",
    "\n",
    "Compatible conda pack: [PySpark 3.2 and Feature Store](https://docs.oracle.com/iaas/data-science/using/conda-pyspark-fam.htm) for CPU on Python 3.8 (version 1.0)\n",
    "\n",
    "## Contents:\n",
    "\n",
    "- <a href=\"#concepts\">1. Introduction</a>\n",
    "- <a href='#pre-requisites'>2. Pre-requisites to Running this Notebook</a>\n",
    "    - <a href='#setup'>2.1 Setup</a>\n",
    "    - <a href='#policies'>2.2 Policies</a>\n",
    "    - <a href='#prerequisites_authentication'>2.3 Authentication</a>\n",
    "    - <a href='#prerequisites_variables'>2.4 Variables</a>\n",
    "- <a href='#featurestore_overview'>3. Feature store quickstart using APIs</a>\n",
    "    - <a href='#explore_data'>3.1 Exploration of data</a>\n",
    "    - <a href='#featurestore_entities'>3.2 Create feature store logical entities</a>\n",
    "        - <a href='#create_feature_store'>3.2.1 Feature store</a>\n",
    "        - <a href='#create_entity'>3.2.2 Entity</a>\n",
    "        - <a href='#create_transformation'>3.2.3 Transformation</a>\n",
    "        - <a href='#create_featuregroup'>3.2.4 Feature group </a>\n",
    "    - <a href='#explore_featuregroup'>3.3 Explore feature groups</a>\n",
    "    - <a href='#create_dataset'>3.4 Create dataset</a>\n",
    "    - <a href='#explore_dataset'>3.3 Explore dataset</a>\n",
    "    - <a href='#featurestore_yaml'>4. Feature store quickstart using YAML</a>\n",
    "    - <a href='#ref'>5. References</a>\n",
    "\n",
    "---\n",
    "\n",
    "**Important:**\n",
    "\n",
    "Placeholder text for required values are surrounded by angle brackets that must be removed when adding the indicated content. For example, when adding a database name to `database_name = \"<database_name>\"` would become `database_name = \"production\"`.\n",
    "\n",
    "---\n",
    "\n",
    "Datasets are provided as a convenience.  Datasets are considered third-party content and are not considered materials under your agreement with Oracle.\n",
    "\n",
    "`Citibike` dataset is used in this notebook.You can access the citibike dataset license [here](https://ride.citibikenyc.com/data-sharing-policy)\n",
    "\n",
    "---"
   ]
  },
  {
   "cell_type": "markdown",
   "id": "39079812",
   "metadata": {},
   "source": [
    "<a id=\"concepts\"></a>\n",
    "# 1. Introduction\n",
    "\n",
    "OCI Data Science feature store is a stack-based API solution that's deployed using OCI Resource Manager in your tenancy.\n",
    "\n",
    "Review the following key terms to understand the Data Science feature store:\n",
    "\n",
    "\n",
    "* **Feature Vector**: Set of feature values for any one primary or identifier key. For example, all or a subset of features of customer id ‘2536’ can be called as one feature vector.\n",
    "\n",
    "* **Feature**: A feature is an individual measurable property or characteristic of a phenomenon being observed.\n",
    "\n",
    "* **Entity**: An entity is a group of semantically related features. The first step a consumer of features would typically do when accessing the feature store service is to list the entities and the entities associated features. Or an entity is an object or concept that is described by its features. Examples of entities are customer, product, transaction, review, image, document, and so on.\n",
    "\n",
    "* **Feature Group**: A feature group in a feature store is a collection of related features that are often used together in machine learning (ML) models. It serves as an organizational unit within the feature store for you to manage, version and share features across different ML projects. By organizing features into groups, data scientists and ML engineers can efficiently discover, reuse and collaborate on features reducing the redundant work and ensuring consistency in feature engineering.\n",
    "\n",
    "* **Feature Group Job**: A feature group job is the processing instance of a feature group. Each feature group job  includes validation results and statistics results.\n",
    "\n",
    "* **Dataset**: A dataset is a collection of features that are used together to either train a model or perform model inference.\n",
    "\n",
    "* **Dataset Job**: dataset job is the processing instance of a dataset. Each dataset job includes validation results and statistics results."
   ]
  },
  {
   "cell_type": "markdown",
   "id": "c1c2318e",
   "metadata": {},
   "source": [
    "<a id='pre-requisites'></a>\n",
    "# 2. Pre-requisites to Running this Notebook\n",
    "\n",
    "Notebook Sessions are accessible using the PySpark 3.2 and Feature Store Python 3.8 (fspyspark32_p38_cpu_v3) conda environment.\n",
    "\n",
    "You can customize `fspyspark32_p38_cpu_v3`, publish it, and use it as a runtime environment for a Notebook session cluster. "
   ]
  },
  {
   "cell_type": "markdown",
   "id": "84b74cf0",
   "metadata": {},
   "source": [
    "<a id='setup'></a>\n",
    "### 2.1. Setup\n",
    "\n",
    "To set up the environment, a `spark-defaults.conf` must be configured. Data Catalog Metastore id must also be provided.\n",
    "\n",
    "<a id='setup_spark-defaults'></a>\n",
    "### `spark-defaults.conf`\n",
    "\n",
    "The `spark-defaults.conf` file is used to define the properties that are used by Spark. A templated version is installed when you install a Data Science conda environment that supports PySpark. However, you must update the template so that the Data Catalog metastore can be accessed. You can do this manually. However, the `odsc data-catalog config` commandline tool is ideal for setting up the file because it gathers information about your environment, and uses that to build the file.\n",
    "\n",
    "The `odsc data-catalog config` command line tool needs the `--metastore` option to define the Data Catalog metastore OCID. No other command line option is needed because settings have default values, or they take values from your notebook session environment. Following are common parameters that you may need to override.\n",
    "\n",
    "The `--authentication` option sets the authentication mode. It supports resource principal and API keys. The preferred method for authentication is resource principal, which is sent with `--authentication resource_principal`. If you want to use API keys, then use the `--authentication api_key` option. If the `--authentication` isn't specified, API keys are used. When API keys are used, information from the OCI configuration file is used to create the `spark-defaults.conf` file.\n",
    "\n",
    "Object Storage and Data Catalog are regional services. By default, the region is set to the region your notebook session is running in. This information is taken from the environment variable, `NB_REGION`. Use the `--region` option to override this behavior.\n",
    "\n",
    "The default location of the `spark-defaults.conf` file is `/home/datascience/spark_conf_dir` as defined in the `SPARK_CONF_DIR` environment variable. Use the `--output` option to define the directory where to write the file.\n",
    "\n",
    "You need to determine what settings are appropriate for your configuration. However, the following works for most configurations and is run in a terminal window.\n",
    "\n",
    "```bash\n",
    "odsc data-catalog config --authentication resource_principal --metastore <metastore_id>\n",
    "```\n",
    "For more assistance, use the following command in a terminal window:\n",
    "\n",
    "```bash\n",
    "odsc data-catalog config --help\n",
    "```"
   ]
  },
  {
   "cell_type": "markdown",
   "id": "b3f78c37",
   "metadata": {},
   "source": [
    "<a id='policies'></a>\n",
    "### 2.2. Policies\n",
    "This section covers the creation of dynamic groups and policies needed to use the service.\n",
    "\n",
    "* [About Data Science Policies](https://docs.oracle.com/iaas/data-science/using/policies.htm)\n",
    "* [Data Catalog Metastore Required Policies](https://docs.oracle.com/en-us/iaas/data-catalog/using/metastore.htm)"
   ]
  },
  {
   "cell_type": "markdown",
   "id": "64fa7a81",
   "metadata": {},
   "source": [
    "<a id=\"prerequisites_authentication\"></a>\n",
    "### 2.3. Authentication\n",
    "The [Oracle Accelerated Data Science SDK (ADS)](https://docs.oracle.com/iaas/tools/ads-sdk/latest/index.html) controls the authentication mechanism with the notebook session.<br> \n",
    "To setup authentication use the ```ads.set_auth(\"resource_principal\")``` or ```ads.set_auth(\"api_key\")```. "
   ]
  },
  {
   "cell_type": "code",
   "execution_count": null,
   "id": "11c7e667",
   "metadata": {},
   "outputs": [],
   "source": [
    "import ads\n",
    "ads.set_auth(auth=\"resource_principal\", client_kwargs={\"fs_service_endpoint\": \"{api_endpoint}/20230101\"})"
   ]
  },
  {
   "cell_type": "markdown",
   "id": "8a7e16e4",
   "metadata": {},
   "source": [
    "<a id=\"prerequisites_variables\"></a>\n",
    "### 2.4. Variables\n",
    "To run this notebook, you must provide some information about your tenancy configuration. To create and run a feature store, you must specify a `<compartment_id>` and `<metastore_id>` which is the OCID of the Data Catalog metastore. The [Data Catalog Hive Metastore](https://docs.oracle.com/en-us/iaas/data-catalog/using/metastore.htm) provides schema definitions for objects in structured and unstructured data assets. The Metastore is the central metadata repository to understand tables backed by files on object storage and the metastore id of hive metastore is tied to feature store construct of feature store service."
   ]
  },
  {
   "cell_type": "code",
   "execution_count": null,
   "id": "99628c44",
   "metadata": {},
   "outputs": [],
   "source": [
    "import os\n",
    "\n",
    "compartment_id = os.environ.get(\"NB_SESSION_COMPARTMENT_OCID\")\n",
    "metastore_id = \"<metastore_id>\""
   ]
  },
  {
   "cell_type": "markdown",
   "id": "51663a92",
   "metadata": {},
   "source": [
    "<a id=\"featurestore_overview\"></a>\n",
    "# 3. Feature store quick start using APIs\n",
    "By default the **PySpark 3.2 and Feature Store Python 3.8** conda environment includes pre-installed [great-expectations](https://legacy.docs.greatexpectations.io/en/latest/reference/core_concepts/validation.html) library. In an ADS feature store module, you can either use the Python programmatic or YAML interface to define feature store entities. Below section describes how to create feature store entities using programmatic interface."
   ]
  },
  {
   "cell_type": "code",
   "execution_count": null,
   "id": "f72c60c2",
   "metadata": {},
   "outputs": [],
   "source": [
    "import pandas as pd \n",
    "from ads.feature_store.feature_store import FeatureStore\n",
    "from ads.feature_store.dataset import Dataset\n",
    "from ads.feature_store.feature_group import FeatureGroup\n",
    "from ads.feature_store.feature_store_registrar import FeatureStoreRegistrar\n",
    "from ads.feature_store.common.enums import ExpectationType\n",
    "from great_expectations.core import ExpectationSuite, ExpectationConfiguration\n",
    "from ads.feature_store.transformation import TransformationMode"
   ]
  },
  {
   "cell_type": "markdown",
   "id": "ff6d4e3f",
   "metadata": {},
   "source": [
    "<a id=\"explore_data\"></a>\n",
    "### 3.1 Exploration of data"
   ]
  },
  {
   "cell_type": "code",
   "execution_count": null,
   "id": "4c0f7c82",
   "metadata": {},
   "outputs": [],
   "source": [
    "bike_df = pd.read_csv(\"https://raw.githubusercontent.com/oracle-samples/oci-data-science-ai-samples/main/notebook_examples/data/201901-citibike-tripdata.csv\")"
   ]
  },
  {
   "cell_type": "code",
   "execution_count": null,
   "id": "43191d69",
   "metadata": {},
   "outputs": [],
   "source": [
    "bike_df.head()"
   ]
  },
  {
   "cell_type": "code",
   "execution_count": null,
   "id": "3a9e00b2",
   "metadata": {},
   "outputs": [],
   "source": [
    "bike_df.columns = bike_df.columns.str.replace(' ', '')"
   ]
  },
  {
   "cell_type": "markdown",
   "id": "6573a2ed",
   "metadata": {},
   "source": [
    "<a id=\"featurestore_entities\"></a>\n",
    "### 3.2. Create feature store logical entities"
   ]
  },
  {
   "cell_type": "markdown",
   "id": "c52f620b",
   "metadata": {},
   "source": [
    "<a id=\"create_feature_store\"></a>\n",
    "#### 3.2.1 Feature store\n",
    "\n",
    "Feature store is the top level entity for feature store service.\n",
    "Call the ```.create()``` method of the Feature store instance to create a feature store."
   ]
  },
  {
   "cell_type": "code",
   "execution_count": null,
   "id": "9be6519d",
   "metadata": {},
   "outputs": [],
   "source": [
    "feature_store_resource = (\n",
    "    FeatureStore().\n",
    "    with_description(\"Data consisting of bike riders data\").\n",
    "    with_compartment_id(compartment_id).\n",
    "    with_name(\"Bike rides\").\n",
    "    with_offline_config(metastore_id=metastore_id)\n",
    ")"
   ]
  },
  {
   "cell_type": "code",
   "execution_count": null,
   "id": "dc4fac99",
   "metadata": {},
   "outputs": [],
   "source": [
    "feature_store = feature_store_resource.create()"
   ]
  },
  {
   "cell_type": "markdown",
   "id": "128032a3",
   "metadata": {},
   "source": [
    "<a id=\"create_entity\"></a>\n",
    "#### 3.2.2 Entity\n",
    "An entity is a group of semantically related features. "
   ]
  },
  {
   "cell_type": "code",
   "execution_count": null,
   "id": "f031b075",
   "metadata": {},
   "outputs": [],
   "source": [
    "entity = feature_store.create_entity(\n",
    "    name=\"Bike rides\",\n",
    "    description=\"description for bike riders\"\n",
    ")"
   ]
  },
  {
   "cell_type": "markdown",
   "id": "9d694bc7",
   "metadata": {},
   "source": [
    "<a id=\"create_transformation\"></a>\n",
    "#### 3.2.3 Transformation\n",
    "Transformations in a feature store refers to the operations and processes applied to raw data to create, modify or derive new features that can be used as inputs for ML Models"
   ]
  },
  {
   "cell_type": "code",
   "execution_count": null,
   "id": "a01497ed",
   "metadata": {},
   "outputs": [],
   "source": [
    "def is_round_trip(bike_df):\n",
    "    bike_df['roundtrip'] = bike_df['startstationid'] == bike_df['endstationid']\n",
    "    return bike_df"
   ]
  },
  {
   "cell_type": "code",
   "execution_count": null,
   "id": "9fc55127",
   "metadata": {},
   "outputs": [],
   "source": [
    "transformation = feature_store.create_transformation(\n",
    "    transformation_mode=TransformationMode.PANDAS,\n",
    "    source_code_func=is_round_trip,\n",
    "    name=\"is_round_trip\",\n",
    ")\n",
    "transformation"
   ]
  },
  {
   "cell_type": "markdown",
   "id": "a8799bdc",
   "metadata": {},
   "source": [
    "<a id=\"create_featuregroup\"></a>\n",
    "#### 3.2.4 Feature group\n",
    "A feature group is an object that represents a logical group of time-series feature data as it is found in a datasource. "
   ]
  },
  {
   "cell_type": "markdown",
   "id": "4da47cc9",
   "metadata": {},
   "source": [
    "<a id=\"=featuregroup_validation\"></a>\n",
    "##### 3.2.4.1 Associate Expectation Suite\n",
    "Feature validation is the process of checking the quality and accuracy of the features used in a machine learning model.Feature store allows you to define expectation on the data which is being materialised into feature group and dataset.This is achieved using open source library Great Expectations.\n",
    "\n",
    "An Expectation is a verifiable assertion about your data. You can define expectation as below:"
   ]
  },
  {
   "cell_type": "code",
   "execution_count": null,
   "id": "493ab1b7",
   "metadata": {},
   "outputs": [],
   "source": [
    "expectation_suite = ExpectationSuite(expectation_suite_name=\"feature_definition\")\n",
    "expectation_suite.add_expectation(\n",
    "    ExpectationConfiguration(\n",
    "        expectation_type=\"expect_column_values_to_not_be_null\",\n",
    "        kwargs={\"column\": \"stoptime\"}\n",
    "    )\n",
    ")"
   ]
  },
  {
   "cell_type": "code",
   "execution_count": null,
   "id": "c5a6e031",
   "metadata": {},
   "outputs": [],
   "source": [
    "feature_group_bike = (\n",
    "    FeatureGroup()\n",
    "    .with_feature_store_id(feature_store.id)\n",
    "    .with_primary_keys([\"bikeid\"])\n",
    "    .with_name(\"bike_feature_group\")\n",
    "    .with_entity_id(entity.id)\n",
    "    .with_compartment_id(compartment_id)\n",
    "    .with_schema_details_from_dataframe(bike_df)\n",
    "    .with_expectation_suite(expectation_suite, ExpectationType.LENIENT)\n",
    "    .with_transformation_id(transformation.id)\n",
    ")"
   ]
  },
  {
   "cell_type": "code",
   "execution_count": null,
   "id": "1feb7ef0",
   "metadata": {},
   "outputs": [],
   "source": [
    "feature_group_bike.create()"
   ]
  },
  {
   "cell_type": "markdown",
   "id": "3c2e1cc9",
   "metadata": {},
   "source": [
    "\n",
    "To persist the feature group and save feature data along with the metadata in the feature store, call the `materialise()` method with data frame."
   ]
  },
  {
   "cell_type": "code",
   "execution_count": null,
   "id": "424f0ee2",
   "metadata": {},
   "outputs": [],
   "source": [
    "feature_group_bike.materialise(bike_df)"
   ]
  },
  {
   "cell_type": "markdown",
   "id": "56a52545",
   "metadata": {},
   "source": [
    "<a id=\"explore_featuregroup\"></a>\n",
    "### 3.3. Explore feature groups"
   ]
  },
  {
   "cell_type": "markdown",
   "id": "94e6ea4b",
   "metadata": {},
   "source": [
    "You can retrieve feature data in a DataFrame, that can either be used directly to train models or materialized to file(s) for later use to train models"
   ]
  },
  {
   "cell_type": "code",
   "execution_count": null,
   "id": "747a2603",
   "metadata": {},
   "outputs": [],
   "source": [
    "query = feature_group_bike.select() \n",
    "query.show()"
   ]
  },
  {
   "cell_type": "markdown",
   "id": "bf6dff49",
   "metadata": {},
   "source": [
    "You can call the `get_statistics()` method of the feature group to fetch statistics for a specific ingestion job.You can use `to_pandas()` or `to_json()` to view the statistics."
   ]
  },
  {
   "cell_type": "code",
   "execution_count": null,
   "id": "377dd339",
   "metadata": {},
   "outputs": [],
   "source": [
    "feature_group_bike.get_statistics().to_pandas()"
   ]
  },
  {
   "cell_type": "markdown",
   "id": "6f75364d",
   "metadata": {},
   "source": [
    "You can visualize feature statistics with `to_viz()`"
   ]
  },
  {
   "cell_type": "code",
   "execution_count": null,
   "id": "33c1ec14",
   "metadata": {},
   "outputs": [],
   "source": [
    "feature_group_bike.get_statistics().to_viz()"
   ]
  },
  {
   "cell_type": "code",
   "execution_count": null,
   "id": "170df8a6",
   "metadata": {},
   "outputs": [],
   "source": [
    "feature_group_bike.get_statistics().to_viz([\"birthyear\"])"
   ]
  },
  {
   "cell_type": "markdown",
   "id": "8f5410d6",
   "metadata": {},
   "source": [
    "You can call the `get_validation_output()` method of the FeatureGroup instance to fetch validation results for a specific ingestion job."
   ]
  },
  {
   "cell_type": "code",
   "execution_count": null,
   "id": "a196d6c5",
   "metadata": {},
   "outputs": [],
   "source": [
    "feature_group_bike.get_validation_output().to_pandas()"
   ]
  },
  {
   "cell_type": "code",
   "execution_count": null,
   "id": "0962b425",
   "metadata": {},
   "outputs": [],
   "source": [
    "feature_group_bike.get_validation_output().to_summary()"
   ]
  },
  {
   "cell_type": "markdown",
   "id": "2462207e",
   "metadata": {},
   "source": [
    "<a id=\"visualise_lineage\"></a>\n",
    "#### Visualise lineage\n",
    "\n",
    "Use the ```.show()``` method on the FeatureGroup instance to visualize the lineage of the featuregroup."
   ]
  },
  {
   "cell_type": "code",
   "execution_count": null,
   "id": "496ac145",
   "metadata": {},
   "outputs": [],
   "source": [
    "feature_group_bike.show()"
   ]
  },
  {
   "cell_type": "markdown",
   "id": "f4fc629f",
   "metadata": {},
   "source": [
    "<a id=\"create_dataset\"></a>\n",
    "### 3.4 Create dataset\n",
    "A dataset is a collection of feature snapshots that are joined together to either train a model or perform model inference."
   ]
  },
  {
   "cell_type": "code",
   "execution_count": null,
   "id": "e02819d7",
   "metadata": {},
   "outputs": [],
   "source": [
    "query.to_string()"
   ]
  },
  {
   "cell_type": "code",
   "execution_count": null,
   "id": "b0a39bae",
   "metadata": {},
   "outputs": [],
   "source": [
    "dataset_resource = (\n",
    "    Dataset()\n",
    "    .with_description(\"Dataset consisting of a subset of features in feature group: bike riders\")\n",
    "    .with_compartment_id(compartment_id)\n",
    "    .with_name(\"bike_riders_dataset\")\n",
    "    .with_entity_id(entity.id)\n",
    "    .with_feature_store_id(feature_store.id)\n",
    "    .with_query(query.to_string())\n",
    ")"
   ]
  },
  {
   "cell_type": "code",
   "execution_count": null,
   "id": "e2435957",
   "metadata": {},
   "outputs": [],
   "source": [
    "dataset = dataset_resource.create()"
   ]
  },
  {
   "cell_type": "markdown",
   "id": "d392a07c",
   "metadata": {},
   "source": [
    "You can call the `materialise()` method of the Dataset instance to load the data to dataset."
   ]
  },
  {
   "cell_type": "code",
   "execution_count": null,
   "id": "4b399938",
   "metadata": {},
   "outputs": [],
   "source": [
    "dataset.materialise()"
   ]
  },
  {
   "cell_type": "markdown",
   "id": "c159e8ed",
   "metadata": {},
   "source": [
    "<a id=\"explore_dataset\"></a>\n",
    "### 3.5 Explore dataset"
   ]
  },
  {
   "cell_type": "code",
   "execution_count": null,
   "id": "32571870",
   "metadata": {},
   "outputs": [],
   "source": [
    "dataset.as_of(version_number=0).show()"
   ]
  },
  {
   "cell_type": "code",
   "execution_count": null,
   "id": "7a7820f2",
   "metadata": {},
   "outputs": [],
   "source": [
    "dataset.get_statistics().to_pandas()"
   ]
  },
  {
   "cell_type": "code",
   "execution_count": null,
   "id": "f6913aae",
   "metadata": {},
   "outputs": [],
   "source": [
    "dataset.get_statistics().to_viz()"
   ]
  },
  {
   "cell_type": "code",
   "execution_count": null,
   "id": "b2883cd1",
   "metadata": {},
   "outputs": [],
   "source": [
    "dataset.profile().show()"
   ]
  },
  {
   "cell_type": "markdown",
   "id": "c1a71704",
   "metadata": {},
   "source": [
    "<a id=\"visualise_lineage\"></a>\n",
    "#### Visualise lineage\n",
    "\n",
    "Use the ```.show()``` method on the Dataset instance to visualize the lineage of the dataset."
   ]
  },
  {
   "cell_type": "code",
   "execution_count": null,
   "id": "e0956b3c",
   "metadata": {},
   "outputs": [],
   "source": [
    "dataset.show()"
   ]
  },
  {
   "cell_type": "markdown",
   "id": "9f310f88",
   "metadata": {},
   "source": [
    "<a id=\"featurestore_yaml\"></a>\n",
    "# 4. Feature store quickstart using YAML\n",
    "In an ADS feature store module, you can either use the Python programmatic interface or YAML to define feature store entities. Below section describes how to create feature store entities using YAML as an interface."
   ]
  },
  {
   "cell_type": "code",
   "execution_count": null,
   "id": "42b03a44",
   "metadata": {},
   "outputs": [],
   "source": [
    "feature_store_yaml = f\"\"\"\n",
    "apiVersion: v1\n",
    "kind: featureStore\n",
    "spec:\n",
    "  displayName: Bike feature store\n",
    "  compartmentId: \"{compartment_id}\"\n",
    "  offlineConfig:\n",
    "    metastoreId: \"{metastore_id}\"\n",
    "\n",
    "  entity: &bike_entity\n",
    "    - kind: entity\n",
    "      spec:\n",
    "        name: Bike rides\n",
    "\n",
    "  featureGroup:\n",
    "    - kind: featureGroup\n",
    "      spec:\n",
    "        entity: *bike_entity\n",
    "        name: bike_feature_group\n",
    "        primaryKeys:\n",
    "          - bikeid\n",
    "        inputFeatureDetails:\n",
    "          - name: \"bikeid\"\n",
    "            featureType: \"INTEGER\"\n",
    "            orderNumber: 1\n",
    "            cast: \"STRING\"\n",
    "          - name: \"endstationlongitude\"\n",
    "            featureType: \"FLOAT\"\n",
    "            orderNumber: 2\n",
    "            cast: \"STRING\"\n",
    "          - name: \"tripduration\"\n",
    "            featureType: \"INTEGER\"\n",
    "            orderNumber: 3\n",
    "            cast: \"STRING\"\n",
    "\n",
    "  dataset:\n",
    "    - kind: dataset\n",
    "      spec:\n",
    "        name: bike_dataset\n",
    "        entity: *bike_entity\n",
    "        description: \"Dataset for bike\"\n",
    "        query: 'SELECT bike.bikeid, bike.endstationlongitude FROM bike_feature_group bike'\n",
    "\"\"\""
   ]
  },
  {
   "cell_type": "code",
   "execution_count": null,
   "id": "bb96dbe6",
   "metadata": {},
   "outputs": [],
   "source": [
    "registrar = FeatureStoreRegistrar.from_yaml(yaml_string=feature_store_yaml)\n",
    "registrar.create()"
   ]
  },
  {
   "cell_type": "markdown",
   "id": "2c39ad29",
   "metadata": {},
   "source": [
    "<a id='ref'></a>\n",
    "# References\n",
    "\n",
    "- [Feature Store Documentation](https://feature-store-accelerated-data-science.readthedocs.io/en/latest/overview.html)\n",
    "- [ADS Library Documentation](https://accelerated-data-science.readthedocs.io/en/latest/index.html)\n",
    "- [Data Science YouTube Videos](https://www.youtube.com/playlist?list=PLKCk3OyNwIzv6CWMhvqSB_8MLJIZdO80L)\n",
    "- [OCI Data Science Documentation](https://docs.cloud.oracle.com/en-us/iaas/data-science/using/data-science.htm)\n",
    "- [Oracle Data & AI Blog](https://blogs.oracle.com/datascience/)"
   ]
  },
  {
   "cell_type": "code",
   "execution_count": null,
   "id": "2dbcaac5",
   "metadata": {},
   "outputs": [],
   "source": []
  }
 ],
 "metadata": {
  "kernelspec": {
   "display_name": "Python 3 (ipykernel)",
   "language": "python",
   "name": "python3"
  },
  "language_info": {
   "codemirror_mode": {
    "name": "ipython",
    "version": 3
   },
   "file_extension": ".py",
   "mimetype": "text/x-python",
   "name": "python",
   "nbconvert_exporter": "python",
   "pygments_lexer": "ipython3",
   "version": "3.7.4"
  }
 },
 "nbformat": 4,
 "nbformat_minor": 5
}
