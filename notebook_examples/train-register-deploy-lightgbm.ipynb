{
 "cells": [
  {
   "cell_type": "raw",
   "id": "7852adec",
   "metadata": {},
   "source": [
    "@notebook{train-register-deploy-lightgbm.ipynb,\n",
    "    title: Train, Register, and Deploy a LightGBM Model,\n",
    "    summary: Train, register, and deploy a LightGBM model.,\n",
    "    developed_on: generalml_p38_cpu_v1,\n",
    "    keywords: lightgbm, deploy model, register model, train model,\n",
    "    license: Universal Permissive License v 1.0\n",
    "}"
   ]
  },
  {
   "cell_type": "code",
   "execution_count": null,
   "id": "b6627d58",
   "metadata": {},
   "outputs": [],
   "source": [
    "# Upgrade Oracle ADS to pick up latest features and maintain compatibility with Oracle Cloud Infrastructure.\n",
    "\n",
    "!pip install -U oracle-ads"
   ]
  },
  {
   "cell_type": "markdown",
   "id": "bcb502ea",
   "metadata": {},
   "source": [
    "<font color=gray>Oracle Data Science service sample notebook.\n",
    "\n",
    "Copyright (c) 2022 Oracle, Inc.  All rights reserved.\n",
    "Licensed under the Universal Permissive License v 1.0 as shown at https://oss.oracle.com/licenses/upl.\n",
    "</font>\n",
    "\n",
    "***\n",
    "# <font color=red>Train, register, and deploy a LightGBM Model</font>\n",
    "<p style=\"margin-left:10%; margin-right:10%;\">by the <font color=teal> Oracle Cloud Infrastructure Data Science Service Team </font></p>\n",
    "\n",
    "***\n",
    "\n",
    "## Overview:\n",
    "\n",
    "Compatible conda pack: [General Machine Learning](https://docs.oracle.com/en-us/iaas/data-science/using/conda-gml-fam.htm) for CPU on Python 3.8 (version 1.0)\n",
    "\n",
    "### Prerequisites\n",
    "\n",
    "This notebook requires authorization to work with the OCI Data Science Service. Details can be found [here](https://accelerated-data-science.readthedocs.io/en/latest/user_guide/cli/authentication.html#). For the purposes of this notebook what is important to to know is that resource principals will be used absent api_key authentication.\n",
    "\n",
    "---\n"
   ]
  },
  {
   "cell_type": "code",
   "execution_count": null,
   "id": "dd2f954b",
   "metadata": {},
   "outputs": [],
   "source": [
    "import ads\n",
    "import lightgbm as lgb\n",
    "import logging\n",
    "import tempfile\n",
    "import warnings\n",
    "\n",
    "from ads.common.model_metadata import UseCaseType\n",
    "from ads.model.framework.lightgbm_model import LightGBMModel\n",
    "from shutil import rmtree\n",
    "from sklearn.datasets import make_classification\n",
    "from sklearn.model_selection import train_test_split\n",
    "\n",
    "logging.basicConfig(format=\"%(levelname)s:%(message)s\", level=logging.ERROR)\n",
    "warnings.filterwarnings(\"ignore\")"
   ]
  },
  {
   "cell_type": "markdown",
   "id": "8062200d",
   "metadata": {},
   "source": [
    "### Authenticate\n",
    "\n",
    "Authentication to the OCI Data Science service is required. Here we default to resource principals."
   ]
  },
  {
   "cell_type": "code",
   "execution_count": null,
   "id": "ed9f50d1",
   "metadata": {},
   "outputs": [],
   "source": [
    "ads.set_auth(auth=\"resource_principal\")"
   ]
  },
  {
   "cell_type": "markdown",
   "id": "0e6ecaa8",
   "metadata": {},
   "source": [
    "<a id=\"intro_dataset\"></a>\n",
    "## Create Dataset"
   ]
  },
  {
   "cell_type": "code",
   "execution_count": null,
   "id": "c6fc7caf",
   "metadata": {},
   "outputs": [],
   "source": [
    "X, y = make_classification(n_samples=10000, n_features=15, n_classes=2, flip_y=0.05)"
   ]
  },
  {
   "cell_type": "markdown",
   "id": "198610e6",
   "metadata": {},
   "source": [
    "Take a look at the first few records so that you can get an understanding of the data."
   ]
  },
  {
   "cell_type": "code",
   "execution_count": null,
   "id": "d8a00b6d",
   "metadata": {},
   "outputs": [],
   "source": [
    "X[:5]"
   ]
  },
  {
   "cell_type": "code",
   "execution_count": null,
   "id": "49b2477c",
   "metadata": {},
   "outputs": [],
   "source": [
    "y[:5]"
   ]
  },
  {
   "cell_type": "markdown",
   "id": "f7cbb1b2",
   "metadata": {},
   "source": [
    "## Create Training Set\n",
    "\n",
    "Create a training set with a 90/10 split"
   ]
  },
  {
   "cell_type": "code",
   "execution_count": null,
   "id": "d9d738e7",
   "metadata": {},
   "outputs": [],
   "source": [
    "X_train, X_test, y_train, y_test = train_test_split(\n",
    "    X, y, test_size=0.1, random_state=42\n",
    ")"
   ]
  },
  {
   "cell_type": "markdown",
   "id": "f1d71021",
   "metadata": {},
   "source": [
    "## Train the model"
   ]
  },
  {
   "cell_type": "code",
   "execution_count": null,
   "id": "1faa6e57",
   "metadata": {},
   "outputs": [],
   "source": [
    "model = lgb.LGBMClassifier(n_estimators=100, learning_rate=0.01, random_state=42)\n",
    "model.fit(\n",
    "    X_train,\n",
    "    y_train,\n",
    ")"
   ]
  },
  {
   "cell_type": "markdown",
   "id": "5ea8398a",
   "metadata": {},
   "source": [
    "## Prepare Model Artifact for LightGBM model"
   ]
  },
  {
   "cell_type": "code",
   "execution_count": null,
   "id": "ee8ebfd0",
   "metadata": {},
   "outputs": [],
   "source": [
    "artifact_dir = tempfile.mkdtemp()\n",
    "lightgbm_model = LightGBMModel(estimator=model, artifact_dir=artifact_dir)\n",
    "lightgbm_model.prepare(\n",
    "    inference_conda_env=\"generalml_p38_cpu_v1\",\n",
    "    training_conda_env=\"generalml_p38_cpu_v1\",\n",
    "    X_sample=X_train,\n",
    "    y_sample=y_train,\n",
    "    force_overwrite=True,\n",
    "    use_case_type=UseCaseType.BINARY_CLASSIFICATION,\n",
    ")"
   ]
  },
  {
   "cell_type": "code",
   "execution_count": null,
   "id": "d9e65362",
   "metadata": {},
   "outputs": [],
   "source": [
    "lightgbm_model.summary_status()"
   ]
  },
  {
   "cell_type": "markdown",
   "id": "20915961",
   "metadata": {},
   "source": [
    "## Verify\n",
    "\n",
    "The verify method invokes the ``predict`` function defined inside ``score.py`` in the artifact_dir\n"
   ]
  },
  {
   "cell_type": "code",
   "execution_count": null,
   "id": "7a610061",
   "metadata": {},
   "outputs": [],
   "source": [
    "lightgbm_model.verify(X_test[:10])[\"prediction\"]"
   ]
  },
  {
   "cell_type": "markdown",
   "id": "989bfa0d",
   "metadata": {},
   "source": [
    "## Save"
   ]
  },
  {
   "cell_type": "code",
   "execution_count": null,
   "id": "fa744bfb",
   "metadata": {},
   "outputs": [],
   "source": [
    "model_id = lightgbm_model.save(display_name=\"LightGBM Model\")"
   ]
  },
  {
   "cell_type": "code",
   "execution_count": null,
   "id": "0df97aef",
   "metadata": {},
   "outputs": [],
   "source": [
    "lightgbm_model.summary_status()"
   ]
  },
  {
   "cell_type": "markdown",
   "id": "e357d4af",
   "metadata": {},
   "source": [
    "<a id='serialize_deploy'></a>\n",
    "## Deploy\n",
    "\n",
    "When the model is in the model catalog, you can use the `.deploy()` method of a `LightGBMModel` object to deploy the model. This method allows you to specify the attributes of the deployment such as the display name, description, instance type and count, the maximum bandwidth, and logging groups. The next cell deploys the model with the default settings except for the custom display name. The `.deploy()` method returns a `ModelDeployment` object."
   ]
  },
  {
   "cell_type": "code",
   "execution_count": null,
   "id": "abe463fb",
   "metadata": {},
   "outputs": [],
   "source": [
    "deploy = lightgbm_model.deploy(display_name=\"Demo LightGBMModel deployment\")"
   ]
  },
  {
   "cell_type": "markdown",
   "id": "56c2b2f8",
   "metadata": {},
   "source": [
    "After deployment, the `.summary_status()` method shows that the model is `ACTIVE` and the `predict()` method is available."
   ]
  },
  {
   "cell_type": "code",
   "execution_count": null,
   "id": "2a2e5783",
   "metadata": {},
   "outputs": [],
   "source": [
    "lightgbm_model.summary_status()"
   ]
  },
  {
   "cell_type": "markdown",
   "id": "c8c30ca6",
   "metadata": {},
   "source": [
    "<a id='serialize_predict'></a>\n",
    "## Predict\n",
    "\n",
    "After the deployment is active, you can call `predict()` on the `LightGBMModel` object to send request to the deployed endpoint. "
   ]
  },
  {
   "cell_type": "code",
   "execution_count": null,
   "id": "960f46bc",
   "metadata": {},
   "outputs": [],
   "source": [
    "lightgbm_model.predict(X_test)[\"prediction\"][:10]"
   ]
  },
  {
   "cell_type": "markdown",
   "id": "391c9436",
   "metadata": {},
   "source": [
    "<a id='clean_up'></a>\n",
    "# Clean Up\n",
    "\n",
    "This notebook created a model deployment and a model so you should clean up those resources. \n",
    "\n",
    "The model deployment must be deleted before the model can be deleted. Use the `.delete_deployment()` method on the `LightGBMModel` object to do this."
   ]
  },
  {
   "cell_type": "code",
   "execution_count": null,
   "id": "4c90b8af",
   "metadata": {},
   "outputs": [],
   "source": [
    "delete = lightgbm_model.delete_deployment(wait_for_completion=True)"
   ]
  },
  {
   "cell_type": "markdown",
   "id": "8741ee76",
   "metadata": {},
   "source": [
    "After the model deployment has been deleted, the `.summary_status()` method shows that the model has been deleted, and that the `predict()` method is not available."
   ]
  },
  {
   "cell_type": "code",
   "execution_count": null,
   "id": "b65bcf61",
   "metadata": {},
   "outputs": [],
   "source": [
    "lightgbm_model.summary_status()"
   ]
  },
  {
   "attachments": {},
   "cell_type": "markdown",
   "id": "8e10306c",
   "metadata": {},
   "source": [
    "Use the `.delete()` method to delete the model."
   ]
  },
  {
   "cell_type": "code",
   "execution_count": null,
   "id": "142110d5",
   "metadata": {},
   "outputs": [],
   "source": [
    "lightgbm_model.delete()"
   ]
  },
  {
   "cell_type": "markdown",
   "id": "65b92518",
   "metadata": {},
   "source": [
    "The next cell removes the model artifacts that were stored on the local drive."
   ]
  },
  {
   "cell_type": "code",
   "execution_count": null,
   "id": "a0caf10d",
   "metadata": {},
   "outputs": [],
   "source": [
    "rmtree(artifact_dir)"
   ]
  },
  {
   "cell_type": "markdown",
   "id": "5fc3b125",
   "metadata": {},
   "source": [
    "<a id='ref'></a>\n",
    "# References\n",
    "- [ADS Library Documentation](https://accelerated-data-science.readthedocs.io/en/latest/index.html)\n",
    "- [Data Science YouTube Videos](https://www.youtube.com/playlist?list=PLKCk3OyNwIzv6CWMhvqSB_8MLJIZdO80L)\n",
    "- [OCI Data Science Documentation](https://docs.cloud.oracle.com/en-us/iaas/data-science/using/data-science.htm)\n",
    "- [Oracle Data & AI Blog](https://blogs.oracle.com/datascience/)\n",
    "- [Understanding Conda Environments](https://docs.cloud.oracle.com/en-us/iaas/data-science/using/use-notebook-sessions.htm#conda_understand_environments)\n",
    "- [Use Resource Manager to Configure Your Tenancy for Data Science](https://docs.cloud.oracle.com/en-us/iaas/data-science/using/orm-configure-tenancy.htm)\n",
    "- [`runtime.yaml`](https://docs.content.oci.oracleiaas.com/en-us/iaas/data-science/using/model_runtime_yaml.htm#model_runtime_yaml)\n",
    "- [`score.py`](https://docs.content.oci.oracleiaas.com/en-us/iaas/data-science/using/model_score_py.htm#model_score_py)\n",
    "- [Model artifact](https://docs.content.oci.oracleiaas.com/en-us/iaas/data-science/using/models_saving_catalog.htm#create-models)\n",
    "- [ONNX API Summary](http://onnx.ai/sklearn-onnx/api_summary.html)"
   ]
  }
 ],
 "metadata": {
  "kernelspec": {
   "display_name": "Python 3",
   "language": "python",
   "name": "python3"
  },
  "language_info": {
   "codemirror_mode": {
    "name": "ipython",
    "version": 3
   },
   "file_extension": ".py",
   "mimetype": "text/x-python",
   "name": "python",
   "nbconvert_exporter": "python",
   "pygments_lexer": "ipython3",
   "version": "3.11.1"
  },
  "vscode": {
   "interpreter": {
    "hash": "1a1af0ee75eeea9e2e1ee996c87e7a2b11a0bebd85af04bb136d915cefc0abce"
   }
  }
 },
 "nbformat": 4,
 "nbformat_minor": 5
}
