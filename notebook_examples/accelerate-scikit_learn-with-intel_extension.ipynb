{
 "cells": [
  {
   "cell_type": "raw",
   "id": "e908acfa",
   "metadata": {},
   "source": [
    "@notebook{accelerate-scikit_learn-with-intel_extension.ipynb,\n",
    "    title: Intel Extension for Scikit-Learn,\n",
    "    summary: Enhance performance of scikit-learn models using the Intel(R) oneAPI Data Analytics Library. Train a k-means model using both sklearn and the accelerated Intel library and compare performance.,\n",
    "    developed_on: sklearnex202130_p37_cpu_v1,\n",
    "    keywords: intel, intel extension, scikit-learn, scikit learn,\n",
    "    license: Universal Permissive License v 1.0\n",
    "}"
   ]
  },
  {
   "cell_type": "code",
   "execution_count": null,
   "id": "b6627d58",
   "metadata": {},
   "outputs": [],
   "source": [
    "# Upgrade Oracle ADS to pick up latest features and maintain compatibility with Oracle Cloud Infrastructure.\n",
    "\n",
    "!pip install -U oracle-ads"
   ]
  },
  {
   "cell_type": "markdown",
   "id": "99f54546",
   "metadata": {},
   "source": [
    "Oracle Data Science service sample notebook.\n",
    "\n",
    "Copyright (c) 2021, 2022 Oracle, Inc. All rights reserved. Licensed under the [Universal Permissive License v 1.0](https://oss.oracle.com/licenses/upl).\n",
    "\n",
    "---\n",
    "\n",
    "# <font color=\"red\">Intel Extension for Scikit-Learn</font>\n",
    "<p style=\"margin-left:10%; margin-right:10%;\">by the <font color=\"teal\">Oracle Cloud Infrastructure Data Science Service.</font></p>\n",
    "\n",
    "---\n",
    "\n",
    "# Overview:\n",
    "\n",
    "This notebook demonstrates an easy way to enhance performance of scikit-learn models using Intel provided Python accelerators. Acceleration is achieved by using the Intel(R) oneAPI Data Analytics Library (oneDAL) that allows fast use of the framework suited for Data Scientists or Machine Learning users. The Intel Extension for Scikit-learn was created to give data scientists the easiest way to get better performance while using the familiar `scikit-learn` package.\n",
    "\n",
    "Compatible conda pack: [Intel Extension for Scikit-learn 2021.3.0](https://docs.oracle.com/iaas/data-science/using/conda-sklearn-fam.htm) for CPU on Python 3.7 (version 1.0)\n",
    "\n",
    "## Contents:\n",
    "\n",
    "- <a href='#intro'>Check for an Intel-based Shape</a>\n",
    "- <a href='#prepare'>Prepare the Data</a>\n",
    "- <a href='#default'>Train a K-Means Model Using `sklearn`</a>\n",
    "- <a href='#scikit-learn-intelex'>Train K-Means Model Using the `scikit-learn-intelex` Accelerator</a>\n",
    "- <a href='#unpatch'>Unpatch `scikit-learn-intelex` from `sklearn`</a>\n",
    "- <a href=\"#reference\">References</a>\n",
    "\n",
    "---\n",
    "\n",
    "\n",
    "Datasets are provided as a convenience.  Datasets are considered third-party content and are not considered materials \n",
    "under your agreement with Oracle.\n",
    "\n",
    "---\n"
   ]
  },
  {
   "cell_type": "markdown",
   "id": "9f7e8f01",
   "metadata": {},
   "source": [
    "<a id='intro'></a>\n",
    "### Check for an Intel-based Shape\n",
    "\n",
    "Ensure that this notebook is running on an instance with Intel. The next cell validates whether this notebook is running on a valid instance."
   ]
  },
  {
   "cell_type": "code",
   "execution_count": null,
   "id": "1786ed95",
   "metadata": {},
   "outputs": [],
   "source": [
    "import cpuinfo\n",
    "\n",
    "shape_name = cpuinfo.get_cpu_info()[\"brand_raw\"]\n",
    "\n",
    "assert \"Intel\" in shape_name, \"Switch to a VM shape with Intel\""
   ]
  },
  {
   "cell_type": "markdown",
   "id": "bcd34556",
   "metadata": {},
   "source": [
    "Load the necessary modules:"
   ]
  },
  {
   "cell_type": "code",
   "execution_count": null,
   "id": "feed20ec",
   "metadata": {},
   "outputs": [],
   "source": [
    "from sklearnex import patch_sklearn, unpatch_sklearn\n",
    "import importlib\n",
    "import logging\n",
    "import numpy as np\n",
    "import sklearn\n",
    "import time\n",
    "import warnings\n",
    "\n",
    "from sklearn.datasets import make_blobs\n",
    "from sklearn.cluster import KMeans\n",
    "\n",
    "warnings.filterwarnings(\"ignore\")\n",
    "logging.basicConfig(format=\"%(levelname)s:%(message)s\", level=logging.ERROR)"
   ]
  },
  {
   "cell_type": "markdown",
   "id": "3aa1ffea",
   "metadata": {},
   "source": [
    "<a id='prepare'></a>\n",
    "### Prepare the Data\n",
    "\n",
    "The data is prepared using sci-kit learn's `.make_blobs()` method. It generates isotropic Gaussian blobs for clustering."
   ]
  },
  {
   "cell_type": "code",
   "execution_count": null,
   "id": "cd23b07e",
   "metadata": {},
   "outputs": [],
   "source": [
    "rows, cols = 1000, 150\n",
    "X, y = make_blobs(n_samples=rows, n_features=cols, centers=8, random_state=42)"
   ]
  },
  {
   "cell_type": "markdown",
   "id": "485ab54a",
   "metadata": {},
   "source": [
    "<a id='default'></a>\n",
    "### Train a K-Means Model Using `sklearn`\n",
    "\n",
    "Use `sklearn` to train a K-Means model on a dataset:"
   ]
  },
  {
   "cell_type": "code",
   "execution_count": null,
   "id": "a9cb5990",
   "metadata": {},
   "outputs": [],
   "source": [
    "estimator = KMeans(n_clusters=8)\n",
    "print(\"Module being used: \" + estimator.__module__)\n",
    "\n",
    "t0 = time.perf_counter()\n",
    "trained = estimator.fit(X)\n",
    "fit_elapsed = str(time.perf_counter() - t0)\n",
    "\n",
    "print(\"Training took seconds \" + fit_elapsed + \" seconds\")"
   ]
  },
  {
   "cell_type": "code",
   "execution_count": null,
   "id": "5434b4cd",
   "metadata": {},
   "outputs": [],
   "source": [
    "t0 = time.perf_counter()\n",
    "preds = trained.predict([[1] * 150])\n",
    "predict_elapsed = str(time.perf_counter() - t0)\n",
    "\n",
    "print(\"Prediction took \" + predict_elapsed + \" seconds\")"
   ]
  },
  {
   "cell_type": "markdown",
   "id": "99ca182c",
   "metadata": {},
   "source": [
    "<a id='scikit-learn-intelex'></a>\n",
    "### Train K-Means Model Using the `scikit-learn-intelex` Accelerator\n",
    "\n",
    "To use oneDAL as the underlying solver, you use `scikit-learn-intelex` to dynamically patch the `sklearn` estimators. You get the same solution as before, but faster. The `sklearn` modules must be imported again after the patching is complete."
   ]
  },
  {
   "cell_type": "code",
   "execution_count": null,
   "id": "98b292b0",
   "metadata": {},
   "outputs": [],
   "source": [
    "patch_sklearn()\n",
    "estimator = KMeans(n_clusters=8)\n",
    "\n",
    "# After patching, this should indicate scikit-learn-intelex is being used\n",
    "print(\"Module being used: \" + estimator.__module__)"
   ]
  },
  {
   "cell_type": "code",
   "execution_count": null,
   "id": "3de9eef9",
   "metadata": {},
   "outputs": [],
   "source": [
    "t0 = time.perf_counter()\n",
    "trained = estimator.fit(X)\n",
    "fit_elapsed = str(time.perf_counter() - t0)\n",
    "\n",
    "print(\"Training took seconds \" + fit_elapsed + \" seconds\")"
   ]
  },
  {
   "cell_type": "code",
   "execution_count": null,
   "id": "0ca5e61b",
   "metadata": {},
   "outputs": [],
   "source": [
    "t0 = time.perf_counter()\n",
    "preds = trained.predict([[1] * 150])\n",
    "predict_elapsed = str(time.perf_counter() - t0)\n",
    "\n",
    "print(\"Prediction took \" + predict_elapsed + \" seconds\")"
   ]
  },
  {
   "cell_type": "markdown",
   "id": "f8b27664",
   "metadata": {},
   "source": [
    "Comparing the performance when using `sklearn` versus `scikit-learn-intelex`, it is evident that `scikit-learn-intelex` significantly improves performance."
   ]
  },
  {
   "cell_type": "markdown",
   "id": "2029b950",
   "metadata": {},
   "source": [
    "<a id='unpatch'></a>\n",
    "### Unpatch `scikit-learn-intelex` from `sklearn`\n",
    "\n",
    "To use `sklearn` again, you simply unpatch `scikit-learn-intelex`, reload `sklearn`, and import the relevant `sklearn` modules again: "
   ]
  },
  {
   "cell_type": "code",
   "execution_count": null,
   "id": "2b2c8e9d",
   "metadata": {},
   "outputs": [],
   "source": [
    "unpatch_sklearn()\n",
    "sklearn = importlib.reload(sklearn)\n",
    "# remember to re-import all the relevant modules"
   ]
  },
  {
   "cell_type": "markdown",
   "id": "c450d129",
   "metadata": {},
   "source": [
    "<a id=\"reference\"></a>\n",
    "# References\n",
    "\n",
    "- [ADS Library Documentation](https://accelerated-data-science.readthedocs.io/en/latest/index.html)\n",
    "- [Data Science YouTube Videos](https://www.youtube.com/playlist?list=PLKCk3OyNwIzv6CWMhvqSB_8MLJIZdO80L)\n",
    "- [OCI Data Science Documentation](https://docs.cloud.oracle.com/en-us/iaas/data-science/using/data-science.htm)\n",
    "- [Oracle Data & AI Blog](https://blogs.oracle.com/datascience/)"
   ]
  }
 ],
 "metadata": {
  "kernelspec": {
   "display_name": "Python 3.9.6 64-bit",
   "language": "python",
   "name": "python3"
  },
  "language_info": {
   "codemirror_mode": {
    "name": "ipython",
    "version": 3
   },
   "file_extension": ".py",
   "mimetype": "text/x-python",
   "name": "python",
   "nbconvert_exporter": "python",
   "pygments_lexer": "ipython3",
   "version": "3.10.8"
  },
  "pycharm": {
   "stem_cell": {
    "cell_type": "raw",
    "metadata": {
     "collapsed": false
    },
    "source": []
   }
  },
  "vscode": {
   "interpreter": {
    "hash": "aee8b7b246df8f9039afb4144a1f6fd8d2ca17a180786b69acc140d282b71a49"
   }
  }
 },
 "nbformat": 4,
 "nbformat_minor": 5
}
