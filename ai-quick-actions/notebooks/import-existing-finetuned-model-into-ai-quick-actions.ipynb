{
 "cells": [
  {
   "cell_type": "markdown",
   "id": "ac14cbc1-58f0-4317-b570-a7ae8bb8bbe4",
   "metadata": {},
   "source": [
    "# Import Externally Fine-Tuned Models into AI Quick Actions environment\n",
    "\n",
    "This is a guide to import externally fine-tuned model into AI Quick Actions environment. If you already have a model that was fine-tuned in a different environment, this guide will cover the steps required to import it into AI Quick Actions.\n",
    "\n",
    "- Set up required variables for creating resources\n",
    "- Identify the existing base model OCID\n",
    "- Get the base model metadata to pass on to the fine-tuned model\n",
    "- Create a new Model Version Set if not already present\n",
    "- Build fine-tuned model custom metadata\n",
    "- Add optional custom metadata for showing training and validation metrics in AI Quick Actions UI.\n",
    "- Create a new model catalog entry for fine-tuned model\n",
    "\n",
    "Once this model is created, you can go to the AI Quick Actions UI where you'll find this model in the `Fine-Tuned models` tab on the `Model Explorer` page. From there, you can continue to deploy the model on OCI Data Science environment."
   ]
  },
  {
   "cell_type": "markdown",
   "id": "5e76e97c-d0e3-4658-a030-3b155876dbf1",
   "metadata": {},
   "source": [
    "### Setup"
   ]
  },
  {
   "cell_type": "code",
   "execution_count": null,
   "id": "cf1d0d1d-3ab8-4ce7-9f7d-6736d25059af",
   "metadata": {
    "tags": []
   },
   "outputs": [],
   "source": [
    "import ads\n",
    "ads.set_auth(\"resource_principal\")"
   ]
  },
  {
   "cell_type": "code",
   "execution_count": null,
   "id": "3fd2e4dc-c3f1-4fc3-a893-3db868a23ee9",
   "metadata": {
    "tags": []
   },
   "outputs": [],
   "source": [
    "import os\n",
    "os.environ[\"ADS_AQUA_LOG_LEVEL\"] = \"ERROR\"\n",
    "\n",
    "from ads.config import PROJECT_OCID, COMPARTMENT_OCID\n",
    "\n",
    "# Replace project_id and compartment_id if needed, by default this picks up the compartment and project id of the current notebook session.\n",
    "project_id = PROJECT_OCID\n",
    "compartment_id = COMPARTMENT_OCID"
   ]
  },
  {
   "cell_type": "markdown",
   "id": "7eede518-a77e-46a5-a894-14347f0fa1ea",
   "metadata": {},
   "source": [
    "### Find base model"
   ]
  },
  {
   "cell_type": "code",
   "execution_count": null,
   "id": "b298ad1d-e3cc-40e4-bfdb-44e8dd21a6cc",
   "metadata": {
    "tags": []
   },
   "outputs": [],
   "source": [
    "# Search keyword to look up base models in AI Quick Actions, used to find and filter the model we're trying to include along with the fine-tuned model.\n",
    "MODEL_SEARCH_KEYWORD = \"mistral\" # <-- Change this for your use case"
   ]
  },
  {
   "cell_type": "code",
   "execution_count": null,
   "id": "0dc52089-728c-4acc-9b83-138f50f439a9",
   "metadata": {
    "tags": []
   },
   "outputs": [],
   "source": [
    "from ads.aqua.model import AquaModelApp"
   ]
  },
  {
   "cell_type": "code",
   "execution_count": null,
   "id": "17c3d0ca-0f0c-4d01-8889-ab167dd92f02",
   "metadata": {
    "tags": []
   },
   "outputs": [],
   "source": [
    "model_list = []\n",
    "service_model_list = AquaModelApp().list()\n",
    "registered_model_list = AquaModelApp().list(compartment_id=compartment_id, model_type=\"BASE\")\n",
    "\n",
    "model_list.extend(service_model_list)\n",
    "model_list.extend(registered_model_list)\n",
    "\n",
    "for model in model_list:\n",
    "    if MODEL_SEARCH_KEYWORD.lower() in model.name.lower():\n",
    "        print(f\"Model: {model.name}, OCID: {model.id}, Registration Required: {'Yes' if model.ready_to_import else 'No'}\")"
   ]
  },
  {
   "cell_type": "markdown",
   "id": "03a46cbe-d9cc-4409-bde1-622dc850128b",
   "metadata": {},
   "source": [
    "In the above results, if **Registration Required** is \"Yes\", then go to AI Quick Actions UI to register the model and import the base model artifacts to object storage. If **Registration Required** is \"No\", you can proceed to the next step as artifacts are already included with the model.\n",
    "\n",
    "Once you identify the model to use, copy the model OCID and set it in the next block as `source_model_ocid`."
   ]
  },
  {
   "cell_type": "markdown",
   "id": "ed3d6f65-264c-4f0b-8381-d00b42002ccf",
   "metadata": {},
   "source": [
    "### Load source model"
   ]
  },
  {
   "cell_type": "code",
   "execution_count": null,
   "id": "ba212173-6bee-4c57-9e3e-b59e43c2b7eb",
   "metadata": {
    "tags": []
   },
   "outputs": [],
   "source": [
    "from ads.model import DataScienceModel\n",
    "from ads.aqua.common.utils import get_artifact_path\n",
    "\n",
    "source_model_ocid = \"ocid1.datasciencemodel.oc1.<region>.<ocid>\" # <-- Change this OCID based on model to use as base model\n",
    "ds_model = DataScienceModel.from_id(source_model_ocid)"
   ]
  },
  {
   "cell_type": "code",
   "execution_count": null,
   "id": "8c177c08-3ff4-4912-a45d-2420297cfc64",
   "metadata": {
    "tags": []
   },
   "outputs": [],
   "source": [
    "source_artifact_location = get_artifact_path(ds_model.custom_metadata_list._to_oci_metadata())\n",
    "deployment_container = ds_model.custom_metadata_list.get(\"deployment-container\").value\n",
    "evaluation_container = ds_model.custom_metadata_list.get(\"evaluation-container\").value\n",
    "source_name = ds_model.display_name"
   ]
  },
  {
   "cell_type": "code",
   "execution_count": null,
   "id": "61f300e3-f2eb-4e3e-86f3-42f57c27553d",
   "metadata": {
    "tags": []
   },
   "outputs": [],
   "source": [
    "fine_tune_output_path = \"oci://<bucket_name>@<namespace>/<prefix>\" # <-- Change this to the path where your pretrained fine-tuned artifact is located"
   ]
  },
  {
   "cell_type": "markdown",
   "id": "6524ef58-9b43-46e7-b737-3e72f03b822c",
   "metadata": {
    "tags": []
   },
   "source": [
    "### Create Model Version Set"
   ]
  },
  {
   "cell_type": "code",
   "execution_count": null,
   "id": "fa22cd22-8d07-48b4-91ef-4aa5de340df9",
   "metadata": {
    "tags": []
   },
   "outputs": [],
   "source": [
    "from ads.model import ModelVersionSet\n",
    "from ads.model.service.oci_datascience_model_version_set import ModelVersionSetNotExists\n",
    "from oci.exceptions import ServiceError\n",
    "from ads.model import ModelVersionSet\n",
    "\n",
    "mvs_name = source_name # <-- Change this to the model version set name. By default, source model name is used.\n",
    "\n",
    "try:\n",
    "    mvs = ModelVersionSet.from_name(name=mvs_name, compartment_id=compartment_id)\n",
    "    mvs_id = mvs.id\n",
    "    print(f\"Using existing MVS {mvs_name}...\")\n",
    "except ModelVersionSetNotExists:\n",
    "    model_version_set = (\n",
    "                    ModelVersionSet()\n",
    "                    .with_compartment_id(compartment_id)\n",
    "                    .with_project_id(project_id)\n",
    "                    .with_freeform_tags(**{\"aqua_finetuning\": \"aqua_finetuning\"})\n",
    "                    .with_name(mvs_name)\n",
    "                    .create()\n",
    "                )\n",
    "    mvs_id = model_version_set.id\n",
    "except Exception as e:\n",
    "    print(f\"Failed to created ModelVersionSet. Exception: {e}\")\n",
    "    \n",
    "print(f\"MVS ID:{mvs_id}\")"
   ]
  },
  {
   "cell_type": "markdown",
   "id": "b7dafcf7-2a5d-448b-bda3-7b587359dea5",
   "metadata": {},
   "source": [
    "### Build Fine-Tuned Model Custom Metadata"
   ]
  },
  {
   "cell_type": "code",
   "execution_count": null,
   "id": "9e808290-a9ff-4a9c-9c2c-9f1aaad840b9",
   "metadata": {
    "tags": []
   },
   "outputs": [],
   "source": [
    "from ads.model import DataScienceModel\n",
    "from ads.model.model_metadata import ModelCustomMetadata, MetadataCustomCategory\n",
    "from ads.aqua.model.enums import FineTuningCustomMetadata\n",
    "from ads.aqua.model.constants import ModelCustomMetadataFields\n",
    "\n",
    "model_custom_metadata = ModelCustomMetadata()\n",
    "model_custom_metadata.add(\n",
    "    key=ModelCustomMetadataFields.DEPLOYMENT_CONTAINER,\n",
    "    value=deployment_container,\n",
    "    description=\"Inference container mapping for SMC\",\n",
    "    category=MetadataCustomCategory.OTHER,\n",
    ")\n",
    "model_custom_metadata.add(\n",
    "    key=ModelCustomMetadataFields.EVALUATION_CONTAINER,\n",
    "    value=evaluation_container,\n",
    "    description=\"Evaluation container mapping for SMC\",\n",
    "    category=MetadataCustomCategory.OTHER,\n",
    ")\n",
    "model_custom_metadata.add(\n",
    "    key=ModelCustomMetadataFields.ARTIFACT_LOCATION,\n",
    "    value=source_artifact_location,\n",
    "    description=\"artifact location\",\n",
    "    category=MetadataCustomCategory.OTHER,\n",
    ")\n",
    "model_custom_metadata.add(\n",
    "    key=FineTuningCustomMetadata.FT_SOURCE_NAME,\n",
    "    value=source_name,\n",
    "    description=\"Source model name\",\n",
    "    category=MetadataCustomCategory.OTHER,\n",
    ")\n",
    "model_custom_metadata.add(\n",
    "    key=FineTuningCustomMetadata.FT_SOURCE,\n",
    "    value=source_model_ocid,\n",
    "    description=\"Source model OCID\",\n",
    "    category=MetadataCustomCategory.OTHER,\n",
    ")\n",
    "model_custom_metadata.add(\n",
    "    key=FineTuningCustomMetadata.FT_OUTPUT_PATH,\n",
    "    value=fine_tune_output_path,\n",
    "    description=\"Path of fine Tuned model artifacts\",\n",
    "    category=MetadataCustomCategory.OTHER,\n",
    ")"
   ]
  },
  {
   "cell_type": "markdown",
   "id": "31cbcff1-015d-41a6-a9f0-6de0f3035b08",
   "metadata": {},
   "source": [
    "### Add metrics for AI Quick Actions UI\n",
    "\n",
    "The below block is optional, but if you have metrics available for your training and validation, then adding this will enable metrics report to be shown on AI Quick Actions UI. If not available, set `epochs` as 0 and the lists `train_loss`, `validation_loss`, `train_accuracy`, `validation_accuracy` to `[]`."
   ]
  },
  {
   "cell_type": "code",
   "execution_count": null,
   "id": "6e6cf022-4853-4c89-ba2d-143509cac4f9",
   "metadata": {
    "tags": []
   },
   "outputs": [],
   "source": [
    "epochs = 5 # <-- Optional, change this to the total epochs of your fine-tuning experiment.\n",
    "\n",
    "train_loss = [0.9, 0.75, 0.6, 0.5, 0.4]  # <-- Optional, change this to training loss for each epoch.\n",
    "validation_loss = [1.0, 0.85, 0.7, 0.6, 0.5] # <-- Optional, change this to validation loss for each epoch.\n",
    "\n",
    "train_accuracy = [0.65, 0.70, 0.75, 0.8, 0.85] # <-- Optional, change this to training accuracy for each epoch.\n",
    "validation_accuracy = [0.60, 0.65, 0.7, 0.75, 0.8] # <-- Optional, change this to validation accuracy for each epoch.\n",
    "\n",
    "\n",
    "if not len(train_loss) == len(validation_loss) == len(train_accuracy) == len(validation_accuracy) == epochs:\n",
    "    print(f\"Loss and accuracy list lengths don't match with the epochs. Check the lists again.\")\n",
    "elif epochs > 1:\n",
    "    print(\"Adding metrics to custom metadata...\")\n",
    "    for index, (t_loss, v_loss, t_acc, v_acc) in enumerate(zip(train_loss, validation_loss, train_accuracy, validation_accuracy)):\n",
    "        \n",
    "        model_custom_metadata.add(\n",
    "            key=FineTuningCustomMetadata.TRAINING_METRICS_EPOCH.replace(\"epoch\", f\"{index+1:.2f}\"),\n",
    "            value=f'{{\"loss\": {t_loss:.4f}, \"accuracy\": {t_acc:.4f}, \"epoch\": {index+1:.1f}}}',\n",
    "            description=\"train_metrics_epoch\",\n",
    "            category=MetadataCustomCategory.OTHER,\n",
    "        )\n",
    "        model_custom_metadata.add(\n",
    "            key=FineTuningCustomMetadata.VALIDATION_METRICS_EPOCH.replace(\"epoch\", f\"{index+1:.2f}\"),\n",
    "            value=f'{{\"loss\": {v_loss:.4f}, \"accuracy\": {v_acc:.4f}, \"epoch\": {index+1:.1f}}}',\n",
    "            description=\"val_metrics_epoch\",\n",
    "            category=MetadataCustomCategory.OTHER,\n",
    "        )\n",
    "        if index == len(train_loss)-1:\n",
    "            model_custom_metadata.add(\n",
    "                key=FineTuningCustomMetadata.TRAINING_METRICS_FINAL,\n",
    "                value=f'{{\"loss\": {t_loss:.4f}, \"accuracy\": {t_acc:.4f}}}',\n",
    "                description=\"train_metrics_final\",\n",
    "                category=MetadataCustomCategory.OTHER,\n",
    "            )\n",
    "            model_custom_metadata.add(\n",
    "                key=FineTuningCustomMetadata.VALIDATION_METRICS_FINAL,\n",
    "                value=f'{{\"loss\": {v_loss:.4f}, \"accuracy\": {v_acc:.4f}}}',\n",
    "                description=\"val_metrics_final\",\n",
    "                category=MetadataCustomCategory.OTHER,\n",
    "            )"
   ]
  },
  {
   "cell_type": "markdown",
   "id": "8f6001c4-e8d3-41e3-9513-ed370aede54c",
   "metadata": {},
   "source": [
    "### Create New FineTuned Model"
   ]
  },
  {
   "cell_type": "code",
   "execution_count": null,
   "id": "07bb001b-3fad-45e4-bb95-83f101f8a20b",
   "metadata": {
    "tags": []
   },
   "outputs": [],
   "source": [
    "FT_MODEL_NAME = f\"{source_name} FT Model EXT\" # <-- Change this to the name you want to assign to the Fine-Tuned model entry in AI Quick Actions\n",
    "FT_MODEL_DESC = f\"{source_name} model Created with External Artifacts\" # <-- Change this to the description of the model\n",
    "MODEL_ORGANIZATION = \"\" # <-- Optional, change this to the organization name where the model originated.\n",
    "MODEL_TASK = \"text_generation\" # <-- For text generation, keep it as is. Other possible values are code_synthesis, image_text_to_text, feature_extraction."
   ]
  },
  {
   "cell_type": "code",
   "execution_count": null,
   "id": "19ce2fbc-652f-4cb1-a90f-48f47f99c7a3",
   "metadata": {
    "tags": []
   },
   "outputs": [],
   "source": [
    "model = (DataScienceModel()\n",
    "        .with_compartment_id(compartment_id)\n",
    "        .with_artifact(source_artifact_location, fine_tune_output_path)\n",
    "        .with_project_id(project_id)\n",
    "        .with_display_name(FT_MODEL_NAME)\n",
    "        .with_description(FT_MODEL_DESC)\n",
    "        .with_model_version_set_id(mvs_id)\n",
    "        .with_freeform_tags(**{\n",
    "            \"OCI_AQUA\": \"active\",\n",
    "            \"aqua_fine_tuned_model\": f\"{source_model_ocid}#{source_name}\",\n",
    "            \"organization\": MODEL_ORGANIZATION,\n",
    "            \"task\": MODEL_TASK,\n",
    "            \"ready_to_fine_tune\": \"false\",\n",
    "        })\n",
    "        .with_custom_metadata_list(model_custom_metadata)\n",
    "        )"
   ]
  },
  {
   "cell_type": "code",
   "execution_count": null,
   "id": "bf807e24-d2c4-4291-9ed8-0bef64909d6f",
   "metadata": {
    "tags": []
   },
   "outputs": [],
   "source": [
    "model.create(model_by_reference=True)"
   ]
  },
  {
   "cell_type": "markdown",
   "id": "d5f5da8c-d6ff-46a4-9993-45a5a7a8c312",
   "metadata": {},
   "source": [
    "Once model is created, you can visit the AI Quick Actions UI to continue with model deployment."
   ]
  }
 ],
 "metadata": {
  "kernelspec": {
   "display_name": "Python 3 (ipykernel)",
   "language": "python",
   "name": "python3"
  },
  "language_info": {
   "codemirror_mode": {
    "name": "ipython",
    "version": 3
   },
   "file_extension": ".py",
   "mimetype": "text/x-python",
   "name": "python",
   "nbconvert_exporter": "python",
   "pygments_lexer": "ipython3",
   "version": "3.11.9"
  }
 },
 "nbformat": 4,
 "nbformat_minor": 5
}
