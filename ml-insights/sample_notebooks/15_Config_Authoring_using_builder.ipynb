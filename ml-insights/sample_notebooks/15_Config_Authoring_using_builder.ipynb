{
 "cells": [
  {
   "cell_type": "markdown",
   "id": "bb530e57",
   "metadata": {},
   "source": [
    "# Improved Insights Configuration Authoring Experience"
   ]
  },
  {
   "cell_type": "markdown",
   "id": "44c63619",
   "metadata": {
    "tags": []
   },
   "source": [
    "This Notebook shows the features to ease the developer experience of authoring Insights JSON Configuration. This shows how to author Insights configuration programmatically using InsightsBuilder and InsightsConfigWriter APIs.\n",
    "\n",
    "The InsightsBuilder class is used to define and customise all of its core features like data schema, data ingestion, data transformation, metric calculation and post processing of metric output .\n",
    "\n",
    "The InsightsConfigWriter class from ML Insights Library will be used to build a config JSON file from InsightsBuilder class instance.\n",
    "\n",
    "In this Notebook we have the following examples -\n",
    "\n",
    "\n",
    "- Generate Insights Configuration JSON from InsightsBuilder class\n",
    "- Approximate input_schema detection from sample dataset and then generate Insights Configuration JSON"
   ]
  },
  {
   "cell_type": "markdown",
   "id": "d807a7da",
   "metadata": {},
   "source": [
    "# Install ML Observability Insights Library SDK\n",
    "\n",
    "- Prerequisites\n",
    "    - Linux/Mac (Intel CPU)\n",
    "    - Python 3.8 and 3.9 only\n",
    "\n",
    "\n",
    "- Installation\n",
    "    - ML Insights is made available as a Python package (via Artifactory) which can be installed using pip install as shown below. Depending on the execution engine on which to do the run, one can use scoped package. For eg: if we want to run on dask, use oracle-ml-insights[dask], for spark use oracle-ml-insights[spark], for native use oracle-ml-insights. One can install all the dependencies as use oracle-ml-insights[all]\n",
    "\n",
    "      !pip install oracle-ml-insights\n",
    "\n",
    "Refer : [Installation and Setup](https://docs.oracle.com/en-us/iaas/tools/ml-insights-docs/latest/ml-insights-documentation/html/user_guide/tutorials/install.html)"
   ]
  },
  {
   "cell_type": "code",
   "execution_count": null,
   "id": "b2d719f8",
   "metadata": {},
   "outputs": [],
   "source": [
    "!python3 -m pip install oracle-ml-insights"
   ]
  },
  {
   "cell_type": "markdown",
   "id": "e02be26b",
   "metadata": {},
   "source": [
    "# 1 ML Insights Imports "
   ]
  },
  {
   "cell_type": "code",
   "execution_count": 1,
   "id": "e59af580",
   "metadata": {
    "tags": []
   },
   "outputs": [],
   "source": [
    "# imports\n",
    "\n",
    "import json\n",
    "\n",
    "# Import Data Quality metrics \n",
    "from mlm_insights.core.metrics.mean import Mean\n",
    "from mlm_insights.core.metrics.standard_deviation import StandardDeviation\n",
    "\n",
    "# Import Data Integrity metrics\n",
    "from mlm_insights.core.metrics.rows_count import RowCount\n",
    "\n",
    "from mlm_insights.builder.builder_component import MetricDetail\n",
    "from mlm_insights.constants.types import FeatureType, DataType, VariableType\n",
    "from mlm_insights.core.metrics.metric_metadata import MetricMetadata\n",
    "from mlm_insights.core.post_processors.local_writer_post_processor import LocalWriterPostProcessor\n",
    "\n",
    "# import data reader\n",
    "from mlm_insights.core.data_sources import LocalDatePrefixDataSource\n",
    "from mlm_insights.mlm_native.readers import CSVNativeDataReader\n",
    "\n",
    "# import InsightsBuilder\n",
    "from mlm_insights.builder.insights_builder import InsightsBuilder\n",
    "\n",
    "# import InsightsConfigWriter\n",
    "from mlm_insights.config_writer.insights_config_writer import InsightsConfigWriter"
   ]
  },
  {
   "cell_type": "markdown",
   "id": "5159be09",
   "metadata": {},
   "source": [
    "## 2 Generate Insights Configuration JSON using InsightsConfigWriter \n",
    "\n",
    "The below section shows how the InsightsBuilder class is used to define and customise all of its core features like  data schema, data ingestion, metric calculation and post processing of metric output .\n",
    "\n",
    "The Config Writer class from ML Insights Library used to build a config file from InsightsBuilder class instance using to_json() method.\n",
    "\n",
    "The user can save the config to Object storage using save_config_to_object_storage() method of Config Writer class of ML Insights Library."
   ]
  },
  {
   "cell_type": "code",
   "execution_count": null,
   "id": "a7d05c7b",
   "metadata": {
    "pycharm": {
     "is_executing": true
    }
   },
   "outputs": [],
   "source": [
    "def get_input_schema():\n",
    "    return {\n",
    "        \"Pregnancies\": FeatureType(data_type=DataType.FLOAT, variable_type=VariableType.CONTINUOUS),\n",
    "        \"BloodPressure\": FeatureType(data_type=DataType.FLOAT, variable_type=VariableType.CONTINUOUS)\n",
    "    }\n",
    "\n",
    "def get_metrics_input():\n",
    "    metrics = [\n",
    "               MetricMetadata(klass=Mean),\n",
    "               MetricMetadata(klass=StandardDeviation)\n",
    "              ]\n",
    "    uni_variate_metrics = {\n",
    "        \"BloodPressure\": metrics\n",
    "    }\n",
    "    metric_details = MetricDetail(univariate_metric=uni_variate_metrics,\n",
    "                                  dataset_metrics=[MetricMetadata(klass=RowCount)])\n",
    "    return metric_details\n",
    "\n",
    "def get_reader():\n",
    "    data = {\n",
    "        \"file_type\": \"csv\",\n",
    "        \"date_range\": {\"start\": \"2023-06-26\", \"end\": \"2023-06-27\"}\n",
    "    }\n",
    "    base_location =\"input_data/diabetes_prediction\"\n",
    "    ds = LocalDatePrefixDataSource(base_location, **data)\n",
    "    csv_reader = CSVNativeDataReader(data_source=ds)\n",
    "    return csv_reader\n",
    "\n",
    "def write_config(config_json,file_name):\n",
    "  \"\"\"\n",
    "  Writes the configuration dictionary to a JSON file.\n",
    "  \"\"\"\n",
    "  with open(file_name, \"w\") as f:\n",
    "      json.dump(config_json, f, indent=4)  # Indent for readability\n",
    "  print(\"Configuration file created \")\n",
    "\n",
    "def main():    \n",
    "    # Set up the insights builder by passing: input schema, metric, reader and engine details\n",
    "    runner = InsightsBuilder(). \\\n",
    "        with_input_schema(get_input_schema()). \\\n",
    "        with_metrics(metrics=get_metrics_input()). \\\n",
    "        with_reader(reader=get_reader()). \\\n",
    "        with_post_processors(post_processors=[LocalWriterPostProcessor(file_location=\"output_data/profiles\", file_name=\"classification_metrics_profile.bin\")])\n",
    "\n",
    "\n",
    "    # Run the evaluation\n",
    "    config_writer = InsightsConfigWriter(insights_builder=runner)\n",
    "    config_json_from_builder = config_writer.to_json()\n",
    "    return config_json_from_builder\n",
    "    \n",
    "config_json = main()\n",
    "config_json_1 = json.loads(config_json)\n",
    "print(config_json_1)   \n",
    "write_config(config_json_1,\"config_json_1\")"
   ]
  },
  {
   "cell_type": "markdown",
   "id": "512ab83d",
   "metadata": {},
   "source": [
    "## 2.1 Generate Configuration with Automatic approximate input_schema detection \n",
    "\n",
    "In above section we showed how to define the input schema of each feature one by one along with defining other components using Insights Builder . To ease the developer experience in below section we show how to use automatic approximate input_schema detection feature using the sample dataset.The auto-generated input_schema feature infers the data_type and variable_type of each feature and creates the input schema.\n",
    "\n",
    "Here we are using with_input_schema_using_dataset() method of InsightsBuilder class which take the sample dataset and column_type feature details and auto generate the approximated input_schema instead of defining each feature schema .\n",
    "\n",
    "Note : The auto generated input_schema is approximated version of input-schema, it may not be 100% correct .User needs to validate the input_schema and make the neccesary changes if required.\n"
   ]
  },
  {
   "cell_type": "code",
   "execution_count": null,
   "id": "5aea5b41",
   "metadata": {
    "pycharm": {
     "is_executing": true,
     "name": "#%%\n"
    }
   },
   "outputs": [],
   "source": [
    "def config_authoring_using_auto_generated_input_schema():  \n",
    "    data_set_location = \"input_data/diabetes_prediction/2023-06-26/2023-06-26.csv\"\n",
    "    target_features = [\"Outcome\"]\n",
    "    prediction_features = [\"Prediction\"]\n",
    "    prediction_score_features = [\"Prediction_Score\"]\n",
    "    # Set up the insights builder by passing: dataset location to generate approaximate input_schema, coulumn_type feature name , metric, reader and engine details\n",
    "    runner = InsightsBuilder(). \\\n",
    "        with_input_schema_using_dataset(data_set_location,target_features,prediction_features,prediction_score_features). \\\n",
    "        with_metrics(metrics=get_metrics_input()). \\\n",
    "        with_reader(reader=get_reader()). \\\n",
    "        with_post_processors(post_processors=[LocalWriterPostProcessor(file_location=\"output_data/profiles\", file_name=\"classification_metrics_profile.bin\")])\n",
    "\n",
    "\n",
    "    # Run the evaluation\n",
    "    config_writer = InsightsConfigWriter(insights_builder=runner)\n",
    "    config_json_from_builder = config_writer.to_json()\n",
    "    print(config_json_from_builder)\n",
    "    return config_json_from_builder\n",
    "\n",
    "config_json = config_authoring_using_auto_generated_input_schema()\n",
    "config_json_2 = json.loads(config_json)\n",
    "\n",
    "write_config(config_json_2,\"config_json_2.json\")\n"
   ]
  }
 ],
 "metadata": {
  "kernelspec": {
   "display_name": "Python 3 (ipykernel)",
   "language": "python",
   "name": "python3"
  },
  "language_info": {
   "codemirror_mode": {
    "name": "ipython",
    "version": 3
   },
   "file_extension": ".py",
   "mimetype": "text/x-python",
   "name": "python",
   "nbconvert_exporter": "python",
   "pygments_lexer": "ipython3",
   "version": "3.9.19"
  }
 },
 "nbformat": 4,
 "nbformat_minor": 5
}