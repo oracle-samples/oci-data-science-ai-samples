{
 "cells": [
  {
   "cell_type": "markdown",
   "id": "f834ef90",
   "metadata": {},
   "source": [
    "***\n",
    "\n",
    "# Increase Insight into your Graph Data on Graph Studio\n",
    "By Oracle Spatial and Graph Team\n",
    "***\n",
    "\n",
    "# Overview:\n",
    "\n",
    "This notebook shows how we can access graphs in Autonomous Database instance. We can then run algorithms on and query the graph. From the result set, we can transform the result set using common datascience tools like pandas, and pyplot.\n",
    "\n",
    "---\n",
    "\n",
    "## Step 1: Import required libraries\n",
    "This can also be done at any point in the notebook, but for simplicity, we can import all necessary libraries at the start to use them throughout the rest of the notebook."
   ]
  },
  {
   "cell_type": "code",
   "execution_count": null,
   "id": "463a701b",
   "metadata": {},
   "outputs": [],
   "source": [
    "from opg4py.adb import AdbClient\n",
    "import pandas\n",
    "import matplotlib.pyplot as plt"
   ]
  },
  {
   "cell_type": "code",
   "execution_count": null,
   "id": "6738bc97",
   "metadata": {},
   "outputs": [],
   "source": [
    "from pypgx import setloglevel\n",
    "setloglevel('ROOT', 'OFF')"
   ]
  },
  {
   "cell_type": "markdown",
   "id": "c9cf280e",
   "metadata": {},
   "source": [
    "## Step 2: Connect to ADB\n",
    "The following four paragraphs create the config for an Autonomous Database connection, creates a client connection, checks if the graph client is attached, starts the Graph Studio environment, and checks what user started the job creation job for Graph Studio."
   ]
  },
  {
   "cell_type": "code",
   "execution_count": null,
   "id": "01158b80",
   "metadata": {},
   "outputs": [],
   "source": [
    "config = {\n",
    "          'tenancy_ocid': '<tenancy_ocid>',\n",
    "          'database': '<autonomous_database_name>',\n",
    "          'database_ocid': '<autonomous_database_ocid'>,\n",
    "          'username': 'GRAPHUSER',\n",
    "          'password': '<graphuser_password>',\n",
    "          'endpoint': 'https://<hostname-prefix>.adb.<region>.oraclecloudapps.com/'\n",
    " }\n",
    "\n",
    "client = AdbClient(config)\n",
    "client.__enter__()"
   ]
  },
  {
   "cell_type": "code",
   "execution_count": null,
   "id": "f5a29c94",
   "metadata": {},
   "outputs": [],
   "source": [
    "client.is_attached()"
   ]
  },
  {
   "cell_type": "code",
   "execution_count": null,
   "id": "8c4b05b2",
   "metadata": {},
   "outputs": [],
   "source": [
    "# If the environment is already started, the line below will throw a \"IllegalStateException: environment currently attached\" error.\n",
    "# If so, skip the next two paragraphs\n",
    "\n",
    "job = client.start_environment(10)\n",
    "job.get()\n",
    "job.get_name()"
   ]
  },
  {
   "cell_type": "code",
   "execution_count": null,
   "id": "f66f41a2",
   "metadata": {},
   "outputs": [],
   "source": [
    "job.get_created_by()"
   ]
  },
  {
   "cell_type": "markdown",
   "id": "a29598f5",
   "metadata": {},
   "source": [
    "## Step 3: Create PGX Session and Load Bank Graph into Memory\n",
    "\n",
    "The next paragraph creates a pgx session. Here, we assume that you have created a BANK_GRAPH in Graph Studio. If you have not, you can launch an ADB environment with this [reference architecture](https://docs.oracle.com/en/solutions/oci-adb-graph-analytics/index.html), and find instructions to create the property graph [here](https://docs.oracle.com/en/cloud/paas/autonomous-database/csgru/create-graph-existing-relational-tables.html). \n",
    "<br />\n",
    "<br />\n",
    "The paragraph after checks if the Bank Graph is already loaded into memory, if it is not, it is loaded."
   ]
  },
  {
   "cell_type": "code",
   "execution_count": null,
   "id": "68dca5bb",
   "metadata": {},
   "outputs": [],
   "source": [
    "instance = client.get_pgx_instance()\n",
    "session = instance.create_session(\"adb-session\")"
   ]
  },
  {
   "cell_type": "code",
   "execution_count": null,
   "id": "e5e9bd3a",
   "metadata": {},
   "outputs": [],
   "source": [
    "GRAPH_NAME=\"BANK_GRAPH\";\n",
    "# try getting the graph from the in-memory graph server\n",
    "graph = session.get_graph(GRAPH_NAME);\n",
    "# if it does not exist read it into memory\n",
    "if (graph == None) :\n",
    "    session.read_graph_by_name(GRAPH_NAME, \"pg_view\")\n",
    "    print(\"Graph \"+ GRAPH_NAME + \" successfully loaded\")\n",
    "    graph = session.get_graph(GRAPH_NAME);\n",
    "else :\n",
    "    print(\"Graph '\"+ GRAPH_NAME + \"' already loaded\");"
   ]
  },
  {
   "cell_type": "markdown",
   "id": "0d225d01",
   "metadata": {},
   "source": [
    "## Step 4: Run PageRank Algorithm\n",
    "\n",
    "Pagerank measures the importance of each node within the graph, based on the number incoming relationships and the importance of the corresponding source nodes"
   ]
  },
  {
   "cell_type": "code",
   "execution_count": null,
   "id": "e44569a6",
   "metadata": {},
   "outputs": [],
   "source": [
    "graph.get_or_create_vertex_property(\"pagerank\", data_type='double', dim=0)\n",
    "analyst = session.create_analyst()\n",
    "analyst.pagerank(graph, tol=0.001, damping=0.85, max_iter=100, norm=False, rank='pagerank');"
   ]
  },
  {
   "cell_type": "markdown",
   "id": "2deeadd2",
   "metadata": {},
   "source": [
    "## Step 5: Query Graph\n",
    "\n",
    "Run the following paragraph to query the BANK_GRAPH. This will return a result set which we can then print. Later in the notebook, we will use this result set with some common Data Science conda packages."
   ]
  },
  {
   "cell_type": "code",
   "execution_count": null,
   "id": "d451a5d2",
   "metadata": {
    "jupyter": {
     "outputs_hidden": true
    }
   },
   "outputs": [],
   "source": [
    "rs = graph.execute_pgql(\"SELECT a.acct_id, a.pagerank_2 as pagerank FROM MATCH (a) ON bank_graph ORDER BY acct_id asc\")\n",
    "rs.print()"
   ]
  },
  {
   "cell_type": "markdown",
   "id": "61813a87",
   "metadata": {},
   "source": [
    "## Step 6: Convert to Pandas Dataframe \n",
    "\n",
    "In the following paragraphs, we will convert the result set to a pandas dataframe, and gather some basic statistics from that dataframe."
   ]
  },
  {
   "cell_type": "code",
   "execution_count": null,
   "id": "79251362",
   "metadata": {},
   "outputs": [],
   "source": [
    "result_df = rs.to_pandas()\n",
    "print(result_df)"
   ]
  },
  {
   "cell_type": "code",
   "execution_count": null,
   "id": "5d0dd83d",
   "metadata": {},
   "outputs": [],
   "source": [
    "# get basic statistics for the numerical columns of a Pandas DataFrame\n",
    "result_df.describe()"
   ]
  },
  {
   "cell_type": "code",
   "execution_count": null,
   "id": "e24008b6",
   "metadata": {},
   "outputs": [],
   "source": [
    "# Calculate the standard deviation of the given set of numbers, DataFrame, column, and rows\n",
    "result_df.std()"
   ]
  },
  {
   "cell_type": "markdown",
   "id": "6a8df953",
   "metadata": {},
   "source": [
    "## Step 7: Create Visualization Charts\n",
    "With our data organized as a data frame, we can easily use the matplotlib package to create charts for further analysis."
   ]
  },
  {
   "cell_type": "code",
   "execution_count": null,
   "id": "c3721bd4",
   "metadata": {},
   "outputs": [],
   "source": [
    "result_df.plot()\n",
    "plt.show()"
   ]
  },
  {
   "cell_type": "code",
   "execution_count": null,
   "id": "682cba7a",
   "metadata": {},
   "outputs": [],
   "source": [
    "rs_df = graph.execute_pgql(\"SELECT a.acct_id, a.pagerank_2 as pagerank FROM MATCH (a) ON bank_graph\").to_pandas()\n",
    "df = rs_df.sort_values(by='acct_id', ascending=False)\n",
    "accounts = df['acct_id']\n",
    "values = df['pagerank']\n",
    "plt.bar(accounts, values, color ='maroon', width = 0.4)\n",
    "plt.xlabel(\"Account ID\")\n",
    "plt.ylabel(\"Page Rank Value\")\n",
    "plt.title(\"Page Rank Value by Account ID\")\n",
    "plt.show()"
   ]
  },
  {
   "cell_type": "markdown",
   "id": "827ac110",
   "metadata": {},
   "source": [
    "## Step 8: Close PGX Session"
   ]
  },
  {
   "cell_type": "code",
   "execution_count": null,
   "id": "23847c84",
   "metadata": {},
   "outputs": [],
   "source": [
    "# Close the session after executing all graph queries\n",
    "session.close()"
   ]
  }
 ],
 "metadata": {
  "kernelspec": {
   "display_name": "Python 3 (ipykernel)",
   "language": "python",
   "name": "python3"
  },
  "language_info": {
   "codemirror_mode": {
    "name": "ipython",
    "version": 3
   },
   "file_extension": ".py",
   "mimetype": "text/x-python",
   "name": "python",
   "nbconvert_exporter": "python",
   "pygments_lexer": "ipython3",
   "version": "3.9.12"
  }
 },
 "nbformat": 4,
 "nbformat_minor": 5
}
