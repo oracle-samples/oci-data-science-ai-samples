{
 "cells": [
  {
   "cell_type": "raw",
   "id": "b30fd40b",
   "metadata": {},
   "source": [
    "@notebook{big_data_service-(BDS)-livy.ipynb,\n",
    "    title: Using Livy on the Big Data Service,\n",
    "    summary: Work interactively with a BDS cluster using Livy and two different connection techniques, SparkMagic (for a notebook environment) and with REST.,\n",
    "    developed_on: pyspark30_p37_cpu_v5,\n",
    "    keywords: bds, big data service, livy,\n",
    "    license: Universal Permissive License v 1.0\n",
    "}"
   ]
  },
  {
   "cell_type": "code",
   "execution_count": null,
   "id": "b6627d58",
   "metadata": {},
   "outputs": [],
   "source": [
    "# Upgrade Oracle ADS to pick up latest features and maintain compatibility with Oracle Cloud Infrastructure.\n",
    "\n",
    "!pip install -U oracle-ads"
   ]
  },
  {
   "cell_type": "markdown",
   "id": "71f3462b",
   "metadata": {},
   "source": [
    "Oracle Data Science service sample notebook.\n",
    "\n",
    "Copyright 2022 Oracle, Inc. All rights reserved. Licensed under the [Universal Permissive License v 1.0](https://oss.oracle.com/licenses/upl).\n",
    "\n",
    "---\n",
    "\n",
    "# <font color=\"red\">Using Livy on the Big Data Service</font>\n",
    "<p style=\"margin-left:10%; margin-right:10%;\">by the <font color=\"teal\">Oracle Cloud Infrastructure Data Science Service.</font></p>\n",
    "\n",
    "---\n",
    "\n",
    "# Overview:\n",
    "\n",
    "[Oracle Big Data Service](https://docs.oracle.com/en-us/iaas/Content/bigdata/home.htm) (BDS) is a fully managed Oracle Cloud Infrastructure (OCI) that provides long-lived [Apache Hadoop](https://hadoop.apache.org/) and [Apache Spark](https://spark.apache.org/) clusters. You can easily create secure and scalable Spark-based data lakes to process data at scale. This notebook demonstrates how to use [Apache Livy] to interactively work with a BDS Spark cluster. Two techniques are demonstrated, [SparkMagic](https://github.com/jupyter-incubator/sparkmagic) and a [REST](https://en.wikipedia.org/wiki/Representational_state_transfer) interface.\n",
    "\n",
    "Compatible conda pack: [PySpark 3.0 and Data Flow](https://docs.oracle.com/en-us/iaas/data-science/using/conda-pyspark-fam.htm) for CPU on Python 3.7 (version 5.0)\n",
    "\n",
    "---\n",
    "\n",
    "# Contents:\n",
    "\n",
    "- <a href='#intro'>Introduction</a>\n",
    "    - <a href='#intro_setup'>Set Up</a>\n",
    "- <a href='#connect'>Connection</a>   \n",
    "- <a href='#sparkmagic'>Spark Magic</a>   \n",
    "    - <a href='#sparkmagic_parameters'>Spark Magic Parameters</a>\n",
    "    - <a href='#sparkmagic_examples'>Examples</a>\n",
    "    - <a href='#sparkmagic_examples_pyspark'>PySpark</a>\n",
    "    - <a href='#sparkmagic_examples_sparksql'>Spark SQL</a>\n",
    "    - <a href='#sparkmagic_examples_autoviz'>Autovisualization Widget</a>\n",
    "    - <a href='#sparkmagic_examples_matplotlib'>Matplotlib</a>\n",
    "- <a href='#rest'>REST</a>\n",
    "    - <a href='#upload'>Upload a File</a>\n",
    "    - <a href='#createandrun'>Create a New Batch Environment and Run a Specified Application</a>\n",
    "    - <a href='#log'>Get the Log</a>\n",
    "    - <a href='#batchinfo'>Get the Batch Session Info</a>\n",
    "    - <a href='#batchstate'>Get the State of a Batch Session</a>\n",
    "    - <a href='#deletebatch'>Delete a Batch Job</a>\n",
    "- <a href='#cleanup'>Clean Up</a> \n",
    "- <a href='#ref'>References</a>      \n",
    "\n",
    "---\n",
    "\n",
    "\n",
    "Datasets are provided as a convenience.  Datasets are considered third-party content and are not considered materials under your agreement with Oracle.\n",
    "\n",
    "This [`Citi Bike`](https://ride.citibikenyc.com/data-sharing-policy) dataset license is used in this notebook.\n",
    "\n",
    "---\n"
   ]
  },
  {
   "cell_type": "code",
   "execution_count": null,
   "id": "ad381556",
   "metadata": {},
   "outputs": [],
   "source": [
    "import ads\n",
    "import json\n",
    "import logging\n",
    "import pandas as pd\n",
    "import requests\n",
    "\n",
    "from ads.bds.auth import refresh_ticket\n",
    "from ads.secrets.big_data_service import BDSSecretKeeper\n",
    "from autovizwidget.widget.utils import display_dataframe\n",
    "from requests_kerberos import HTTPKerberosAuth, REQUIRED\n",
    "\n",
    "logging.basicConfig(format=\"%(levelname)s:%(message)s\", level=logging.WARN)\n",
    "\n",
    "ads.set_auth(\"resource_principal\")"
   ]
  },
  {
   "cell_type": "markdown",
   "id": "7b500aad",
   "metadata": {},
   "source": [
    "<a id='intro'></a>\n",
    "# Introduction\n",
    "\n",
    "[Apache Spark](https://spark.apache.org/) is a distributed compute system designed to process data at scale. It supports large-scale SQL, batch and stream processing, and machine learning tasks. [Spark SQL](https://spark.apache.org/sql/) provides database-like support. To query structured data, use Spark SQL. It is an ANSI standard SQL implementation.\n",
    "\n",
    "[BDS](https://docs.oracle.com/en-us/iaas/Content/bigdata/home.htm) is a fully managed OCI service that provides [Apache Hadoop](https://hadoop.apache.org/) and [Apache Spark](https://spark.apache.org/) clusters. BDS provisions are fully configured, secure, highly available, and dedicated to Hadoop and Spark clusters. The cluster can be scaled to fit your big data and analytics workloads by using a range of OCI Compute shapes that support small test and development clusters to large production clusters. \n",
    "\n",
    "[Apache Livy](https://livy.apache.org/) is a [REST](https://en.wikipedia.org/wiki/Representational_state_transfer) interface to Spark. You can submit fault-tolerant Spark jobs from the notebook using synchronous and asynchronous methods to retrieve the output. \n",
    "\n",
    "[SparkMagic](https://github.com/jupyter-incubator/sparkmagic) allows for interactive communication with Spark using Livy. Using the `%%spark` magic directive within a JupyterLab code cell.\n",
    "\n",
    "You can easily create secure and scalable Spark-based data lakes to process data at scale. This notebook demonstrates how to use [SparkMagic](https://github.com/jupyter-incubator/sparkmagic) to interactively work with BDS clusters through the [Apache Livy](https://livy.apache.org/) REST interface.\n",
    "\n",
    "<a id='intro_setup'></a>\n",
    "## Setup\n",
    "\n",
    "The configuration for SparkMagic is in the `~/.sparkmagic/config.json` file that is installed automatically when you install a supported Data Science conda environment. If you have to manually configure the `~/.sparkmagic/config.json` file, you could use the following sample:\n",
    "\n",
    "```json\n",
    "{\n",
    "  \"kernel_python_credentials\" : {\n",
    "    \"username\": \"\",\n",
    "    \"password\": \"\",\n",
    "    \"url\": \"\",\n",
    "    \"auth\": \"Kerberos\"\n",
    "  },\n",
    "\n",
    "  \"logging_config\": {\n",
    "    \"version\": 1,\n",
    "    \"formatters\": {\n",
    "      \"magicsFormatter\": { \n",
    "        \"format\": \"%(asctime)s\\t%(levelname)s\\t%(message)s\",\n",
    "        \"datefmt\": \"\"\n",
    "      }\n",
    "    },\n",
    "    \"handlers\": {\n",
    "      \"magicsHandler\": { \n",
    "        \"class\": \"hdijupyterutils.filehandler.MagicsFileHandler\",\n",
    "        \"formatter\": \"magicsFormatter\",\n",
    "        \"home_path\": \"~/.sparkmagic\"\n",
    "      }\n",
    "    },\n",
    "    \"loggers\": {\n",
    "      \"magicsLogger\": { \n",
    "        \"handlers\": [\"magicsHandler\"],\n",
    "        \"level\": \"DEBUG\",\n",
    "        \"propagate\": 0\n",
    "      }\n",
    "    }\n",
    "  },\n",
    "  \"authenticators\": {\n",
    "    \"Kerberos\": \"sparkmagic.auth.kerberos.Kerberos\",\n",
    "    \"None\": \"sparkmagic.auth.customauth.Authenticator\",\n",
    "    \"Basic_Access\": \"sparkmagic.auth.basic.Basic\"\n",
    "  },\n",
    "\n",
    "  \"wait_for_idle_timeout_seconds\": 60,\n",
    "  \"livy_session_startup_timeout_seconds\": 120,\n",
    "\n",
    "  \"fatal_error_suggestion\": \"The code failed because of a fatal error:\\n\\t{}.\\n\\nSome things to try:\\na) Make sure Spark has enough available resources for Jupyter to create a Spark context.\\nb) Restart the kernel.\",\n",
    "\n",
    "  \"ignore_ssl_errors\": true,\n",
    "\n",
    "  \"session_configs\": {\n",
    "    \"kind\": \"pyspark\",\n",
    "    \"numExecutors\": 1,\n",
    "    \"driverMemory\": \"1000M\"\n",
    "  },\n",
    "\n",
    "  \"use_auto_viz\": true,\n",
    "  \"coerce_dataframe\": true,\n",
    "  \"max_results_sql\": 2500,\n",
    "  \"pyspark_dataframe_encoding\": \"utf-8\",\n",
    "  \n",
    "  \"heartbeat_refresh_seconds\": 30,\n",
    "  \"livy_server_heartbeat_timeout_seconds\": 0,\n",
    "  \"heartbeat_retry_seconds\": 10,\n",
    "\n",
    "  \"custom_headers\": {},\n",
    "  \n",
    "  \"retry_policy\": \"configurable\",\n",
    "  \"retry_seconds_to_sleep_list\": [0.2, 0.5, 1, 3, 5],\n",
    "  \"configurable_retry_policy_max_retries\": 8\n",
    "}\n",
    "```\n",
    "\n",
    "The parameters that you can define with their meanings are in [POST /sessions](https://livy.incubator.apache.org/docs/latest/rest-api.html) of the Livy documentation.\n",
    "\n",
    "Authentication to BDS is made with a Kerberos ticket. The best practice is to store the required secrets and configuration files using OCI [Vault](https://docs.oracle.com/en-us/iaas/Content/KeyManagement/Concepts/keyoverview.htm) and manage them with the `BDSSecretKeeper` class. In the next cell, update the `<secret_id>` value with the Vault secret OCID that you created with `BDSSecretKeeper`. If you haven't configured a vault secret, see the [Big Data Service section of the ADS documentation](https://docs.oracle.com/en-us/iaas/tools/ads-sdk/latest/user_guide/secrets/big_data_service.html#)."
   ]
  },
  {
   "cell_type": "code",
   "execution_count": null,
   "id": "a40998cf",
   "metadata": {},
   "outputs": [],
   "source": [
    "bds_secret_id = \"<secret_id>\"\n",
    "livy_host = \"<livy_host>\"\n",
    "livy_port = \"<livy_port>\"\n",
    "hdfs_path = \"<hdfs_path>\""
   ]
  },
  {
   "cell_type": "markdown",
   "id": "0c84d758",
   "metadata": {},
   "source": [
    "The next cell makes a connection to the vault and loads the credential information. This information is used to create a Kerberos ticket that is used to authenticate with BDS. The `with` statement is used such that the credential information is discarded and can't be leaked."
   ]
  },
  {
   "cell_type": "code",
   "execution_count": null,
   "id": "7f68870c",
   "metadata": {},
   "outputs": [],
   "source": [
    "if bds_secret_id != \"<secret_id>\":\n",
    "    with BDSSecretKeeper.load_secret(bds_secret_id) as config:\n",
    "        refresh_ticket(principal=config[\"principal\"], keytab_path=config[\"keytab_path\"])\n",
    "else:\n",
    "    config = None\n",
    "    print(\n",
    "        \"The secret OCID, bds_secret_id, is not defined. Enter configuration values in the Setup section.\"\n",
    "    )"
   ]
  },
  {
   "cell_type": "markdown",
   "id": "c9bef485",
   "metadata": {},
   "source": [
    "<a id='connect'></a>\n",
    "# Connect\n",
    "\n",
    "SparkMagic is a JupyterLab extension, that you need to activate in your notebook using the `%load_ext sparkmagic.magics` magic command."
   ]
  },
  {
   "cell_type": "code",
   "execution_count": null,
   "id": "edb56840",
   "metadata": {},
   "outputs": [],
   "source": [
    "%load_ext sparkmagic.magics"
   ]
  },
  {
   "cell_type": "markdown",
   "id": "a68ebecb",
   "metadata": {},
   "source": [
    "SparkMagic also provides a GUI to manage the connection to the BDS or other Spark clusters. The `%%manage_spark` magic command creates an interactive GUI in the notebook that allows you to create and manage both sessions and endpoints.\n",
    "\n",
    "The next cell starts the GUI then you follow the instructions to create the session."
   ]
  },
  {
   "cell_type": "code",
   "execution_count": null,
   "id": "ed76da1c",
   "metadata": {},
   "outputs": [],
   "source": [
    "%manage_spark"
   ]
  },
  {
   "cell_type": "markdown",
   "id": "ffd981d0",
   "metadata": {},
   "source": [
    "Use the GUI to make a connection to the BDS cluster. To do this, you create an endpoint and define the session. To create the endpoint, click the **Add Endpoint** tab in the GUI. Next, select Kerberos as the authentication type then enter the address of the Livy endpoint. It has the `https://<livy_host>:<livy_port>` where `<livy_host>`, and `<livy_port>` are the hostname and port of the Livy endpoint. Create the endpoint by clicking **Add Endpoint**.\n",
    "\n",
    "To create the session, select the **Create Session** tab in the GUI. Choose the endpoint that you just created, and select **Python **as the language. The default properties of the connection are given in the `~/.sparkmagic/config.json` file. You can change session properties by adding a JSON formatted string in the properties box. You can load JARs, Python files, and other files onto the cluster using the `jars`, `pyFiles`, and `files` directives. You can also change properties related to the resources that are going to be used. For example, you can change the executor memory to 1 GB and have 5 cores by entering `{\"executorMemory\": \"1g\", \"executorCores\": 2}` into the properties box. Review the [POST /sessions](https://livy.incubator.apache.org/docs/latest/rest-api.html) section of the Livy documentation for options.\n",
    "\n",
    "Click **Create Session** to create a session.\n",
    "\n",
    "<a id='sparkmagic'></a>\n",
    "# SparkMagic\n",
    "\n",
    "SparkMagic automatically creates a SparkContext (`sc`) and HiveContext (`sqlContext`) inside any SparkMagic cell. You can access information about the Spark application and logs, define a dataframe where results are to be stored, modify the configuration, and so on.\n",
    "\n",
    "SparkMagic provides the `%%spark` magic command to run Spark commands. To run code against a BDS session, add the `%%spark` magic command to the first line in a cell. If you have multiple sessions, then you need to specify the session name using `-s`. For example, `%%spark -s <name>`. If only one session is created, `%%spark` is sufficient.\n",
    "\n",
    "<a id='sparkmagic_parameters'></a>\n",
    "## `%%spark` Parameters\n",
    "\n",
    "The `%%spark` magic command comes with a number of parameters that allow you to interact with the BDS Spark cluster. This notebook demonstrates some common use cases.\n",
    "\n",
    "| Magic | Example | Description |\n",
    "| --- | --- | --- |\n",
    "| add | `%spark add -s test -l python -u https://sparkcluster.net/livy -t Kerberos -a u -p -k` | Add a Livy session given a session name (-s), language (-l), and endpoint credentials. The -k argument, skips adding this session if it already exists. |\n",
    "| cleanup | `%spark cleanup` | Delete all Livy sessions created by the notebook. No arguments are required. |\n",
    "| configure | `%%spark configure` <br>`{\"executorMemory\": \"1000M\", \"executorCores\": 4}`<br> | Override the Livy session properties sent to Livy on session creation. All session creations contain these configuration settings from then on. The expected value is a JSON key-value string sent as part of the Request Body for the POST/sessions endpoint in Livy. |\n",
    "| delete | `%spark delete -s testsession` | Delete a Livy session. |\n",
    "| info | `%%spark info` | Outputs session information for the current Livy endpoint |\n",
    "| logs | `%spark logs -s testsession` | Returns the logs for a given session. For example, `%spark logs -s testsession` return sthe logs for the testsession previously created |\n",
    "| run | `%%spark -s testsession` | Run Spark code against a session. For example, `%%spark -s testsession` executes the cell code against the testsession previously created. For example, `%%spark -s testsession -c sql` executes the SQL code against the testsession previously created. For example, `%%spark -s testsession -c sql -o my_var` executes the SQL code against the testsession previously created, and stores the pandas dataframe created in the my_var variable in the Python environment.|\n",
    "| sql | `%%spark -c sql -o <VAR_NAME>` <br>`SHOW TABLES`<br> | Executes a Hive query against the sqlContext. Parameters: <ul><li>-o VAR_NAME: The result of the query is available as a local variable as a [Pandas](http://pandas.pydata.org/) dataframe. </li><li>-q: The magic returns `None` instead of the dataframe (no visualization). </li></ul></li><li>-m Method: Sample method, either take or sample.</li></ul> </li><li>-n MAXROWS: The maximum number of rows of a SQL query that are pulled from Livy to JupyterLab. If this number is negative, then the number of rows are unlimited.</li></ul></li><li>-r FRACTION: Fraction used for sampling.</li></ul> |\n",
    "\n",
    "<a id='sparkmagic_examples'></a>\n",
    "## Examples\n",
    "\n",
    "<a id='sparkmagic_examples_pyspark'></a>\n",
    "## PySpark\n",
    "\n",
    "The `sc` variable represents the Spark and it's available when the `%%spark` magic command is used. The next cell is a toy example of how to use `sc` in a SparkMagic cell. The cell calls the [`.parallelize()`](https://spark.apache.org/docs/latest/api/python/reference/api/pyspark.SparkContext.parallelize.html) method, which creates an [RDD](https://spark.apache.org/docs/latest/api/python/reference/api/pyspark.RDD.html), `numbers`, from a list of numbers. Information about the RDD is printed. The [`.toDebugString()`](https://spark.apache.org/docs/3.1.3/api/python/reference/api/pyspark.RDD.toDebugString.html) method returns a description of the RDD."
   ]
  },
  {
   "cell_type": "code",
   "execution_count": null,
   "id": "1d80e4e5",
   "metadata": {},
   "outputs": [],
   "source": [
    "%%spark\n",
    "numbers = sc.parallelize([4, 3, 2, 1])\n",
    "print(f\"First element of numbers is {numbers.first()}\")\n",
    "print(f\"The RDD, numbers, has the following description\\n{numbers.toDebugString()}\")"
   ]
  },
  {
   "cell_type": "markdown",
   "id": "2f949353",
   "metadata": {},
   "source": [
    "<a id='sparkmagic_examples_sparksql'></a>\n",
    "## Spark SQL\n",
    "\n",
    "Using the `-c sql` option allows you to run Spark SQL commands in a cell. By default, Spark clusters have small sample datasets. In this section, the [citi bike system data](https://ride.citibikenyc.com/system-data) dataset is used. If your BDS cluster doesn't have this dataset, you may have to substitute it with another dataset.\n",
    "\n",
    "The next cell reads the dataset into a Spark dataframe, and then saves it as a table used to demonstrate Spark SQL."
   ]
  },
  {
   "cell_type": "code",
   "execution_count": null,
   "id": "55cfbf4a",
   "metadata": {},
   "outputs": [],
   "source": [
    "%%spark\n",
    "df = spark.read.csv(\"/data/biketrips/JC-201901-citibike-tripdata.csv\", header=False, inferSchema=True)\n",
    "df.write.mode(\"errorifexists\").saveAsTable(\"bike_trips\")"
   ]
  },
  {
   "cell_type": "markdown",
   "id": "e74d4939",
   "metadata": {},
   "source": [
    "The next cell uses the `-c sql` option to tell SparkMagic that the contents of the cell is SparkSQL. The `-o <variable>` option takes the results of the Spark SQL operation and stores it in the defined variable. In this case, the `df_bike_trips` is a Pandas dataframe that is available to be used in the notebook."
   ]
  },
  {
   "cell_type": "code",
   "execution_count": null,
   "id": "79bb2994",
   "metadata": {},
   "outputs": [],
   "source": [
    "%%spark -c sql -o df_bike_trips\n",
    "SELECT _c0 AS Duration, _c4 AS Start_Station, _c8 AS End_Station, _c11 AS Bike_ID FROM bike_trips;"
   ]
  },
  {
   "cell_type": "markdown",
   "id": "5ae7e983",
   "metadata": {},
   "source": [
    "Print the first few rows of the data."
   ]
  },
  {
   "cell_type": "code",
   "execution_count": null,
   "id": "4754b305",
   "metadata": {},
   "outputs": [],
   "source": [
    "df_bike_trips.head()"
   ]
  },
  {
   "cell_type": "markdown",
   "id": "6cd17c27",
   "metadata": {},
   "source": [
    "Similarly, you can use `sqlContext` to query the table."
   ]
  },
  {
   "cell_type": "code",
   "execution_count": null,
   "id": "0eaff58e",
   "metadata": {},
   "outputs": [],
   "source": [
    "%%spark\n",
    "df2 = sqlContext.sql(\"SELECT * FROM bike_trips\")\n",
    "df2.show()"
   ]
  },
  {
   "cell_type": "markdown",
   "id": "03e211b9",
   "metadata": {},
   "source": [
    "<a id='sparkmagic_examples_autoviz'></a>\n",
    "## Autovisualization Widget\n",
    "\n",
    "SparkMagic comes with [autovizwidget](https://github.com/jupyter-incubator/sparkmagic/tree/master/autovizwidget) and enables the visualization of Pandas dataframes. The `display_dataframe()` function takes a Pandas dataframe as a parameter, and generates an interactive GUI in the notebook. It has tabs that allow the visualization of the data in various forms such as tabular, pie charts, scatter plots, and area and bar graphs.\n",
    "\n",
    "The next cell calls `display_dataframe()` with the `df_bike_trips` dataframe that was created in the <a href='#sparkmagic_examples_sparksql'>Spark SQL</a> section of this notebook."
   ]
  },
  {
   "cell_type": "code",
   "execution_count": null,
   "id": "2fa1d2b7",
   "metadata": {},
   "outputs": [],
   "source": [
    "display_dataframe(df_bike_trips)"
   ]
  },
  {
   "cell_type": "markdown",
   "id": "e4544dc2",
   "metadata": {},
   "source": [
    "<a id='sparkmagic_examples_matplotlib'></a>\n",
    "## Matplotlib\n",
    "\n",
    "A common task that data scientists perform is to visualize their data. With large datasets, it's generally not possible and is almost always not preferable to pull the data from the BDS Spark cluster into the notebook session. This section demonstrates how to use server side resources to generate a plot and display it in the notebook.\n",
    "\n",
    "The `df` dataframe is defined in the session and is reused. To produce a Matplotlib, include the required libraries and generate the plot. Use the `%matplot plt` magic command to display the plot in the notebook even though it's rendered on the server side.\n"
   ]
  },
  {
   "cell_type": "code",
   "execution_count": null,
   "id": "853e02bd",
   "metadata": {},
   "outputs": [],
   "source": [
    "%%spark\n",
    "import matplotlib.pyplot as plt\n",
    "df.groupby(\"_c4\").count().toPandas().plot.bar(x=\"_c4\", y=\"count\")\n",
    "%matplot plt"
   ]
  },
  {
   "cell_type": "markdown",
   "id": "e12883c5",
   "metadata": {},
   "source": [
    "<a id='rest'></a>\n",
    "# REST\n"
   ]
  },
  {
   "cell_type": "markdown",
   "id": "18c97d92",
   "metadata": {},
   "source": [
    "Apache Livy enables submission of Spark jobs over REST interface.  In this section, you create a batch job, obtain the log of the batch job, get information about the batch session, get the state of the batch session, and clean up resources after the job is finished.    \n",
    "\n",
    "<a id='upload'></a>\n",
    "## Upload the file into HDFS\n",
    "\n",
    "You can use `fsspec` to upload files to HDFS.  The files should be reachable by the Spark driver process. \n",
    "\n",
    "<a id='createandrun'></a>\n",
    "## Create a New Batch Environment and Run a Specified Application\n",
    "\n",
    "`POST /batches` creates a new batch environment and runs a batch job. [see the options](https://docs.cloudera.com/HDPDocuments/HDP3/HDP-3.0.1/running-spark-applications/content/livy_api_reference_for_batch_jobs.html). "
   ]
  },
  {
   "cell_type": "code",
   "execution_count": null,
   "id": "88dc69ca",
   "metadata": {},
   "outputs": [],
   "source": [
    "batch_url = f\"https://{livy_host}:{livy_port}/batches\"\n",
    "\n",
    "if hdfs_path == \"<hdfs_path>\":\n",
    "    print(\"hdfs_path is not specified.  Enter the value for complete setup.\")\n",
    "else:\n",
    "    data = {\n",
    "        \"className\": \"org.apache.spark.examples.SparkPi\",\n",
    "        \"file\": hdfs_path,\n",
    "        \"args\": [100],\n",
    "    }\n",
    "headers = {\"Content-Type\": \"application/json\"}\n",
    "\n",
    "if livy_host == \"<livy_host>\" or livy_port == \"<livy_port>\":\n",
    "    print(\n",
    "        \"The Livy host and/or Livy port are not defined.  Enter the values to complete setup.\"\n",
    "    )\n",
    "else:\n",
    "    r = requests.post(\n",
    "        batch_url,\n",
    "        data=json.dumps(data),\n",
    "        headers=headers,\n",
    "        auth=HTTPKerberosAuth(\n",
    "            mutual_authentication=REQUIRED, sanitize_mutual_error_response=False\n",
    "        ),\n",
    "        verify=False,\n",
    "    )\n",
    "    print(r.json())"
   ]
  },
  {
   "cell_type": "markdown",
   "id": "8785b53b",
   "metadata": {},
   "source": [
    "<a id='log'></a>\n",
    "## Get the Log\n",
    "You can get the log by calling `\"https://{livy_host}:{livy_port}/batches/{batch_id}/log\"`. In the next cell, enter the batch id into the variable `batch_id`."
   ]
  },
  {
   "cell_type": "code",
   "execution_count": null,
   "id": "8685836d",
   "metadata": {},
   "outputs": [],
   "source": [
    "batch_id = \"<batch_id>\""
   ]
  },
  {
   "cell_type": "code",
   "execution_count": null,
   "id": "92aae00e",
   "metadata": {},
   "outputs": [],
   "source": [
    "batch_url = f\"https://{livy_host}:{livy_port}/batches/{batch_id}/log\"\n",
    "\n",
    "if batch_id == \"<batch_id>\":\n",
    "    print(\"The batch id is not defined. Enter the value into the batch_id variable.\")\n",
    "else:\n",
    "    r = requests.get(\n",
    "        batch_url,\n",
    "        headers=headers,\n",
    "        auth=HTTPKerberosAuth(\n",
    "            mutual_authentication=REQUIRED, sanitize_mutual_error_response=False\n",
    "        ),\n",
    "        verify=False,\n",
    "    )\n",
    "    print(r.json())"
   ]
  },
  {
   "cell_type": "markdown",
   "id": "b487a742",
   "metadata": {},
   "source": [
    "<a id='batchinfo'></a>\n",
    "## Get the Batch Session Information\n",
    "`GET /batches/{batchId}` returns the batch session information as a batch object:"
   ]
  },
  {
   "cell_type": "code",
   "execution_count": null,
   "id": "b7821cd2",
   "metadata": {},
   "outputs": [],
   "source": [
    "batch_url = f\"https://{livy_host}:{livy_port}/batches/{batch_id}\"\n",
    "\n",
    "if batch_id == \"<batch_id>\":\n",
    "    print(\"The batch id is not defined. Enter the value into the batch_id variable.\")\n",
    "else:\n",
    "    r = requests.get(\n",
    "        batch_url,\n",
    "        headers=headers,\n",
    "        auth=HTTPKerberosAuth(\n",
    "            mutual_authentication=REQUIRED, sanitize_mutual_error_response=False\n",
    "        ),\n",
    "        verify=False,\n",
    "    )\n",
    "    print(r.json())"
   ]
  },
  {
   "cell_type": "markdown",
   "id": "b6d145f2",
   "metadata": {},
   "source": [
    "<a id='batchstate'></a>\n",
    "## Get the State of a Batch Session\n",
    "\n",
    "`GET /batches/{batchId}/state` gives the state of a batch session:"
   ]
  },
  {
   "cell_type": "code",
   "execution_count": null,
   "id": "20b1921e",
   "metadata": {},
   "outputs": [],
   "source": [
    "batch_url = f\"https://{livy_host}:{livy_port}/batches/{batch_id}/state\"\n",
    "\n",
    "if batch_id == \"<batch_id>\":\n",
    "    print(\"The batch id is not defined. Enter the value into the batch_id variable.\")\n",
    "else:\n",
    "    r = requests.get(\n",
    "        batch_url,\n",
    "        headers=headers,\n",
    "        auth=HTTPKerberosAuth(\n",
    "            mutual_authentication=REQUIRED, sanitize_mutual_error_response=False\n",
    "        ),\n",
    "        verify=False,\n",
    "    )\n",
    "    print(r.json())"
   ]
  },
  {
   "cell_type": "markdown",
   "id": "f6b105f4",
   "metadata": {},
   "source": [
    "<a id='deletebatch'></a>\n",
    "## Delete a Batch Job\n",
    "`DELETE /batches/{batchId}` deletes a Batch job:"
   ]
  },
  {
   "cell_type": "code",
   "execution_count": null,
   "id": "5854ef21",
   "metadata": {},
   "outputs": [],
   "source": [
    "batch_url = f\"https://{livy_host}:{livy_port}/batches/{batch_id}\"\n",
    "\n",
    "if batch_id == \"<batch_id>\":\n",
    "    print(\"The batch id is not defined. Enter the value into the batch_id variable.\")\n",
    "else:\n",
    "    r = requests.delete(\n",
    "        batch_url,\n",
    "        headers=headers,\n",
    "        auth=HTTPKerberosAuth(\n",
    "            mutual_authentication=REQUIRED, sanitize_mutual_error_response=False\n",
    "        ),\n",
    "        verify=False,\n",
    "    )\n",
    "    print(r.json())"
   ]
  },
  {
   "attachments": {
    "aa7dfb5f-68c6-4cdb-b838-6357a04430e9.png": {
     "image/png": "[encoded data removed]"
    }
   },
   "cell_type": "markdown",
   "id": "2b54a0cb",
   "metadata": {},
   "source": [
    "<a id='cleanup'></a>\n",
    "# Clean Up\n",
    "\n",
    "After you are done with your Livy sessions, you should clean them up. Go to the `Manage Session` tab, and click `Delete` for the sessions you want to delete.\n",
    "\n",
    "```python\n",
    "%manage_spark\n",
    "```\n",
    "![image.png](attachment:aa7dfb5f-68c6-4cdb-b838-6357a04430e9.png)"
   ]
  },
  {
   "cell_type": "markdown",
   "id": "e7103dd8",
   "metadata": {},
   "source": [
    "<a id='ref'></a>\n",
    "# References\n",
    "\n",
    "- [ADS Library Documentation](https://accelerated-data-science.readthedocs.io/en/latest/index.html)\n",
    "- [Data Science YouTube Videos](https://www.youtube.com/playlist?list=PLKCk3OyNwIzv6CWMhvqSB_8MLJIZdO80L)\n",
    "- [OCI Data Science Documentation](https://docs.cloud.oracle.com/en-us/iaas/data-science/using/data-science.htm)\n",
    "- [Oracle Data & AI Blog](https://blogs.oracle.com/datascience/)"
   ]
  }
 ],
 "metadata": {
  "kernelspec": {
   "display_name": "Python 3.9.6 64-bit",
   "language": "python",
   "name": "python3"
  },
  "language_info": {
   "codemirror_mode": {
    "name": "ipython",
    "version": 3
   },
   "file_extension": ".py",
   "mimetype": "text/x-python",
   "name": "python",
   "nbconvert_exporter": "python",
   "pygments_lexer": "ipython3",
   "version": "3.10.8"
  },
  "vscode": {
   "interpreter": {
    "hash": "aee8b7b246df8f9039afb4144a1f6fd8d2ca17a180786b69acc140d282b71a49"
   }
  }
 },
 "nbformat": 4,
 "nbformat_minor": 5
}
