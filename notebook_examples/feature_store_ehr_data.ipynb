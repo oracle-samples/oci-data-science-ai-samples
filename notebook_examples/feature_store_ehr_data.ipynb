{
 "cells": [
  {
   "cell_type": "raw",
   "id": "f76c6053",
   "metadata": {
    "vscode": {
     "languageId": "raw"
    }
   },
   "source": [
    "@notebook{feature_store_ehr_data.ipynb,\n",
    "    title: Using feature store for feature querying using pandas like interface for query and join,\n",
    "    summary: Feature store quickstart guide to perform feature querying using pandas like interface for query and join.,\n",
    "    developed_on: fspyspark32_p38_cpu_v3,\n",
    "    keywords: feature store, querying,\n",
    "    license: Universal Permissive License v 1.0\n",
    "}"
   ]
  },
  {
   "cell_type": "code",
   "execution_count": null,
   "metadata": {
    "collapsed": false
   },
   "outputs": [],
   "source": [
    "!odsc conda install -s fspyspark32_p38_cpu_v3"
   ]
  },
  {
   "cell_type": "code",
   "execution_count": null,
   "id": "9facb62e",
   "metadata": {},
   "outputs": [],
   "source": [
    "!odsc data-catalog config --authentication resource_principal --metastore <metastore_id>"
   ]
  },
  {
   "cell_type": "markdown",
   "id": "e85fec3a",
   "metadata": {},
   "source": [
    "Oracle Data Science service sample notebook.\n",
    "\n",
    "Copyright (c) 2022 Oracle, Inc. All rights reserved. Licensed under the [Universal Permissive License v 1.0](https://oss.oracle.com/licenses/upl).\n",
    "\n",
    "***\n",
    "\n",
    "# <font color=\"red\">Feature Engineering for medical data in Feature store </font>\n",
    "<p style=\"margin-left:10%; margin-right:10%;\">by the <font color=\"teal\">Oracle Cloud Infrastructure Data Science Service.</font></p>\n",
    "\n",
    "---\n",
    "# Overview:\n",
    "---\n",
    "Managing many datasets, data-sources and transformations for machine learning is complex and costly. Poorly cleaned data, data issues, bugs in transformations, data drift and training serving skew all leads to increased model development time and worse model performance. Here, feature store is well positioned to solve many of the problems since it provides a centralised way to transform and access data for training and serving time and helps defines a standardised pipeline for ingestion of data and querying of data. This notebook demonstrates how to use feature store within a long lasting [Oracle Cloud Infrastructure Data Flow](https://docs.oracle.com/en-us/iaas/data-flow/using/home.htm) cluster.\n",
    "\n",
    "Compatible conda pack: [PySpark 3.2 and Feature store](https://docs.oracle.com/iaas/data-science/using/conda-pyspark-fam.htm) for CPU on Python 3.8\n",
    "\n",
    "<div>\n",
    "    <img src=\"https://objectstorage.us-ashburn-1.oraclecloud.com/p/hh2NOgFJbVSg4amcLM3G3hkTuHyBD-8aE_iCsuZKEvIav1Wlld-3zfCawG4ycQGN/n/ociodscdev/b/oci-feature-store/o/beta/_images/overview-roles.png\"  />\n",
    "</div>\n",
    "\n",
    "## Contents:\n",
    "\n",
    "- <a href=\"#concepts\">1. Introduction</a>\n",
    "- <a href='#pre-requisites'>1. Pre-requisites</a>\n",
    "    - <a href='#policies'>2.1 Policies</a>\n",
    "    - <a href='#prerequisites_authentication'>2.2 Authentication</a>\n",
    "    - <a href='#prerequisites_variables'>2.3 Variables</a>\n",
    "- <a href='#featurestore_querying'>3. Feature store querying</a>\n",
    "    - <a href='#data_exploration'>3.1. Exploration of data in feature store</a>\n",
    "    - <a href='#load_featuregroup'>3.2. Load feature groups</a>\n",
    "    - <a href='#explore_featuregroup'>3.3. Explore feature groups</a>\n",
    "    - <a href='#select_subset_featuregroup'>3.4. Select subset of features</a>\n",
    "    - <a href='#filter_featuregroup'>3.5. Filter feature groups</a>\n",
    "    - <a href='#join_featuregroup'>3.6. Apply joins on feature group</a>\n",
    "    - <a href='#create_dataset'>3.7. Create dataset from multiple or one feature group</a>\n",
    "    - <a href='#sql_query'>3.8 Free form sql query</a>\n",
    "- <a href='#ref'>4. References</a>\n",
    "\n",
    "---\n",
    "\n",
    "**Important:**\n",
    "\n",
    "Placeholder text for required values are surrounded by angle brackets that must be removed when adding the indicated content. For example, when adding a database name to `database_name = \"<database_name>\"` would become `database_name = \"production\"`.\n",
    "\n",
    "---"
   ]
  },
  {
   "cell_type": "markdown",
   "id": "c788d3fb",
   "metadata": {},
   "source": [
    "<a id=\"concepts\"></a>\n",
    "# 1. Introduction\n",
    "\n",
    "Oracle feature store is a stack based solution that is deployed in the customer enclave using OCI resource manager. Customer can stand up the service with infrastructure in their own tenancy. The service consists of API which are deployed in customer tenancy using resource manager.\n",
    "\n",
    "The following are some key terms that will help you understand OCI Data Science Feature Store:\n",
    "\n",
    "\n",
    "* **Feature Vector**: Set of feature values for any one primary/identifier key. Eg. All/subset of features of customer id ‘2536’ can be called as one feature vector.\n",
    "\n",
    "* **Feature**: A feature is an individual measurable property or characteristic of a phenomenon being observed.\n",
    "\n",
    "* **Entity**: An entity is a group of semantically related features. The first step a consumer of features would typically do when accessing the feature store service is to list the entities and the entities associated features. Another way to look at it is that an entity is an object or concept that is described by its features. Examples of entities could be customer, product, transaction, review, image, document, etc.\n",
    "\n",
    "* **Feature Group**: A feature group in a feature store is a collection of related features that are often used together in ml models. It serves as an organizational unit within the feature store for users to manage, version and share features across different ml projects. By organizing features into groups, data scientists and ml engineers can efficiently discover, reuse and collaborate on features reducing the redundant work and ensuring consistency in feature engineering.\n",
    "\n",
    "* **Feature Group Job**: Feature group job is the execution instance of a feature group. Each feature group job will include validation results and statistics results.\n",
    "\n",
    "* **Dataset**: A dataset is a collection of feature that are used together to either train a model or perform model inference.\n",
    "\n",
    "* **Dataset Job**: Dataset job is the execution instance of a dataset. Each dataset job will include validation results and statistics results."
   ]
  },
  {
   "cell_type": "markdown",
   "id": "75ced462",
   "metadata": {},
   "source": [
    "<a id='pre-requisites'></a>\n",
    "# 2. Pre-requisites\n",
    "\n",
    "Data Flow Sessions are accessible through the following conda environment:\n",
    "\n",
    "* **PySpark 3.2, Feature store 1.0 and Data Flow 1.0 (fs_pyspark32_p38_cpu_v1)**\n",
    "\n",
    "The [Data Catalog Hive Metastore](https://docs.oracle.com/en-us/iaas/data-catalog/using/metastore.htm) provides schema definitions for objects in structured and unstructured data assets. The Metastore is the central metadata repository to understand tables backed by files on object storage. You can customize `fs_pyspark32_p38_cpu_v1`, publish it, and use it as a runtime environment for a Data Flow session cluster. The metastore id of hive metastore is tied to feature store construct of feature store service.\n"
   ]
  },
  {
   "cell_type": "markdown",
   "id": "3bc9fc7b",
   "metadata": {},
   "source": [
    "<a id='setup_spark-defaults'></a>\n",
    "### `spark-defaults.conf`\n",
    "\n",
    "The `spark-defaults.conf` file is used to define the properties that are used by Spark. A templated version is installed when you install a Data Science conda environment that supports PySpark. However, you must update the template so that the Data Catalog metastore can be accessed. You can do this manually. However, the `odsc data-catalog config` commandline tool is ideal for setting up the file because it gathers information about your environment, and uses that to build the file.\n",
    "\n",
    "The `odsc data-catalog config` command line tool needs the `--metastore` option to define the Data Catalog metastore OCID. No other command line option is needed because settings have default values, or they take values from your notebook session environment. Following are common parameters that you may need to override.\n",
    "\n",
    "The `--authentication` option sets the authentication mode. It supports resource principal and API keys. The preferred method for authentication is resource principal, which is sent with `--authentication resource_principal`. If you want to use API keys, then use the `--authentication api_key` option. If the `--authentication` isn't specified, API keys are used. When API keys are used, information from the OCI configuration file is used to create the `spark-defaults.conf` file.\n",
    "\n",
    "Object Storage and Data Catalog are regional services. By default, the region is set to the region your notebook session is running in. This information is taken from the environment variable, `NB_REGION`. Use the `--region` option to override this behavior.\n",
    "\n",
    "The default location of the `spark-defaults.conf` file is `/home/datascience/spark_conf_dir` as defined in the `SPARK_CONF_DIR` environment variable. Use the `--output` option to define the directory where to write the file.\n",
    "\n",
    "You need to determine what settings are appropriate for your configuration. However, the following works for most configurations and is run in a terminal window.\n",
    "\n",
    "```bash\n",
    "odsc data-catalog config --authentication resource_principal --metastore <metastore_id>\n",
    "```\n",
    "For more assistance, use the following command in a terminal window:\n",
    "\n",
    "```bash\n",
    "odsc data-catalog config --help\n",
    "```\n",
    "\n",
    "<a id='setup_session'></a>\n",
    "### Session Setup\n",
    "\n",
    "The notebook makes connections to the Data Catalog metastore and Object Storage. In the next cell, specify the bucket URI to act as the data warehouse. Use the `warehouse_uri` variable with the `oci://<bucket_name>@<namespace_name>/<key>` format. Update the variable `metastore_id` with the OCID of the Data Catalog metastore."
   ]
  },
  {
   "cell_type": "markdown",
   "id": "ef8d3520",
   "metadata": {},
   "source": [
    "<a id='policies'></a>\n",
    "### 2.1. Policies\n",
    "This section covers the creation of dynamic groups and policies needed to use the service.\n",
    "\n",
    "* [Data Flow Policies](https://docs.oracle.com/iaas/data-flow/using/policies.htm/)\n",
    "* [Data Catalog Metastore Required Policies](https://docs.oracle.com/en-us/iaas/data-catalog/using/metastore.htm)\n",
    "* [Getting Started with Data Flow](https://docs.oracle.com/iaas/data-flow/using/dfs_getting_started.htm)\n",
    "* [About Data Science Policies](https://docs.oracle.com/iaas/data-science/using/policies.htm)"
   ]
  },
  {
   "cell_type": "markdown",
   "id": "c6995144",
   "metadata": {},
   "source": [
    "<a id=\"prerequisites_authentication\"></a>\n",
    "### 2.2. Authentication\n",
    "The [Oracle Accelerated Data Science SDK (ADS)](https://docs.oracle.com/iaas/tools/ads-sdk/latest/index.html) controls the authentication mechanism with the notebook cluster.<br>\n",
    "To setup authentication use the ```ads.set_auth(\"resource_principal\")``` or ```ads.set_auth(\"api_key\")```."
   ]
  },
  {
   "cell_type": "code",
   "execution_count": null,
   "id": "677a7e8f",
   "metadata": {
    "ExecuteTime": {
     "start_time": "2023-05-24T08:26:08.577504Z"
    },
    "is_executing": true,
    "pycharm": {
     "is_executing": true
    }
   },
   "outputs": [],
   "source": [
    "import ads\n",
    "ads.set_auth(auth=\"resource_principal\", client_kwargs={\"fs_service_endpoint\": \"{api_endpoint}/20230101\"})"
   ]
  },
  {
   "cell_type": "markdown",
   "id": "7838bdc7",
   "metadata": {},
   "source": [
    "<a id=\"prerequisites_variables\"></a>\n",
    "### 2.3. Variables\n",
    "To run this notebook, you must provide some information about your tenancy configuration. To create and run a feature store, you must specify a `<compartment_id>` and bucket `<metastore_id>` for offline feature store."
   ]
  },
  {
   "cell_type": "code",
   "execution_count": null,
   "id": "5efbc385",
   "metadata": {
    "pycharm": {
     "is_executing": true
    }
   },
   "outputs": [],
   "source": [
    "import os\n",
    "\n",
    "compartment_id = os.environ.get(\"NB_SESSION_COMPARTMENT_OCID\")\n",
    "metastore_id = \"<metastore_id>\""
   ]
  },
  {
   "cell_type": "markdown",
   "id": "429db8de",
   "metadata": {},
   "source": [
    "<a id=\"featurestore_querying\"></a>\n",
    "# 3. Feature group querying\n",
    "By default the **PySpark 3.2, Feature store and Data Flow** conda environment includes pre-installed [great-expectations](https://legacy.docs.greatexpectations.io/en/latest/reference/core_concepts/validation.html) and OCI ML monitoring libraries. The joining functionality is heavily inspired by the APIs used by Pandas to merge, join or filter DataFrames. The APIs allow you to specify which features to select from which feature group, how to join them and which features to use in join conditions.\n",
    "\n"
   ]
  },
  {
   "cell_type": "code",
   "execution_count": null,
   "id": "b26ea894",
   "metadata": {
    "pycharm": {
     "is_executing": true
    }
   },
   "outputs": [],
   "source": [
    "import pandas as pd\n",
    "from ads.feature_store.feature_store import FeatureStore\n",
    "from ads.feature_store.feature_group import FeatureGroup\n",
    "from ads.feature_store.model_details import ModelDetails\n",
    "from ads.feature_store.dataset import Dataset\n",
    "from ads.feature_store.common.enums import DatasetIngestionMode\n",
    "\n",
    "from ads.feature_store.feature_group_expectation import ExpectationType\n",
    "from great_expectations.core import ExpectationSuite, ExpectationConfiguration\n",
    "from ads.feature_store.feature_store_registrar import FeatureStoreRegistrar"
   ]
  },
  {
   "cell_type": "markdown",
   "id": "d72293bb",
   "metadata": {},
   "source": [
    "<a id=\"data_exploration\"></a>\n",
    "### 3.1. Exploration of data in feature store\n",
    "\n",
    "The dataset contains Electronic Health Record predictions collected from a private Hospital in Indonesia. It contains the patient's laboratory test results used to determine the next patient's treatment whether in care or out care.\n"
   ]
  },
  {
   "cell_type": "code",
   "execution_count": null,
   "id": "4aeca7ad",
   "metadata": {
    "pycharm": {
     "is_executing": true
    }
   },
   "outputs": [],
   "source": [
    "patient_result_df = pd.read_csv(\"https://objectstorage.us-ashburn-1.oraclecloud.com/p/hh2NOgFJbVSg4amcLM3G3hkTuHyBD-8aE_iCsuZKEvIav1Wlld-3zfCawG4ycQGN/n/ociodscdev/b/oci-feature-store/o/beta/data/EHR/data-ori.csv\")\n",
    "patient_result_df.head()"
   ]
  },
  {
   "cell_type": "markdown",
   "id": "cd307adf",
   "metadata": {},
   "source": [
    "#### Dataset Overview "
   ]
  },
  {
   "cell_type": "code",
   "execution_count": null,
   "id": "9d9adc69",
   "metadata": {},
   "outputs": [],
   "source": [
    "print(f\"The dataset contains {patient_result_df.shape[0]} rows and {patient_result_df.shape[1]} columns\")\n",
    "\n",
    "# get all the features\n",
    "features = [feat for feat in patient_result_df.columns if feat !='SOURCE']\n",
    "num_features = [feat for feat in features if patient_result_df[feat].dtype != object]\n",
    "cat_features = [feat for feat in features if patient_result_df[feat].dtype == object]\n",
    "\n",
    "print(f\"Total number of features : {len(features)}\")\n",
    "print(f\"Number of numerical features : {len(num_features)}\")\n",
    "print(f\"Number of categorical features : {len(cat_features)}\\n\")"
   ]
  },
  {
   "cell_type": "markdown",
   "id": "a59294ed",
   "metadata": {},
   "source": [
    "<b> Missing Values</b>"
   ]
  },
  {
   "cell_type": "code",
   "execution_count": null,
   "id": "cab1363c",
   "metadata": {},
   "outputs": [],
   "source": [
    "patient_result_df.isna().mean().to_frame(name='Missing %')"
   ]
  },
  {
   "cell_type": "markdown",
   "id": "b31498d1",
   "metadata": {},
   "source": [
    "<b>Unique Values</b>"
   ]
  },
  {
   "cell_type": "code",
   "execution_count": null,
   "id": "4b000f53",
   "metadata": {},
   "outputs": [],
   "source": [
    "patient_result_df.nunique().to_frame(name='# of unique values')"
   ]
  },
  {
   "cell_type": "markdown",
   "id": "84c3f0b6",
   "metadata": {},
   "source": [
    "<a id=\"load_featuregroup\"></a>\n",
    "### 3.2. Create feature store logical entities"
   ]
  },
  {
   "cell_type": "markdown",
   "id": "f4cf12e7",
   "metadata": {},
   "source": [
    "#### 3.2.1 Feature Store\n",
    "Feature store is the top level entity for feature store service"
   ]
  },
  {
   "cell_type": "code",
   "execution_count": null,
   "id": "fc9ce3ef",
   "metadata": {
    "pycharm": {
     "is_executing": true
    }
   },
   "outputs": [],
   "source": [
    "feature_store_resource = (\n",
    "    FeatureStore().\n",
    "    with_description(\"Electronic Heath Data consisting of Patient Test Results\").\n",
    "    with_compartment_id(compartment_id).\n",
    "    with_name(\"EHR details\").\n",
    "    with_offline_config(metastore_id=metastore_id)\n",
    ")"
   ]
  },
  {
   "cell_type": "markdown",
   "id": "f2f36a6e",
   "metadata": {},
   "source": [
    "<a id=\"create_feature_store\"></a>\n",
    "##### Create Feature Store\n",
    "\n",
    "Call the ```.create()``` method of the Feature store instance to create a feature store."
   ]
  },
  {
   "cell_type": "code",
   "execution_count": null,
   "id": "47916f67",
   "metadata": {
    "pycharm": {
     "is_executing": true
    }
   },
   "outputs": [],
   "source": [
    "feature_store = feature_store_resource.create()\n",
    "feature_store"
   ]
  },
  {
   "cell_type": "markdown",
   "id": "bc692171",
   "metadata": {},
   "source": [
    "#### 3.2.2 Entity\n",
    "An entity is a group of semantically related features."
   ]
  },
  {
   "cell_type": "code",
   "execution_count": null,
   "id": "2b20c158",
   "metadata": {},
   "outputs": [],
   "source": [
    "entity = feature_store.create_entity(\n",
    "    name=\"EHR\",\n",
    "    description=\"Electronic Health Record predictions\"\n",
    ")\n",
    "entity"
   ]
  },
  {
   "cell_type": "markdown",
   "id": "fbd3a049",
   "metadata": {},
   "source": [
    "#### 3.2.3 Transformation\n",
    "Transformations in a feature store refers to the operations and processes applied to raw data to create, modify or derive new features that can be used as inputs for ML Models\n"
   ]
  },
  {
   "cell_type": "markdown",
   "id": "0eaa9d3a",
   "metadata": {},
   "source": [
    "Below python function defines 2 PANDAS transformations which are used for feature engineering.<code>label_encoder_transformation</code> performs label encoding to convert  categorical variables into numerical format. It take the column label as input keyword argument that needs to be encoded. Another transformation is  <code>min_max_scaler</code> which scale the features to a range of 0 to 1<br>\n",
    "<code>chained_transformation</code> chains both of these transformation by first performing imputation and then\n",
    "doing label encoding on the returned dataframe."
   ]
  },
  {
   "cell_type": "code",
   "execution_count": null,
   "id": "bdc83fda",
   "metadata": {},
   "outputs": [],
   "source": [
    "def chained_transformation(patient_result_df, **transformation_args):\n",
    "    def label_encoder_transformation(patient_result_df, **transformation_args):\n",
    "        from sklearn.preprocessing import LabelEncoder\n",
    "        # creating instance of labelencoder\n",
    "        labelencoder = LabelEncoder()\n",
    "        result_df = patient_result_df.copy()\n",
    "        column_labels= transformation_args.get(\"label_encode_column\")\n",
    "        if isinstance(column_labels,list):\n",
    "            for col in column_labels:\n",
    "                result_df[col] = labelencoder.fit_transform(result_df[col])\n",
    "        elif isinstance(column_labels, str):\n",
    "             result_df[column_labels] = labelencoder.fit_transform(result_df[column_labels])\n",
    "        else:\n",
    "            return None\n",
    "        return result_df\n",
    "    \n",
    "    def min_max_scaler(patient_result_df, **transformation_args):\n",
    "        from sklearn.preprocessing import MinMaxScaler\n",
    "        final_result_df = patient_result_df.copy()\n",
    "        scaler = MinMaxScaler(feature_range=(0, 1))\n",
    "        column_labels= transformation_args.get(\"scaling_column_labels\")\n",
    "        final_result_df[column_labels] = scaler.fit_transform(final_result_df[column_labels])\n",
    "        return patient_result_df\n",
    "    \n",
    "    def feature_removal(input_df, **transformation_args):\n",
    "        output_df = input_df.copy()\n",
    "        output_df.drop(transformation_args.get(\"redundant_feature_label\"), axis=1, inplace=True)\n",
    "        return output_df\n",
    "\n",
    "    out1 = label_encoder_transformation(patient_result_df, **transformation_args)\n",
    "    out2 = min_max_scaler(out1, **transformation_args)\n",
    "    return feature_removal(out2, **transformation_args)"
   ]
  },
  {
   "cell_type": "code",
   "execution_count": null,
   "id": "5b824c0d",
   "metadata": {},
   "outputs": [],
   "source": [
    "transformation_args = {\n",
    "    \"label_encode_column\": [\"SEX\",\"SOURCE\"],\n",
    "    \"scaling_column_labels\": num_features,\n",
    "    \"redundant_feature_label\": [\"MCH\", \"MCHC\", \"MCV\"]\n",
    "}\n"
   ]
  },
  {
   "cell_type": "code",
   "execution_count": null,
   "id": "bc22c753",
   "metadata": {},
   "outputs": [],
   "source": [
    "from ads.feature_store.transformation import Transformation,TransformationMode\n",
    "\n",
    "transformation = (\n",
    "    Transformation()\n",
    "    .with_name(\"chained_transformation\")\n",
    "    .with_feature_store_id(feature_store.id)\n",
    "    .with_source_code_function(chained_transformation)\n",
    "    .with_transformation_mode(TransformationMode.PANDAS)\n",
    "    .with_description(\"transformation to perform feature engineering\")\n",
    "    .with_compartment_id(compartment_id)\n",
    ")\n",
    "\n",
    "transformation.create()"
   ]
  },
  {
   "cell_type": "markdown",
   "id": "88b3c26b",
   "metadata": {},
   "source": [
    "#### 3.2.3 Feature group\n",
    "A feature group is an object that represents a logical group of time-series feature data as it is found in a datasource."
   ]
  },
  {
   "cell_type": "markdown",
   "id": "ecc6d191",
   "metadata": {},
   "source": [
    "<a id=\"create_feature_group_ehr\"></a>\n",
    "##### Patient's EHR Feature Group\n",
    "\n",
    "Create feature group for EHR\n",
    "\n",
    "<div>\n",
    "    <img src=\"https://objectstorage.us-ashburn-1.oraclecloud.com/p/hh2NOgFJbVSg4amcLM3G3hkTuHyBD-8aE_iCsuZKEvIav1Wlld-3zfCawG4ycQGN/n/ociodscdev/b/oci-feature-store/o/beta/_images/feature_group_flights.gif\" width=\"700\" height=\"350\" />\n",
    "</div>"
   ]
  },
  {
   "cell_type": "code",
   "execution_count": null,
   "id": "c2b9fc0b",
   "metadata": {},
   "outputs": [],
   "source": [
    "feature_group_ehr = (\n",
    "    FeatureGroup()\n",
    "    .with_feature_store_id(feature_store.id)\n",
    "    .with_primary_keys([])\n",
    "    .with_name(\"ehr_feature_group\")\n",
    "    .with_entity_id(entity.id)\n",
    "    .with_compartment_id(compartment_id)\n",
    "    .with_schema_details_from_dataframe(patient_result_df)\n",
    "    .with_transformation_id(transformation.id)\n",
    "    .with_transformation_kwargs(transformation_args)\n",
    ")"
   ]
  },
  {
   "cell_type": "code",
   "execution_count": null,
   "id": "f6258198",
   "metadata": {
    "jupyter": {
     "outputs_hidden": false
    }
   },
   "outputs": [],
   "source": [
    "feature_group_ehr.create()"
   ]
  },
  {
   "cell_type": "code",
   "execution_count": null,
   "id": "ea1d069d",
   "metadata": {},
   "outputs": [],
   "source": [
    "feature_group_ehr.show()"
   ]
  },
  {
   "cell_type": "markdown",
   "id": "88f6dcc4",
   "metadata": {},
   "source": [
    "##### Expectations\n",
    "\n",
    "Update feature group with expectations"
   ]
  },
  {
   "cell_type": "markdown",
   "id": "39c3085c",
   "metadata": {},
   "source": [
    "\n"
   ]
  },
  {
   "cell_type": "code",
   "execution_count": null,
   "id": "a705b41a",
   "metadata": {},
   "outputs": [],
   "source": [
    "expectation_suite_ehr = ExpectationSuite(\n",
    "    expectation_suite_name=\"test_hcm_df\"\n",
    ")\n",
    "expectation_suite_ehr.add_expectation(\n",
    "    ExpectationConfiguration(\n",
    "        expectation_type=\"expect_column_values_to_not_be_null\",\n",
    "        kwargs={\"column\": \"AGE\"},\n",
    "    )\n",
    ")\n",
    "expectation_suite_ehr.add_expectation(\n",
    "    ExpectationConfiguration(\n",
    "        expectation_type=\"expect_column_values_to_be_between\",\n",
    "        kwargs={\"column\": \"HAEMOGLOBINS\", \"min_value\": 0, \"max_value\": 30},\n",
    "    )\n",
    ")"
   ]
  },
  {
   "cell_type": "code",
   "execution_count": null,
   "id": "09d0c340",
   "metadata": {},
   "outputs": [],
   "source": [
    "from ads.feature_store.common.enums import ExpectationType\n",
    "\n",
    "feature_group_ehr.with_expectation_suite(expectation_suite_ehr, expectation_type = ExpectationType.STRICT)\n",
    "feature_group_ehr.update()"
   ]
  },
  {
   "cell_type": "code",
   "execution_count": null,
   "id": "14384006",
   "metadata": {},
   "outputs": [],
   "source": [
    "feature_group_ehr.materialise(patient_result_df)"
   ]
  },
  {
   "cell_type": "markdown",
   "id": "05a513ac",
   "metadata": {},
   "source": [
    "<a id=\"explore_featuregroup\"></a>\n",
    "### 3.3. Explore feature groups"
   ]
  },
  {
   "cell_type": "code",
   "execution_count": null,
   "id": "f4b50709",
   "metadata": {},
   "outputs": [],
   "source": [
    "feature_group_ehr.get_features_df()"
   ]
  },
  {
   "cell_type": "code",
   "execution_count": null,
   "id": "5dd89605",
   "metadata": {},
   "outputs": [],
   "source": [
    "feature_group_ehr.select().show()"
   ]
  },
  {
   "cell_type": "code",
   "execution_count": null,
   "id": "c7720964",
   "metadata": {},
   "outputs": [],
   "source": [
    "feature_group_ehr.get_statistics().to_pandas()"
   ]
  },
  {
   "cell_type": "code",
   "execution_count": null,
   "id": "2ff06e5a",
   "metadata": {},
   "outputs": [],
   "source": [
    "feature_group_ehr.get_validation_output().to_pandas()"
   ]
  },
  {
   "cell_type": "markdown",
   "id": "77bf8f09",
   "metadata": {},
   "source": [
    "<a id=\"select_subset_featuregroup\"></a>\n",
    "### 3.4. Select subset of features"
   ]
  },
  {
   "cell_type": "code",
   "execution_count": null,
   "id": "87b4e151",
   "metadata": {},
   "outputs": [],
   "source": [
    "feature_group_ehr.select(['AGE', 'SEX', 'SOURCE']).show()"
   ]
  },
  {
   "cell_type": "markdown",
   "id": "16a80ec1",
   "metadata": {},
   "source": [
    "<a id=\"filter_featuregroup\"></a>\n",
    "### 3.5. Filter feature groups"
   ]
  },
  {
   "cell_type": "code",
   "execution_count": null,
   "id": "7941d82c",
   "metadata": {},
   "outputs": [],
   "source": [
    "feature_group_ehr.filter(feature_group_ehr.SOURCE == \"1\").show()"
   ]
  },
  {
   "cell_type": "markdown",
   "id": "2f7206b2",
   "metadata": {},
   "source": [
    "<a id=\"create_dataset\"></a>\n",
    "### 3.7 Create dataset\n",
    "A dataset is a collection of feature snapshots that are joined together to either train a model or perform model inference.\n",
    "\n",
    "<div>\n",
    "    <img src=\"https://objectstorage.us-ashburn-1.oraclecloud.com/p/hh2NOgFJbVSg4amcLM3G3hkTuHyBD-8aE_iCsuZKEvIav1Wlld-3zfCawG4ycQGN/n/ociodscdev/b/oci-feature-store/o/beta/_images/fs_ehr_dataset.gif\" width=\"700\" height=\"350\" />\n",
    "</div>"
   ]
  },
  {
   "cell_type": "code",
   "execution_count": null,
   "id": "79bc79cb",
   "metadata": {},
   "outputs": [],
   "source": [
    "query = feature_group_ehr.select() \n",
    "query.show()"
   ]
  },
  {
   "cell_type": "code",
   "execution_count": null,
   "id": "bf67e5e1",
   "metadata": {},
   "outputs": [],
   "source": [
    "dataset = (\n",
    "    Dataset()\n",
    "    .with_description(\"Combined dataset for EHR\")\n",
    "    .with_compartment_id(compartment_id)\n",
    "    .with_name(\"ehr_dataset\")\n",
    "    .with_entity_id(entity.id)\n",
    "    .with_feature_store_id(feature_store.id)\n",
    "    .with_query(query.to_string())\n",
    ")"
   ]
  },
  {
   "cell_type": "markdown",
   "id": "85fd2117",
   "metadata": {},
   "source": [
    "<a id=\"create_dataset\"></a>\n",
    "##### Create Dataset\n",
    "\n",
    "Call the ```.create()``` method of the Dataset instance to create a dataset."
   ]
  },
  {
   "cell_type": "code",
   "execution_count": null,
   "id": "d8bfa867",
   "metadata": {},
   "outputs": [],
   "source": [
    "dataset.create()"
   ]
  },
  {
   "cell_type": "code",
   "execution_count": null,
   "id": "a062ec83",
   "metadata": {},
   "outputs": [],
   "source": [
    "dataset.materialise()"
   ]
  },
  {
   "cell_type": "markdown",
   "id": "75b76762",
   "metadata": {},
   "source": [
    "### Interoperability with model"
   ]
  },
  {
   "cell_type": "code",
   "execution_count": null,
   "id": "5e040a7f",
   "metadata": {},
   "outputs": [],
   "source": [
    "model_details = ModelDetails().with_items([\"ocid1.datasciencemodel...\"])\n",
    "dataset.add_models(model_details)"
   ]
  },
  {
   "cell_type": "markdown",
   "id": "74acf2be",
   "metadata": {},
   "source": [
    "<a id=\"visualise_lineage\"></a>\n",
    "##### Visualise lineage\n",
    "\n",
    "Use the ```.show()``` method on the Dataset instance to visualize the lineage of the dataset."
   ]
  },
  {
   "cell_type": "code",
   "execution_count": null,
   "id": "666767b0",
   "metadata": {},
   "outputs": [],
   "source": [
    "dataset.show()"
   ]
  },
  {
   "cell_type": "code",
   "execution_count": null,
   "id": "b7f5676e",
   "metadata": {},
   "outputs": [],
   "source": [
    "dataset.profile().show()"
   ]
  },
  {
   "cell_type": "code",
   "execution_count": null,
   "id": "4968f4bf",
   "metadata": {},
   "outputs": [],
   "source": [
    "dataset.preview().show()"
   ]
  },
  {
   "cell_type": "markdown",
   "id": "2b09082d",
   "metadata": {},
   "source": [
    "<a id='ref'></a>\n",
    "# References\n",
    "\n",
    "- [ADS Library Documentation](https://accelerated-data-science.readthedocs.io/en/latest/index.html)\n",
    "- [Data Science YouTube Videos](https://www.youtube.com/playlist?list=PLKCk3OyNwIzv6CWMhvqSB_8MLJIZdO80L)\n",
    "- [OCI Data Science Documentation](https://docs.cloud.oracle.com/en-us/iaas/data-science/using/data-science.htm)\n",
    "- [Oracle Data & AI Blog](https://blogs.oracle.com/datascience/)"
   ]
  },
  {
   "cell_type": "code",
   "execution_count": null,
   "id": "89df403e",
   "metadata": {},
   "outputs": [],
   "source": []
  }
 ],
 "metadata": {
  "kernelspec": {
   "display_name": "Python 3 (ipykernel)",
   "language": "python",
   "name": "python3"
  },
  "language_info": {
   "codemirror_mode": {
    "name": "ipython",
    "version": 3
   },
   "file_extension": ".py",
   "mimetype": "text/x-python",
   "name": "python",
   "nbconvert_exporter": "python",
   "pygments_lexer": "ipython3",
   "version": "3.7.4"
  }
 },
 "nbformat": 4,
 "nbformat_minor": 5
}
