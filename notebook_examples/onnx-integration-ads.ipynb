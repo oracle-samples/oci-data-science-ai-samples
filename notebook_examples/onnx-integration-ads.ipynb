{
 "cells": [
  {
   "cell_type": "raw",
   "id": "ab6c39f3",
   "metadata": {},
   "source": [
    "@notebook{onnx-integration-ads.ipynb,\n",
    "    title: ONNX Integration with the Accelerated Data Science (ADS) SDK,\n",
    "    summary: Extract text from common formats (e.g. PDF and Word) into plain text. Customize this process for individual use cases.,\n",
    "    developed_on: nlp_p37_cpu_v2,\n",
    "    keywords: onnx, deploy model\n",
    "    license: Universal Permissive License v 1.0\n",
    "}"
   ]
  },
  {
   "attachments": {},
   "cell_type": "markdown",
   "metadata": {},
   "source": [
    "Oracle Data Science service sample notebook.\n",
    "\n",
    "Copyright (c) 2021, 2022 Oracle, Inc. All rights reserved. Licensed under the [Universal Permissive License v 1.0](https://oss.oracle.com/licenses/upl).\n",
    "\n",
    "---\n",
    "\n",
    "# <font color=\"red\">ONNX Integration with the Accelerated Data Science (ADS) SDK</font>\n",
    "<p style=\"margin-left:10%; margin-right:10%;\">by the <font color=\"teal\">Oracle Cloud Infrastructure Data Science Service.</font></p>\n",
    "\n",
    "---\n",
    "\n",
    "# Overview:\n",
    "\n",
    "This notebook showcases the integration between Open Neural Network Exchange, ([ONNX](https://onnx.ai/)), `ADS`, and `sklearn`. ONNX is an open standard for machine learning interoperability that enables easy deployment of models. ONNX is an extensible computational graph model with built-in operators and machine-independent data types. The operators are portable across hardware and frameworks. The computational flow is an acyclic graph that contains information about the flow of the data and also metadata. Each node in the data flow graph contains an operator that can accept multiple inputs and produce multiple outputs.\n",
    "\n",
    "Compatible conda pack: [ONNX 1.13 for GPU on Python 3.9 (version 1.0)](https://docs.oracle.com/en-us/iaas/data-science/using/conda-onnx-fam.htm)\n",
    "\n",
    "---\n",
    "\n",
    "## Contents:\n",
    "\n",
    "- <a href=\"#sklearn-ads\">Build a Model</a>\n",
    "- <a href=\"#onnx-serial\">Model Serialization with Onnx</a>\n",
    "  - <a href=\"#model-artifacts\">Model Artifacts</a>\n",
    "  - <a href=\"#model-workflow\">Model Workflow</a>\n",
    "- <a href=\"#model-prediction\">Model Prediction</a>\n",
    "  - <a href=\"#model-prediction-adsmodel\">Prediction using `ADSModel`</a>\n",
    "  - <a href=\"#model-prediction-onnx\">Prediction using OnnxRuntime</a>\n",
    "    - <a href=\"#model-prediction-missing\">Prediction with Missing Values</a>\n",
    "- <a href=\"#ref\">References</a>\n",
    "\n",
    "---\n",
    "\n",
    "**Important:**\n",
    "\n",
    "Placeholder text for required values are surrounded by angle brackets that must be removed when adding the indicated content. For example, when adding a database name to `database_name = \"<database_name>\"` would become `database_name = \"production\"`.\n",
    "\n",
    "---\n",
    "\n",
    "<font color=\"gray\">\n",
    "Datasets are provided as a convenience.  Datasets are considered third-party content and are not considered materials \n",
    "under your agreement with Oracle.\n",
    "    \n",
    "You can access the `iris` dataset license [here](https://github.com/scikit-learn/scikit-learn/blob/master/COPYING).  \n",
    "</font>\n",
    "\n",
    "---\n",
    "\n",
    "## Optional Installation of Pydot\n",
    "\n",
    "Prior to executing this notebook you may optionally install a library called `pydot`. This library is necessary to visualize a graph representation of the onnx model. This installation is optional. Set the flag `use_pydot` to True in the cell below and this will trigger the installation of `pydot` and enable code cells that create `pydot` visualizations. "
   ]
  },
  {
   "cell_type": "code",
   "execution_count": null,
   "metadata": {},
   "outputs": [],
   "source": [
    "import subprocess \n",
    "\n",
    "use_pydot = True\n",
    "\n",
    "if use_pydot: \n",
    "    process = subprocess.Popen(['pip','install','pydot'], stdout=subprocess.PIPE, stderr=subprocess.PIPE)\n",
    "    stdout, stderr = process.communicate()\n",
    "    print(stdout)\n",
    "    print(stderr)\n",
    "    if not process.returncode: \n",
    "        from onnx.tools.net_drawer import GetPydotGraph, GetOpNodeProducer\n",
    "    else: \n",
    "        use_pydot = False \n",
    "        raise Exception(\"Skipping pydot installation. All pydot graphs are disabled in this notebook.\")  "
   ]
  },
  {
   "cell_type": "code",
   "execution_count": null,
   "metadata": {},
   "outputs": [],
   "source": [
    "import logging\n",
    "import matplotlib.pyplot as plt\n",
    "import onnx\n",
    "import onnxruntime\n",
    "import os\n",
    "import random\n",
    "import shutil\n",
    "import tempfile\n",
    "import warnings\n",
    "\n",
    "from ads.common.model import ADSModel\n",
    "from ads.dataset.dataset_browser import DatasetBrowser\n",
    "from sklearn.pipeline import Pipeline\n",
    "from sklearn.preprocessing import StandardScaler\n",
    "from sklearn.linear_model import LogisticRegression\n",
    "\n",
    "warnings.filterwarnings('ignore')\n",
    "logging.basicConfig(format='%(levelname)s:%(message)s', level=logging.ERROR)"
   ]
  },
  {
   "cell_type": "code",
   "execution_count": null,
   "metadata": {},
   "outputs": [],
   "source": [
    "# Check GPU\n",
    "\n",
    "import onnxruntime as ort\n",
    "assert ort.get_device() == 'GPU', \"\"\n",
    "\n",
    "print(onnx.__version__, onnxruntime.__version__)"
   ]
  },
  {
   "attachments": {},
   "cell_type": "markdown",
   "metadata": {},
   "source": [
    "<a id='sklearn-ads'></a>\n",
    "# Build a Model\n",
    "\n",
    "In the next cell, the `iris` dataset is loaded, and then split into a training and a test set. A pipeline is created to scale the data and perform a logistic regression. This `sklearn` pipeline is then converted into an `ADSModel`."
   ]
  },
  {
   "cell_type": "code",
   "execution_count": null,
   "metadata": {},
   "outputs": [],
   "source": [
    "ds = DatasetBrowser.sklearn().open(\"iris\")\n",
    "train, test = ds.train_test_split()\n",
    "pipe = Pipeline([('scaler', StandardScaler()), \n",
    "                 ('classifier', LogisticRegression())])\n",
    "pipe.fit(train.X, train.y)\n",
    "adsmodel = ADSModel.from_estimator(pipe)"
   ]
  },
  {
   "attachments": {},
   "cell_type": "markdown",
   "metadata": {},
   "source": [
    "<a id=\"onnx-serial\"> </a>\n",
    "# Model Serialization with ONNX\n",
    "\n",
    "This example uses the `ADSModel` class. The class supports a number of popular model libraries including Automl, SKlearn, XGBoost, LightGBM, and Pytorch. With `ADSModel` objects, the `prepare()` method is used to create the model artifacts. If you want to use an unsupported model type then the model must be manually serialized into ONNX and put in the folder that was created by a call to the `prepare_generic_model()` method.\n",
    "\n",
    "`ADSModel.prepare()` does the following:\n",
    "- Serializes the model into ONNX format into a file named `model.onnx`.\n",
    "- Creates a file to save metadata about the data samples.\n",
    "- Calls `prepare_generic_model`.\n",
    "\n",
    "Thus, a call to `ADSModel.prepare()` is similar to calling `ADSModel.prepare_generic_model()` except that `ADSModel.prepare()` also serializes the model.\n",
    "\n",
    "The next cell creates a temporary directory, serializes the model into an ONNX format, stores sample data, and then loads the ONNX model into memory."
   ]
  },
  {
   "cell_type": "code",
   "execution_count": null,
   "metadata": {},
   "outputs": [],
   "source": [
    "model_path = tempfile.mkdtemp()\n",
    "model_artifact = adsmodel.prepare(model_path, X_sample=test.X[:5], \n",
    "                                  y_sample=test.y[:5], force_overwrite=True, data_science_env=True)\n",
    "onnx_model = onnx.load_model(os.path.join(model_path, \"model.onnx\"))"
   ]
  },
  {
   "attachments": {},
   "cell_type": "markdown",
   "metadata": {},
   "source": [
    "<a id=\"model-artifacts\"></a>\n",
    "## Model Artifacts\n",
    "\n",
    "The prediction pipeline is written to the `score.py` file in the `model_path`. This allows for the prediction script, used by the `ADSModel` class, to be customized. This file is validated to confirm that it imports all required libraries so that the model works correctly when it is deployed. It can also be customized to meet your application's specific requirements. More details about using the `score.py` file are found in the `model_catalog.ipynb` notebook.\n",
    "\n",
    "The next cell outputs the contents of the `score.py` file."
   ]
  },
  {
   "cell_type": "code",
   "execution_count": null,
   "metadata": {},
   "outputs": [],
   "source": [
    "with open(os.path.join(model_path, \"score.py\"), \"r\") as f:\n",
    "    print(f.read())"
   ]
  },
  {
   "attachments": {},
   "cell_type": "markdown",
   "metadata": {},
   "source": [
    "<a id=\"model-workflow\"></a>\n",
    "## Model Workflow\n",
    "\n",
    "ONNX is an extensible computational graph model with built-in operators and machine-independent data types. The computational flow is an acyclic graph that contains information about the flow of the data and also metadata. Each node in the data flow graph contains an operator that can accept multiple inputs and produce multiple outputs. The next cell generates a plot of the ONNX model's acyclic graph."
   ]
  },
  {
   "cell_type": "code",
   "execution_count": null,
   "metadata": {},
   "outputs": [],
   "source": [
    "if use_pydot:\n",
    "    graph_path = tempfile.mkdtemp()\n",
    "    graph_dot = os.path.join(graph_path, 'model.dot')\n",
    "    graph_png = os.path.join(graph_path, 'model.dot.png')\n",
    "    graph = GetPydotGraph(onnx_model.graph, name=onnx_model.graph.name, \n",
    "    rankdir=\"TB\", \n",
    "    node_producer=GetOpNodeProducer(\"docstring\", color=\"yellow\", \n",
    "                                    fillcolor=\"yellow\", style=\"filled\"))\n",
    "    graph.write_dot(graph_dot)\n",
    "    os.system(f\"dot -O -Gdpi=300 -Tpng {graph_dot}\")\n",
    "    image = plt.imread(graph_png)\n",
    "    shutil.rmtree(graph_path)\n",
    "    fig, ax = plt.subplots(figsize=(40, 20))\n",
    "    ax.imshow(image)\n",
    "    ax.axis('off')\n",
    "    plt.show()\n",
    "else: \n",
    "    print(\"Skipping ONNX graph\")"
   ]
  },
  {
   "attachments": {},
   "cell_type": "markdown",
   "metadata": {},
   "source": [
    "<a id=\"model-prediction\"></a>\n",
    "# Model Prediction\n",
    "\n",
    "Since `ADSModel` was created, predictions can be used using that mechanism. However, ONNX also has the ability to do predictions directly and it can deal with missing data in the predictors.\n",
    "\n",
    "<a id=\"model-prediction-adsmodel\"></a>\n",
    "## Prediction using ADSModel\n",
    "\n",
    "The `ADSModel` has the method `predict()` that accepts predictors, in the form of a `DataFrame` object, and returns predicted values. The next cell demonstrates how to make predictions using the test data."
   ]
  },
  {
   "cell_type": "code",
   "execution_count": null,
   "metadata": {},
   "outputs": [],
   "source": [
    "adsmodel.predict(test.X)"
   ]
  },
  {
   "attachments": {},
   "cell_type": "markdown",
   "metadata": {},
   "source": [
    "<a id=\"model-prediction-onnx\"></a>\n",
    "## Prediction using OnnxRuntime\n",
    "\n",
    "An `InterfaceSession` object is needed to create a session connection to the ONNX model. This session is then used to pass the model parameters to the `run()` method. While `ADSmodel.predict()` accepts these parameters as a `DataFrame`, ONNX accepts them as a dictionary. The parameters are stored in a key labeled `input` and the values are in a list of lists.\n",
    "\n",
    "The next cell creates the `InferenceSession` object, requests a sets of predictions, and prints the predicted values."
   ]
  },
  {
   "cell_type": "code",
   "execution_count": null,
   "metadata": {},
   "outputs": [],
   "source": [
    "session = onnxruntime.InferenceSession(os.path.join(model_path, \"model.onnx\"), \n",
    "                                        providers=['TensorrtExecutionProvider', 'CUDAExecutionProvider', 'CPUExecutionProvider'])\n",
    "pred_class, pred_probability = session.run(None,  \n",
    "    {'input': [[value for value in row] for index, row in test.X.iterrows()]})\n",
    "pred_class"
   ]
  },
  {
   "attachments": {},
   "cell_type": "markdown",
   "metadata": {},
   "source": [
    "The `run()` method returns two datasets. The first is the class predictions as in the preceding cell. This is the class with the highest probability. The second is a list of all the probabilities for each class in a prediction. This information can be used to assess the confidence that the model has in the prediction. For example, the first predicted class was `setosa`. By examining the probabilities, it can be seen that the evidence is strong that this is a correct prediction because the probabilities for the other classes are extremely low."
   ]
  },
  {
   "cell_type": "code",
   "execution_count": null,
   "metadata": {},
   "outputs": [],
   "source": [
    "pred_probability[0]"
   ]
  },
  {
   "attachments": {},
   "cell_type": "markdown",
   "metadata": {},
   "source": [
    "<a id=\"model-prediction-missing\"></a>\n",
    "### Prediction with Missing Values\n",
    "\n",
    "ONNX can often handle missing data even when the underlying structural model cannot. In this example, a logistic regression is used and generally this class of model can't handle missing data. However, the ONNX inference engine can generally deal with this by imputing the data.\n",
    "\n",
    "In the next cell, the test data has a small proportion of values masked (removed from the dataset). The ONNX `run()` method is called to make predictions."
   ]
  },
  {
   "cell_type": "code",
   "execution_count": null,
   "metadata": {},
   "outputs": [],
   "source": [
    "random.seed(42)\n",
    "pred_class, pred_probability = session.run(None,  \n",
    "    {'input': [[None if random.random() < 0.1 else value for value in row] \n",
    "               for index, row in test.X.iterrows()]})\n",
    "pred_class"
   ]
  },
  {
   "attachments": {},
   "cell_type": "markdown",
   "metadata": {},
   "source": [
    "<a id=\"ref\"></a>\n",
    "# References\n",
    "\n",
    "- [ADS Library Documentation](https://docs.cloud.oracle.com/en-us/iaas/tools/ads-sdk/latest/index.html)\n",
    "- [Data Science YouTube Videos](https://www.youtube.com/playlist?list=PLKCk3OyNwIzv6CWMhvqSB_8MLJIZdO80L)\n",
    "- [Managing Models](https://docs.cloud.oracle.com/en-us/iaas/data-science/using/manage-models.htm)\n",
    "- [OCI Data Science Documentation](https://docs.cloud.oracle.com/en-us/iaas/data-science/using/data-science.htm)\n",
    "- [ONNX Homepage](https://onnx.ai/)\n",
    "- [Oracle Data & AI Blog](https://blogs.oracle.com/datascience/)\n",
    "- [Using Notebook Sessions to Build and Train Models](https://docs.cloud.oracle.com/en-us/iaas/data-science/using/use-notebook-sessions.htm)"
   ]
  },
  {
   "attachments": {},
   "cell_type": "markdown",
   "metadata": {},
   "source": []
  }
 ],
 "metadata": {
  "kernelspec": {
   "display_name": "Python 3 (ipykernel)",
   "language": "python",
   "name": "python3"
  },
  "language_info": {
   "codemirror_mode": {
    "name": "ipython",
    "version": 3
   },
   "file_extension": ".py",
   "mimetype": "text/x-python",
   "name": "python",
   "nbconvert_exporter": "python",
   "pygments_lexer": "ipython3",
   "version": "3.7.11"
  }
 },
 "nbformat": 4,
 "nbformat_minor": 4
}
