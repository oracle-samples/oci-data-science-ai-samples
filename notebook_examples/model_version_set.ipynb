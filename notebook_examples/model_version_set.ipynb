{
 "cells": [
  {
   "cell_type": "raw",
   "id": "4d9b16b4",
   "metadata": {},
   "source": [
    "@notebook{model_version_set.ipynb,\n",
    "    title: Introduction to Model Version Set,\n",
    "    summary: A model version set is a way to track the relationships between models. As a container, the model version set takes a collection of models. Those models are assigned a sequential version number based on the order they are entered into the model version set.,\n",
    "    developed_on: dbexp_p38_cpu_v1,\n",
    "    keywords: model, model experiments, model version set,\n",
    "    license: Universal Permissive License v 1.0\n",
    "}"
   ]
  },
  {
   "cell_type": "code",
   "execution_count": null,
   "id": "39de6567",
   "metadata": {},
   "outputs": [],
   "source": [
    "# Upgrade Oracle ADS to pick up latest features and maintain compatibility with Oracle Cloud Infrastructure.\n",
    "!pip install -U oracle-ads"
   ]
  },
  {
   "cell_type": "markdown",
   "id": "148e1e8b",
   "metadata": {},
   "source": [
    "Oracle Data Science service sample notebook.\n",
    "\n",
    "Copyright (c) 2022 Oracle, Inc. All rights reserved. Licensed under the [Universal Permissive License v 1.0](https://oss.oracle.com/licenses/upl).\n",
    "\n",
    "---\n",
    "\n",
    "# <font color=\"red\">Introduction to Model Version Set [Limited Availability]</font>\n",
    "<p style=\"margin-left:10%; margin-right:10%;\">by the <font color=\"teal\">Oracle Cloud Infrastructure Data Science Service.</font></p>\n",
    "\n",
    "---\n",
    "\n",
    "# Overview:\n",
    "\n",
    "The normal workflow of a data scientist is to create a model and push it into production. While in production the data scientist learns what the model is doing well and what it isn't. Using this information they create an improved model. These models should be linked in some way, which are model version sets. A model version set is a collection of models that are related to each other as ancestors. A model version set is a way to track the relationships between models. As a container, the model version set takes a collection of models. Those models are assigned a sequential version number based on the order they are entered into the model version set. \n",
    "\n",
    "In ADS the class ``ModelVersionSet`` is used to represent the model version set. An object of ``ModelVersionSet`` references a model version set in the Data Science service. The ``ModelVersionSet`` class supports two APIs: the builder pattern and the traditional parameter-based pattern. You can use either of these API frameworks interchangeably and examples for both patterns are included.\n",
    "\n",
    "Use the ``.create()`` method to create a model version set in your tenancy. If the model version set already exists in the model catalog, then use the ``.from_id()`` and ``from_name()`` methods to create a ``ModelVersionSet`` object based on the specified model version set. If you make changes to the metadata associated with the model version set, use the ``.update()`` method to push those changes to the model catalog. The ``.list()`` method lists all model version sets. To add an existing model to a model version set, use the ``.add_model()`` method. The ``.models()`` method lists the models in the model version set. Use the ``.delete()`` method to delete a model version set from the model catalog.\n",
    "\n",
    "Compatible conda pack: [Oracle Database and Data Exploration](https://docs.oracle.com/en-us/iaas/data-science/using/conda-dem-fam.htm) for CPU Python 3.8\n",
    "\n",
    "---\n",
    "\n",
    "## Contents:\n",
    "\n",
    " - <a href='#create'>Create new Model Version Set</a>\n",
    " - <a href='#update'>Update a Model Version Set</a>\n",
    " - <a href='#list-mvs'>List Model Version Sets</a>\n",
    " - <a href='#get'>Get Model Version Sets by id</a>\n",
    " - <a href='#associate'>Associate Models with a Model Version Set</a>\n",
    " - <a href='#list'>List Models within a Model Version Set</a>\n",
    " - <a href='#delete'>Delete a Model Version Set</a>\n",
    " \n",
    "   \n",
    " \n",
    "---\n",
    "\n",
    "**Important:**\n",
    "\n",
    "Placeholder text for required values are surrounded by angle brackets that must be removed when adding the indicated content. For example, when adding a database name to `database_name = \"<database_name>\"` would become `database_name = \"production\"`.\n",
    "\n",
    "---\n",
    "\n",
    "<font color=\"gray\">\n",
    "Datasets are provided as a convenience.  Datasets are considered third-party content and are not considered materials \n",
    "under your agreement with Oracle.\n",
    "    \n",
    "You can access the `oracle_classification_dataset1` dataset license [here](https://oss.oracle.com/licenses/upl). \n",
    "</font>\n",
    "\n",
    "---"
   ]
  },
  {
   "cell_type": "markdown",
   "id": "0f6b2181",
   "metadata": {},
   "source": [
    "# Introduction \n",
    "\n",
    "Versioning a model is a way to keep track of the relationships between the various models. The creation of multiple model versions occurs mostly during the ideation/iterative phase of the machine learning model lifecycle where multiple experiments are run. Data scientists will typically train multiple model \"candidates\" that are represented by different versions.  Some of these candidate models will be eventually deployed. Data scientists want to keep records of the different models they have trained and their various attempts at improving the model performance on validation datasets. Versioning allows data scientists to keep track of those candidate models in a flexible way."
   ]
  },
  {
   "cell_type": "code",
   "execution_count": null,
   "id": "ab5d2310",
   "metadata": {},
   "outputs": [],
   "source": [
    "%load_ext autoreload\n",
    "%autoreload 2\n",
    "%matplotlib inline"
   ]
  },
  {
   "cell_type": "code",
   "execution_count": null,
   "id": "5ee78714",
   "metadata": {},
   "outputs": [],
   "source": [
    "from ads.model.model_metadata import UseCaseType\n",
    "from ads.model import GenericModel, ModelVersionSet\n",
    "from numpy import array, ndarray\n",
    "import numpy as np\n",
    "import oci\n",
    "import ads\n",
    "import logging\n",
    "import os\n",
    "import random\n",
    "import sys\n",
    "import tempfile\n",
    "import warnings\n",
    "\n",
    "logging.basicConfig(\n",
    "    format=\"%(levelname)s:%(message)s\", level=logging.INFO, stream=sys.stdout\n",
    ")\n",
    "ads.set_auth(\"resource_principal\")"
   ]
  },
  {
   "cell_type": "markdown",
   "id": "f9d2be7d",
   "metadata": {},
   "source": [
    "<a id='create'></a>\n",
    "# Create new Model Version Set\n",
    "\n",
    "The ``.create()`` method on a ``ModelVersionSet`` object creates a model version set in the model catalog. The properties of the ``ModelVersionSet`` are used to create the model version set in the model catalog. \n",
    "\n",
    "The following examples creates a ``ModelVersionSet``, defines the properties of the model version set, and then creates a model version set in the model catalog.\n",
    "\n"
   ]
  },
  {
   "cell_type": "markdown",
   "id": "6fb92b7b",
   "metadata": {},
   "source": [
    "<a id='constructor'></a>\n",
    "## Constructor"
   ]
  },
  {
   "cell_type": "code",
   "execution_count": null,
   "id": "0211f802",
   "metadata": {},
   "outputs": [],
   "source": [
    "mvs = ModelVersionSet(\n",
    "    compartment_id=os.environ[\"PROJECT_COMPARTMENT_OCID\"],\n",
    "    name=\"demo_experiment_1\",\n",
    "    projectId=os.environ[\"PROJECT_OCID\"],\n",
    "    description=\"Demo experiment number one\",\n",
    ")"
   ]
  },
  {
   "cell_type": "markdown",
   "id": "e0286db8",
   "metadata": {},
   "source": [
    "<a id='yaml'></a>\n",
    "## From YAML\n",
    "\n",
    "Sometimes, a user may want to define their ``ModelVersionSet`` in terms of a YAML file because of its superior readability and user-friendlieness"
   ]
  },
  {
   "cell_type": "code",
   "execution_count": null,
   "id": "2661ef22",
   "metadata": {},
   "outputs": [],
   "source": [
    "mvs = ModelVersionSet.from_yaml(mvs.to_yaml())"
   ]
  },
  {
   "cell_type": "markdown",
   "id": "c1d58b56",
   "metadata": {},
   "source": [
    "## Create\n",
    "\n",
    "The previous cells only create a ``ModelVersionSet`` object locally, in order to propegate its creation to the console, ``create()`` must be called on the object"
   ]
  },
  {
   "cell_type": "code",
   "execution_count": null,
   "id": "67ff9998",
   "metadata": {},
   "outputs": [],
   "source": [
    "mvs.create()"
   ]
  },
  {
   "cell_type": "markdown",
   "id": "40e81b75",
   "metadata": {},
   "source": [
    "<a id='update'></a>\n",
    "# Update a Model Version Set\n",
    "\n",
    "The ``ModelVersionSet`` object has a number of properties that you can be update. When the properties in a ``ModelVersionSet`` object are updated, the model version set in the model catalog are not automatically updated. You must call the ``.update()`` method to commit the changes.\n",
    "\n",
    "The properties that you can be update are:\n",
    "\n",
    "* ``compartment_id``: The OCID of the compartment that the model version set belongs to.\n",
    "* ``description``: A description of the models in the collection.\n",
    "* ``freeform_tags``: A dictionary of string values.\n",
    "* ``name``: Name of the model version set.\n",
    "* ``project_id``: The OCID of the data science project that the model version set belongs to.\n",
    "\n",
    "The following demonstrates how to update these values of a model version set using the various API interfaces:\n",
    "\n"
   ]
  },
  {
   "cell_type": "code",
   "execution_count": null,
   "id": "ef62cf70",
   "metadata": {},
   "outputs": [],
   "source": [
    "mvs.description = \"Demo experiment number one with corrected description.\"\n",
    "mvs.freeform_tags = {\"test_tag\": \"Some tag value\", \"some_other_tag\": \"New tag\"}\n",
    "mvs.update()"
   ]
  },
  {
   "cell_type": "markdown",
   "id": "125ed920",
   "metadata": {},
   "source": [
    "\n",
    "## Version Label\n",
    "\n",
    "Versioning lets you keep track of all of your models, how well they’ve done, and what hyperparameters they used. Versioning ML models is useful for the same reasons that it is useful to use ``git`` to version control software\n",
    "\n",
    "The version label is associated with the model, and not the model version set. To change the version label, you must have a ``Model`` object. Then you can change the ``version_label`` property, and then commit it to the model catalog.\n"
   ]
  },
  {
   "cell_type": "markdown",
   "id": "ba506b88",
   "metadata": {},
   "source": [
    "<a id='list-mvs'></a>\n",
    "# List Model Version Sets\n",
    "\n",
    "The ``.list()`` method on the ``ModelVersionSet`` class takes a compartment ID and lists the model version sets in that compartment. If the compartment isn't given, then the compartment of the notebook session is used. \n",
    "\n",
    "The following  uses a context manager to iterate over the collection of model version sets:\n"
   ]
  },
  {
   "cell_type": "code",
   "execution_count": null,
   "id": "127ee007",
   "metadata": {},
   "outputs": [],
   "source": [
    "for item in ModelVersionSet.list(os.environ[\"PROJECT_COMPARTMENT_OCID\"], limit=4):\n",
    "    print(item)\n",
    "    print(\"---------\")"
   ]
  },
  {
   "cell_type": "markdown",
   "id": "88619262",
   "metadata": {},
   "source": [
    "<a id='get'></a>\n",
    "# Get Model Version Sets by id\n",
    "\n",
    "You can get a list of models that are associated with a model version set by calling the ``.models()`` method on a ``ModelVersionSet`` object. A list of models that are associated with that model version set is returned.First you must obtain a ``ModelVersionSet`` object. Use the ``.from_id()`` method if you know the model version set OCID. Alternatively, use the ``.from_name()`` method if you know the name of the model version set."
   ]
  },
  {
   "cell_type": "code",
   "execution_count": null,
   "id": "b1061257",
   "metadata": {},
   "outputs": [],
   "source": [
    "mvs = ModelVersionSet.from_id(mvs.id)\n",
    "mvs"
   ]
  },
  {
   "cell_type": "markdown",
   "id": "16fa28d3",
   "metadata": {},
   "source": [
    "## Get by name"
   ]
  },
  {
   "cell_type": "code",
   "execution_count": null,
   "id": "ac78496a",
   "metadata": {},
   "outputs": [],
   "source": [
    "mvs = ModelVersionSet.from_name(name=mvs.name)\n",
    "mvs"
   ]
  },
  {
   "cell_type": "markdown",
   "id": "2f36fec7",
   "metadata": {},
   "source": [
    "<a id='associate'></a>\n",
    "# Associate Models with a Model Version Set\n",
    "\n",
    "Model version sets are a collection of models. When a model is associated with a model version set, a version label can be assigned to it. This is different than the model version that is maintained by the model version set. \n",
    "There are a number of ways to associate a model with a model version set. Which approach you use depends on the workflow."
   ]
  },
  {
   "cell_type": "code",
   "execution_count": null,
   "id": "bde4a6f9",
   "metadata": {},
   "outputs": [],
   "source": [
    "class Square:\n",
    "    def predict(self, x):\n",
    "        x_array = np.array(x)\n",
    "        return np.ndarray.tolist(x_array * x_array)\n",
    "\n",
    "\n",
    "X = random.sample(range(0, 100), 10)\n",
    "\n",
    "with tempfile.TemporaryDirectory() as temp_dir:\n",
    "    artifact_dir = os.path.join(temp_dir, \"artifacts\")\n",
    "\n",
    "generic_model = GenericModel(estimator=Square(), artifact_dir=artifact_dir)\n",
    "generic_model.prepare(\n",
    "    inference_conda_env=\"dbexp_p38_cpu_v1\",\n",
    "    training_conda_env=\"dbexp_p38_cpu_v1\",\n",
    "    use_case_type=UseCaseType.MULTINOMIAL_CLASSIFICATION,\n",
    "    X_sample=X,\n",
    "    y_sample=array(X) ** 2,\n",
    "    force_overwrite=True,\n",
    ")"
   ]
  },
  {
   "cell_type": "markdown",
   "id": "c75707f3",
   "metadata": {},
   "source": [
    "A model does not have to be associated with a model version set. In this case, using the ``.model_add()`` method on a ``ModelVersionSet`` object to associate it with the model version set that it represents. The ``.model_add()`` requires that you provide the model OCID and optionally a version label.\n"
   ]
  },
  {
   "cell_type": "markdown",
   "id": "895510ba",
   "metadata": {},
   "source": [
    "## With ModelVersionSet"
   ]
  },
  {
   "cell_type": "code",
   "execution_count": null,
   "id": "21a7d7a4",
   "metadata": {},
   "outputs": [],
   "source": [
    "generic_model.save(display_name=\"Demo Generic Model 1\")\n",
    "mvs.model_add(generic_model.model_id, version_label=\"Version label 1\")"
   ]
  },
  {
   "cell_type": "markdown",
   "id": "a415d55f",
   "metadata": {},
   "source": [
    "## With Context Manager\n",
    "When you have multiple models that you want to associate with some model version set, use a context manager. The ``ads.model.experiment()`` method has a required ``name`` parameter. If the model catalog has a model version set name that matches, it uses that model version set. If the parameter ``create_if_not_exists`` is ``True``, then the ``experiment()`` method attempts to use the model version set with the matching name in the model catalog or it creates a version set if needed.\n",
    "\n",
    "Within the context manager, you can save multiple `Model Serialization` models without specifying the ``model_version_set`` parameter because it's taken from the model context manager. The following example assumes that ``model_1``, ``model_2``, and ``model_3`` are `Model Serialization` objects. It creates a model version set named ``my_model_version_set`` if it doesn't exist in the model catalog. If it does exist in the model catalog, it saves the models to that model version set."
   ]
  },
  {
   "cell_type": "code",
   "execution_count": null,
   "id": "fa54597b",
   "metadata": {},
   "outputs": [],
   "source": [
    "with ads.model.experiment(name=mvs.name, create_if_not_exists=False):\n",
    "    # experiment 1\n",
    "    generic_model.save(\n",
    "        display_name=\"Demo Generic Model 2\", version_label=\"Version label 2\"\n",
    "    )\n",
    "    # experiment 2\n",
    "    generic_model.save(\n",
    "        display_name=\"Demo Generic Model 3\", version_label=\"Version label 3\"\n",
    "    )\n",
    "    # experiment 3\n",
    "    generic_model.save(\n",
    "        display_name=\"Demo Generic Model 4\", version_label=\"Version label 4\"\n",
    "    )"
   ]
  },
  {
   "cell_type": "markdown",
   "id": "cfb3ec56",
   "metadata": {},
   "source": [
    "<a id='list'></a>\n",
    "# Get list of models within a Model Version Set\n"
   ]
  },
  {
   "cell_type": "code",
   "execution_count": null,
   "id": "feab61a6",
   "metadata": {},
   "outputs": [],
   "source": [
    "for dsc_model in mvs.models():\n",
    "    print(dsc_model.display_name, dsc_model.id, dsc_model.status)"
   ]
  },
  {
   "cell_type": "markdown",
   "id": "499d7484",
   "metadata": {},
   "source": [
    "<a id='delete'></a>\n",
    "# Delete a Model Version Set\n",
    "\n",
    "To delete a model version set, all the associated models must be deleted or in a terminated state. The ``.delete()`` method on a ``ModelVersionSet`` object initiates an asynchronous delete operation. You can check the ``.status`` method on the ``ModelVersionSet`` object to determine the status of the delete request. Since all of the models associated with the model version set must be deleted or in a terminated state, set the ``delete_model`` parameter to ``True`` to delete all of the models in the model version set, and then delete the model version set.\n",
    "\n",
    "\n",
    "The following deletes a model version set and it associated models. \n"
   ]
  },
  {
   "cell_type": "code",
   "execution_count": null,
   "id": "f0ddfe9b",
   "metadata": {},
   "outputs": [],
   "source": [
    "mvs"
   ]
  },
  {
   "cell_type": "code",
   "execution_count": null,
   "id": "b1fd6fa9",
   "metadata": {},
   "outputs": [],
   "source": [
    "mvs.delete(delete_model=True)"
   ]
  },
  {
   "cell_type": "markdown",
   "id": "6acbae20",
   "metadata": {},
   "source": [
    "The ``status`` property has the following values:\n",
    "\n",
    "* ``ModelVersionSet.LIFECYCLE_STATE_ACTIVE``\n",
    "* ``ModelVersionSet.LIFECYCLE_STATE_DELETED``\n",
    "* ``ModelVersionSet.LIFECYCLE_STATE_DELETING``\n",
    "* ``ModelVersionSet.LIFECYCLE_STATE_FAILED``\n"
   ]
  },
  {
   "cell_type": "code",
   "execution_count": null,
   "id": "32e89d98",
   "metadata": {},
   "outputs": [],
   "source": [
    "mvs.status"
   ]
  },
  {
   "cell_type": "markdown",
   "id": "49aacda4",
   "metadata": {},
   "source": [
    "<a id='ref'></a>\n",
    "# References\n",
    "\n",
    "- [ADS Library Documentation](https://docs.cloud.oracle.com/en-us/iaas/tools/ads-sdk/latest/index.html)\n",
    "- [Data Science YouTube Videos](https://www.youtube.com/playlist?list=PLKCk3OyNwIzv6CWMhvqSB_8MLJIZdO80L)\n",
    "- [OCI Data Science Documentation](https://docs.cloud.oracle.com/en-us/iaas/data-science/using/data-science.htm)\n",
    "- [Oracle Data & AI Blog](https://blogs.oracle.com/datascience/)"
   ]
  }
 ],
 "metadata": {
  "kernelspec": {
   "display_name": "Python 3.9.1 64-bit",
   "language": "python",
   "name": "python3"
  },
  "language_info": {
   "codemirror_mode": {
    "name": "ipython",
    "version": 3
   },
   "file_extension": ".py",
   "mimetype": "text/x-python",
   "name": "python",
   "nbconvert_exporter": "python",
   "pygments_lexer": "ipython3",
   "version": "3.10.8"
  },
  "vscode": {
   "interpreter": {
    "hash": "aee8b7b246df8f9039afb4144a1f6fd8d2ca17a180786b69acc140d282b71a49"
   }
  }
 },
 "nbformat": 4,
 "nbformat_minor": 5
}
