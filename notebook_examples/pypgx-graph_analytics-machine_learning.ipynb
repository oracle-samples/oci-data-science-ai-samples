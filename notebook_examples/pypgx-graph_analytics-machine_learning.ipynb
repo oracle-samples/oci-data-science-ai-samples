{
 "cells": [
  {
   "cell_type": "raw",
   "id": "4565c74f",
   "metadata": {},
   "source": [
    "@notebook{pypgx-graph_analytics-machine_learning.ipynb,\n",
    "    title: Graph Analytics and Graph Machine Learning with PyPGX,\n",
    "    summary: Use Oracle's Graph Analytics libraries to demonstrate graph algorithms, graph machine learning models, and use the property graph query language (PGQL),\n",
    "    developed on: pypgx214_p38_cpu_v2,\n",
    "    keywords: pypgx, graph analytics, pgx\n",
    "    license: Universal Permissive License v 1.0\n",
    "}"
   ]
  },
  {
   "attachments": {},
   "cell_type": "markdown",
   "id": "360f5109",
   "metadata": {},
   "source": [
    "Oracle Data Science service sample notebook.\n",
    "\n",
    "Copyright (c) 2022, 2023 Oracle, Inc. All rights reserved. Licensed under the [Universal Permissive License v 1.0](https://oss.oracle.com/licenses/upl).\n",
    "\n",
    "---\n",
    "\n",
    "# <font color=\"red\">Graph Analytics and Graph Machine Learning with PyPGX</font>\n",
    "<p style=\"margin-left:10%; margin-right:10%;\">by the <font color=\"teal\">Oracle Cloud Infrastructure Data Science Service.</font></p>\n",
    "\n",
    "---"
   ]
  },
  {
   "attachments": {},
   "cell_type": "markdown",
   "id": "5b3f981d",
   "metadata": {},
   "source": [
    "# Overview:\n",
    "\n",
    "Graph analysis lets you reveal latent information that is not directly apparent from fields in your data, but is encoded as direct and indirect relationships between elements of your data. This connectivity-related information is not obvious to the naked eye, but can have tremendous value after it is uncovered. Parallel Graph AnalytiX (PGX) is a toolkit for graph analysis and supports both efficient graph algorithms and fast SQL-like graph pattern matching queries.\n",
    "\n",
    "The tools included as part of the PGX distribution include the PGX Algorithms. PGX is a domain-specific language for writing graph analysis algorithms in a simple and readable form, which the PyPGX runtime can transparently optimize and run. This notebook explores the built-in algorithms provided by PyPGX.\n",
    "\n",
    "PyPGX provides a machine learning library that supports the following (graph-empowered) machine learning algorithms:\n",
    "* [DeepWalk](https://docs.oracle.com/cd/F41824_01/latest/prog-guides/mllib/deepwalk.html) (Vertex embeddings)\n",
    "* [SupervisedGraphWise](https://docs.oracle.com/cd/F41824_01/latest/prog-guides/mllib/supervisedgraphwise.html) (Vertex embeddings and classification)\n",
    "* [UnsupervisedGraphWise](https://docs.oracle.com/cd/F41824_01/latest/prog-guides/mllib/unsupervisedgraphwise.html) (Vertex embeddings)\n",
    "* [Pg2vec](https://docs.oracle.com/cd/F41824_01/latest/prog-guides/mllib/pg2vec.html) (Graph embeddings)\n",
    "\n",
    "[Property Graph Query Language (PGQL)](https://pgql-lang.org/spec/latest/) is an SQL-based query language for the property graph data model that allows you to specify high-level graph patterns that are matched against vertices and edges in a graph. PGQL has support for grouping (GROUP BY), aggregation (`MIN`, `MAX`, `AVG`, `SUM`), sorting (`ORDER BY`), and many other familiar SQL constructs. Furthermore, PGQL has powerful regular expression constructs for graph reachability (transitive closure), shortest path finding, and cheapest path finding.\n",
    "\n",
    "In this notebook, you use the scikit-learn diabetes dataset to build:\n",
    "1. a graph to demonstrate several graph algorthms,\n",
    "2. graph machine learning models, and\n",
    "3. a graph to demonstrate PGQL.\n",
    "\n",
    "---\n",
    "    \n",
    "## Contents:\n",
    "\n",
    "* <a href=\"#intro\"><b>Introduction</b></a>\n",
    "    * <a href=\"#intro_session_analyst\">Session and Analyst Objects</a>\n",
    "    * <a href=\"#intro_dataset\">Dataset</a>\n",
    "* <a href=\"#create_graph\"><b>Create a Graph</b></a>\n",
    "    * <a href=\"#create_graph_nodes\">Create Nodes</a>\n",
    "    * <a href=\"#create_graph_edge\">Create Edges</a>\n",
    "    * <a href=\"#create_graph_save\">Save Graph Data</a>\n",
    "    * <a href=\"#create_graph_load\">Load Graph Data</a>\n",
    "* <a href='#built-in'><b>PyPGX's Built-in Algorithms</b></a>\n",
    "    * <a href='#built-in_pagerank'>Personnalized PageRank</a>\n",
    "    * <a href='#built-in_eigenvector'>Eigenvector Centrality</a>\n",
    "    * <a href='#built-in_diameter'>Diameter / Radius</a>\n",
    "    * <a href='#built-in_lcc'>Local Clustering Coefficient</a>\n",
    "    * <a href='#built-in_label'>Communities Label Propagation</a>\n",
    "* <a href=\"#example\"><b>Graph Machine Learning Examples</b></a>\n",
    "    * <a href='#example_pagerank'>Example: Personalize PageRank</a>\n",
    "    * <a href='#example_deepwalk'>Example: DeepWalk</a>\n",
    "* <a href='#pgql'><b>PGQL Queries</b></a>\n",
    "    * <a href='#pgql_patients'>Example: Filter Patients Based On Age</a>\n",
    "    * <a href='#pgql_bmi'>Example: Patients with a High BMI</a>\n",
    "* <a href=\"#ref\"><b>References</b></a>\n",
    "\n",
    "---\n",
    "\n",
    "**Important:**\n",
    "\n",
    "Placeholder text for required values are surrounded by angle brackets that must be removed when adding the indicated content. For example, when adding a database name to `database_name = \"<database_name>\"` would become `database_name = \"production\"`.\n",
    "\n",
    "---\n",
    "\n",
    "Datasets are provided as a convenience.  Datasets are considered third-party content and are not considered materials \n",
    "under your agreement with Oracle.\n",
    "     \n",
    "You can access the `diabetes` dataset license [here](https://opensource.org/licenses/BSD-3-Clause).\n",
    "\n",
    "---\n",
    "The notebook is compatible with the following [Data Science conda environment](https://docs.oracle.com/en-us/iaas/data-science/using/conda_environ_list.htm):\n",
    "\n",
    "* [Parallel Graph AnalytiX 21.4](https://docs.oracle.com/en-us/iaas/data-science/using/conda-pypgx-fam.htm) for CPU on Python 3.8 (version 2.0)\n"
   ]
  },
  {
   "cell_type": "code",
   "execution_count": null,
   "id": "ef1c35fd",
   "metadata": {},
   "outputs": [],
   "source": [
    "import logging\n",
    "logging.basicConfig(level=logging.ERROR)\n",
    "import warnings\n",
    "warnings.filterwarnings('ignore')\n",
    "\n",
    "import json\n",
    "import numpy as np\n",
    "import os\n",
    "import pandas as pd\n",
    "import pypgx\n",
    "import seaborn as sns\n",
    "import sklearn\n",
    "import shutil\n",
    "import tempfile\n",
    "\n",
    "from ads.common.model import ADSModel\n",
    "from ads.dataset.dataset_browser import DatasetBrowser\n",
    "from ads.dataset.factory import DatasetFactory\n",
    "from ads.evaluations.evaluator import ADSEvaluator\n",
    "from sklearn import datasets\n",
    "from sklearn.ensemble import RandomForestClassifier\n",
    "from sklearn.preprocessing import StandardScaler"
   ]
  },
  {
   "cell_type": "markdown",
   "id": "6102b60c",
   "metadata": {},
   "source": [
    "<a id=\"intro\"></a>\n",
    "# Introduction\n",
    "\n",
    "Graphs are a powerful abstraction that enable knowledge discovery by revealing the relationships between entities. Graphs consist of a set of entities, which are represented as vertices (also called nodes). The relationships between vertices are connected by a collection of edges (also called connectors). Graph analytics strive to reveal the latent or hidden information within these relationships. The information in a graph encodes not just the direct relationships, but the indirect relationships between entities as well. While humans are good at determining connections between entities, it's not practical to do this at the scale and level of detail that is common in modern graphs because the datasets tend to be large and heterogeneous.\n",
    "\n",
    "<!-- Graph analytic algorithms have been developed to merge the properties of graphs with deep neural networks. In this approach, the graph is a representation of learning that employs neural embeddings using vertices and edges as learning units. This representation enables graphs to learn low-dimensional vector representations in an unsupervised and task agnostic manner. This approach has been used in applications such a link prediction and friendship recommendation engines in social networks.\n",
    "\n",
    "The [Parallel Graph AnalytiX (PGX)](https://www.oracle.com/middleware/technologies/parallel-graph-analytix.html) library provides access to powerful graph analytics functionality. It supports a broad spectrum of analytics capabilities such as Graph Machine Learning (for example, DeepWalk, [GraphSAGE](http://snap.stanford.edu/graphsage/), Deep Graph Infomax, and many more). PGX has more than 60 built-in graph algorithms such as [PageRank](https://en.wikipedia.org/wiki/PageRank), InfoMap, Centrality, and others.\n",
    "\n",
    "Computational performance is baked into PGX as its algorithms are optimized and parallelized. It is written in Java and has Python bindings in the PyPGX product. -->"
   ]
  },
  {
   "cell_type": "markdown",
   "id": "404425a9",
   "metadata": {},
   "source": [
    "<a id=\"intro_session_analyst\"></a>\n",
    "## Session and Analyst Objects\n",
    "\n",
    "To access the graph analytic functionalities, you need an [analyst](https://docs.oracle.com/cd/F41824_01/latest/api/api.html#pypgx.api.Analyst) object as the entry point to all the graph analytics capabilities. PyPGX is [session](https://docs.oracle.com/cd/F41824_01/latest/api/api.html#pypgx.api.ServerInstance.get_session)-based and the method `pypgx.get_session()` returns a session object. An analyst object is obtained by calling `.analyst` on the session object."
   ]
  },
  {
   "cell_type": "code",
   "execution_count": null,
   "id": "d4122f8d",
   "metadata": {},
   "outputs": [],
   "source": [
    "# pypgx variables\n",
    "session = pypgx.get_session()\n",
    "analyst = session.analyst"
   ]
  },
  {
   "cell_type": "markdown",
   "id": "1f6b4e05",
   "metadata": {},
   "source": [
    "<a id=\"intro_dataset\"></a>\n",
    "## Dataset\n",
    "\n",
    "The SciKit-learn [diabetes dataset](https://scikit-learn.org/stable/datasets/toy_dataset.html#diabetes-dataset) has 442 observations and eleven metrics. This notebook uses the age and BMI metrics. The data has been preprocessed so that it is centered and scaled. \n",
    "\n",
    "The next cell reverts this preprocessing so that the original raw data is recovered. However, an additional transformation is made so that the values are converted to natural numbers. This conversion is explained in more detail when the [bipartite graph](https://en.wikipedia.org/wiki/Bipartite_graph) is constructed."
   ]
  },
  {
   "cell_type": "code",
   "execution_count": null,
   "id": "a6a2bc6a",
   "metadata": {},
   "outputs": [],
   "source": [
    "df = DatasetBrowser.sklearn().open(\"diabetes\").to_pandas_dataframe()\n",
    "\n",
    "# reverse transforming the variables for use in the bipartite graph\n",
    "df['age'] = df['age'].apply(lambda x: int(275.29 * x + 48.52))\n",
    "df['bmi'] = df['bmi'].apply(lambda x: int(92.78 * x + 26.375))\n",
    "df['sex'] = df['sex'].apply(lambda x: int(10.49 * x + 1.468))"
   ]
  },
  {
   "cell_type": "markdown",
   "id": "92270e36",
   "metadata": {},
   "source": [
    "<a id=\"create_graph\"></a>\n",
    "# Create a Graph\n",
    "\n",
    "With this data, there's no obvious graph structure to it. However, you could construct a bipartite graph to impose a graph structure onto the data. A [bipartite graph](https://en.wikipedia.org/wiki/Bipartite_graph) is a graph where the vertices are split into two separate sets. Each edge in the graph goes from one set to the other set so there aren't edges that connect vertices in the same set. In this model, the patient information is placed in the left set of vertices. The right set of vertices contain all of the possible values for each feature.\n",
    "\n",
    "The following figure presents a representation of this graph showing the relationship between the patient, age, and BMI. Notice that on the left each vertex represents a patient and all data associated with that patient. The vertices on the right contain one feature and a possible value. All possible features and values are represented by a vertex.\n",
    "\n",
    "Features such as age and BMI are continuous, and it isn't possible to make a vertex for all possible values. Therefore, the vertices in the right set are treated as discrete values, but the edges between the two sets connect to adjacent values. You can see this in the graph where the data for Patient i has connections to BMI=16, BMI=17, and BMI=18 because the recorded BMI is 17 (BMI=16 and BMI=18 are the adjacent values of BMI=17). This procedure of creating edges is repeated for each feature. Notice that the edges for Patient i connects to Age=20, Age=21, and Age=22 because the stated age is 21 and 20 and 22 are adjacent values. This captures the continuous nature of BMI, Age, and the other features."
   ]
  },
  {
   "attachments": {
    "0faae7b6-9d83-4035-a009-9db4a05730ed.png": {
     "image/png": "[encoded data removed]"
    }
   },
   "cell_type": "markdown",
   "id": "dd3fad4b",
   "metadata": {},
   "source": [
    "![graph.png](attachment:0faae7b6-9d83-4035-a009-9db4a05730ed.png)"
   ]
  },
  {
   "cell_type": "markdown",
   "id": "2d0f0b50",
   "metadata": {},
   "source": [
    "<a id=\"create_graph_nodes\"></a>\n",
    "## Create Nodes\n",
    "\n",
    "Each node is represented as an integer so it is possible to determine the number of nodes that are needed. One node is required for each patient. For the age and BMI metrics, there is a single node for each integer value in the range of observed values in the data."
   ]
  },
  {
   "cell_type": "code",
   "execution_count": null,
   "id": "555e6e2a",
   "metadata": {},
   "outputs": [],
   "source": [
    "n_patients = len(df)\n",
    "n_age = np.ptp(df['age']) + 1\n",
    "n_bmi = np.ptp(df['bmi']) + 1\n",
    "n_total = n_patients + n_age + n_bmi\n",
    "\n",
    "print('Number of patient nodes   : %3d' % n_patients)\n",
    "print('Number nodes for age : %3d' % n_age)\n",
    "print('Number nodes for bmi : %3d' % n_bmi)\n",
    "print('Total number of nodes: %3d' % n_total)"
   ]
  },
  {
   "cell_type": "markdown",
   "id": "5c9d0b08",
   "metadata": {},
   "source": [
    "The data is encoded in the following order:\n",
    "\n",
    "- patient nodes\n",
    "- age nodes\n",
    "- followed by the BMI nodes\n",
    "\n",
    "Nodes zero to `n_patients - 1` represent each patient. Nodes `n_patients` to `n_patients + n_age - 1` represent each age in increasing order. Finally, nodes `n_patients + n_age` to `n_total - 1` represent each BMI value in increasing order. The offsets for the nodes are computed in the next cell."
   ]
  },
  {
   "cell_type": "code",
   "execution_count": null,
   "id": "8ef3ee15",
   "metadata": {},
   "outputs": [],
   "source": [
    "offset_age = n_patients\n",
    "offset_bmi = n_patients + n_age"
   ]
  },
  {
   "cell_type": "markdown",
   "id": "e7158745",
   "metadata": {},
   "source": [
    "The next cell creates a dataframe where the index is the node number and the `Entity` column. The entities are things like the patient ID, a specific age, or a specific BMI."
   ]
  },
  {
   "cell_type": "code",
   "execution_count": null,
   "id": "1897ce88",
   "metadata": {},
   "outputs": [],
   "source": [
    "explanations = []\n",
    "\n",
    "for pid in range(n_patients):\n",
    "    explanations.append((pid, 'Patient ID %d' % pid))\n",
    "\n",
    "for i in range(n_age):\n",
    "    vid = offset_age + i\n",
    "    age = df['age'].min() + i\n",
    "    explanations.append((vid, 'age %d' % age))\n",
    "\n",
    "for i in range(n_bmi):\n",
    "    vid = offset_bmi + i\n",
    "    bmi = (i + df['bmi'].min())\n",
    "    explanations.append((vid, 'bmi %.d' % bmi))\n",
    "\n",
    "explanation_to_node = dict([(y, x) for x, y in explanations])\n",
    "\n",
    "node_explanations = pd.DataFrame(explanations).rename(columns = {0: 'Node ID', 1: 'Entity'}).set_index('Node ID')\n",
    "node_explanations.sample(10, random_state = 100)"
   ]
  },
  {
   "cell_type": "markdown",
   "id": "14bf8e25",
   "metadata": {},
   "source": [
    "<a id=\"create_graph_edge\"></a>\n",
    "## Create Edges\n",
    "\n",
    "As shown in the bipartite graph, the patient nodes are connected to the age and BMI nodes. However, a patient with a BMI of 16 does not have an edge between that patient and the BMI 16 node. It also has edges to the adjacent nodes, BMI 15 and BMI 17. This is done because the BMI metric was continuous in the dataset but it needs to be represented as discrete values in a graph.\n",
    "\n",
    "The next cell creates the `link_to_neighborhood()` function. It computes which edges need to be connected between nodes. It does some checking to ensure that edges are not connected to nodes that don't exist. For example, if the patient ages ranged from 20 to 80 years old, there would be nodes from 20 to 80. If you want to create the edges for a 20 year old patient, there would be no node for Age 19. The neighborhood for that patient would be Age 20 and Age 21, not Age 19, Age 20, and Age 21."
   ]
  },
  {
   "cell_type": "code",
   "execution_count": null,
   "id": "f28d1e3a",
   "metadata": {},
   "outputs": [],
   "source": [
    "def link_to_neighborhood(pid, patient, feature):\n",
    "    feat_min = max(df[feature].min(), int(patient[feature]) - 1)\n",
    "    feat_max = min(df[feature].max(), int(patient[feature]) + 1)\n",
    "    for value in range(feat_min, feat_max + 1):\n",
    "        if feature == 'age':\n",
    "            age_id = explanation_to_node['age %d' % value]\n",
    "            adj[pid, age_id] = 1; adj[age_id, pid] = 1\n",
    "        elif feature == 'bmi':\n",
    "            bmi_id = explanation_to_node['bmi %d' % value]\n",
    "            adj[pid, bmi_id] = 1; adj[bmi_id, pid] = 1\n",
    "            \n",
    "adj = np.zeros((n_total, n_total))\n",
    "for pid, patient in df.iterrows():\n",
    "    link_to_neighborhood(pid, patient, 'age')\n",
    "    link_to_neighborhood(pid, patient, 'bmi')"
   ]
  },
  {
   "cell_type": "markdown",
   "id": "29bc15af",
   "metadata": {},
   "source": [
    "<a id=\"create_graph_save\"></a>\n",
    "## Save Graph Data\n",
    "\n",
    "You can load graphs into PyPGX using configuration files, or in a [configuration free manner](https://docs.oracle.com/cd/F41824_01/latest/prog-guides/graph-management/configless-loading.html). The configuration file is demonstrated in this notebook, and requires a few files that describe the vertices and edges. The next few cells write describe the vertices and we call them vertex providers. Each file contains a column header and then each row contains a vertex id (`v_id`) and vertex properties (e.g., nodes of type patient have `age` and `bmi`). We start with the file that describes the patients."
   ]
  },
  {
   "cell_type": "code",
   "execution_count": null,
   "id": "8f15cfb8",
   "metadata": {},
   "outputs": [],
   "source": [
    "DATA_DIR = tempfile.mkdtemp()\n",
    "\n",
    "# write the patient nodes to a file\n",
    "patients_path = os.path.join(DATA_DIR, 'patients.csv')\n",
    "with open(patients_path, 'w') as fw:\n",
    "    fw.write('v_id,age,bmi\\n')\n",
    "    for i in range(n_patients):\n",
    "        fw.write('%d,%d,%d\\n' % (i, df.loc[i]['age'], df.loc[i]['bmi']))\n",
    "pd.read_csv(patients_path)[0:5]"
   ]
  },
  {
   "cell_type": "markdown",
   "id": "5bbe046a",
   "metadata": {},
   "source": [
    "Next we create a file that describes nodes that correspond to different ages. Each row has a vertex id (`v_id`) and the actual age value as a property."
   ]
  },
  {
   "cell_type": "code",
   "execution_count": null,
   "id": "c8d5f081",
   "metadata": {},
   "outputs": [],
   "source": [
    "# write the age nodes to a file\n",
    "ages_path = os.path.join(DATA_DIR, 'ages.csv')\n",
    "with open(ages_path, 'w') as fw:\n",
    "    fw.write('v_id,age\\n')\n",
    "    for i in range(n_age):\n",
    "        fw.write('%d,%d\\n' % (offset_age + i, df['age'].min() + i))\n",
    "pd.read_csv(ages_path)[0:5]"
   ]
  },
  {
   "cell_type": "markdown",
   "id": "98c54a89",
   "metadata": {},
   "source": [
    "Similarly we create another file that describes the BMI nodes."
   ]
  },
  {
   "cell_type": "code",
   "execution_count": null,
   "id": "1a7006fb",
   "metadata": {},
   "outputs": [],
   "source": [
    "# write the bmi nodes to a file\n",
    "bmis_path = os.path.join(DATA_DIR, 'bmis.csv')\n",
    "with open(bmis_path, 'w') as fw:\n",
    "    fw.write('v_id,bmi\\n')\n",
    "    for i in range(n_bmi):\n",
    "        fw.write('%d,%d\\n' % (offset_bmi + i, df['bmi'].min() + i))\n",
    "pd.read_csv(bmis_path)[0:5]"
   ]
  },
  {
   "cell_type": "markdown",
   "id": "178a1c10",
   "metadata": {},
   "source": [
    "An edge file is needed to define the links between two nodes. In our example, we have different types of nodes (patient nodes, age nodes and BMI nodes). It is a good practice to create edge files that are dedicated to certain type of links. In this notebook, we create one edge file that is dedicated to patient to age nodes links, and another edge file that is dedicated to patient to BMI node links.\n",
    "\n",
    "The next cell creates the patient-to-age edge file. Similarly to the vertex files, the edge file is also in CSV format and it starts with a header and then each row has edge id (`e_id`), source vertex id and destination vertex id. The source and destination vertex ids must match with the ones we used in the vertices files. In this example, the vertex ids, as defined in the vertices file, are integers. You could use more meaningful node ids of a different type (e.g., string)."
   ]
  },
  {
   "cell_type": "code",
   "execution_count": null,
   "id": "1672b4fb",
   "metadata": {},
   "outputs": [],
   "source": [
    "# write the edge file for patient-to-age nodes to a file\n",
    "e_id = 0\n",
    "patient_to_age_path = os.path.join(DATA_DIR, 'patient_to_age.csv')\n",
    "with open(patient_to_age_path, 'w') as fw:\n",
    "    fw.write('e_id,patient_vid,age_vid\\n')\n",
    "    for i in range(n_patients):\n",
    "        patient_vid = i\n",
    "        for j in range(n_age):\n",
    "            age_vid = offset_age + j\n",
    "            if adj[patient_vid, age_vid] == 1:\n",
    "                fw.write('%d,%d,%d\\n' % (e_id, patient_vid, age_vid))\n",
    "                e_id += 1\n",
    "pd.read_csv(patient_to_age_path)[0:5]"
   ]
  },
  {
   "cell_type": "markdown",
   "id": "66f80eb6",
   "metadata": {},
   "source": [
    "Similarly we create an edge file that is dedicated to links between patient and age nodes."
   ]
  },
  {
   "cell_type": "code",
   "execution_count": null,
   "id": "fecb626d",
   "metadata": {},
   "outputs": [],
   "source": [
    "# write the edge file for patient-to-age nodes to a file\n",
    "e_id = 0\n",
    "patient_to_bmi_path = os.path.join(DATA_DIR, 'patient_to_bmi.csv')\n",
    "with open(patient_to_bmi_path, 'w') as fw:\n",
    "    fw.write('e_id,patient_vid,bmi_vid\\n')\n",
    "    for i in range(n_patients):\n",
    "        patient_vid = i\n",
    "        for j in range(n_bmi):\n",
    "            bmi_vid = offset_bmi + j\n",
    "            if adj[patient_vid, bmi_vid] == 1:\n",
    "                fw.write('%d,%d,%d\\n' % (e_id, patient_vid, bmi_vid))\n",
    "                e_id += 1\n",
    "pd.read_csv(patient_to_bmi_path)[0:5]"
   ]
  },
  {
   "cell_type": "markdown",
   "id": "2ea6cb8e",
   "metadata": {},
   "source": [
    "Configuration files, in JSON format, are used to define how the graph is read. A typical configuration file defines the graph schema and paths to the vertices and edges files. The configuration file identifies the path to the vertices files with the `vertex_providers` parameter. It is a list whose elements describe each vertex provider. Each element of the list needs to have certain properties such as `name`, `format`, `uris` and `key_column` parameter identifies what column in the file contains the information to uniquely identify the vertex. Additionally, it can have properties such as `header` indicating whether the file has a header and `props` describing the node properties. Simiarly, we also have `edge_providers` parameter to define how to process the edge files. The most notable parameters of each edge provider are `source_vertex_provider` and `destination_vertex_provider` which correspond to the names of the vertex providers, `key_column` that is used to uniquely identify the edge and `source_column` and `destination_column` identify which columns denote the source and destination vertices for the edges. Since we want a bidirectional graph, we create two more edge providers where the source and destination columns are swapped. The next cell defines the configuration and writes to the `config.json` configuration file."
   ]
  },
  {
   "cell_type": "code",
   "execution_count": null,
   "id": "9cb28d13",
   "metadata": {},
   "outputs": [],
   "source": [
    "# define the graph configuration\n",
    "config = {\n",
    "    \"name\": \"graph\",\n",
    "    \"vertex_providers\": [{\n",
    "        \"name\": \"patientsProvider\",\n",
    "        \"format\": \"csv\",\n",
    "        \"uris\": [\"patients.csv\"],\n",
    "        \"key_column\": \"v_id\",\n",
    "        \"header\": True,\n",
    "        \"props\": [{\n",
    "            \"name\": \"age\",\n",
    "            \"type\": \"double\",\n",
    "            \"column\": \"age\"\n",
    "        },{\n",
    "            \"name\": \"bmi\",\n",
    "            \"type\": \"double\",\n",
    "            \"column\": \"bmi\"\n",
    "        }]\n",
    "    },{\n",
    "        \"name\": \"agesProvider\",\n",
    "        \"format\": \"csv\",\n",
    "        \"uris\": [\"ages.csv\"],\n",
    "        \"key_column\": \"v_id\",\n",
    "        \"header\": True,\n",
    "        \"props\": [{\n",
    "            \"name\": \"age\",\n",
    "            \"type\": \"double\",\n",
    "            \"column\": \"age\"\n",
    "        }]\n",
    "    },{\n",
    "        \"name\": \"bmisProvider\",\n",
    "        \"format\": \"csv\",\n",
    "        \"uris\": [\"bmis.csv\"],\n",
    "        \"key_column\": \"v_id\",\n",
    "        \"header\": True,\n",
    "        \"props\": [{\n",
    "            \"name\": \"bmi\",\n",
    "            \"type\": \"double\",\n",
    "            \"column\": \"bmi\"\n",
    "        }]\n",
    "    }],\n",
    "    \"edge_providers\":[{\n",
    "        \"name\": \"patientsToAgesProvider\",\n",
    "        \"format\": \"csv\",\n",
    "        \"uris\": [\"patient_to_age.csv\"],\n",
    "        \"source_vertex_provider\":\"patientsProvider\",\n",
    "        \"destination_vertex_provider\":\"agesProvider\",\n",
    "        \"key_column\": \"e_id\",\n",
    "        \"source_column\": \"patient_vid\",\n",
    "        \"destination_column\": \"age_vid\",\n",
    "        \"header\": True\n",
    "    },{\n",
    "        \"name\": \"agesToPatientsProvider\",\n",
    "        \"format\": \"csv\",\n",
    "        \"uris\": [\"patient_to_age.csv\"],\n",
    "        \"source_vertex_provider\":\"agesProvider\",\n",
    "        \"destination_vertex_provider\":\"patientsProvider\",\n",
    "        \"key_column\": \"e_id\",\n",
    "        \"source_column\": \"age_vid\",\n",
    "        \"destination_column\": \"patient_vid\",\n",
    "        \"header\": True\n",
    "    },{\n",
    "        \"name\": \"patientsToBmisProvider\",\n",
    "        \"format\": \"csv\",\n",
    "        \"uris\": [\"patient_to_bmi.csv\"],\n",
    "        \"source_vertex_provider\":\"patientsProvider\",\n",
    "        \"destination_vertex_provider\":\"bmisProvider\",\n",
    "        \"key_column\": \"e_id\",\n",
    "        \"source_column\": \"patient_vid\",\n",
    "        \"destination_column\": \"bmi_vid\",\n",
    "        \"header\": True\n",
    "    },{\n",
    "        \"name\": \"bmisToPatientsProvider\",\n",
    "        \"format\": \"csv\",\n",
    "        \"uris\": [\"patient_to_bmi.csv\"],\n",
    "        \"source_vertex_provider\":\"bmisProvider\",\n",
    "        \"destination_vertex_provider\":\"patientsProvider\",\n",
    "        \"key_column\": \"e_id\",\n",
    "        \"source_column\": \"bmi_vid\",\n",
    "        \"destination_column\": \"patient_vid\",\n",
    "        \"header\": True\n",
    "    }]\n",
    "}\n",
    "\n",
    "# write the graph configuration to a file\n",
    "config_path = os.path.join(DATA_DIR, 'config.json')\n",
    "with open(config_path, 'w') as fw:\n",
    "    json.dump(config, fw, indent = 4)"
   ]
  },
  {
   "cell_type": "markdown",
   "id": "403af3ee",
   "metadata": {},
   "source": [
    "<a id=\"create_graph_load\"></a>\n",
    "## Load Graph Data\n",
    "\n",
    "You use the [`.read_graph_with_properties()`](https://docs.oracle.com/cd/F41824_01/latest/api/api.html#pypgx.api.PgxSession.read_graph_with_properties) method to read in the configuration file. The method returns a [PgxGraph](https://docs.oracle.com/cd/F41824_01/latest/api/api.html#pypgx.api.PgxGraph) object. The graph configuration file is used to determine the location of the nodes and edges files."
   ]
  },
  {
   "cell_type": "code",
   "execution_count": null,
   "id": "c70f35c6",
   "metadata": {},
   "outputs": [],
   "source": [
    "graph = session.read_graph_with_properties(config_path)\n",
    "graph"
   ]
  },
  {
   "cell_type": "markdown",
   "id": "c0a37c83",
   "metadata": {},
   "source": [
    "<a id='built-in'></a>\n",
    "# PyPGX Built-in Algorithms\n",
    "\n",
    "Graph machine learning techniques open the door for the discovery of complex relationships in your data. Often, standard data analytical techniques don't have the flexibility to discover these relationships. The [Parallel Graph AnalytiX (PGX)](https://www.oracle.com/middleware/technologies/parallel-graph-analytix.html) library provides access to powerful graph analytics functionality. It supports a broad spectrum of analytics capabilities such as Graph Machine Learning (for example, DeepWalk, [GraphSAGE](http://snap.stanford.edu/graphsage/), Deep Graph Infomax, and many more). PGX has more than 60 built-in graph algorithms such as [PageRank](https://en.wikipedia.org/wiki/PageRank), InfoMap, Centrality, and others. Computational performance is baked into PGX as its algorithms are optimized and parallelized. It is written in Java and has Python bindings in the PyPGX product.\n",
    "\n",
    "This notebook would be very long if all of the algorithms were discussed in detail and demonstrated. Instead, this notebook demonstrates how to call several of the popular graph techniques including [Personnalized PageRank](https://docs.oracle.com/cd/F41824_01/latest//api/api.html#pypgx.api.Analyst.personalized_pagerank), [Eigenvector Centrality](https://docs.oracle.com/cd/F41824_01/latest/api/api.html#pypgx.api.Analyst.eigenvector_centrality), [Diameter](https://docs.oracle.com/cd/F41824_01/latest/api/api.html#pypgx.api.Analyst.diameter) / [Radius](https://docs.oracle.com/cd/F41824_01/latest/api/api.html#pypgx.api.Analyst.radius), [Local Clustering Coefficient](https://docs.oracle.com/cd/F41824_01/latest/api/api.html#pypgx.api.Analyst.local_clustering_coefficient), and [Communities Label Propagation](https://docs.oracle.com/cd/F41824_01/latest/api/api.html#pypgx.api.Analyst.communities_label_propagation). Calling these algorithms is straightforward using the [analyst](https://docs.oracle.com/cd/F41824_01/21.3.0/api/api.html?highlight=analyst#pypgx.api.Analyst) class."
   ]
  },
  {
   "cell_type": "markdown",
   "id": "19fdf9c4",
   "metadata": {},
   "source": [
    "<a id='built-in_pagerank'></a>\n",
    "## Personnalized PageRank\n",
    "\n",
    "The Classical PageRank algorithm computes the ranking scores for the nodes using the network created by the incoming edges in the graph. It is intended for directed graphs, although undirected graphs can be treated by converting them into directed graphs with reciprocated edges. For example, keeping the original edge and creating a second one going in the opposite direction. The edges on the graph define the relevance of each node in the graph reflecting the relevance on the scores. Meaning that greater scores correspond to nodes with greater relevance.\n",
    "\n",
    "The Personalized Pagerank algorithm allows you to select a set of nodes and give them greater importance when computing the ranking score. This results in a personalized Pagerank score and can discover similar nodes. That is, it computes the important vertices relevant to the vertex of interest based on connectivity.\n",
    "\n",
    "\n",
    "Time Complexity $O(E * k)$ with $E$ = number of edges and $k$ is the number of iterations.\n",
    "\n",
    "Space Requirement $O(N)$ with $N$ = number of nodes."
   ]
  },
  {
   "cell_type": "code",
   "execution_count": null,
   "id": "258951f3",
   "metadata": {},
   "outputs": [],
   "source": [
    "%%time\n",
    "prs = []\n",
    "for patient in range(n_patients):\n",
    "    prs.append(analyst.personalized_pagerank(graph,\n",
    "                                             graph.get_vertex(patient),\n",
    "                                             damping = 0.9,\n",
    "                                             max_iter = 100,\n",
    "                                             tol = 1e-06))"
   ]
  },
  {
   "cell_type": "markdown",
   "id": "f429439f",
   "metadata": {},
   "source": [
    "<a id='built-in_eigenvector'></a>\n",
    "## Eigenvector Centrality\n",
    "\n",
    "The Eigenvector Centrality (also called eigencentrality) determines the centrality of a node by adding and weighting the centrality of its neighbors. It's a measure of the influence of a node in a network. You do this by assigning scores to all nodes based on the quality of the connection. So a connection to a high-scoring node contributes more to the score than a similar connection to a low-scoring node. Using outgoing or incoming edges when computing the eigenvector centrality is equivalent to using the normal or the transposed adjacency matrix respectively, leading to the \"right\" and \"left\" eigenvectors.\n",
    "\n",
    "For the graph, $G:=(V,E)$, with |V| number of vertices where $V$ is a set of vertices in $G$ and $E$ is the set of edges that connect the vertices in $V$. Let $A=(a_{i,j})$ be the adjacency matrix so that $a_{i,j}=1$ is the vertex, $i$, and is connected to the vertex $j$. Otherwise, the vertex is $a_{i,j}=0$.\n",
    "\n",
    "The relative centrality score for a vertex $i$ is defined as:\n",
    "$$x_i=\\frac{1}{\\lambda}\\sum_{j \\in G} a_{i,j}x_j$$\n",
    "\n",
    "The score can be written as an eigenvector equation:\n",
    "\n",
    "$$Ax = \\lambda x$$\n",
    "\n",
    "Eigenvector Centrality is a measure of the influence a node has on a network. If a node is pointed to by many nodes, which also have high eigenvector centrality, then that node has high eigenvector centrality.\n",
    "\n",
    "Time Complexity $O(N * k)$ with $N$ = number of nodes, $k$ <= maximum number of iterations\n",
    "\n",
    "Space Requirement $O(2 * N)$ with $N$ = number of nodes"
   ]
  },
  {
   "cell_type": "code",
   "execution_count": null,
   "id": "a41c1035",
   "metadata": {},
   "outputs": [],
   "source": [
    "%%time\n",
    "eigenvector_centrality = analyst.eigenvector_centrality(graph, \n",
    "                                                      tol=0.001, max_iter=100)"
   ]
  },
  {
   "cell_type": "code",
   "execution_count": null,
   "id": "a72b8492",
   "metadata": {},
   "outputs": [],
   "source": [
    "eigenvector_centrality.get_values()[220]"
   ]
  },
  {
   "cell_type": "markdown",
   "id": "95b64288",
   "metadata": {},
   "source": [
    "<a id='built-in_diameter'></a>\n",
    "## Diameter / Radius\n",
    "\n",
    "The diameter of a graph is the maximal value of eccentricity of all the vertices in the graph, while the radius is the minimum graph eccentricity. The eccentricity of a vertex is the maximum distance using the shortest paths to any other vertex in the graph. The family of eccentricity algorithms compute the distance between nodes. These algorithms compute the eccentricity of all the vertices and return the diameter or radius value depending on the request.\n",
    "\n",
    "\n",
    "Time Complexity $O(N * E)$ with $N$ = number of nodes, $E$ = number of edges\n",
    "\n",
    "Space Requirement $O(N)$ with $N$ = number of nodes"
   ]
  },
  {
   "cell_type": "markdown",
   "id": "07be2dd8",
   "metadata": {},
   "source": [
    "**Diameter**"
   ]
  },
  {
   "cell_type": "code",
   "execution_count": null,
   "id": "bbd67d80",
   "metadata": {},
   "outputs": [],
   "source": [
    "%%time\n",
    "diameter = analyst.diameter(graph)"
   ]
  },
  {
   "cell_type": "markdown",
   "id": "cfd30c4c",
   "metadata": {},
   "source": [
    "**Radius**"
   ]
  },
  {
   "cell_type": "code",
   "execution_count": null,
   "id": "fb3a2b42",
   "metadata": {},
   "outputs": [],
   "source": [
    "%%time\n",
    "radius = analyst.radius(graph)"
   ]
  },
  {
   "cell_type": "markdown",
   "id": "28d7fb38",
   "metadata": {},
   "source": [
    "<a id='built-in_lcc'></a>\n",
    "## Local Clustering Coefficient\n",
    "\n",
    "A clustering coefficient is a measure of the tendency of nodes to cluster. While global metrics give an indication of the overall clustering, a local metric measures the degree to which a single node is clustered.\n",
    "\n",
    "The Local Clustering Coefficient of a vertex, $v$, is the fraction of connections between each pair of neighbors of $v$. Which is the fraction of existing triangles from all the possible triangles involving $v$, and every other pair of neighbor vertices of $v$. \n",
    "\n",
    "This is defined as a $G:=(V,E)$ graph with |V| number of vertices where $V$ is a set of vertices in $G$, and $E$ is the set of edges that connect the vertices in $V$. Let the edge $e_{i,j}$ connect vertices $v_i$ and $v_j$. The neighborhood $N_i$ for a vertex $v_i$ is defined as:\n",
    "\n",
    "$$N_i= \\left \\{ v_j : e_{i,j}\\in E \\vee e_{j,i} \\in E \\right \\}$$\n",
    "\n",
    "\n",
    "This implementation is intended for undirected graphs so is $e_{i,j} = e_{j,i}$. Which means that a vertex $v_i$ has $k_i$ neighbors, and a maximum of $\\frac{k_i(k_i-1)}{2}$ edges.\n",
    "\n",
    "The Local Clustering Coefficient for undirected graphs, $C_i$, is given with:\n",
    "\n",
    "$$C_i = \\frac{2|\\left \\{ e_{j,k} : v_j , v_k \\in N_i, e_{j,k} \\in E \\right \\} |}{k_i(k_i-1)}$$\n",
    "\n",
    "\n",
    "Nodes with a degree smaller than 2 are assigned a value of 0.\n",
    "\n",
    "Time Complexity $O(N ^ 2)$ with $N$ = number of nodes\n",
    "\n",
    "Space Requirement $O(N)$ with $N$ = number of nodes"
   ]
  },
  {
   "cell_type": "code",
   "execution_count": null,
   "id": "d69b941f",
   "metadata": {},
   "outputs": [],
   "source": [
    "%%time\n",
    "local_clustering_coefficient = analyst.local_clustering_coefficient(graph, str(patient))"
   ]
  },
  {
   "cell_type": "markdown",
   "id": "969b9d7d",
   "metadata": {},
   "source": [
    "<a id='built-in_label'></a>\n",
    "## Communities Label Propagation\n",
    "\n",
    "Label Propagation is a semi-supervised machine learning algorithm designed to find community structures in a graph. When the algorithm starts, there tends to be a small set of nodes that are labeled. It assigns labels to unlabeled nodes during each iteration. The algorithm assigns a unique community label to each vertex in the graph. The vertex is updated on each iteration by looking and choosing the most frequent label from its neighbors. The small number of originally labeled data points have their labels propagated throughout the graph.\n",
    "\n",
    "Some though not all, of the nodes have a label at the start. The label identifies the data point as belonging to a community. As the algorithm progresses, the membership of each community can change. Densely connected communities develop a common label. The algorithm is given as:\n",
    "\n",
    "1. For a node x, label it as $C_x(0)=x$ for all nodes. Which initializes the labels on all nodes.\n",
    "1. Let $t=1$.\n",
    "1. Randomly sort the nodes and set it to $X$.\n",
    "1. For all $x \\in X$, determine which label occurs with the highest frequency among neighbours. If there is a tie, choose one at random.\n",
    "1. If every node has the same label as the maximum number of their neighbors have, then stop. Otherwise, increment it, and go to step 3."
   ]
  },
  {
   "cell_type": "code",
   "execution_count": null,
   "id": "789f164d",
   "metadata": {},
   "outputs": [],
   "source": [
    "%%time\n",
    "communities_label_propagation = analyst.communities_label_propagation(graph)"
   ]
  },
  {
   "cell_type": "markdown",
   "id": "2ef75c2a",
   "metadata": {},
   "source": [
    "<a id=\"example\"></a>\n",
    "# Graph Machine Learning Examples\n",
    "\n",
    "<a id='example_pagerank'></a>\n",
    "\n",
    "## Example: Personalize PageRank\n",
    "\n",
    "The Classical PageRank algorithm computes ranking scores for the nodes using the network created by the incoming edges in the graph. The algorithm intended for directed graphs, although undirected graphs can be treated as well by converting them into directed graphs with reciprocated edges. For example, keeping the original edge and creating a second one going in the opposite direction. The edges on the graph define the relevance of each node in the graph, reflecting this on the scores. Meaning that greater scores correspond to nodes with greater relevance.\n",
    "\n",
    "The Personalized Pagerank algorithm allows you to select a set of nodes, and give them greater importance when computing the ranking score. It creates a personalized pagerank score, and can discover similar nodes. It computes the important vertices relevant to the vertex of interest based on connectivity.\n",
    "\n",
    "This example determines the relevance between BMI and patients using the Personalized PageRank algorithm. A target feature is created that labels a patient as risky or non-risky based on their target value. A patient is deemed risky when the target value is 250 or higher."
   ]
  },
  {
   "cell_type": "code",
   "execution_count": null,
   "id": "eb9928bf",
   "metadata": {},
   "outputs": [],
   "source": [
    "ds = DatasetFactory.from_dataframe(df)\n",
    "ds = ds.set_target('target')\n",
    "raw_data = ds.to_pandas_dataframe().copy()\n",
    "raw_data.loc[raw_data['target'] < 250, 'Y'] = 0\n",
    "raw_data.loc[raw_data['target'] >= 250, 'Y'] = 1"
   ]
  },
  {
   "cell_type": "markdown",
   "id": "ec08049b",
   "metadata": {},
   "source": [
    "The goal of the model is to determine which BMI values are associated with risky and non-risky patients using the Personalized PageRank algorithm. The algorithm computes ranking scores for the vertices using the network created by the incoming edges in the graph. It is intended for directed graphs, although undirected graphs can be treated as well by converting them into directed graphs with reciprocated edges. For example, keeping the original edge and creating a second one going in the opposite direction. The edges on the graph define the relevance of each vertex in the graph, reflecting this on the scores, meaning that greater scores will correspond to vertices with greater relevance.\n",
    "\n",
    "The next cell builds Personalized Pagerank models."
   ]
  },
  {
   "cell_type": "code",
   "execution_count": null,
   "id": "1ad0ebe4",
   "metadata": {},
   "outputs": [],
   "source": [
    "%%time\n",
    "\n",
    "prs = []\n",
    "for patient in range(n_patients):\n",
    "    prs.append(analyst.personalized_pagerank(graph,\n",
    "                                             graph.get_vertex(patient),\n",
    "                                             damping = 0.9,\n",
    "                                             max_iter = 10,\n",
    "                                             tol = 1e-06))"
   ]
  },
  {
   "cell_type": "markdown",
   "id": "0e501cc3",
   "metadata": {},
   "source": [
    "For all patients in a group, the relevance metric is normalized so that the area under the curve is 1. The normalized relevance metric is a probability density function (PDF). The next cell performs the normalization and plots the PDFs. The green line represents the distribution of relevance of the non-risky group, and the red line is for the risky group. This plot demonstrates that patients that aren't at risk associated with lower BMI values though patients that are at risk for diabetes are associated with higher BMI values. Thus, there is a correlation between diabetes and BMI."
   ]
  },
  {
   "cell_type": "code",
   "execution_count": null,
   "id": "90484918",
   "metadata": {},
   "outputs": [],
   "source": [
    "risky_ranks = np.zeros(n_total)\n",
    "nonrisky_ranks = np.zeros(n_total)\n",
    "risky_patients = set(raw_data[raw_data['Y'] == 1].index)\n",
    "\n",
    "for pid, pr in enumerate(prs):\n",
    "    values = np.zeros(n_total)\n",
    "    for vertex, score in pr:\n",
    "        values[vertex.id] += score\n",
    "    \n",
    "    ranks = risky_ranks if pid in risky_patients else nonrisky_ranks\n",
    "    ranks += values\n",
    "    \n",
    "risky_relevance = pd.DataFrame(risky_ranks).reset_index().rename(\n",
    "    columns = {'index': 'Node ID', 0: 'Risky Relevance'}).set_index('Node ID')\n",
    "nonrisky_relevance = pd.DataFrame(nonrisky_ranks).reset_index().rename(\n",
    "    columns = {'index': 'Node ID', 0: 'Non-Risky Relevance'}).set_index('Node ID')\n",
    "importance = node_explanations.join(risky_relevance).join(nonrisky_relevance)\n",
    "\n",
    "bmi_data = importance[importance['Entity'].apply(lambda x: x.startswith('bmi'))].copy()\n",
    "bmi_data['Entity'] = bmi_data['Entity'].apply(lambda x: x.split()[1]).astype(float)\n",
    "bmi_data['Risky Relevance'] = bmi_data['Risky Relevance'] / bmi_data.sum()['Risky Relevance']\n",
    "bmi_data['Non-Risky Relevance'] = bmi_data['Non-Risky Relevance'] / bmi_data.sum()['Non-Risky Relevance']\n",
    "sns.lineplot(x=bmi_data['Entity'], y=bmi_data['Non-Risky Relevance'], color='green');\n",
    "sns.lineplot(x=bmi_data['Entity'], y=bmi_data['Risky Relevance'], color='red').set(xlabel = 'BMI', ylabel = 'Relevance');"
   ]
  },
  {
   "cell_type": "markdown",
   "id": "d4722a75",
   "metadata": {},
   "source": [
    "<a id='example_deepwalk'></a>\n",
    "\n",
    "## Example: DeepWalk\n",
    "\n",
    "The next cell creates a DeepWalk model using the [`.deepwalk_builder()`](https://docs.oracle.com/en/database/oracle/property-graph/21.1/pypgx/api/api.html#pypgx.api.Analyst.deepwalk_builder) method in the [`Analyst`](https://docs.oracle.com/en/database/oracle/property-graph/21.1/pypgx/api/api.html#pypgx.api.Analyst) class."
   ]
  },
  {
   "cell_type": "code",
   "execution_count": null,
   "id": "b625df28",
   "metadata": {},
   "outputs": [],
   "source": [
    "model = analyst.deepwalk_builder(window_size = 5,\n",
    "                                 walks_per_vertex = 100,\n",
    "                                 walk_length = 50,\n",
    "                                 layer_size = 25,\n",
    "                                 num_epochs = 5,\n",
    "                                 learning_rate = 0.1,\n",
    "                                 min_learning_rate = 0.001,\n",
    "                                 seed = 0)\n",
    "model.fit(graph)\n",
    "print('Loss: %.6f' % model.loss)"
   ]
  },
  {
   "cell_type": "markdown",
   "id": "70e6b4a3",
   "metadata": {},
   "source": [
    "The embeddings are available in the models [`trained_vectors`](https://docs.oracle.com/en/database/oracle/property-graph/21.1/pypgx/api/mllib.html#pypgx.api.mllib.DeepWalkModel.trained_vectors) property. These are converted from a [`PgxFrame`](https://docs.oracle.com/cd/E56133_01/latest/prog-guides/frames.html) into a Pandas dataframe."
   ]
  },
  {
   "cell_type": "code",
   "execution_count": null,
   "id": "1d5a0e1b",
   "metadata": {},
   "outputs": [],
   "source": [
    "# convert from pypgx frame to Pandas dataframe\n",
    "embeddings = model.trained_vectors.flatten_all().to_pandas()\n",
    "embeddings['vertexId'] = embeddings['vertexId'].apply(lambda x: int(x))\n",
    "embeddings.sort_values(by=['vertexId'], inplace=True)\n",
    "embeddings.drop('vertexId', axis=1, inplace=True)\n",
    "embeddings.reset_index(inplace=True, drop=True)"
   ]
  },
  {
   "cell_type": "markdown",
   "id": "6b84e30b",
   "metadata": {},
   "source": [
    "To demonstrate the power of the DeepWalk algorithm, a comparison between two approaches is made.  The first approach uses the standardized features (the unaugmented features). The second approach uses the same data plus the augmented values from the DeepWalk embeddings. A random forest model is created for each approach, and the results are compared.\n",
    "\n",
    "A random forest model is a good choice for comparison as the model class is generally insensitive to an increase in the number of features. In many model classes like logistic regression, an increase in the number of features results in a model that is better at predicting the results of the training data. This isn't the case with a random forest.\n",
    "\n",
    "The `rf_evaluator` function splits the data into training and test sets. Then the function builds a random forest model based on the training data. The test data is used to make predictions, and [`ADSEvaluator`](https://docs.oracle.com/en-us/iaas/tools/ads-sdk/latest/ads.evaluations.html#ads.evaluations.evaluator.ADSEvaluator) computes the several binary classification metrics."
   ]
  },
  {
   "cell_type": "code",
   "execution_count": null,
   "id": "cad13e45",
   "metadata": {},
   "outputs": [],
   "source": [
    "training_cols = list(raw_data.columns[:-2]) # remove cols related to targets\n",
    "raw_data[training_cols] = StandardScaler().fit_transform(raw_data[training_cols])\n",
    "\n",
    "augmented_data = raw_data.join(embeddings)\n",
    "augmented_data = DatasetFactory.from_dataframe(augmented_data).set_target('Y')\n",
    "augmented_data = augmented_data.drop('target', axis=1)\n",
    "\n",
    "unaugmented_data = DatasetFactory.from_dataframe(raw_data).set_target('Y')\n",
    "unaugmented_data = unaugmented_data.drop('target', axis=1)\n",
    "\n",
    "def rf_evaluator(data):\n",
    "    train_data, test_data = data.train_test_split(test_size = .3, random_state = 0)\n",
    "    rf_classifier = RandomForestClassifier(random_state=0)\n",
    "    rf_classifier.fit(train_data.X, train_data.y)\n",
    "    rf_model_ads = ADSModel.from_estimator(rf_classifier)\n",
    "\n",
    "    ads_evaluator = ADSEvaluator(test_data, models = [rf_model_ads], positive_class = 1)\n",
    "    ads_evaluator.del_metrics(['hamming_loss'])\n",
    "    return ads_evaluator.show_in_notebook()"
   ]
  },
  {
   "cell_type": "markdown",
   "id": "1436e526",
   "metadata": {},
   "source": [
    "The unaugmented data used the following features."
   ]
  },
  {
   "cell_type": "code",
   "execution_count": null,
   "id": "8a86968d",
   "metadata": {},
   "outputs": [],
   "source": [
    "' '.join(unaugmented_data.columns.tolist())"
   ]
  },
  {
   "cell_type": "markdown",
   "id": "d1bfcc3f",
   "metadata": {},
   "source": [
    "The augmented data used the following features. It has 24 additional features that are identified by the name, `embedding_#`."
   ]
  },
  {
   "cell_type": "code",
   "execution_count": null,
   "id": "a5235c91",
   "metadata": {},
   "outputs": [],
   "source": [
    "' '.join(augmented_data.columns.tolist())"
   ]
  },
  {
   "cell_type": "markdown",
   "id": "00883cf7",
   "metadata": {},
   "source": [
    "The binary classification evaluation metrics on the test data for the unaugmented are:"
   ]
  },
  {
   "cell_type": "code",
   "execution_count": null,
   "id": "850a237b",
   "metadata": {},
   "outputs": [],
   "source": [
    "rf_evaluator(unaugmented_data)"
   ]
  },
  {
   "cell_type": "markdown",
   "id": "1b6fc633",
   "metadata": {},
   "source": [
    "The binary classification evaluation metrics on the test data for the augmented are:"
   ]
  },
  {
   "cell_type": "code",
   "execution_count": null,
   "id": "c22f1ded",
   "metadata": {},
   "outputs": [],
   "source": [
    "rf_evaluator(augmented_data)"
   ]
  },
  {
   "cell_type": "markdown",
   "id": "57ba34ea",
   "metadata": {},
   "source": [
    "These results demonstrate that there is a substantial improvement in the precision metric when the DeepWalk augment features are included in the model. Meaning that the model  able to decrease its false detection rate. While there is no guarantee that this effect can exist in all models for all datasets, it does demonstrate that the DeepWalk graph machine learning algorithm can be a powerful preprocessing step."
   ]
  },
  {
   "cell_type": "markdown",
   "id": "03b591d5",
   "metadata": {},
   "source": [
    "<a id='pgql'></a>\n",
    "# PGQL Queries\n",
    "\n",
    "The [Parallel Graph AnalytiX (PGX)](https://www.oracle.com/middleware/technologies/parallel-graph-analytix.html) library provides access to powerful graph pattern-matching query language for the property graph data model called PGQL. PGQL is an SQL-like language used to query the property graph data model. It allows you to define graph patterns that are matched against vertices and edges. PGQL supports grouping, aggregation, sorting, and many other SQL constructs. Furthermore, PGQL has powerful regular expression constructs for graph reachability (transitive closure), shortest path finding, and cheapest path finding.\n",
    "\n",
    "<a id=\"intro_struture\"></a>\n",
    "## Main Query Structure\n",
    "\n",
    "This the syntax of the main query structure:\n",
    "```\n",
    "PgqlStatement ::= CreatePropertyGraph\n",
    "| DropPropertyGraph\n",
    "| Query\n",
    "\n",
    "Query ::= SelectQuery\n",
    "| ModifyQuery\n",
    "\n",
    "SelectQuery ::= PathPatternMacros?\n",
    "SelectClause\n",
    "FromClause\n",
    "WhereClause?\n",
    "GroupByClause?\n",
    "HavingClause?\n",
    "OrderByClause?\n",
    "LimitOffsetClauses?\n",
    "```\n",
    "\n",
    "Details of the different clauses of a query are found in the following sections:\n",
    "\n",
    "* The [path pattern macros](https://pgql-lang.org/spec/latest/#path-pattern-macros) allow for specifying complex reachability queries.\n",
    "* The [SELECT](https://pgql-lang.org/spec/latest/#select) clause specifies what should be returned.\n",
    "* The [FROM](https://pgql-lang.org/spec/latest/#from) clause defines the graph pattern that is to be matched.\n",
    "* The [WHERE](https://pgql-lang.org/spec/latest/#where) clause specifies filters.\n",
    "* The [GROUP BY](https://pgql-lang.org/spec/latest/#group-by) clause allows for creating groups of results.\n",
    "* The [HAVING](https://pgql-lang.org/spec/latest/#having) clause allows for filtering entire groups of results.\n",
    "* The [ORDER BY](https://pgql-lang.org/spec/latest/#order-by) clause allows for sorting of results.\n",
    "* The [LIMIT and OFFSET](https://pgql-lang.org/spec/latest/#limit-and-offset) clauses allow for pagination of results.\n",
    "\n",
    "<a id=\"intro_pg\"></a>\n",
    "## Property Graph\n",
    "\n",
    "A property graph has a name, which is a (character) string, and contains:\n",
    "* A set of vertices (or nodes).\n",
    "* Each vertex has zero or more labels.\n",
    "* Each vertex has zero or more properties (or attributes), which are arbitrary key-value pairs.\n",
    "* A set of edges (or relationships).\n",
    "* Each edge is directed.\n",
    "* Each edge has zero or more labels.\n",
    "* Each edge has zero or more properties (or attributes), which are arbitrary key-value pairs.\n",
    "Labels, as well as names of properties, are strings. Property values are scalars such as numerics, strings or booleans.\n",
    "\n",
    "For Example:"
   ]
  },
  {
   "attachments": {
    "9a116e4b-fad4-4a8f-97e1-d836a473547c.png": {
     "image/png": "[encoded data removed]"
    }
   },
   "cell_type": "markdown",
   "id": "8cead5a8",
   "metadata": {},
   "source": [
    "![pg.png](attachment:9a116e4b-fad4-4a8f-97e1-d836a473547c.png)"
   ]
  },
  {
   "cell_type": "markdown",
   "id": "8b3aba30",
   "metadata": {},
   "source": [
    "In this example, `student_network` is the name of the graph. The graph has three vertices labeled `Person`, and one vertex labeled `University`. Six directed edges connect the vertices. Three of them go from person to person vertices, and they have the `knows` label. Three others go from person to university vertices, and are labeled `studentOf`. The person vertices have two properties, `name` for encoding the name of the person, and `dob` for encoding the date of birth of the person. The university vertex has only a single property `name` for encoding the name of the university. The edges have no properties."
   ]
  },
  {
   "cell_type": "markdown",
   "id": "6a7f4163",
   "metadata": {},
   "source": [
    "\n",
    "\n",
    "[PGQL](https://pgql-lang.org/) is a graph query language that is built on top of SQL. It provides graph pattern matching capabilities into the PyPGX conda environment. PGQL allows you to construct pattern matching queries using the familiar SQL-like commands such as `SELECT`, `FROM`, `WHERE`, `GROUP BY`, and `ORDER BY`. You can use fixed-length graph patterns to match a fixed number of vertices and edges per solution. In the query, you can define arbitrary label expressions like `friend_of|sibling_of`. The expression matches edges that have the label `friend_of` or `sibling_of`. You can define the nature of the relationship that you want to return. Effectively, the edge patterns are higher-level join operations that relate entities. You can also use PGQL to find variable-length graph patterns. These patterns contain quantifiers such as, `*`, `+`, `?` or `{X,Y}`, that match vertices and edges recursively.\n",
    "\n",
    "You can use to create subqueries that allow vertices and edges that are matched in a query to be passed to the parent query for more processing. The interconnection between PGQL and SQL allows you to benefit from existing SQL features and more capabilities that are added to the SQL standard."
   ]
  },
  {
   "cell_type": "markdown",
   "id": "4f74d2e0",
   "metadata": {},
   "source": [
    "<a id='pgql_patients'></a>\n",
    "## Example: Filter Patients Based On Age\n",
    "\n",
    "The [`.query_pgql()`](https://docs.oracle.com/en/database/oracle/property-graph/21.2/pypgx/api/api.html#pypgx.api.PgxGraph.query_pgql) method of a graph object is used to perform a PGQL query on the data. It returns a [`PgqlResultSet`](https://docs.oracle.com/en/database/oracle/property-graph/21.1/pypgx/api/api.html#pypgx.api.PgqlResultSet) object, which is the query result. Generally, a call to `.to_pandas()` is used to materialize the results in a Pandas dataframe.\n",
    "\n",
    "In a traditional relational database management system, the `FROM` clause contains a table name of an inner select statement. However, in a PGQL query the `FROM` clause defines the graph pattern that is to be matched. Syntactically, a `FROM` clause is composed of the keyword `FROM` followed by a comma-separated sequence of `MATCH` clauses, each defining a path pattern:\n",
    "```\n",
    "FromClause ::= 'FROM' MatchClause ( ',' MatchClause )*\n",
    "```\n",
    "\n",
    "The [`MATCH`](https://pgql-lang.org/spec/latest/#match) is defined by the following pattern:\n",
    "\n",
    "```\n",
    "MatchClause ::= 'MATCH' ( PathPattern | GraphPattern ) OnClause?\n",
    "\n",
    "GraphPattern ::= '(' PathPattern ( ',' PathPattern )* ')'\n",
    "\n",
    "PathPattern ::= SimplePathPattern\n",
    "| AnyPathPattern\n",
    "| AnyShortestPathPattern\n",
    "| AllShortestPathPattern\n",
    "| TopKShortestPathPattern\n",
    "| AnyCheapestPathPattern\n",
    "| TopKCheapestPathPattern\n",
    "| AllPathPattern\n",
    "\n",
    "\n",
    "SimplePathPattern ::= VertexPattern ( PathPrimary VertexPattern )*\n",
    "\n",
    "VertexPattern ::= '(' VariableSpecification ')'\n",
    "\n",
    "PathPrimary ::= EdgePattern\n",
    "| ReachabilityPathExpression\n",
    "\n",
    "EdgePattern ::= OutgoingEdgePattern\n",
    "| IncomingEdgePattern\n",
    "| AnyDirectedEdgePattern\n",
    "\n",
    "OutgoingEdgePattern ::= '->'\n",
    "| '-[' VariableSpecification ']->'\n",
    "\n",
    "IncomingEdgePattern ::= '<-'\n",
    "| '<-[' VariableSpecification ']-'\n",
    "\n",
    "AnyDirectedEdgePattern::= '-'\n",
    "| '-[' VariableSpecification ']-'\n",
    "\n",
    "VariableSpecification ::= VariableName? LabelPredicate?\n",
    "\n",
    "VariableName ::= Identifier\n",
    "```\n",
    "\n",
    "A path pattern that describes a partial topology of the subgraph pattern. In other words, a topology constraint describes some connectivity relationships between vertices and edges in the pattern, whereas the whole topology of the pattern is described with one or multiple topology constraints.\n",
    "\n",
    "A topology constraint is composed of one or more vertices and relations, where a relation is either an edge or a path. In a query, each vertex or edge is (optionally) associated with a variable, which is a symbolic name to reference the vertex or edge in other clauses. For example, consider the following topology constraint:\n",
    "\n",
    "```\n",
    "(n) -[e]-> (m)\n",
    "```\n",
    "\n",
    "The preceding example defines two vertices (with variable names `n` and `m`), and an edge (with the variable name `e`) between them. The edge is directed so that the `e` edge is an outgoing edge from vertex `n`.\n",
    "\n",
    "More specifically, a vertex term is written as a variable name inside a pair of parenthesis `()`. An edge term is written as a variable name inside a square bracket `[]` with two dashes and an inequality symbol attached to it – which makes it look like an arrow drawn in ASCII art. An edge term is always connected with two vertex terms as for the source and destination vertex of the edge. The source vertex is located at the tail of the ASCII arrow, and the destination at the head of the ASCII arrow.\n",
    "\n",
    "There can be multiple path patterns in the `FROM` clause of a PGQL query. Semantically, all constraints are conjunctive, each matched result satisfies every constraint in the `FROM` clause.\n",
    "\n",
    "\n",
    "In the next cell,  you run a a PGQL query to match on any vertex where the age value in that vertex is greater than seventy. It returns the vertex ID and age. The [`ID()`](https://pgql-lang.org/spec/latest/#id) function is used. It returns a system-generated identifier for the vertex (or edge).\n",
    "\n",
    "These results are sorted in descending order by age. Notice that the column names can be renamed using the `AS`."
   ]
  },
  {
   "cell_type": "code",
   "execution_count": null,
   "id": "1e8b1e67",
   "metadata": {},
   "outputs": [],
   "source": [
    "result_set = graph.query_pgql(\"\"\"\n",
    "    SELECT id(x) AS ID, x.age AS Age\n",
    "    FROM MATCH (x)\n",
    "    WHERE x.age > 70\n",
    "    ORDER BY x.age DESC\n",
    "\"\"\")\n",
    "result_set.to_pandas().head(10)"
   ]
  },
  {
   "cell_type": "markdown",
   "id": "82a67187",
   "metadata": {},
   "source": [
    "<a id='pgql_bmi'></a>\n",
    "## Example: Patients with a High BMI\n",
    "\n",
    "In this example, the `MATCH` expression uses `(x)-[e]->(y)`. The vertices and edges related to the BMI vertice identifiers are returned if the BMI identifier is greater than 450. This is not the BMI value, but the identifier for the BMI node."
   ]
  },
  {
   "cell_type": "code",
   "execution_count": null,
   "id": "c8db7bf4",
   "metadata": {},
   "outputs": [],
   "source": [
    "result_set_bmi = graph.query_pgql(\"\"\"\n",
    "    SELECT id(x), x.age AS Age, id(y) AS BMI_id\n",
    "    FROM MATCH (x)-[e]->(y)\n",
    "    WHERE id(y) > 450\n",
    "    LIMIT 10\n",
    "\"\"\")\n",
    "result_set_bmi.print()"
   ]
  },
  {
   "cell_type": "markdown",
   "id": "fb2fb7e9",
   "metadata": {},
   "source": [
    "Clean up the graph files that have been created:"
   ]
  },
  {
   "cell_type": "code",
   "execution_count": null,
   "id": "b1a20083",
   "metadata": {},
   "outputs": [],
   "source": [
    "shutil.rmtree(DATA_DIR, ignore_errors=True)"
   ]
  },
  {
   "cell_type": "markdown",
   "id": "bf4bb166",
   "metadata": {},
   "source": [
    "<a id=\"ref\"></a>\n",
    "# References\n",
    "\n",
    "- [ADS Library Documentation](https://docs.cloud.oracle.com/en-us/iaas/tools/ads-sdk/latest/index.html)\n",
    "- [Data Science YouTube Videos](https://www.youtube.com/playlist?list=PLKCk3OyNwIzv6CWMhvqSB_8MLJIZdO80L)\n",
    "- [OCI Data Science Documentation](https://docs.cloud.oracle.com/en-us/iaas/data-science/using/data-science.htm)\n",
    "- [Oracle Data & AI Blog](https://blogs.oracle.com/datascience/)\n",
    "- [Property Graph Query Language (PGQL)](https://pgql-lang.org/)\n",
    "- [PyPGX](https://docs.oracle.com/cd/F41824_01/latest/index.html)\n",
    "- [Oracle Property Graph](https://docs.oracle.com/en/database/oracle/property-graph/)"
   ]
  }
 ],
 "metadata": {
  "kernelspec": {
   "display_name": "Python [conda env:pypgx214_p38_cpu_v2]",
   "language": "python",
   "name": "conda-env-pypgx214_p38_cpu_v2-py"
  },
  "language_info": {
   "codemirror_mode": {
    "name": "ipython",
    "version": 3
   },
   "file_extension": ".py",
   "mimetype": "text/x-python",
   "name": "python",
   "nbconvert_exporter": "python",
   "pygments_lexer": "ipython3",
   "version": "3.8.10"
  }
 },
 "nbformat": 4,
 "nbformat_minor": 5
}
