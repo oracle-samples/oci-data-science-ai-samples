{
 "cells": [
  {
   "cell_type": "markdown",
   "id": "1de173e9-bb0a-4130-8079-d268c9cc4628",
   "metadata": {},
   "source": [
    "# ML Insights Tests"
   ]
  },
  {
   "cell_type": "markdown",
   "id": "f74f6415-6312-4b13-a13f-431741199958",
   "metadata": {},
   "source": [
    "## Use Case\n",
    "This notebook shows how to configure and write Tests using ML Insights Library.\n",
    "The Tests can be used apply threshold on the metrics. This will allow to continously monitor the metrics of the data."
   ]
  },
  {
   "cell_type": "markdown",
   "id": "83b3b0f1-359d-4c0f-bfff-860418fcaac9",
   "metadata": {
    "tags": []
   },
   "source": [
    "## Notes\n",
    "\n",
    "Insights Support following type of tests:\n",
    "1. Predicated Based test: The test take two value and a condition and evaluates the expression.\n",
    "2. Metric Based test: These test are specific to a particular metrics.\n",
    "\n",
    "\n",
    "Supported Predicate based tests:\n",
    "1. TestGreaterThan\n",
    "2. TestLessThan\n",
    "3. TestEqual\n",
    "4. TestDeviation\n",
    "5. TestIsBetween\n",
    "6. TestStringEquals\n",
    "\n",
    "\n",
    "Supports Metric based tests:\n",
    "1. TestIsPositive\n",
    "2. TestIsNegative\n",
    "3. TestIsNonZero\n",
    "4. TestIsComplete\n",
    "5. TestIsMatchingInferenceType\n",
    "6. TestNoNewCategory\n"
   ]
  },
  {
   "cell_type": "markdown",
   "id": "73641ade-6dde-4a80-9a39-8087f06f5a2f",
   "metadata": {},
   "source": [
    "## About Dataset\n",
    "\n",
    "The data was collected and made available by “National Institute of Diabetes and Digestive and Kidney Diseases” as part of the Pima Indians Diabetes Database. Several constraints were placed on the selection of these instances from a larger database. In particular, all patients here belong to the Pima Indian heritage (subgroup of Native Americans), and are females of ages 21 and above.\n",
    "\n",
    "The data set contains medical and demographic data of patients . It consists of various features such as Pregnancies, Glucose, BloodPressure, SkinThickness, Insulin, BMI, DiabetesPedigreeFunction, Age, Outcome, Prediction, BMICategory, Prediction_Score .\n",
    "\n",
    "Dataset source : https://www.kaggle.com/datasets/kandij/diabetes-dataset"
   ]
  },
  {
   "cell_type": "markdown",
   "id": "a970b6a6-bd02-493c-8a84-54a6dac1aa88",
   "metadata": {
    "tags": []
   },
   "source": [
    "# Install ML Observability Insights Library SDK\n",
    "\n",
    "- Prerequisites\n",
    "    - Linux/Mac (Intel CPU)\n",
    "    - Python 3.8 and 3.9 only\n",
    "\n",
    "\n",
    "- Installation\n",
    "    - ML Insights is made available as a Python package (via Artifactory) which can be installed using pip install as shown below. Depending on the execution engine on which to do the run, one can use scoped package. For eg: if we want to run on dask, use oracle-ml-insights[dask], for spark use oracle-ml-insights[spark], for native use oracle-ml-insights. One can install all the dependencies as use oracle-ml-insights[all]\n",
    "\n",
    "      !pip install oracle-ml-insights\n",
    "\n",
    "\n",
    "Refer : [Installation and Setup](https://docs.oracle.com/en-us/iaas/tools/ml-insights-docs/latest/ml-insights-documentation/html/user_guide/tutorials/install.html)"
   ]
  },
  {
   "cell_type": "code",
   "execution_count": 1,
   "id": "c756044f-a878-4593-b7e5-9efb1ae39139",
   "metadata": {
    "tags": [],
    "ExecuteTime": {
     "start_time": "2024-04-08T10:49:11.766781Z",
     "end_time": "2024-04-08T10:49:11.775923Z"
    }
   },
   "outputs": [],
   "source": [
    "# !python3 -m pip install oracle-ml-insights"
   ]
  },
  {
   "cell_type": "markdown",
   "id": "3a2e1066-ed65-447d-ace8-0b30e2d3816f",
   "metadata": {},
   "source": [
    "## Generating a Reference Profile[Optional]\n",
    "\n",
    "Use of refernce profile writing tests is optional, however to compare the current metrics to with a metrics from previous run, it is necessary to load the previos profile"
   ]
  },
  {
   "cell_type": "code",
   "execution_count": 2,
   "id": "dde70079-2812-4f6c-a735-04f717ec4fcd",
   "metadata": {
    "tags": [],
    "ExecuteTime": {
     "start_time": "2024-04-08T10:49:18.765105Z",
     "end_time": "2024-04-08T10:49:25.102195Z"
    }
   },
   "outputs": [],
   "source": [
    "from mlm_insights.config_reader.insights_config_reader import InsightsConfigReader\n",
    "monitor_config_path = \"monitor_configs/monitor_config_diabetes_reference.json\"\n",
    "builder = InsightsConfigReader(config_location=monitor_config_path).get_builder().build()\n",
    "reference_profile = builder.run().profile\n",
    "\n",
    "reference_profile_location = \"output_data/profiles/profile_diabetes_reference.bin\"\n",
    "with open(reference_profile_location, \"wb\") as file:\n",
    "    file.write(reference_profile.marshall())"
   ]
  },
  {
   "cell_type": "markdown",
   "id": "b49c24ad-6181-4178-849f-4e47446bf6b4",
   "metadata": {},
   "source": [
    "## Generating/Loading a Current Profile\n",
    "\n",
    "If a profile already exist, then load the profile on which test will be performed,\n",
    "or create a  new profile."
   ]
  },
  {
   "cell_type": "code",
   "execution_count": 3,
   "id": "274fe642-00bf-4c60-9dad-f1c5fcf10e61",
   "metadata": {
    "tags": [],
    "ExecuteTime": {
     "start_time": "2024-04-08T10:49:31.405829Z",
     "end_time": "2024-04-08T10:49:31.509003Z"
    }
   },
   "outputs": [],
   "source": [
    "monitor_config_path = \"monitor_configs/monitor_config_diabetes_current.json\"\n",
    "builder = InsightsConfigReader(config_location=monitor_config_path).get_builder().build()\n",
    "current_profile = builder.run().profile"
   ]
  },
  {
   "cell_type": "markdown",
   "id": "f63bf502-ff7b-486f-aa51-dcad7ba802e5",
   "metadata": {
    "tags": []
   },
   "source": [
    "# Creating a test-context\n",
    "\n",
    "A test context is required to tell on what you want to run the tests. Currenly Insights only support \"ProfileTestContext\"\n"
   ]
  },
  {
   "cell_type": "code",
   "execution_count": 4,
   "id": "a6f2b81f-7cf5-4bdd-a9ee-c37374cc6791",
   "metadata": {
    "tags": [],
    "ExecuteTime": {
     "start_time": "2024-04-08T10:49:33.466621Z",
     "end_time": "2024-04-08T10:49:33.539491Z"
    }
   },
   "outputs": [],
   "source": [
    "from mlm_insights.tests.test_context.profile_test_context import ProfileTestContext\n",
    "profile_test_context = ProfileTestContext(current_profile = current_profile, reference_profile=reference_profile)"
   ]
  },
  {
   "cell_type": "markdown",
   "id": "92192be1-dbc3-4609-962e-63e167dfd375",
   "metadata": {
    "tags": []
   },
   "source": [
    "## Creating tests using JSON file\n",
    "Test configuration can be part of existing monitor config json file or a seperate json file. The json file must contains 'test_config' section. In the below example we are using the same json file which was using to create the current profile."
   ]
  },
  {
   "cell_type": "code",
   "execution_count": 5,
   "id": "cf4f7a07-af78-4e87-8fc6-fbac0edd3c5e",
   "metadata": {
    "tags": [],
    "ExecuteTime": {
     "start_time": "2024-04-08T10:49:35.146967Z",
     "end_time": "2024-04-08T10:49:35.159852Z"
    }
   },
   "outputs": [],
   "source": [
    "test_builder = InsightsConfigReader(config_location=monitor_config_path).get_test_builder(profile_test_context).build()\n",
    "test_results_using_config = test_builder.run()"
   ]
  },
  {
   "cell_type": "code",
   "execution_count": 6,
   "id": "c7913723-ae46-4472-ac49-1a083ea0f388",
   "metadata": {
    "tags": [],
    "ExecuteTime": {
     "start_time": "2024-04-08T10:49:36.415865Z",
     "end_time": "2024-04-08T10:49:36.427317Z"
    }
   },
   "outputs": [
    {
     "name": "stdout",
     "output_type": "stream",
     "text": [
      "TestSummary(total_tests=5, passed_tests=3, failed_tests=2, error_test=0)\n"
     ]
    }
   ],
   "source": [
    "print(test_results_using_config.test_summary)"
   ]
  },
  {
   "cell_type": "code",
   "execution_count": 7,
   "id": "0401ded4-7764-43d6-9593-c5aa4ddbc14b",
   "metadata": {
    "tags": [],
    "ExecuteTime": {
     "start_time": "2024-04-08T10:49:39.711613Z",
     "end_time": "2024-04-08T10:49:39.723915Z"
    }
   },
   "outputs": [
    {
     "name": "stdout",
     "output_type": "stream",
     "text": [
      "['The Min of feature Pregnancies is 1.0. Test condition : 1.0 > 4.5', 'FAILED']\n",
      "\n",
      "['The Mean of feature Pregnancies is 3.8422174840085286. The Mean of feature Pregnancies is 3.8422174840085286 in reference profile. Test condition : 3.8422174840085286 deviates by +/- 10.0% from 3.8422174840085286', 'PASSED']\n",
      "\n",
      "['The Variance of feature Age is 144.83936697869166. Test condition : 144.83936697869166 < 1.5', 'FAILED']\n",
      "\n",
      "['TestIsComplete: Completion percentage of feature Age is 100.0. Completion percentage of feature Age is 100.0 in reference profile. Test condition: 100.0 >= 100.0', 'PASSED']\n",
      "\n",
      "[\"TestNoNewCategory: Category values of feature BMICategory are ['Obesity', 'Overweight', 'Healthy Weight', 'Underweight']. Category values of feature BMICategory are ['Obesity', 'Overweight', 'Healthy Weight', 'Underweight'] in reference profile. Test condition: ['Obesity', 'Overweight', 'Healthy Weight', 'Underweight'] = ['Obesity', 'Overweight', 'Healthy Weight', 'Underweight']\", 'PASSED']\n"
     ]
    }
   ],
   "source": [
    "def formatted_result(test_results):\n",
    "    formatted_result = list(map(lambda x: [x.description, x.status.name], test_results))\n",
    "    print(*formatted_result, sep='\\n\\n')\n",
    "    \n",
    "formatted_result(test_results_using_config.test_results)"
   ]
  },
  {
   "cell_type": "markdown",
   "id": "f3303e33-28a1-4637-87e9-8653549a9f0b",
   "metadata": {},
   "source": [
    "## Writing tests using Test Builder\n",
    "\n",
    "Insights also provides builder interface to write test. This allow user to write more grananular test, custom tests."
   ]
  },
  {
   "cell_type": "code",
   "execution_count": 8,
   "id": "b8e92dd0-ecc8-4c8d-af43-824194e675d7",
   "metadata": {
    "tags": [],
    "ExecuteTime": {
     "start_time": "2024-04-08T10:49:43.443321Z",
     "end_time": "2024-04-08T10:49:43.448545Z"
    }
   },
   "outputs": [],
   "source": [
    "from mlm_insights.tests.test_builder.test_builder import InsightsTestBuilder\n",
    "\n",
    "from mlm_insights.tests.test_types.metric_based_tests.test_is_complete import TestIsComplete\n",
    "from mlm_insights.tests.test_types.metric_based_tests.test_is_positive import TestIsPositive\n",
    "from mlm_insights.tests.test_types.predicate_based_tests.interfaces.predicate_based_test_base import \\\n",
    "    PredicateBasedTestBase\n",
    "from mlm_insights.tests.test_types.predicate_based_tests.test_equal import TestEqual\n",
    "from mlm_insights.tests.test_types.predicate_based_tests.test_greater_than import TestGreaterThan\n",
    "from mlm_insights.tests.test_types.predicate_based_tests.test_less_than import TestLessThan\n",
    "\n",
    "from mlm_insights.tests.selectors.feature_metric_selector import FeatureMetricSelector\n",
    "from mlm_insights.tests.selectors.dataset_metric_selector import DatasetMetricSelector\n",
    "\n",
    "from mlm_insights.tests.profile_source import ProfileSource\n",
    "\n",
    "test_builder = InsightsTestBuilder().with_context(profile_test_context) \\\n",
    "        .add_test(TestGreaterThan(\n",
    "        lhs=FeatureMetricSelector(profile_source=ProfileSource.CURRENT,\n",
    "                                  feature_name=\"Pregnancies\",\n",
    "                                  metric_key=\"Mean\"),\n",
    "        rhs=10.0)) \\\n",
    "        .add_test(TestLessThan(\n",
    "        lhs=FeatureMetricSelector(profile_source=ProfileSource.CURRENT,\n",
    "                                  feature_name=\"Pregnancies\",\n",
    "                                  metric_key=\"Mean\"),\n",
    "        rhs=FeatureMetricSelector(profile_source=ProfileSource.CURRENT,\n",
    "                                  feature_name=\"Pregnancies\",\n",
    "                                  metric_key=\"Quartiles.q2\"))) \\\n",
    "        .add_test(TestEqual(\n",
    "        lhs=DatasetMetricSelector(profile_source=ProfileSource.CURRENT,\n",
    "                                  metric_key=\"RowCount\"),\n",
    "        rhs=1000)) \\\n",
    "        .add_test(TestIsPositive(feature_name=\"Age\")) \\\n",
    "        .add_test(TestIsComplete(feature_name=\"BMICategory\", threshold_value=90)).build()"
   ]
  },
  {
   "cell_type": "code",
   "execution_count": 9,
   "id": "6b2e5799-67a5-4279-b706-5538291371db",
   "metadata": {
    "tags": [],
    "ExecuteTime": {
     "start_time": "2024-04-08T10:49:44.098298Z",
     "end_time": "2024-04-08T10:49:44.111795Z"
    }
   },
   "outputs": [
    {
     "name": "stdout",
     "output_type": "stream",
     "text": [
      "['The Mean of feature Pregnancies is 3.8422174840085286. Test condition : 3.8422174840085286 > 10.0', 'FAILED']\n",
      "\n",
      "['The Mean of feature Pregnancies is 3.8422174840085286. The Quartiles.q2 of feature Pregnancies is 3.0. Test condition : 3.8422174840085286 < 3.0', 'FAILED']\n",
      "\n",
      "['The RowCount is 469.0. Test condition : 469.0 = 1000', 'FAILED']\n",
      "\n",
      "['TestIsPositive: Feature Age has all positive values', 'PASSED']\n",
      "\n",
      "['TestIsComplete: Completion percentage of feature BMICategory is 100.0. Threshold value is set to 90. Test condition: 100.0 >= 90', 'PASSED']\n"
     ]
    }
   ],
   "source": [
    "test_results_using_builder = test_builder.run()\n",
    "formatted_result(test_results_using_builder.test_results)"
   ]
  },
  {
   "cell_type": "markdown",
   "id": "48166d73-25cd-4eb3-b305-b8d126207edd",
   "metadata": {},
   "source": [
    "## Test Result Grouping\n",
    "\n",
    "It is possible to group the test result by :\n",
    "1. Feature\n",
    "2. Test status\n",
    "3. Custom tags."
   ]
  },
  {
   "cell_type": "code",
   "execution_count": 10,
   "id": "37b6d809-abff-41c5-9417-96ca43dd7e52",
   "metadata": {
    "tags": [],
    "ExecuteTime": {
     "start_time": "2024-04-08T10:49:45.959700Z",
     "end_time": "2024-04-08T10:49:46.123331Z"
    }
   },
   "outputs": [
    {
     "name": "stdout",
     "output_type": "stream",
     "text": [
      "Test for Feature = Pregnancies\n",
      "['The Min of feature Pregnancies is 1.0. Test condition : 1.0 > 4.5', 'FAILED']\n",
      "\n",
      "['The Mean of feature Pregnancies is 3.8422174840085286. The Mean of feature Pregnancies is 3.8422174840085286 in reference profile. Test condition : 3.8422174840085286 deviates by +/- 10.0% from 3.8422174840085286', 'PASSED']\n",
      "\n",
      "Test for Feature = Age\n",
      "['The Variance of feature Age is 144.83936697869166. Test condition : 144.83936697869166 < 1.5', 'FAILED']\n",
      "\n",
      "['TestIsComplete: Completion percentage of feature Age is 100.0. Completion percentage of feature Age is 100.0 in reference profile. Test condition: 100.0 >= 100.0', 'PASSED']\n",
      "\n",
      "Test for Feature = BMICategory\n",
      "[\"TestNoNewCategory: Category values of feature BMICategory are ['Obesity', 'Overweight', 'Healthy Weight', 'Underweight']. Category values of feature BMICategory are ['Obesity', 'Overweight', 'Healthy Weight', 'Underweight'] in reference profile. Test condition: ['Obesity', 'Overweight', 'Healthy Weight', 'Underweight'] = ['Obesity', 'Overweight', 'Healthy Weight', 'Underweight']\", 'PASSED']\n",
      "\n"
     ]
    }
   ],
   "source": [
    "from mlm_insights.tests.constants import GroupByKey\n",
    "grouped_result = test_results_using_config.group_tests_by(GroupByKey.FEATURE_TAG_KEY)\n",
    "\n",
    "for key, value in grouped_result.items():\n",
    "    print(f\"Test for Feature = {key}\")\n",
    "    formatted_result(value)\n",
    "    print()"
   ]
  },
  {
   "cell_type": "code",
   "execution_count": 11,
   "id": "ebe6ac4f-0ff5-422f-b4d8-3a6da3d944d6",
   "metadata": {
    "tags": [],
    "ExecuteTime": {
     "start_time": "2024-04-08T10:49:46.641386Z",
     "end_time": "2024-04-08T10:49:46.675492Z"
    }
   },
   "outputs": [
    {
     "name": "stdout",
     "output_type": "stream",
     "text": [
      "Test Status = FAILED\n",
      "['The Min of feature Pregnancies is 1.0. Test condition : 1.0 > 4.5', 'FAILED']\n",
      "\n",
      "['The Variance of feature Age is 144.83936697869166. Test condition : 144.83936697869166 < 1.5', 'FAILED']\n",
      "\n",
      "Test Status = PASSED\n",
      "['The Mean of feature Pregnancies is 3.8422174840085286. The Mean of feature Pregnancies is 3.8422174840085286 in reference profile. Test condition : 3.8422174840085286 deviates by +/- 10.0% from 3.8422174840085286', 'PASSED']\n",
      "\n",
      "['TestIsComplete: Completion percentage of feature Age is 100.0. Completion percentage of feature Age is 100.0 in reference profile. Test condition: 100.0 >= 100.0', 'PASSED']\n",
      "\n",
      "[\"TestNoNewCategory: Category values of feature BMICategory are ['Obesity', 'Overweight', 'Healthy Weight', 'Underweight']. Category values of feature BMICategory are ['Obesity', 'Overweight', 'Healthy Weight', 'Underweight'] in reference profile. Test condition: ['Obesity', 'Overweight', 'Healthy Weight', 'Underweight'] = ['Obesity', 'Overweight', 'Healthy Weight', 'Underweight']\", 'PASSED']\n",
      "\n"
     ]
    }
   ],
   "source": [
    "from mlm_insights.tests.constants import GroupByKey\n",
    "grouped_result = test_results_using_config.group_tests_by(GroupByKey.TEST_STATUS_KEY)\n",
    "\n",
    "for key, value in grouped_result.items():\n",
    "    print(f\"Test Status = {key}\")\n",
    "    formatted_result(value)\n",
    "    print()"
   ]
  }
 ],
 "metadata": {
  "kernelspec": {
   "display_name": "Python 3 (ipykernel)",
   "language": "python",
   "name": "python3"
  },
  "language_info": {
   "codemirror_mode": {
    "name": "ipython",
    "version": 3
   },
   "file_extension": ".py",
   "mimetype": "text/x-python",
   "name": "python",
   "nbconvert_exporter": "python",
   "pygments_lexer": "ipython3",
   "version": "3.11.3"
  }
 },
 "nbformat": 4,
 "nbformat_minor": 5
}
