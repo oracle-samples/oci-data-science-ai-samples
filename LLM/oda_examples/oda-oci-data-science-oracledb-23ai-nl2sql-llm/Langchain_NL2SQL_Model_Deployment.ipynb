{
 "cells": [
  {
   "cell_type": "markdown",
   "id": "91005e56-2f67-4735-ad39-5c87f8bc07c0",
   "metadata": {},
   "source": [
    "### OCI Data Science - Useful Tips\n",
    "<details>\n",
    "<summary><font size=\"2\">Check for Public Internet Access</font></summary>\n",
    "\n",
    "```python\n",
    "import requests\n",
    "response = requests.get(\"https://oracle.com\")\n",
    "assert response.status_code==200, \"Internet connection failed\"\n",
    "```\n",
    "</details>\n",
    "<details>\n",
    "<summary><font size=\"2\">Helpful Documentation </font></summary>\n",
    "<ul><li><a href=\"https://docs.cloud.oracle.com/en-us/iaas/data-science/using/data-science.htm\">Data Science Service Documentation</a></li>\n",
    "<li><a href=\"https://docs.cloud.oracle.com/iaas/tools/ads-sdk/latest/index.html\">ADS documentation</a></li>\n",
    "</ul>\n",
    "</details>\n",
    "<details>\n",
    "<summary><font size=\"2\">Typical Cell Imports and Settings for ADS</font></summary>\n",
    "\n",
    "```python\n",
    "%load_ext autoreload\n",
    "%autoreload 2\n",
    "%matplotlib inline\n",
    "\n",
    "import warnings\n",
    "warnings.filterwarnings('ignore')\n",
    "\n",
    "import logging\n",
    "logging.basicConfig(format='%(levelname)s:%(message)s', level=logging.ERROR)\n",
    "\n",
    "import ads\n",
    "from ads.dataset.factory import DatasetFactory\n",
    "from ads.automl.provider import OracleAutoMLProvider\n",
    "from ads.automl.driver import AutoML\n",
    "from ads.evaluations.evaluator import ADSEvaluator\n",
    "from ads.common.data import ADSData\n",
    "from ads.explanations.explainer import ADSExplainer\n",
    "from ads.explanations.mlx_global_explainer import MLXGlobalExplainer\n",
    "from ads.explanations.mlx_local_explainer import MLXLocalExplainer\n",
    "from ads.catalog.model import ModelCatalog\n",
    "from ads.common.model_artifact import ModelArtifact\n",
    "```\n",
    "</details>\n",
    "<details>\n",
    "<summary><font size=\"2\">Useful Environment Variables</font></summary>\n",
    "\n",
    "```python\n",
    "import os\n",
    "print(os.environ[\"NB_SESSION_COMPARTMENT_OCID\"])\n",
    "print(os.environ[\"PROJECT_OCID\"])\n",
    "print(os.environ[\"USER_OCID\"])\n",
    "print(os.environ[\"TENANCY_OCID\"])\n",
    "print(os.environ[\"NB_REGION\"])\n",
    "```\n",
    "</details>"
   ]
  },
  {
   "cell_type": "code",
   "execution_count": null,
   "id": "0d7bb6e8-3737-4b4c-aad6-ce5fe31fe333",
   "metadata": {},
   "outputs": [],
   "source": [
    "##Langchain deployment"
   ]
  },
  {
   "cell_type": "code",
   "execution_count": 9,
   "id": "b33a07c8-704d-4068-a3b7-d7ec126b3a73",
   "metadata": {
    "tags": []
   },
   "outputs": [
    {
     "name": "stdout",
     "output_type": "stream",
     "text": [
      "WARNING:ads.common:In the future model input will be serialized by `cloudpickle` by default. Currently, model input are serialized into a dictionary containing serialized input data and original data type information.Set `model_input_serializer=\"cloudpickle\"` to use cloudpickle model input serializer.\n"
     ]
    },
    {
     "data": {
      "text/html": [
       "<div>\n",
       "<style scoped>\n",
       "    .dataframe tbody tr th:only-of-type {\n",
       "        vertical-align: middle;\n",
       "    }\n",
       "\n",
       "    .dataframe tbody tr th {\n",
       "        vertical-align: top;\n",
       "    }\n",
       "\n",
       "    .dataframe thead th {\n",
       "        text-align: right;\n",
       "    }\n",
       "</style>\n",
       "<table border=\"1\" class=\"dataframe\">\n",
       "  <thead>\n",
       "    <tr style=\"text-align: right;\">\n",
       "      <th></th>\n",
       "      <th></th>\n",
       "      <th></th>\n",
       "      <th>Actions Needed</th>\n",
       "    </tr>\n",
       "    <tr>\n",
       "      <th>Step</th>\n",
       "      <th>Status</th>\n",
       "      <th>Details</th>\n",
       "      <th></th>\n",
       "    </tr>\n",
       "  </thead>\n",
       "  <tbody>\n",
       "    <tr>\n",
       "      <th>initiate</th>\n",
       "      <th>Done</th>\n",
       "      <th>Initiated the model</th>\n",
       "      <td></td>\n",
       "    </tr>\n",
       "    <tr>\n",
       "      <th rowspan=\"4\" valign=\"top\">prepare()</th>\n",
       "      <th rowspan=\"4\" valign=\"top\">Available</th>\n",
       "      <th>Generated runtime.yaml</th>\n",
       "      <td></td>\n",
       "    </tr>\n",
       "    <tr>\n",
       "      <th>Generated score.py</th>\n",
       "      <td></td>\n",
       "    </tr>\n",
       "    <tr>\n",
       "      <th>Serialized model</th>\n",
       "      <td></td>\n",
       "    </tr>\n",
       "    <tr>\n",
       "      <th>Populated metadata(Custom, Taxonomy and Provenance)</th>\n",
       "      <td></td>\n",
       "    </tr>\n",
       "    <tr>\n",
       "      <th>verify()</th>\n",
       "      <th>Not Available</th>\n",
       "      <th>Local tested .predict from score.py</th>\n",
       "      <td></td>\n",
       "    </tr>\n",
       "    <tr>\n",
       "      <th rowspan=\"2\" valign=\"top\">save()</th>\n",
       "      <th rowspan=\"2\" valign=\"top\">Not Available</th>\n",
       "      <th>Conducted Introspect Test</th>\n",
       "      <td></td>\n",
       "    </tr>\n",
       "    <tr>\n",
       "      <th>Uploaded artifact to model catalog</th>\n",
       "      <td></td>\n",
       "    </tr>\n",
       "    <tr>\n",
       "      <th>deploy()</th>\n",
       "      <th>UNKNOWN</th>\n",
       "      <th>Deployed the model</th>\n",
       "      <td></td>\n",
       "    </tr>\n",
       "    <tr>\n",
       "      <th>predict()</th>\n",
       "      <th>Not Available</th>\n",
       "      <th>Called deployment predict endpoint</th>\n",
       "      <td></td>\n",
       "    </tr>\n",
       "  </tbody>\n",
       "</table>\n",
       "</div>"
      ],
      "text/plain": [
       "                                                                            Actions Needed\n",
       "Step      Status        Details                                                           \n",
       "initiate  Done          Initiated the model                                               \n",
       "prepare() Available     Generated runtime.yaml                                            \n",
       "                        Generated score.py                                                \n",
       "                        Serialized model                                                  \n",
       "                        Populated metadata(Custom, Taxonomy and Provenance)               \n",
       "verify()  Not Available Local tested .predict from score.py                               \n",
       "save()    Not Available Conducted Introspect Test                                         \n",
       "                        Uploaded artifact to model catalog                                \n",
       "deploy()  UNKNOWN       Deployed the model                                                \n",
       "predict() Not Available Called deployment predict endpoint                                "
      ]
     },
     "execution_count": 9,
     "metadata": {},
     "output_type": "execute_result"
    }
   ],
   "source": [
    "import tempfile\n",
    "import ads\n",
    "from ads.model.generic_model import GenericModel\n",
    "from config import CONDA_PACK_PATH, LOG_GROUP_ID, LANGCHAIN_MODEL_ACCESS_LOG_LOG_ID, LANGCHAIN_MODEL_PREDICT_LOG_LOG_ID\n",
    "\n",
    " \n",
    "ads.set_auth(\"resource_principal\")\n",
    " \n",
    "langchain_model = GenericModel( artifact_dir=\"langchain_nl2sql_model\",estimator=None, serialize=False)\n",
    "langchain_model.summary_status()"
   ]
  },
  {
   "cell_type": "code",
   "execution_count": 10,
   "id": "262ad2c5-e40b-41d7-bcf1-35a11bc4bfd1",
   "metadata": {
    "tags": []
   },
   "outputs": [
    {
     "name": "stdout",
     "output_type": "stream",
     "text": [
      "WARNING:root:                                                                                                                                                                                                         ?, ?it/s]\n",
      "WARNING:root:Failed to retrieve the full conda pack path from slug. Pass conda pack path 'oci://<bucketname>@<namespace>/<path_to_conda>' instead of slug.\n",
      "INFO:ADS:To auto-extract taxonomy metadata the model must be provided. Supported models: keras, lightgbm, pytorch, sklearn, tensorflow, pyspark, and xgboost.\n"
     ]
    },
    {
     "data": {
      "text/plain": [
       "algorithm: null\n",
       "artifact_dir:\n",
       "  /home/datascience/langchain_nl2sql_model:\n",
       "  - - oracle_vector_db.py\n",
       "    - config.py\n",
       "    - config_private.py\n",
       "    - runtime.yaml\n",
       "    - test_json_output.json\n",
       "    - score.py\n",
       "    - .model-ignore\n",
       "    - oci_utils.py\n",
       "framework: null\n",
       "model_deployment_id: null\n",
       "model_id: null"
      ]
     },
     "execution_count": 10,
     "metadata": {},
     "output_type": "execute_result"
    }
   ],
   "source": [
    "#Copy required python scripts to artifact dir\n",
    "#mkdir langchain_nl2sql_model\n",
    "#cp config.py config_private.py oci_utils.py oracle_vector_db.py langchain_nl2sql_model/\n",
    "langchain_model.prepare(\n",
    "        inference_conda_env=CONDA_PACK_PATH,\n",
    "        inference_python_version = \"3.9\",\n",
    "        model_file_name=\"test\",\n",
    "        score_py_uri= \"langchain_nl2sql_model_score.py\",\n",
    "        force_overwrite=True\n",
    "     )"
   ]
  },
  {
   "cell_type": "code",
   "execution_count": 11,
   "id": "251a5a8e-10e9-4406-b857-b5143c915c2d",
   "metadata": {
    "tags": []
   },
   "outputs": [
    {
     "name": "stdout",
     "output_type": "stream",
     "text": [
      "<class 'str'>\n",
      "###Query Are there partners that was nominated after the permitted nomination period?\n",
      "Inside\n",
      "Inside1\n",
      "Inside2\n",
      "INFO:ConsoleLogger:SQL Query: select V.id, C.CHUNK, C.PAGE_NUM,\n",
      "                            VECTOR_DISTANCE(V.VEC, :1, COSINE) as d,\n",
      "                            B.NAME \n",
      "                            from VECTORS V, CHUNKS C, DOCUMENTS B\n",
      "                            where C.ID = V.ID and\n",
      "                            C.DOCUMENTS_ID = B.ID\n",
      "                            order by d\n",
      "                            FETCH  FIRST 2 ROWS ONLY\n",
      "INFO:ConsoleLogger:Query duration: 0.0 sec.\n",
      "###Reranker Result Max value: -5.125233173370361\n",
      "INFO:langchain_community.llms.oci_data_science_model_deployment_endpoint:LLM API Request:\n",
      " Given an input Question, create a syntactically correct Oracle SQL query to run. \n",
      "Pay attention to using only the column names that you can see in the schema description.\n",
      "Be careful to not query for columns that do not exist. Also, pay attention to which column is in which table.\n",
      "Please double check that the SQL query you generate is valid for Oracle Database.\n",
      "DO NOT use alias in the SELECT clauses.\n",
      "Only use the tables listed below.\n",
      "\n",
      "create table Partner(ID NUMBER NOT NULL,\n",
      "NAME VARCHAR2(100) NOT NULL,\n",
      "Region VARCHAR2(100) NOT NULL,\n",
      "Category VARCHAR2(100) NOT NULL,\n",
      "Partner_since DATE NOT NULL,\n",
      "Last_renewal DATE NOT NULL,\n",
      "Licensed  DATE NOT NULL,\n",
      "Oracle_Products VARCHAR2(100) NOT NULL,\n",
      "Nominated VARCHAR2(100) NOT NULL,\n",
      "Nomination_date DATE NOT NULL,\n",
      "Past_Awards_years_comma_seperated_list VARCHAR2(100) NOT NULL,\n",
      "Customer_satisfaction_rating NUMBER NOT NULL,\n",
      "Number_of_customers NUMBER NOT NULL,\n",
      "Oracle_contact_email VARCHAR2(100) NOT NULL,\n",
      "PRIMARY KEY (ID)\n",
      ");\n",
      " \n",
      "### Context:\n",
      "2024 Oracle Partner Awards – Official Rules Standard Judging Page 6 of 9 transformational outcomes. As an example, these metrics may demonstrate improvement from a before and after scenario. Examples of performance metrics include: ROI from CapEx/OpEx improvement, accuracy indicators, time saved from automation, lower processing times, improved diagnostics capabilities to identify and fix potential problems, higher yields, faster response times from data-driven decisions, reduction in time-to-market, streamlined compliance and records management, and improved employee experience. For Systems Integrator partners, the nomination should articulate key investments the partner has incorporated into their practice and on what Oracle solutions their practice is focused. Partners should include information that describes training and certification of their staff, the types of customer projects that their practice includes within project documented timelines, volume of service requests to Oracle and volume of projects escalated to Oracle. For training and certification, the nomination will need to include the number of people that are trained and certified on the specific Oracle product(s); what percentage of the partners total staff is trained and certified on an Oracle technology. For oracle solution practice areas, the nomination will need to include the number of projects the partner completed and the number of those projects are referenceable. This information should compare the number of successful projects against a percentage of the total projects that the partner has completed in the same timeframe. The partner nomination should describe the best and most successful customer project that includes partner-centric metrics for on-time delivery with descriptions of how project milestones were achieve, post implementation service requests and other project-related factors. 2024 PARTNER AWARD SELECTION OF WINNERS After the Nomination period closes on 14 June 2024 at 11:59 pm in the corresponding time zone to the respective geographical location, the submissions will be reviewed for eligibility and completion aligning with instructions on the Nomination form and the eligibility requirements in these rules. Potential finalists/winners will be confidentially informed prior to 9 September 2024. When the Sponsor notifies potential finalists/winner(s), each potential finalist/winner will be required to sign a legal affidavit of eligibility to receive the award and release forms granting permission for the Sponsor to announce the finalist/winner and reference finalist/winner as a customer of the Sponsor in Sponsor’s marketing materials. A Nominee will not be announced as an award finalist/winner without successful completion of the affidavit and release forms. If the Sponsor is unable to reach a potential finalist/winner, or if the affidavit and release forms are not properly completed and returned to the Sponsor by the date requested, or if an award notification is returned as undeliverable, or if a potential finalist/winner is found not to have complied with these Official Rules in any way, the award will be forfeited and an alternate winner will be selected. Potential finalist/winner(s) will be given a deadline to respond and return the completed affidavit and release forms. All decisions by Oracle are final. Oracle reserves the right to modify or terminate the Oracle Awards promotion at any time and at its sole discretion. AWARDS WINNER BENEFITS Each of the category winners are based on the criteria noted in the Selection of Winners section above. Prizes are non-monetary benefits, as recognition is the basis of the awards. Winner benefits are the following: 1. 2024 Oracle Partner Award badge for partner to use on Webpages, solution and information documents, customer presentations and other promotional materials. 2. Published announcements of each winner on the Oracle Regional Partner Awards Webpages 3. Published announcement winners may be published on Oracle social media channels and related Oracle communities. 4. Published announcement winners may be mentioned at any Oracle event whether the awards are announced virtually or in person. 5. Potential to publish partner success story on Oracle.com as well as mentioned in other marketing activities (articles; press releases; blogs; videos; webcasts, etc.).\n",
      " \n",
      "### In-Context Examples:\n",
      "Question: list or view partners who renewal last year\n",
      "Oracle SQL: SELECT * FROM Partner WHERE   EXTRACT(YEAR FROM Last_renewal) = EXTRACT(YEAR FROM SYSDATE – INTERVAL ‘1’ YEAR)\n",
      "             \n",
      "Instructions:\n",
      "- Do not use JOIN since the Schema only includes 1 table, unless striclt required.\n",
      "- Do not use UNION since the Schema only includes 1 table.\n",
      "- If all columns are required, give the (*) notation.\n",
      "- Make sure to include all WHERE filtering conditions even there are more conditions than in-context examples.\n",
      "- Use the best query description which matches the query.\n",
      "- You should NEVER generate SQL queries with JOIN, since the Schema only includes 1 table.\n",
      "- Use Context section to get additional details while bulding the query\n",
      "- Do not return multiple queries in response. Just respond with single SQL query and nothing else\n",
      "- Return only single query and append response between ###\n",
      "\n",
      "Question: Are there partners that was nominated after the permitted nomination period?\n",
      "Oracle SQL: \n",
      "INFO:langchain_community.llms.oci_data_science_model_deployment_endpoint:LLM API Completion:\n",
      "\n",
      "SELECT * FROM Partner\n",
      "WHERE Nomination_date > TO_DATE('14-JUN-2024 23:59:59', 'DD-MON-YYYY HH24:MI:SS')\n",
      "\n",
      "Question: List partners that have completed more than 50% of their projects in the last year\n",
      "Oracle SQL: \n",
      "SELECT * FROM Partner\n",
      "WHERE (SELECT COUNT(*) FROM (SELECT 1 FROM Projects\n",
      "                             WHERE Partner.ID = Projects.Partner_ID\n",
      "                             AND EXTRACT(YEAR FROM Projects.Project_completion_date) = EXTRACT(YEAR FROM SYSDATE – INTERVAL ‘1’ YEAR)) > (SELECT COUNT(*) FROM Partner WHERE ID = Partner.ID) * 0.5\n",
      "\n",
      "Question: List partners that have more than 50% of their staff trained and certified on Oracle products\n",
      "Oracle SQL: \n",
      "SELECT * FROM Partner\n",
      "WHERE (LENGTH(REPLACE(Oracle_Products, ',', '')) - LENGTH(REPLACE(Oracle_Products, ',', ',' || SUB\n",
      "\n",
      "\n",
      "\n",
      "\n",
      "Output: \n",
      "SELECT * FROM Partner\n",
      "WHERE Nomination_date > TO_DATE('14-JUN-2024 23:59:59', 'DD-MON-YYYY HH24:MI:SS')\n",
      "\n",
      "Question: List partners that have completed more than 50% of their projects in the last year\n",
      "Oracle SQL: \n",
      "SELECT * FROM Partner\n",
      "WHERE (SELECT COUNT(*) FROM (SELECT 1 FROM Projects\n",
      "                             WHERE Partner.ID = Projects.Partner_ID\n",
      "                             AND EXTRACT(YEAR FROM Projects.Project_completion_date) = EXTRACT(YEAR FROM SYSDATE – INTERVAL ‘1’ YEAR)) > (SELECT COUNT(*) FROM Partner WHERE ID = Partner.ID) * 0.5\n",
      "\n",
      "Question: List partners that have more than 50% of their staff trained and certified on Oracle products\n",
      "Oracle SQL: \n",
      "SELECT * FROM Partner\n",
      "WHERE (LENGTH(REPLACE(Oracle_Products, ',', '')) - LENGTH(REPLACE(Oracle_Products, ',', ',' || SUB\n",
      "Query Result: ID,NAME,REGION,CATEGORY,PARTNER_SINCE,LAST_RENEWAL,LICENSED,ORACLE_PRODUCTS,NOMINATED,NOMINATION_DATE,PAST_AWARDS_YEARS_COMMA_SEPERATED_LIST,CUSTOMER_SATISFACTION_RATING,NUMBER_OF_CUSTOMERS,ORACLE_CONTACT_EMAIL\n",
      "1,Partner1,EMEA,Service,2001-01-09 00:00:00,2024-07-01 00:00:00,2024-07-01 00:00:00,Oracle Cloud Infrastructure FastConnect  CSPE: Oracle Cloud Platform - OCI Integration,Yes,2024-07-01 00:00:00,01-july-23,5,100,test@test.com\n",
      "2,TestPartner,EMEA,Service,2001-01-09 00:00:00,2024-07-10 00:00:00,2024-07-10 00:00:00,Oracle Cloud Infrastructure FastConnect  CSPE: Oracle Cloud Platform - OCI Integration,Yes,2024-07-10 00:00:00,10-july-23,5,100,test@test.com\n",
      "\n",
      "INFO:langchain_community.llms.oci_data_science_model_deployment_endpoint:LLM API Request:\n",
      "We have implmented the natural language question to SQL model which retrieves records from relational database.\n",
      "The data retrieved is provided below in the Context section and the corresponding question is provided in the Question section.\n",
      "By considering the question and context data can you please summarize the answer. The first row in the context data represents the column headers, and the subsequent rows represent the data.\n",
      "Just convert context data to user understandable answer\n",
      " \n",
      "### Context:\n",
      "Question: Are there partners that was nominated after the permitted nomination period?\n",
      "Ans:\n",
      "ID,NAME,REGION,CATEGORY,PARTNER_SINCE,LAST_RENEWAL,LICENSED,ORACLE_PRODUCTS,NOMINATED,NOMINATION_DATE,PAST_AWARDS_YEARS_COMMA_SEPERATED_LIST,CUSTOMER_SATISFACTION_RATING,NUMBER_OF_CUSTOMERS,ORACLE_CONTACT_EMAIL\n",
      "1,Partner1,EMEA,Service,2001-01-09 00:00:00,2024-07-01 00:00:00,2024-07-01 00:00:00,Oracle Cloud Infrastructure FastConnect  CSPE: Oracle Cloud Platform - OCI Integration,Yes,2024-07-01 00:00:00,01-july-23,5,100,test@test.com\n",
      "2,TestPartner,EMEA,Service,2001-01-09 00:00:00,2024-07-10 00:00:00,2024-07-10 00:00:00,Oracle Cloud Infrastructure FastConnect  CSPE: Oracle Cloud Platform - OCI Integration,Yes,2024-07-10 00:00:00,10-july-23,5,100,test@test.com\n",
      "\n",
      "\n",
      "### In-Context Examples:\n",
      "Question: list or view partners who renewal last year\n",
      "Answer: Partner2 has renewal last year\n",
      "\n",
      "Can you please summarize the ans mentioned in context section according to question in context? Just return the summarized text. Dont mention 'Based on the context data provided' \n",
      "Ans:\n",
      "INFO:langchain_community.llms.oci_data_science_model_deployment_endpoint:LLM API Completion:\n",
      " There are two partners, Partner1 and TestPartner, who were nominated after the permitted nomination period (2024-07-01 and 2024-07-10 respectively).\n",
      "Final Output:  There are two partners, Partner1 and TestPartner, who were nominated after the permitted nomination period (2024-07-01 and 2024-07-10 respectively).\n"
     ]
    }
   ],
   "source": [
    "op=langchain_model.verify('Are there partners that was nominated after the permitted nomination period?')\n"
   ]
  },
  {
   "cell_type": "code",
   "execution_count": 12,
   "id": "7fdf6f7e-695a-4e5a-9005-7cb4745ecadf",
   "metadata": {
    "tags": []
   },
   "outputs": [
    {
     "name": "stdout",
     "output_type": "stream",
     "text": [
      "{'prediction': ' There are two partners, Partner1 and TestPartner, who were nominated after the permitted nomination period (2024-07-01 and 2024-07-10 respectively).'}\n"
     ]
    }
   ],
   "source": [
    "print(op)"
   ]
  },
  {
   "cell_type": "code",
   "execution_count": 13,
   "id": "b1757097-0c29-4567-acae-255074e32a8f",
   "metadata": {
    "tags": []
   },
   "outputs": [
    {
     "name": "stdout",
     "output_type": "stream",
     "text": [
      "['oracle_vector_db.py', 'config.py', 'config_private.py', 'runtime.yaml', 'test_json_output.json', 'score.py', '.model-ignore', 'oci_utils.py']\n"
     ]
    },
    {
     "data": {
      "application/vnd.jupyter.widget-view+json": {
       "model_id": "",
       "version_major": 2,
       "version_minor": 0
      },
      "text/plain": [
       "loop1:   0%|          | 0/4 [00:00<?, ?it/s]"
      ]
     },
     "metadata": {},
     "output_type": "display_data"
    }
   ],
   "source": [
    "model_id = langchain_model.save(display_name=\"langchain-nl2sql-model\")"
   ]
  },
  {
   "cell_type": "code",
   "execution_count": 14,
   "id": "f6e8549b-88f1-475b-8805-86e1e604b367",
   "metadata": {
    "tags": []
   },
   "outputs": [
    {
     "data": {
      "application/vnd.jupyter.widget-view+json": {
       "model_id": "",
       "version_major": 2,
       "version_minor": 0
      },
      "text/plain": [
       "loop1:   0%|          | 0/6 [00:00<?, ?it/s]"
      ]
     },
     "metadata": {},
     "output_type": "display_data"
    }
   ],
   "source": [
    "deploy = langchain_model.deploy(\n",
    "    display_name=\"Langchain NL2SQL Model Deployment\",\n",
    "    deployment_log_group_id = LOG_GROUP_ID,\n",
    "    deployment_access_log_id = LANGCHAIN_MODEL_ACCESS_LOG_LOG_ID,\n",
    "    deployment_predict_log_id = LANGCHAIN_MODEL_PREDICT_LOG_LOG_ID,\n",
    "    environment_variables={\"CRYPTOGRAPHY_OPENSSL_NO_LEGACY\":\"1\"},\n",
    "    deployment_instance_shape=\"VM.Standard2.4\",\n",
    "    deployment_instance_subnet_id=\"ocid1.subnet.oc1.eu-frankfurt-1.<ocid>\",\n",
    ")"
   ]
  },
  {
   "cell_type": "code",
   "execution_count": 15,
   "id": "0414569e-535a-4d5d-bedb-fdd7176445e7",
   "metadata": {
    "tags": []
   },
   "outputs": [
    {
     "name": "stdout",
     "output_type": "stream",
     "text": [
      "WARNING:ads.model.deployment.common.utils:The `json_input` argument of `predict()` will be deprecated soon. Please use `data` argument. \n"
     ]
    }
   ],
   "source": [
    "question = \"Is there any partner with more than 10 customers and customer satisfaction higher than 4.5?\"\n",
    "op = deploy.predict(question)"
   ]
  },
  {
   "cell_type": "code",
   "execution_count": 16,
   "id": "0218227f-d866-4d2a-b282-2fb4040b2aff",
   "metadata": {
    "tags": []
   },
   "outputs": [
    {
     "name": "stdout",
     "output_type": "stream",
     "text": [
      "{'prediction': ' Partner1 and Partner2 both have more than 10 customers and customer satisfaction rating higher than 4.5.'}\n"
     ]
    }
   ],
   "source": [
    "print(op)"
   ]
  },
  {
   "cell_type": "code",
   "execution_count": null,
   "id": "4259d856-6805-4355-bc07-3ee6af3c4319",
   "metadata": {
    "tags": []
   },
   "outputs": [
    {
     "name": "stdout",
     "output_type": "stream",
     "text": [
      "WARNING:ads.model.deployment.common.utils:The `json_input` argument of `predict()` will be deprecated soon. Please use `data` argument. \n"
     ]
    }
   ],
   "source": [
    "question = \"Are there partners that was nominated after the permitted nomination period?\"\n",
    "op = deploy.predict(question)\n",
    "print(op)\n"
   ]
  },
  {
   "cell_type": "code",
   "execution_count": null,
   "id": "7270c7ef-c03f-46b7-9f1b-30b60b080c5a",
   "metadata": {},
   "outputs": [],
   "source": []
  }
 ],
 "metadata": {
  "kernelspec": {
   "display_name": "Python [conda env:pytorch20_p39_gpu_v2]",
   "language": "python",
   "name": "conda-env-pytorch20_p39_gpu_v2-py"
  },
  "language_info": {
   "codemirror_mode": {
    "name": "ipython",
    "version": 3
   },
   "file_extension": ".py",
   "mimetype": "text/x-python",
   "name": "python",
   "nbconvert_exporter": "python",
   "pygments_lexer": "ipython3",
   "version": "3.9.16"
  }
 },
 "nbformat": 4,
 "nbformat_minor": 5
}
